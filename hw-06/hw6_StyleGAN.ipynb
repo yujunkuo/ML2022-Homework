{
 "cells": [
  {
   "cell_type": "code",
   "execution_count": null,
   "id": "771c4130",
   "metadata": {},
   "outputs": [],
   "source": [
    "# import torch\n",
    "# from torchvision.utils import save_image\n",
    "# from stylegan2_pytorch import ModelLoader\n",
    "\n",
    "# loader = ModelLoader(\n",
    "#     base_dir = './models/defult/model_40.pt',   # path to where you invoked the command line tool\n",
    "#     name = 'default'                   # the project name, defaults to 'default'\n",
    "# )\n",
    "# for i in range(1000):\n",
    "#     noise   = torch.randn(1, 512).cuda() # noise\n",
    "#     styles  = loader.noise_to_styles(noise, trunc_psi = 0.7)  # pass through mapping network\n",
    "#     images  = loader.styles_to_images(styles) # call the generator on intermediate style vectors\n",
    "\n",
    "#     save_image(images, f'./output/{i+1}.jpg') # save your images, or do whatever you desire"
   ]
  },
  {
   "cell_type": "code",
   "execution_count": null,
   "id": "8bf12cf9",
   "metadata": {},
   "outputs": [],
   "source": [
    "import os\n",
    "files = os.listdir('results/default')\n",
    "print(len(files))\n",
    "files = [each for each in files if \"generated\" in each]\n",
    "print(len(files))"
   ]
  },
  {
   "cell_type": "code",
   "execution_count": null,
   "id": "16e00965",
   "metadata": {},
   "outputs": [],
   "source": [
    "files.sort()\n",
    "files = files[3:]\n",
    "files"
   ]
  },
  {
   "cell_type": "code",
   "execution_count": null,
   "id": "a9a60405",
   "metadata": {},
   "outputs": [],
   "source": [
    "ema_files = []\n",
    "for i, v in enumerate(files):\n",
    "    if i % 3 == 0:\n",
    "        ema_files.append(v)\n",
    "print(len(ema_files))\n",
    "ema_files"
   ]
  },
  {
   "cell_type": "code",
   "execution_count": null,
   "id": "149122e1",
   "metadata": {},
   "outputs": [],
   "source": [
    "mr_files = []\n",
    "for i, v in enumerate(files):\n",
    "    if (i-1) % 3 == 0:\n",
    "        mr_files.append(v)\n",
    "print(len(mr_files))\n",
    "mr_files"
   ]
  },
  {
   "cell_type": "code",
   "execution_count": null,
   "id": "040e8618",
   "metadata": {},
   "outputs": [],
   "source": [
    "regular_files = []\n",
    "for i, v in enumerate(files):\n",
    "    if (i-2) % 3 == 0:\n",
    "        regular_files.append(v)\n",
    "print(len(regular_files))\n",
    "regular_files"
   ]
  },
  {
   "cell_type": "code",
   "execution_count": null,
   "id": "59580494",
   "metadata": {},
   "outputs": [],
   "source": [
    "for i, name in enumerate(ema_files):\n",
    "    os.system(f'mv ./results/default/{name} ./results/ema_output/{i+1}.jpg')"
   ]
  },
  {
   "cell_type": "code",
   "execution_count": null,
   "id": "40816998",
   "metadata": {},
   "outputs": [],
   "source": [
    "for i, name in enumerate(mr_files):\n",
    "    os.system(f'mv ./results/default/{name} ./results/mr_output/{i+1}.jpg')"
   ]
  },
  {
   "cell_type": "code",
   "execution_count": null,
   "id": "ac513a5a",
   "metadata": {},
   "outputs": [],
   "source": [
    "for i, name in enumerate(regular_files):\n",
    "    os.system(f'mv ./results/default/{name} ./results/regular_output/{i+1}.jpg')"
   ]
  },
  {
   "cell_type": "code",
   "execution_count": null,
   "id": "0c89e976",
   "metadata": {},
   "outputs": [],
   "source": [
    "!ls"
   ]
  },
  {
   "cell_type": "code",
   "execution_count": null,
   "id": "a1489ada",
   "metadata": {},
   "outputs": [],
   "source": [
    "%cd results"
   ]
  },
  {
   "cell_type": "code",
   "execution_count": null,
   "id": "018ef0d3",
   "metadata": {},
   "outputs": [],
   "source": [
    "!ls"
   ]
  },
  {
   "cell_type": "code",
   "execution_count": null,
   "id": "0dedb541",
   "metadata": {},
   "outputs": [],
   "source": [
    "%cd ema_output\n",
    "!tar -zcf ../ema_output.tgz *.jpg\n",
    "%cd .."
   ]
  },
  {
   "cell_type": "code",
   "execution_count": null,
   "id": "264be038",
   "metadata": {},
   "outputs": [],
   "source": [
    "%cd mr_output\n",
    "!tar -zcf ../mr_output.tgz *.jpg\n",
    "%cd .."
   ]
  },
  {
   "cell_type": "code",
   "execution_count": null,
   "id": "53cf46bb",
   "metadata": {},
   "outputs": [],
   "source": [
    "%cd regular_output\n",
    "!tar -zcf ../regular_output.tgz *.jpg\n",
    "%cd .."
   ]
  }
 ],
 "metadata": {
  "kernelspec": {
   "display_name": "kuokuo_env",
   "language": "python",
   "name": "kuokuo_env"
  },
  "language_info": {
   "codemirror_mode": {
    "name": "ipython",
    "version": 3
   },
   "file_extension": ".py",
   "mimetype": "text/x-python",
   "name": "python",
   "nbconvert_exporter": "python",
   "pygments_lexer": "ipython3",
   "version": "3.7.5"
  },
  "toc": {
   "base_numbering": 1,
   "nav_menu": {},
   "number_sections": true,
   "sideBar": true,
   "skip_h1_title": false,
   "title_cell": "Table of Contents",
   "title_sidebar": "Contents",
   "toc_cell": false,
   "toc_position": {},
   "toc_section_display": true,
   "toc_window_display": false
  }
 },
 "nbformat": 4,
 "nbformat_minor": 5
}
