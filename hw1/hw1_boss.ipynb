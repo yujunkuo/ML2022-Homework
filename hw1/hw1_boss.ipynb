{
 "cells": [
  {
   "cell_type": "markdown",
   "metadata": {
    "id": "guE34D3Fj2R9"
   },
   "source": [
    "# **Homework 1: COVID-19 Cases Prediction (Regression) -1**"
   ]
  },
  {
   "cell_type": "markdown",
   "metadata": {
    "id": "V57zhcTp1Xxb"
   },
   "source": [
    "Objectives:\n",
    "* Solve a regression problem with deep neural networks (DNN).\n",
    "* Understand basic DNN training tips.\n",
    "* Familiarize yourself with PyTorch.\n",
    "\n",
    "If you have any questions, please contact the TAs via TA hours, NTU COOL, or email to mlta-2022-spring@googlegroups.com"
   ]
  },
  {
   "cell_type": "markdown",
   "metadata": {
    "id": "Tm2aXcb-j9Fc"
   },
   "source": [
    "# Download data\n",
    "If the Google Drive links below do not work, you can download data from [Kaggle](https://www.kaggle.com/c/ml2022spring-hw1/data), and upload data manually to the workspace."
   ]
  },
  {
   "cell_type": "code",
   "execution_count": 1,
   "metadata": {
    "colab": {
     "base_uri": "https://localhost:8080/"
    },
    "id": "YPmfl-awlKZA",
    "outputId": "b97be226-663d-4c3a-8833-950e8f79e6ab"
   },
   "outputs": [],
   "source": [
    "!gdown --id '1kLSW_-cW2Huj7bh84YTdimGBOJaODiOS' --output covid.train.csv\n",
    "!gdown --id '1iiI5qROrAhZn-o4FPqsE97bMzDEFvIdg' --output covid.test.csv"
   ]
  },
  {
   "cell_type": "markdown",
   "metadata": {
    "id": "igqIMEgu64-F"
   },
   "source": [
    "# Import packages"
   ]
  },
  {
   "cell_type": "code",
   "execution_count": 2,
   "metadata": {
    "id": "xybQNYCXYu13"
   },
   "outputs": [],
   "source": [
    "# Numerical Operations\n",
    "import math\n",
    "import numpy as np\n",
    "\n",
    "# Reading/Writing Data\n",
    "import pandas as pd\n",
    "import os\n",
    "import csv\n",
    "\n",
    "# For Progress Bar\n",
    "from tqdm import tqdm\n",
    "\n",
    "# Pytorch\n",
    "import torch \n",
    "import torch.nn as nn\n",
    "from torch.utils.data import Dataset, DataLoader, random_split\n",
    "\n",
    "# For plotting learning curve\n",
    "from torch.utils.tensorboard import SummaryWriter"
   ]
  },
  {
   "cell_type": "markdown",
   "metadata": {
    "id": "fTAVqRfc2KK3"
   },
   "source": [
    "# Some Utility Functions\n",
    "\n",
    "You do not need to modify this part."
   ]
  },
  {
   "cell_type": "code",
   "execution_count": 3,
   "metadata": {
    "id": "RbrcpfYN2I-H"
   },
   "outputs": [],
   "source": [
    "def same_seed(seed): \n",
    "    '''Fixes random number generator seeds for reproducibility.'''\n",
    "    torch.backends.cudnn.deterministic = True\n",
    "    torch.backends.cudnn.benchmark = False\n",
    "    np.random.seed(seed)\n",
    "    torch.manual_seed(seed)\n",
    "    if torch.cuda.is_available():\n",
    "        torch.cuda.manual_seed_all(seed)\n",
    "\n",
    "def train_valid_split(data_set, valid_ratio, seed):\n",
    "    '''Split provided training data into training set and validation set'''\n",
    "    valid_set_size = int(valid_ratio * len(data_set)) \n",
    "    train_set_size = len(data_set) - valid_set_size\n",
    "    train_set, valid_set = random_split(data_set, [train_set_size, valid_set_size], generator=torch.Generator().manual_seed(seed))\n",
    "    return np.array(train_set), np.array(valid_set)\n",
    "\n",
    "def predict(test_loader, model, device):\n",
    "    model.eval() # Set your model to evaluation mode.\n",
    "    preds = []\n",
    "    for x in tqdm(test_loader):\n",
    "        x = x.to(device)                        \n",
    "        with torch.no_grad():                   \n",
    "            pred = model(x)                     \n",
    "            preds.append(pred.detach().cpu())   \n",
    "    preds = torch.cat(preds, dim=0).numpy()  \n",
    "    return preds"
   ]
  },
  {
   "cell_type": "markdown",
   "metadata": {
    "id": "IqO3lTm78nNO"
   },
   "source": [
    "# Dataset"
   ]
  },
  {
   "cell_type": "code",
   "execution_count": 4,
   "metadata": {
    "id": "-mjaJM0wprMs"
   },
   "outputs": [],
   "source": [
    "class COVID19Dataset(Dataset):\n",
    "    '''\n",
    "    x: Features.\n",
    "    y: Targets, if none, do prediction.\n",
    "    '''\n",
    "    def __init__(self, x, y=None):\n",
    "        if y is None:\n",
    "            self.y = y\n",
    "        else:\n",
    "            self.y = torch.FloatTensor(y)\n",
    "        self.x = torch.FloatTensor(x)\n",
    "        \n",
    "    def __getitem__(self, idx):\n",
    "        if self.y is None:\n",
    "            return self.x[idx]\n",
    "        else:\n",
    "            return self.x[idx], self.y[idx]\n",
    "\n",
    "    def __len__(self):\n",
    "        return len(self.x)"
   ]
  },
  {
   "cell_type": "markdown",
   "metadata": {
    "id": "m73ooU75CL_j"
   },
   "source": [
    "# Neural Network Model\n",
    "Try out different model architectures by modifying the class below."
   ]
  },
  {
   "cell_type": "code",
   "execution_count": 6,
   "metadata": {},
   "outputs": [],
   "source": [
    "class My_Model(nn.Module):\n",
    "    def __init__(self, input_dim):\n",
    "        super(My_Model, self).__init__()\n",
    "        # TODO: modify model's structure, be aware of dimensions. \n",
    "        self.layers = nn.Sequential(\n",
    "            nn.Linear(input_dim, 512),\n",
    "            nn.Dropout(0.4),\n",
    "            nn.LeakyReLU(),\n",
    "            nn.Linear(512, 1),\n",
    "        )\n",
    "\n",
    "    def forward(self, x):\n",
    "        x = self.layers(x)\n",
    "        x = x.squeeze(1) # (B, 1) -> (B)\n",
    "        return x"
   ]
  },
  {
   "cell_type": "markdown",
   "metadata": {
    "id": "x5-LKF6R8xeq"
   },
   "source": [
    "# Feature Selection\n",
    "Choose features you deem useful by modifying the function below."
   ]
  },
  {
   "cell_type": "code",
   "execution_count": 7,
   "metadata": {
    "id": "0FEnKRaIIeKp"
   },
   "outputs": [],
   "source": [
    "def select_feat(train_data, valid_data, test_data, select_all=True, feature_selection_idx_list=None):\n",
    "    '''Selects useful features to perform regression'''\n",
    "    y_train, y_valid = train_data[:,-1], valid_data[:,-1]\n",
    "    raw_x_train, raw_x_valid, raw_x_test = train_data[:,:-1], valid_data[:,:-1], test_data\n",
    "\n",
    "    if not select_all and feature_selection_idx_list is not None:\n",
    "        feat_idx = feature_selection_idx_list\n",
    "    else:\n",
    "        feat_idx = list(range(raw_x_train.shape[1]))\n",
    "        \n",
    "    return raw_x_train[:,feat_idx], raw_x_valid[:,feat_idx], raw_x_test[:,feat_idx], y_train, y_valid"
   ]
  },
  {
   "cell_type": "markdown",
   "metadata": {
    "id": "kADIPNQ2Ih5X"
   },
   "source": [
    "# Training Loop"
   ]
  },
  {
   "cell_type": "code",
   "execution_count": 8,
   "metadata": {
    "id": "k4Rq8_TztAhq"
   },
   "outputs": [],
   "source": [
    "def trainer(train_loader, valid_loader, model, config, device):\n",
    "\n",
    "    criterion = nn.MSELoss(reduction='mean') # Define your loss function, do not modify this.\n",
    "\n",
    "    # Define your optimization algorithm. \n",
    "    # TODO: Please check https://pytorch.org/docs/stable/optim.html to get more available algorithms.\n",
    "    # TODO: L2 regularization (optimizer(weight decay...) or implement by your self).\n",
    "    optimizer = torch.optim.AdamW(model.parameters(), weight_decay=5e-5)  # 5e-5\n",
    "#     optimizer = torch.optim.SGD(model.parameters(), lr=config['learning_rate'], momentum=0.5) \n",
    "\n",
    "    writer = SummaryWriter() # Writer of tensoboard.\n",
    "\n",
    "    if not os.path.isdir('./models'):\n",
    "        os.mkdir('./models') # Create directory of saving models.\n",
    "\n",
    "    n_epochs, best_loss, step, early_stop_count = config['n_epochs'], math.inf, 0, 0\n",
    "\n",
    "    for epoch in range(n_epochs):\n",
    "        model.train() # Set your model to train mode.\n",
    "        loss_record = []\n",
    "\n",
    "        # tqdm is a package to visualize your training progress.\n",
    "        train_pbar = tqdm(train_loader, position=0, leave=True)\n",
    "\n",
    "        for x, y in train_pbar:\n",
    "            optimizer.zero_grad()               # Set gradient to zero.\n",
    "            x, y = x.to(device), y.to(device)   # Move your data to device. \n",
    "            pred = model(x)             \n",
    "            loss = criterion(pred, y)  # RMSE\n",
    "            loss.backward()                     # Compute gradient(backpropagation).\n",
    "            optimizer.step()                    # Update parameters.\n",
    "            step += 1\n",
    "            loss_record.append(loss.detach().item())\n",
    "            \n",
    "            # Display current epoch number and loss on tqdm progress bar.\n",
    "            train_pbar.set_description(f'Epoch [{epoch+1}/{n_epochs}]')\n",
    "            train_pbar.set_postfix({'loss': loss.detach().item()})\n",
    "\n",
    "        mean_train_loss = sum(loss_record)/len(loss_record)\n",
    "        writer.add_scalar('Loss/train', mean_train_loss, step)\n",
    "\n",
    "        model.eval() # Set your model to evaluation mode.\n",
    "        loss_record = []\n",
    "        for x, y in valid_loader:\n",
    "            x, y = x.to(device), y.to(device)\n",
    "            with torch.no_grad():\n",
    "                pred = model(x)\n",
    "                loss = criterion(pred, y)\n",
    "\n",
    "            loss_record.append(loss.item())\n",
    "            \n",
    "        mean_valid_loss = sum(loss_record)/len(loss_record)\n",
    "        print(f'Epoch [{epoch+1}/{n_epochs}]: Train loss: {mean_train_loss:.4f}, Valid loss: {mean_valid_loss:.4f}')\n",
    "        writer.add_scalar('Loss/valid', mean_valid_loss, step)\n",
    "\n",
    "        if mean_valid_loss < best_loss:\n",
    "            best_loss = mean_valid_loss\n",
    "            torch.save(model.state_dict(), config['save_path']) # Save your best model\n",
    "            print('Saving model with loss {:.3f}...'.format(best_loss))\n",
    "            early_stop_count = 0\n",
    "        else: \n",
    "            early_stop_count += 1\n",
    "\n",
    "        if early_stop_count >= config['early_stop']:\n",
    "            print('\\nModel is not improving, so we halt the training session.')\n",
    "            print(f'Best Loss: {best_loss}')\n",
    "            return"
   ]
  },
  {
   "cell_type": "markdown",
   "metadata": {
    "id": "0pgkOh2e9UjE"
   },
   "source": [
    "# Configurations\n",
    "`config` contains hyper-parameters for training and the path to save your model."
   ]
  },
  {
   "cell_type": "code",
   "execution_count": 9,
   "metadata": {
    "colab": {
     "base_uri": "https://localhost:8080/"
    },
    "id": "QoWPUahCtoT6",
    "outputId": "1f6cecc7-9386-470e-8159-bda5242ebefb"
   },
   "outputs": [
    {
     "name": "stdout",
     "output_type": "stream",
     "text": [
      "cuda:1\n"
     ]
    }
   ],
   "source": [
    "# device = 'cuda' if torch.cuda.is_available() else 'cpu'\n",
    "torch.cuda.set_device(1) \n",
    "device = torch.device(\"cuda\", 1)\n",
    "print(device)\n",
    "\n",
    "config = {\n",
    "    'seed': 5201314,      # 5201314 Your seed number, you can pick your lucky number. :)\n",
    "    'select_all': True,   # True Whether to use all features.\n",
    "    'valid_ratio': 0.3, # 0.3   # validation_size = train_size * valid_ratio\n",
    "    'n_epochs': 5000,     # 5000 Number of epochs.            \n",
    "    'batch_size': 1024,  # 1024\n",
    "    'learning_rate': 2e-4, # 2e-4             \n",
    "    'early_stop': 300,   # 300 If model has not improved for this many consecutive epochs, stop training.     \n",
    "    'save_path': './models/model_train_test_73_1.ckpt'  # Your model will be saved here.\n",
    "}"
   ]
  },
  {
   "cell_type": "markdown",
   "metadata": {
    "id": "lrS-aJJh9XkW"
   },
   "source": [
    "# Dataloader\n",
    "Read data from files and set up training, validation, and testing sets. You do not need to modify this part."
   ]
  },
  {
   "cell_type": "code",
   "execution_count": 10,
   "metadata": {
    "colab": {
     "base_uri": "https://localhost:8080/"
    },
    "id": "2jc7ZfDot2t9",
    "outputId": "ea3c28ed-a8d6-475e-e7d6-2694e825dad8"
   },
   "outputs": [
    {
     "name": "stdout",
     "output_type": "stream",
     "text": [
      " -- Before feature selection --\n",
      "train_data size: (9821, 10) \n",
      "valid_data size: (4209, 10) \n",
      "test_data size: (1078, 9)\n",
      " -- After feature selection --\n",
      "train_data size: (9821, 9) \n",
      "valid_data size: (4209, 9) \n",
      "test_data size: (1078, 9)\n",
      "number of features: 9\n"
     ]
    }
   ],
   "source": [
    "# Set seed for reproducibility\n",
    "same_seed(config['seed'])\n",
    "\n",
    "\n",
    "# train_data size: 2699 x 118 (id + 37 states + 16 features x 5 days) \n",
    "# test_data size: 1078 x 117 (without last day's positive rate)\n",
    "train_data, test_data = pd.read_csv('./covid.train_test_1.csv').values, pd.read_csv('./covid.test_1.csv').values\n",
    "train_data, valid_data = train_valid_split(train_data, config['valid_ratio'], config['seed'])\n",
    "\n",
    "# Print out the data size before feature selection.\n",
    "print(f\"\"\" -- Before feature selection --\n",
    "train_data size: {train_data.shape} \n",
    "valid_data size: {valid_data.shape} \n",
    "test_data size: {test_data.shape}\"\"\")\n",
    "\n",
    "# Select features\n",
    "x_train, x_valid, x_test, y_train, y_valid = select_feat(train_data, valid_data, test_data, config['select_all'])\n",
    "\n",
    "# Print out the data size after feature selection.\n",
    "print(f\"\"\" -- After feature selection --\n",
    "train_data size: {x_train.shape} \n",
    "valid_data size: {x_valid.shape} \n",
    "test_data size: {x_test.shape}\"\"\")\n",
    "\n",
    "# Print out the number of features.\n",
    "print(f'number of features: {x_train.shape[1]}')\n",
    "\n",
    "train_dataset = COVID19Dataset(x_train, y_train)\n",
    "valid_dataset = COVID19Dataset(x_valid, y_valid)\n",
    "test_dataset = COVID19Dataset(x_test)\n",
    "                                            \n",
    "# Pytorch data loader loads pytorch dataset into batches.\n",
    "train_loader = DataLoader(train_dataset, batch_size=config['batch_size'], shuffle=True, pin_memory=True)\n",
    "valid_loader = DataLoader(valid_dataset, batch_size=config['batch_size'], shuffle=True, pin_memory=True)\n",
    "test_loader = DataLoader(test_dataset, batch_size=config['batch_size'], shuffle=False, pin_memory=True)"
   ]
  },
  {
   "cell_type": "code",
   "execution_count": 11,
   "metadata": {},
   "outputs": [],
   "source": [
    "# print(relevant_features)"
   ]
  },
  {
   "cell_type": "code",
   "execution_count": 12,
   "metadata": {
    "id": "1my3axtUH3tU"
   },
   "outputs": [],
   "source": [
    "# train_data size: (2160, 118) \n",
    "# valid_data size: (539, 118) \n",
    "# test_data size: (1078, 117)\n",
    "# number of features: 117"
   ]
  },
  {
   "cell_type": "markdown",
   "metadata": {
    "id": "0OBYgjCA-YwD"
   },
   "source": [
    "# Start training!"
   ]
  },
  {
   "cell_type": "code",
   "execution_count": 13,
   "metadata": {
    "colab": {
     "base_uri": "https://localhost:8080/"
    },
    "id": "YdttVRkAfu2t",
    "outputId": "cf54e2b2-c13b-43ca-e46b-e75d7d164812"
   },
   "outputs": [
    {
     "name": "stderr",
     "output_type": "stream",
     "text": [
      "Epoch [1/5000]: 100%|████████████████████████████████████████████████████████████████████████████████████████████████| 10/10 [00:00<00:00, 27.38it/s, loss=33]\n"
     ]
    },
    {
     "name": "stdout",
     "output_type": "stream",
     "text": [
      "Epoch [1/5000]: Train loss: 56.5911, Valid loss: 28.7503\n",
      "Saving model with loss 28.750...\n"
     ]
    },
    {
     "name": "stderr",
     "output_type": "stream",
     "text": [
      "Epoch [2/5000]: 100%|█████████████████████████████████████████████████████████████████████████████████████████████| 10/10 [00:00<00:00, 218.75it/s, loss=14.2]\n"
     ]
    },
    {
     "name": "stdout",
     "output_type": "stream",
     "text": [
      "Epoch [2/5000]: Train loss: 27.6122, Valid loss: 6.0561\n",
      "Saving model with loss 6.056...\n"
     ]
    },
    {
     "name": "stderr",
     "output_type": "stream",
     "text": [
      "Epoch [3/5000]: 100%|█████████████████████████████████████████████████████████████████████████████████████████████| 10/10 [00:00<00:00, 219.26it/s, loss=14.9]\n"
     ]
    },
    {
     "name": "stdout",
     "output_type": "stream",
     "text": [
      "Epoch [3/5000]: Train loss: 16.1459, Valid loss: 7.4572\n"
     ]
    },
    {
     "name": "stderr",
     "output_type": "stream",
     "text": [
      "Epoch [4/5000]: 100%|█████████████████████████████████████████████████████████████████████████████████████████████| 10/10 [00:00<00:00, 219.77it/s, loss=10.6]\n"
     ]
    },
    {
     "name": "stdout",
     "output_type": "stream",
     "text": [
      "Epoch [4/5000]: Train loss: 12.0506, Valid loss: 5.6020\n",
      "Saving model with loss 5.602...\n"
     ]
    },
    {
     "name": "stderr",
     "output_type": "stream",
     "text": [
      "Epoch [5/5000]: 100%|███████████████████████████████████████████████████████████████████████████████████████████████| 10/10 [00:00<00:00, 219.23it/s, loss=10]\n"
     ]
    },
    {
     "name": "stdout",
     "output_type": "stream",
     "text": [
      "Epoch [5/5000]: Train loss: 10.3907, Valid loss: 3.5551\n",
      "Saving model with loss 3.555...\n"
     ]
    },
    {
     "name": "stderr",
     "output_type": "stream",
     "text": [
      "Epoch [6/5000]: 100%|██████████████████████████████████████████████████████████████████████████████████████████████| 10/10 [00:00<00:00, 218.86it/s, loss=9.7]\n"
     ]
    },
    {
     "name": "stdout",
     "output_type": "stream",
     "text": [
      "Epoch [6/5000]: Train loss: 8.8825, Valid loss: 2.4731\n",
      "Saving model with loss 2.473...\n"
     ]
    },
    {
     "name": "stderr",
     "output_type": "stream",
     "text": [
      "Epoch [7/5000]: 100%|█████████████████████████████████████████████████████████████████████████████████████████████| 10/10 [00:00<00:00, 218.10it/s, loss=7.54]\n"
     ]
    },
    {
     "name": "stdout",
     "output_type": "stream",
     "text": [
      "Epoch [7/5000]: Train loss: 7.6017, Valid loss: 1.7578\n",
      "Saving model with loss 1.758...\n"
     ]
    },
    {
     "name": "stderr",
     "output_type": "stream",
     "text": [
      "Epoch [8/5000]: 100%|██████████████████████████████████████████████████████████████████████████████████████████████| 10/10 [00:00<00:00, 96.74it/s, loss=7.62]\n"
     ]
    },
    {
     "name": "stdout",
     "output_type": "stream",
     "text": [
      "Epoch [8/5000]: Train loss: 6.7512, Valid loss: 1.3522\n",
      "Saving model with loss 1.352...\n"
     ]
    },
    {
     "name": "stderr",
     "output_type": "stream",
     "text": [
      "Epoch [9/5000]: 100%|█████████████████████████████████████████████████████████████████████████████████████████████| 10/10 [00:00<00:00, 218.80it/s, loss=6.32]\n"
     ]
    },
    {
     "name": "stdout",
     "output_type": "stream",
     "text": [
      "Epoch [9/5000]: Train loss: 6.5431, Valid loss: 1.1595\n",
      "Saving model with loss 1.159...\n"
     ]
    },
    {
     "name": "stderr",
     "output_type": "stream",
     "text": [
      "Epoch [10/5000]: 100%|████████████████████████████████████████████████████████████████████████████████████████████| 10/10 [00:00<00:00, 220.08it/s, loss=4.55]\n"
     ]
    },
    {
     "name": "stdout",
     "output_type": "stream",
     "text": [
      "Epoch [10/5000]: Train loss: 5.8430, Valid loss: 1.2662\n"
     ]
    },
    {
     "name": "stderr",
     "output_type": "stream",
     "text": [
      "Epoch [11/5000]: 100%|████████████████████████████████████████████████████████████████████████████████████████████| 10/10 [00:00<00:00, 221.74it/s, loss=5.28]\n"
     ]
    },
    {
     "name": "stdout",
     "output_type": "stream",
     "text": [
      "Epoch [11/5000]: Train loss: 5.7115, Valid loss: 1.1408\n",
      "Saving model with loss 1.141...\n"
     ]
    },
    {
     "name": "stderr",
     "output_type": "stream",
     "text": [
      "Epoch [12/5000]: 100%|████████████████████████████████████████████████████████████████████████████████████████████| 10/10 [00:00<00:00, 216.15it/s, loss=4.63]\n"
     ]
    },
    {
     "name": "stdout",
     "output_type": "stream",
     "text": [
      "Epoch [12/5000]: Train loss: 5.3865, Valid loss: 1.1263\n",
      "Saving model with loss 1.126...\n"
     ]
    },
    {
     "name": "stderr",
     "output_type": "stream",
     "text": [
      "Epoch [13/5000]: 100%|████████████████████████████████████████████████████████████████████████████████████████████| 10/10 [00:00<00:00, 217.66it/s, loss=5.19]\n"
     ]
    },
    {
     "name": "stdout",
     "output_type": "stream",
     "text": [
      "Epoch [13/5000]: Train loss: 4.9979, Valid loss: 1.0976\n",
      "Saving model with loss 1.098...\n"
     ]
    },
    {
     "name": "stderr",
     "output_type": "stream",
     "text": [
      "Epoch [14/5000]: 100%|████████████████████████████████████████████████████████████████████████████████████████████| 10/10 [00:00<00:00, 217.45it/s, loss=5.32]\n"
     ]
    },
    {
     "name": "stdout",
     "output_type": "stream",
     "text": [
      "Epoch [14/5000]: Train loss: 4.9061, Valid loss: 1.1761\n"
     ]
    },
    {
     "name": "stderr",
     "output_type": "stream",
     "text": [
      "Epoch [15/5000]: 100%|█████████████████████████████████████████████████████████████████████████████████████████████| 10/10 [00:00<00:00, 220.51it/s, loss=4.7]\n"
     ]
    },
    {
     "name": "stdout",
     "output_type": "stream",
     "text": [
      "Epoch [15/5000]: Train loss: 4.7390, Valid loss: 1.1342\n"
     ]
    },
    {
     "name": "stderr",
     "output_type": "stream",
     "text": [
      "Epoch [16/5000]: 100%|████████████████████████████████████████████████████████████████████████████████████████████| 10/10 [00:00<00:00, 219.39it/s, loss=5.07]\n"
     ]
    },
    {
     "name": "stdout",
     "output_type": "stream",
     "text": [
      "Epoch [16/5000]: Train loss: 4.4600, Valid loss: 1.1884\n"
     ]
    },
    {
     "name": "stderr",
     "output_type": "stream",
     "text": [
      "Epoch [17/5000]: 100%|█████████████████████████████████████████████████████████████████████████████████████████████| 10/10 [00:00<00:00, 93.04it/s, loss=4.35]\n"
     ]
    },
    {
     "name": "stdout",
     "output_type": "stream",
     "text": [
      "Epoch [17/5000]: Train loss: 4.2536, Valid loss: 1.2231\n"
     ]
    },
    {
     "name": "stderr",
     "output_type": "stream",
     "text": [
      "Epoch [18/5000]: 100%|████████████████████████████████████████████████████████████████████████████████████████████| 10/10 [00:00<00:00, 217.66it/s, loss=3.81]\n"
     ]
    },
    {
     "name": "stdout",
     "output_type": "stream",
     "text": [
      "Epoch [18/5000]: Train loss: 4.1572, Valid loss: 1.0816\n",
      "Saving model with loss 1.082...\n"
     ]
    },
    {
     "name": "stderr",
     "output_type": "stream",
     "text": [
      "Epoch [19/5000]: 100%|█████████████████████████████████████████████████████████████████████████████████████████████| 10/10 [00:00<00:00, 218.83it/s, loss=3.8]\n"
     ]
    },
    {
     "name": "stdout",
     "output_type": "stream",
     "text": [
      "Epoch [19/5000]: Train loss: 3.8372, Valid loss: 1.0979\n"
     ]
    },
    {
     "name": "stderr",
     "output_type": "stream",
     "text": [
      "Epoch [20/5000]: 100%|████████████████████████████████████████████████████████████████████████████████████████████| 10/10 [00:00<00:00, 216.81it/s, loss=3.76]\n"
     ]
    },
    {
     "name": "stdout",
     "output_type": "stream",
     "text": [
      "Epoch [20/5000]: Train loss: 3.8466, Valid loss: 1.1365\n"
     ]
    },
    {
     "name": "stderr",
     "output_type": "stream",
     "text": [
      "Epoch [21/5000]: 100%|████████████████████████████████████████████████████████████████████████████████████████████| 10/10 [00:00<00:00, 219.48it/s, loss=3.23]\n"
     ]
    },
    {
     "name": "stdout",
     "output_type": "stream",
     "text": [
      "Epoch [21/5000]: Train loss: 3.5551, Valid loss: 1.1309\n"
     ]
    },
    {
     "name": "stderr",
     "output_type": "stream",
     "text": [
      "Epoch [22/5000]: 100%|█████████████████████████████████████████████████████████████████████████████████████████████| 10/10 [00:00<00:00, 217.71it/s, loss=3.8]\n"
     ]
    },
    {
     "name": "stdout",
     "output_type": "stream",
     "text": [
      "Epoch [22/5000]: Train loss: 3.5558, Valid loss: 1.1021\n"
     ]
    },
    {
     "name": "stderr",
     "output_type": "stream",
     "text": [
      "Epoch [23/5000]: 100%|████████████████████████████████████████████████████████████████████████████████████████████| 10/10 [00:00<00:00, 219.55it/s, loss=3.26]\n"
     ]
    },
    {
     "name": "stdout",
     "output_type": "stream",
     "text": [
      "Epoch [23/5000]: Train loss: 3.3717, Valid loss: 1.1033\n"
     ]
    },
    {
     "name": "stderr",
     "output_type": "stream",
     "text": [
      "Epoch [24/5000]: 100%|████████████████████████████████████████████████████████████████████████████████████████████| 10/10 [00:00<00:00, 221.12it/s, loss=3.47]\n"
     ]
    },
    {
     "name": "stdout",
     "output_type": "stream",
     "text": [
      "Epoch [24/5000]: Train loss: 3.3734, Valid loss: 1.1925\n"
     ]
    },
    {
     "name": "stderr",
     "output_type": "stream",
     "text": [
      "Epoch [25/5000]: 100%|████████████████████████████████████████████████████████████████████████████████████████████| 10/10 [00:00<00:00, 220.30it/s, loss=3.53]\n"
     ]
    },
    {
     "name": "stdout",
     "output_type": "stream",
     "text": [
      "Epoch [25/5000]: Train loss: 3.1840, Valid loss: 1.1374\n"
     ]
    },
    {
     "name": "stderr",
     "output_type": "stream",
     "text": [
      "Epoch [26/5000]: 100%|█████████████████████████████████████████████████████████████████████████████████████████████| 10/10 [00:00<00:00, 222.35it/s, loss=3.2]\n"
     ]
    },
    {
     "name": "stdout",
     "output_type": "stream",
     "text": [
      "Epoch [26/5000]: Train loss: 3.0332, Valid loss: 1.1469\n"
     ]
    },
    {
     "name": "stderr",
     "output_type": "stream",
     "text": [
      "Epoch [27/5000]: 100%|████████████████████████████████████████████████████████████████████████████████████████████| 10/10 [00:00<00:00, 219.30it/s, loss=3.31]\n"
     ]
    },
    {
     "name": "stdout",
     "output_type": "stream",
     "text": [
      "Epoch [27/5000]: Train loss: 2.9459, Valid loss: 1.0675\n",
      "Saving model with loss 1.068...\n"
     ]
    },
    {
     "name": "stderr",
     "output_type": "stream",
     "text": [
      "Epoch [28/5000]: 100%|████████████████████████████████████████████████████████████████████████████████████████████| 10/10 [00:00<00:00, 213.47it/s, loss=2.91]\n"
     ]
    },
    {
     "name": "stdout",
     "output_type": "stream",
     "text": [
      "Epoch [28/5000]: Train loss: 2.8774, Valid loss: 1.1077\n"
     ]
    },
    {
     "name": "stderr",
     "output_type": "stream",
     "text": [
      "Epoch [29/5000]: 100%|████████████████████████████████████████████████████████████████████████████████████████████| 10/10 [00:00<00:00, 216.54it/s, loss=2.66]\n"
     ]
    },
    {
     "name": "stdout",
     "output_type": "stream",
     "text": [
      "Epoch [29/5000]: Train loss: 2.8587, Valid loss: 1.1196\n"
     ]
    },
    {
     "name": "stderr",
     "output_type": "stream",
     "text": [
      "Epoch [30/5000]: 100%|████████████████████████████████████████████████████████████████████████████████████████████| 10/10 [00:00<00:00, 220.29it/s, loss=2.66]\n"
     ]
    },
    {
     "name": "stdout",
     "output_type": "stream",
     "text": [
      "Epoch [30/5000]: Train loss: 2.6337, Valid loss: 1.1251\n"
     ]
    },
    {
     "name": "stderr",
     "output_type": "stream",
     "text": [
      "Epoch [31/5000]: 100%|█████████████████████████████████████████████████████████████████████████████████████████████| 10/10 [00:00<00:00, 205.47it/s, loss=2.4]\n"
     ]
    },
    {
     "name": "stdout",
     "output_type": "stream",
     "text": [
      "Epoch [31/5000]: Train loss: 2.6377, Valid loss: 1.1058\n"
     ]
    },
    {
     "name": "stderr",
     "output_type": "stream",
     "text": [
      "Epoch [32/5000]: 100%|████████████████████████████████████████████████████████████████████████████████████████████| 10/10 [00:00<00:00, 210.83it/s, loss=2.82]\n"
     ]
    },
    {
     "name": "stdout",
     "output_type": "stream",
     "text": [
      "Epoch [32/5000]: Train loss: 2.5819, Valid loss: 1.1121\n"
     ]
    },
    {
     "name": "stderr",
     "output_type": "stream",
     "text": [
      "Epoch [33/5000]: 100%|████████████████████████████████████████████████████████████████████████████████████████████| 10/10 [00:00<00:00, 212.72it/s, loss=2.23]\n"
     ]
    },
    {
     "name": "stdout",
     "output_type": "stream",
     "text": [
      "Epoch [33/5000]: Train loss: 2.4287, Valid loss: 1.1253\n"
     ]
    },
    {
     "name": "stderr",
     "output_type": "stream",
     "text": [
      "Epoch [34/5000]: 100%|████████████████████████████████████████████████████████████████████████████████████████████| 10/10 [00:00<00:00, 212.20it/s, loss=2.54]\n"
     ]
    },
    {
     "name": "stdout",
     "output_type": "stream",
     "text": [
      "Epoch [34/5000]: Train loss: 2.4656, Valid loss: 1.1732\n"
     ]
    },
    {
     "name": "stderr",
     "output_type": "stream",
     "text": [
      "Epoch [35/5000]: 100%|████████████████████████████████████████████████████████████████████████████████████████████| 10/10 [00:00<00:00, 218.47it/s, loss=2.43]\n"
     ]
    },
    {
     "name": "stdout",
     "output_type": "stream",
     "text": [
      "Epoch [35/5000]: Train loss: 2.4041, Valid loss: 1.1354\n"
     ]
    },
    {
     "name": "stderr",
     "output_type": "stream",
     "text": [
      "Epoch [36/5000]: 100%|█████████████████████████████████████████████████████████████████████████████████████████████| 10/10 [00:00<00:00, 96.30it/s, loss=2.58]\n"
     ]
    },
    {
     "name": "stdout",
     "output_type": "stream",
     "text": [
      "Epoch [36/5000]: Train loss: 2.2935, Valid loss: 1.1409\n"
     ]
    },
    {
     "name": "stderr",
     "output_type": "stream",
     "text": [
      "Epoch [37/5000]: 100%|████████████████████████████████████████████████████████████████████████████████████████████| 10/10 [00:00<00:00, 213.04it/s, loss=2.44]\n"
     ]
    },
    {
     "name": "stdout",
     "output_type": "stream",
     "text": [
      "Epoch [37/5000]: Train loss: 2.2361, Valid loss: 1.0956\n"
     ]
    },
    {
     "name": "stderr",
     "output_type": "stream",
     "text": [
      "Epoch [38/5000]: 100%|████████████████████████████████████████████████████████████████████████████████████████████| 10/10 [00:00<00:00, 214.03it/s, loss=2.48]\n"
     ]
    },
    {
     "name": "stdout",
     "output_type": "stream",
     "text": [
      "Epoch [38/5000]: Train loss: 2.2390, Valid loss: 1.1036\n"
     ]
    },
    {
     "name": "stderr",
     "output_type": "stream",
     "text": [
      "Epoch [39/5000]: 100%|████████████████████████████████████████████████████████████████████████████████████████████| 10/10 [00:00<00:00, 217.39it/s, loss=2.05]\n"
     ]
    },
    {
     "name": "stdout",
     "output_type": "stream",
     "text": [
      "Epoch [39/5000]: Train loss: 2.2021, Valid loss: 1.1383\n"
     ]
    },
    {
     "name": "stderr",
     "output_type": "stream",
     "text": [
      "Epoch [40/5000]: 100%|████████████████████████████████████████████████████████████████████████████████████████████| 10/10 [00:00<00:00, 213.78it/s, loss=1.78]\n"
     ]
    },
    {
     "name": "stdout",
     "output_type": "stream",
     "text": [
      "Epoch [40/5000]: Train loss: 2.1232, Valid loss: 1.0884\n"
     ]
    },
    {
     "name": "stderr",
     "output_type": "stream",
     "text": [
      "Epoch [41/5000]: 100%|████████████████████████████████████████████████████████████████████████████████████████████| 10/10 [00:00<00:00, 216.76it/s, loss=2.05]\n"
     ]
    },
    {
     "name": "stdout",
     "output_type": "stream",
     "text": [
      "Epoch [41/5000]: Train loss: 2.1300, Valid loss: 1.1301\n"
     ]
    },
    {
     "name": "stderr",
     "output_type": "stream",
     "text": [
      "Epoch [42/5000]: 100%|████████████████████████████████████████████████████████████████████████████████████████████| 10/10 [00:00<00:00, 215.86it/s, loss=1.89]\n"
     ]
    },
    {
     "name": "stdout",
     "output_type": "stream",
     "text": [
      "Epoch [42/5000]: Train loss: 2.0242, Valid loss: 1.1936\n"
     ]
    },
    {
     "name": "stderr",
     "output_type": "stream",
     "text": [
      "Epoch [43/5000]: 100%|████████████████████████████████████████████████████████████████████████████████████████████| 10/10 [00:00<00:00, 217.80it/s, loss=2.01]\n"
     ]
    },
    {
     "name": "stdout",
     "output_type": "stream",
     "text": [
      "Epoch [43/5000]: Train loss: 2.0930, Valid loss: 1.1434\n"
     ]
    },
    {
     "name": "stderr",
     "output_type": "stream",
     "text": [
      "Epoch [44/5000]: 100%|█████████████████████████████████████████████████████████████████████████████████████████████| 10/10 [00:00<00:00, 95.62it/s, loss=1.98]\n"
     ]
    },
    {
     "name": "stdout",
     "output_type": "stream",
     "text": [
      "Epoch [44/5000]: Train loss: 2.0366, Valid loss: 1.0837\n"
     ]
    },
    {
     "name": "stderr",
     "output_type": "stream",
     "text": [
      "Epoch [45/5000]: 100%|████████████████████████████████████████████████████████████████████████████████████████████| 10/10 [00:00<00:00, 208.00it/s, loss=1.92]\n"
     ]
    },
    {
     "name": "stdout",
     "output_type": "stream",
     "text": [
      "Epoch [45/5000]: Train loss: 2.0340, Valid loss: 1.1760\n"
     ]
    },
    {
     "name": "stderr",
     "output_type": "stream",
     "text": [
      "Epoch [46/5000]: 100%|████████████████████████████████████████████████████████████████████████████████████████████| 10/10 [00:00<00:00, 212.91it/s, loss=2.08]\n"
     ]
    },
    {
     "name": "stdout",
     "output_type": "stream",
     "text": [
      "Epoch [46/5000]: Train loss: 1.9862, Valid loss: 1.0566\n",
      "Saving model with loss 1.057...\n"
     ]
    },
    {
     "name": "stderr",
     "output_type": "stream",
     "text": [
      "Epoch [47/5000]: 100%|████████████████████████████████████████████████████████████████████████████████████████████| 10/10 [00:00<00:00, 213.79it/s, loss=1.97]\n"
     ]
    },
    {
     "name": "stdout",
     "output_type": "stream",
     "text": [
      "Epoch [47/5000]: Train loss: 1.9638, Valid loss: 1.1534\n"
     ]
    },
    {
     "name": "stderr",
     "output_type": "stream",
     "text": [
      "Epoch [48/5000]: 100%|█████████████████████████████████████████████████████████████████████████████████████████████| 10/10 [00:00<00:00, 216.29it/s, loss=1.7]\n"
     ]
    },
    {
     "name": "stdout",
     "output_type": "stream",
     "text": [
      "Epoch [48/5000]: Train loss: 1.9215, Valid loss: 1.1252\n"
     ]
    },
    {
     "name": "stderr",
     "output_type": "stream",
     "text": [
      "Epoch [49/5000]: 100%|████████████████████████████████████████████████████████████████████████████████████████████| 10/10 [00:00<00:00, 217.67it/s, loss=1.76]\n"
     ]
    },
    {
     "name": "stdout",
     "output_type": "stream",
     "text": [
      "Epoch [49/5000]: Train loss: 1.8501, Valid loss: 1.1124\n"
     ]
    },
    {
     "name": "stderr",
     "output_type": "stream",
     "text": [
      "Epoch [50/5000]: 100%|█████████████████████████████████████████████████████████████████████████████████████████████| 10/10 [00:00<00:00, 92.88it/s, loss=1.78]\n"
     ]
    },
    {
     "name": "stdout",
     "output_type": "stream",
     "text": [
      "Epoch [50/5000]: Train loss: 1.8999, Valid loss: 1.0933\n"
     ]
    },
    {
     "name": "stderr",
     "output_type": "stream",
     "text": [
      "Epoch [51/5000]: 100%|████████████████████████████████████████████████████████████████████████████████████████████| 10/10 [00:00<00:00, 216.96it/s, loss=1.79]\n"
     ]
    },
    {
     "name": "stdout",
     "output_type": "stream",
     "text": [
      "Epoch [51/5000]: Train loss: 1.8499, Valid loss: 1.1270\n"
     ]
    },
    {
     "name": "stderr",
     "output_type": "stream",
     "text": [
      "Epoch [52/5000]: 100%|████████████████████████████████████████████████████████████████████████████████████████████| 10/10 [00:00<00:00, 211.93it/s, loss=1.85]\n"
     ]
    },
    {
     "name": "stdout",
     "output_type": "stream",
     "text": [
      "Epoch [52/5000]: Train loss: 1.8653, Valid loss: 1.1334\n"
     ]
    },
    {
     "name": "stderr",
     "output_type": "stream",
     "text": [
      "Epoch [53/5000]: 100%|████████████████████████████████████████████████████████████████████████████████████████████| 10/10 [00:00<00:00, 215.35it/s, loss=1.61]\n"
     ]
    },
    {
     "name": "stdout",
     "output_type": "stream",
     "text": [
      "Epoch [53/5000]: Train loss: 1.8619, Valid loss: 1.0793\n"
     ]
    },
    {
     "name": "stderr",
     "output_type": "stream",
     "text": [
      "Epoch [54/5000]: 100%|████████████████████████████████████████████████████████████████████████████████████████████| 10/10 [00:00<00:00, 216.12it/s, loss=1.52]\n"
     ]
    },
    {
     "name": "stdout",
     "output_type": "stream",
     "text": [
      "Epoch [54/5000]: Train loss: 1.7852, Valid loss: 1.0877\n"
     ]
    },
    {
     "name": "stderr",
     "output_type": "stream",
     "text": [
      "Epoch [55/5000]: 100%|████████████████████████████████████████████████████████████████████████████████████████████| 10/10 [00:00<00:00, 217.66it/s, loss=1.75]\n"
     ]
    },
    {
     "name": "stdout",
     "output_type": "stream",
     "text": [
      "Epoch [55/5000]: Train loss: 1.7984, Valid loss: 1.0622\n"
     ]
    },
    {
     "name": "stderr",
     "output_type": "stream",
     "text": [
      "Epoch [56/5000]: 100%|█████████████████████████████████████████████████████████████████████████████████████████████| 10/10 [00:00<00:00, 96.71it/s, loss=1.71]\n"
     ]
    },
    {
     "name": "stdout",
     "output_type": "stream",
     "text": [
      "Epoch [56/5000]: Train loss: 1.7868, Valid loss: 1.0683\n"
     ]
    },
    {
     "name": "stderr",
     "output_type": "stream",
     "text": [
      "Epoch [57/5000]: 100%|█████████████████████████████████████████████████████████████████████████████████████████████| 10/10 [00:00<00:00, 217.27it/s, loss=1.8]\n"
     ]
    },
    {
     "name": "stdout",
     "output_type": "stream",
     "text": [
      "Epoch [57/5000]: Train loss: 1.7908, Valid loss: 1.0661\n"
     ]
    },
    {
     "name": "stderr",
     "output_type": "stream",
     "text": [
      "Epoch [58/5000]: 100%|████████████████████████████████████████████████████████████████████████████████████████████| 10/10 [00:00<00:00, 215.82it/s, loss=2.01]\n"
     ]
    },
    {
     "name": "stdout",
     "output_type": "stream",
     "text": [
      "Epoch [58/5000]: Train loss: 1.7962, Valid loss: 1.1070\n"
     ]
    },
    {
     "name": "stderr",
     "output_type": "stream",
     "text": [
      "Epoch [59/5000]: 100%|████████████████████████████████████████████████████████████████████████████████████████████| 10/10 [00:00<00:00, 217.09it/s, loss=1.86]\n"
     ]
    },
    {
     "name": "stdout",
     "output_type": "stream",
     "text": [
      "Epoch [59/5000]: Train loss: 1.7548, Valid loss: 1.0976\n"
     ]
    },
    {
     "name": "stderr",
     "output_type": "stream",
     "text": [
      "Epoch [60/5000]: 100%|████████████████████████████████████████████████████████████████████████████████████████████| 10/10 [00:00<00:00, 215.87it/s, loss=1.53]\n"
     ]
    },
    {
     "name": "stdout",
     "output_type": "stream",
     "text": [
      "Epoch [60/5000]: Train loss: 1.6672, Valid loss: 1.1371\n"
     ]
    },
    {
     "name": "stderr",
     "output_type": "stream",
     "text": [
      "Epoch [61/5000]: 100%|████████████████████████████████████████████████████████████████████████████████████████████| 10/10 [00:00<00:00, 214.48it/s, loss=1.65]\n"
     ]
    },
    {
     "name": "stdout",
     "output_type": "stream",
     "text": [
      "Epoch [61/5000]: Train loss: 1.6917, Valid loss: 1.1405\n"
     ]
    },
    {
     "name": "stderr",
     "output_type": "stream",
     "text": [
      "Epoch [62/5000]: 100%|█████████████████████████████████████████████████████████████████████████████████████████████| 10/10 [00:00<00:00, 97.15it/s, loss=1.88]\n"
     ]
    },
    {
     "name": "stdout",
     "output_type": "stream",
     "text": [
      "Epoch [62/5000]: Train loss: 1.7204, Valid loss: 1.0733\n"
     ]
    },
    {
     "name": "stderr",
     "output_type": "stream",
     "text": [
      "Epoch [63/5000]: 100%|████████████████████████████████████████████████████████████████████████████████████████████| 10/10 [00:00<00:00, 213.41it/s, loss=1.91]\n"
     ]
    },
    {
     "name": "stdout",
     "output_type": "stream",
     "text": [
      "Epoch [63/5000]: Train loss: 1.7066, Valid loss: 1.0835\n"
     ]
    },
    {
     "name": "stderr",
     "output_type": "stream",
     "text": [
      "Epoch [64/5000]: 100%|████████████████████████████████████████████████████████████████████████████████████████████| 10/10 [00:00<00:00, 213.56it/s, loss=1.52]\n"
     ]
    },
    {
     "name": "stdout",
     "output_type": "stream",
     "text": [
      "Epoch [64/5000]: Train loss: 1.6848, Valid loss: 1.0643\n"
     ]
    },
    {
     "name": "stderr",
     "output_type": "stream",
     "text": [
      "Epoch [65/5000]: 100%|████████████████████████████████████████████████████████████████████████████████████████████| 10/10 [00:00<00:00, 220.00it/s, loss=1.79]\n"
     ]
    },
    {
     "name": "stdout",
     "output_type": "stream",
     "text": [
      "Epoch [65/5000]: Train loss: 1.6880, Valid loss: 1.0810\n"
     ]
    },
    {
     "name": "stderr",
     "output_type": "stream",
     "text": [
      "Epoch [66/5000]: 100%|████████████████████████████████████████████████████████████████████████████████████████████| 10/10 [00:00<00:00, 214.65it/s, loss=1.65]\n"
     ]
    },
    {
     "name": "stdout",
     "output_type": "stream",
     "text": [
      "Epoch [66/5000]: Train loss: 1.6833, Valid loss: 1.1588\n"
     ]
    },
    {
     "name": "stderr",
     "output_type": "stream",
     "text": [
      "Epoch [67/5000]: 100%|████████████████████████████████████████████████████████████████████████████████████████████| 10/10 [00:00<00:00, 212.83it/s, loss=1.44]\n"
     ]
    },
    {
     "name": "stdout",
     "output_type": "stream",
     "text": [
      "Epoch [67/5000]: Train loss: 1.6688, Valid loss: 1.1584\n"
     ]
    },
    {
     "name": "stderr",
     "output_type": "stream",
     "text": [
      "Epoch [68/5000]: 100%|█████████████████████████████████████████████████████████████████████████████████████████████| 10/10 [00:00<00:00, 95.95it/s, loss=1.82]\n"
     ]
    },
    {
     "name": "stdout",
     "output_type": "stream",
     "text": [
      "Epoch [68/5000]: Train loss: 1.7460, Valid loss: 1.0637\n"
     ]
    },
    {
     "name": "stderr",
     "output_type": "stream",
     "text": [
      "Epoch [69/5000]: 100%|████████████████████████████████████████████████████████████████████████████████████████████| 10/10 [00:00<00:00, 210.31it/s, loss=1.64]\n"
     ]
    },
    {
     "name": "stdout",
     "output_type": "stream",
     "text": [
      "Epoch [69/5000]: Train loss: 1.6445, Valid loss: 1.1284\n"
     ]
    },
    {
     "name": "stderr",
     "output_type": "stream",
     "text": [
      "Epoch [70/5000]: 100%|████████████████████████████████████████████████████████████████████████████████████████████| 10/10 [00:00<00:00, 215.39it/s, loss=1.64]\n"
     ]
    },
    {
     "name": "stdout",
     "output_type": "stream",
     "text": [
      "Epoch [70/5000]: Train loss: 1.6504, Valid loss: 1.1297\n"
     ]
    },
    {
     "name": "stderr",
     "output_type": "stream",
     "text": [
      "Epoch [71/5000]: 100%|████████████████████████████████████████████████████████████████████████████████████████████| 10/10 [00:00<00:00, 218.59it/s, loss=1.66]\n"
     ]
    },
    {
     "name": "stdout",
     "output_type": "stream",
     "text": [
      "Epoch [71/5000]: Train loss: 1.6609, Valid loss: 1.0867\n"
     ]
    },
    {
     "name": "stderr",
     "output_type": "stream",
     "text": [
      "Epoch [72/5000]: 100%|████████████████████████████████████████████████████████████████████████████████████████████| 10/10 [00:00<00:00, 215.80it/s, loss=1.65]\n"
     ]
    },
    {
     "name": "stdout",
     "output_type": "stream",
     "text": [
      "Epoch [72/5000]: Train loss: 1.6987, Valid loss: 1.1470\n"
     ]
    },
    {
     "name": "stderr",
     "output_type": "stream",
     "text": [
      "Epoch [73/5000]: 100%|████████████████████████████████████████████████████████████████████████████████████████████| 10/10 [00:00<00:00, 218.27it/s, loss=1.57]\n"
     ]
    },
    {
     "name": "stdout",
     "output_type": "stream",
     "text": [
      "Epoch [73/5000]: Train loss: 1.6752, Valid loss: 1.0828\n"
     ]
    },
    {
     "name": "stderr",
     "output_type": "stream",
     "text": [
      "Epoch [74/5000]: 100%|█████████████████████████████████████████████████████████████████████████████████████████████| 10/10 [00:00<00:00, 96.84it/s, loss=1.51]\n"
     ]
    },
    {
     "name": "stdout",
     "output_type": "stream",
     "text": [
      "Epoch [74/5000]: Train loss: 1.6854, Valid loss: 1.0980\n"
     ]
    },
    {
     "name": "stderr",
     "output_type": "stream",
     "text": [
      "Epoch [75/5000]: 100%|█████████████████████████████████████████████████████████████████████████████████████████████| 10/10 [00:00<00:00, 218.76it/s, loss=1.8]\n"
     ]
    },
    {
     "name": "stdout",
     "output_type": "stream",
     "text": [
      "Epoch [75/5000]: Train loss: 1.6737, Valid loss: 1.1037\n"
     ]
    },
    {
     "name": "stderr",
     "output_type": "stream",
     "text": [
      "Epoch [76/5000]: 100%|████████████████████████████████████████████████████████████████████████████████████████████| 10/10 [00:00<00:00, 213.04it/s, loss=1.51]\n"
     ]
    },
    {
     "name": "stdout",
     "output_type": "stream",
     "text": [
      "Epoch [76/5000]: Train loss: 1.6565, Valid loss: 1.0470\n",
      "Saving model with loss 1.047...\n"
     ]
    },
    {
     "name": "stderr",
     "output_type": "stream",
     "text": [
      "Epoch [77/5000]: 100%|█████████████████████████████████████████████████████████████████████████████████████████████| 10/10 [00:00<00:00, 217.86it/s, loss=1.7]\n"
     ]
    },
    {
     "name": "stdout",
     "output_type": "stream",
     "text": [
      "Epoch [77/5000]: Train loss: 1.6427, Valid loss: 1.1123\n"
     ]
    },
    {
     "name": "stderr",
     "output_type": "stream",
     "text": [
      "Epoch [78/5000]: 100%|████████████████████████████████████████████████████████████████████████████████████████████| 10/10 [00:00<00:00, 216.21it/s, loss=1.75]\n"
     ]
    },
    {
     "name": "stdout",
     "output_type": "stream",
     "text": [
      "Epoch [78/5000]: Train loss: 1.6654, Valid loss: 1.0747\n"
     ]
    },
    {
     "name": "stderr",
     "output_type": "stream",
     "text": [
      "Epoch [79/5000]: 100%|████████████████████████████████████████████████████████████████████████████████████████████| 10/10 [00:00<00:00, 217.61it/s, loss=1.82]\n"
     ]
    },
    {
     "name": "stdout",
     "output_type": "stream",
     "text": [
      "Epoch [79/5000]: Train loss: 1.6662, Valid loss: 1.0626\n"
     ]
    },
    {
     "name": "stderr",
     "output_type": "stream",
     "text": [
      "Epoch [80/5000]: 100%|█████████████████████████████████████████████████████████████████████████████████████████████| 10/10 [00:00<00:00, 96.84it/s, loss=1.75]\n"
     ]
    },
    {
     "name": "stdout",
     "output_type": "stream",
     "text": [
      "Epoch [80/5000]: Train loss: 1.5869, Valid loss: 1.0371\n",
      "Saving model with loss 1.037...\n"
     ]
    },
    {
     "name": "stderr",
     "output_type": "stream",
     "text": [
      "Epoch [81/5000]: 100%|████████████████████████████████████████████████████████████████████████████████████████████| 10/10 [00:00<00:00, 215.21it/s, loss=1.44]\n"
     ]
    },
    {
     "name": "stdout",
     "output_type": "stream",
     "text": [
      "Epoch [81/5000]: Train loss: 1.5813, Valid loss: 1.0764\n"
     ]
    },
    {
     "name": "stderr",
     "output_type": "stream",
     "text": [
      "Epoch [82/5000]: 100%|████████████████████████████████████████████████████████████████████████████████████████████| 10/10 [00:00<00:00, 209.85it/s, loss=1.49]\n"
     ]
    },
    {
     "name": "stdout",
     "output_type": "stream",
     "text": [
      "Epoch [82/5000]: Train loss: 1.5957, Valid loss: 1.0820\n"
     ]
    },
    {
     "name": "stderr",
     "output_type": "stream",
     "text": [
      "Epoch [83/5000]: 100%|████████████████████████████████████████████████████████████████████████████████████████████| 10/10 [00:00<00:00, 218.91it/s, loss=1.55]\n"
     ]
    },
    {
     "name": "stdout",
     "output_type": "stream",
     "text": [
      "Epoch [83/5000]: Train loss: 1.6303, Valid loss: 1.0500\n"
     ]
    },
    {
     "name": "stderr",
     "output_type": "stream",
     "text": [
      "Epoch [84/5000]: 100%|████████████████████████████████████████████████████████████████████████████████████████████| 10/10 [00:00<00:00, 216.55it/s, loss=1.52]\n"
     ]
    },
    {
     "name": "stdout",
     "output_type": "stream",
     "text": [
      "Epoch [84/5000]: Train loss: 1.6053, Valid loss: 1.1179\n"
     ]
    },
    {
     "name": "stderr",
     "output_type": "stream",
     "text": [
      "Epoch [85/5000]: 100%|████████████████████████████████████████████████████████████████████████████████████████████| 10/10 [00:00<00:00, 217.89it/s, loss=1.76]\n"
     ]
    },
    {
     "name": "stdout",
     "output_type": "stream",
     "text": [
      "Epoch [85/5000]: Train loss: 1.5917, Valid loss: 1.1031\n"
     ]
    },
    {
     "name": "stderr",
     "output_type": "stream",
     "text": [
      "Epoch [86/5000]: 100%|█████████████████████████████████████████████████████████████████████████████████████████████| 10/10 [00:00<00:00, 96.67it/s, loss=1.72]\n"
     ]
    },
    {
     "name": "stdout",
     "output_type": "stream",
     "text": [
      "Epoch [86/5000]: Train loss: 1.6256, Valid loss: 1.0702\n"
     ]
    },
    {
     "name": "stderr",
     "output_type": "stream",
     "text": [
      "Epoch [87/5000]: 100%|████████████████████████████████████████████████████████████████████████████████████████████| 10/10 [00:00<00:00, 219.21it/s, loss=1.39]\n"
     ]
    },
    {
     "name": "stdout",
     "output_type": "stream",
     "text": [
      "Epoch [87/5000]: Train loss: 1.6419, Valid loss: 1.0825\n"
     ]
    },
    {
     "name": "stderr",
     "output_type": "stream",
     "text": [
      "Epoch [88/5000]: 100%|████████████████████████████████████████████████████████████████████████████████████████████| 10/10 [00:00<00:00, 219.33it/s, loss=1.69]\n"
     ]
    },
    {
     "name": "stdout",
     "output_type": "stream",
     "text": [
      "Epoch [88/5000]: Train loss: 1.6190, Valid loss: 1.0176\n",
      "Saving model with loss 1.018...\n"
     ]
    },
    {
     "name": "stderr",
     "output_type": "stream",
     "text": [
      "Epoch [89/5000]: 100%|████████████████████████████████████████████████████████████████████████████████████████████| 10/10 [00:00<00:00, 216.93it/s, loss=1.53]\n"
     ]
    },
    {
     "name": "stdout",
     "output_type": "stream",
     "text": [
      "Epoch [89/5000]: Train loss: 1.5733, Valid loss: 1.1621\n"
     ]
    },
    {
     "name": "stderr",
     "output_type": "stream",
     "text": [
      "Epoch [90/5000]: 100%|████████████████████████████████████████████████████████████████████████████████████████████| 10/10 [00:00<00:00, 213.32it/s, loss=1.43]\n"
     ]
    },
    {
     "name": "stdout",
     "output_type": "stream",
     "text": [
      "Epoch [90/5000]: Train loss: 1.5871, Valid loss: 1.0409\n"
     ]
    },
    {
     "name": "stderr",
     "output_type": "stream",
     "text": [
      "Epoch [91/5000]: 100%|████████████████████████████████████████████████████████████████████████████████████████████| 10/10 [00:00<00:00, 219.71it/s, loss=1.55]\n"
     ]
    },
    {
     "name": "stdout",
     "output_type": "stream",
     "text": [
      "Epoch [91/5000]: Train loss: 1.5311, Valid loss: 1.1795\n"
     ]
    },
    {
     "name": "stderr",
     "output_type": "stream",
     "text": [
      "Epoch [92/5000]: 100%|██████████████████████████████████████████████████████████████████████████████████████████████| 10/10 [00:00<00:00, 96.40it/s, loss=1.5]\n"
     ]
    },
    {
     "name": "stdout",
     "output_type": "stream",
     "text": [
      "Epoch [92/5000]: Train loss: 1.5574, Valid loss: 1.0755\n"
     ]
    },
    {
     "name": "stderr",
     "output_type": "stream",
     "text": [
      "Epoch [93/5000]: 100%|████████████████████████████████████████████████████████████████████████████████████████████| 10/10 [00:00<00:00, 211.81it/s, loss=1.42]\n"
     ]
    },
    {
     "name": "stdout",
     "output_type": "stream",
     "text": [
      "Epoch [93/5000]: Train loss: 1.5525, Valid loss: 1.0807\n"
     ]
    },
    {
     "name": "stderr",
     "output_type": "stream",
     "text": [
      "Epoch [94/5000]: 100%|█████████████████████████████████████████████████████████████████████████████████████████████| 10/10 [00:00<00:00, 213.11it/s, loss=1.6]\n"
     ]
    },
    {
     "name": "stdout",
     "output_type": "stream",
     "text": [
      "Epoch [94/5000]: Train loss: 1.5605, Valid loss: 1.1623\n"
     ]
    },
    {
     "name": "stderr",
     "output_type": "stream",
     "text": [
      "Epoch [95/5000]: 100%|████████████████████████████████████████████████████████████████████████████████████████████| 10/10 [00:00<00:00, 218.02it/s, loss=1.53]\n"
     ]
    },
    {
     "name": "stdout",
     "output_type": "stream",
     "text": [
      "Epoch [95/5000]: Train loss: 1.5651, Valid loss: 1.1258\n"
     ]
    },
    {
     "name": "stderr",
     "output_type": "stream",
     "text": [
      "Epoch [96/5000]: 100%|████████████████████████████████████████████████████████████████████████████████████████████| 10/10 [00:00<00:00, 216.04it/s, loss=1.48]\n"
     ]
    },
    {
     "name": "stdout",
     "output_type": "stream",
     "text": [
      "Epoch [96/5000]: Train loss: 1.5653, Valid loss: 1.1203\n"
     ]
    },
    {
     "name": "stderr",
     "output_type": "stream",
     "text": [
      "Epoch [97/5000]: 100%|████████████████████████████████████████████████████████████████████████████████████████████| 10/10 [00:00<00:00, 217.96it/s, loss=1.68]\n"
     ]
    },
    {
     "name": "stdout",
     "output_type": "stream",
     "text": [
      "Epoch [97/5000]: Train loss: 1.5869, Valid loss: 1.1163\n"
     ]
    },
    {
     "name": "stderr",
     "output_type": "stream",
     "text": [
      "Epoch [98/5000]: 100%|█████████████████████████████████████████████████████████████████████████████████████████████| 10/10 [00:00<00:00, 96.76it/s, loss=1.61]\n"
     ]
    },
    {
     "name": "stdout",
     "output_type": "stream",
     "text": [
      "Epoch [98/5000]: Train loss: 1.5310, Valid loss: 1.1778\n"
     ]
    },
    {
     "name": "stderr",
     "output_type": "stream",
     "text": [
      "Epoch [99/5000]: 100%|████████████████████████████████████████████████████████████████████████████████████████████| 10/10 [00:00<00:00, 213.46it/s, loss=1.45]\n"
     ]
    },
    {
     "name": "stdout",
     "output_type": "stream",
     "text": [
      "Epoch [99/5000]: Train loss: 1.5614, Valid loss: 1.1140\n"
     ]
    },
    {
     "name": "stderr",
     "output_type": "stream",
     "text": [
      "Epoch [100/5000]: 100%|███████████████████████████████████████████████████████████████████████████████████████████| 10/10 [00:00<00:00, 215.47it/s, loss=1.67]\n"
     ]
    },
    {
     "name": "stdout",
     "output_type": "stream",
     "text": [
      "Epoch [100/5000]: Train loss: 1.5789, Valid loss: 1.1389\n"
     ]
    },
    {
     "name": "stderr",
     "output_type": "stream",
     "text": [
      "Epoch [101/5000]: 100%|███████████████████████████████████████████████████████████████████████████████████████████| 10/10 [00:00<00:00, 215.94it/s, loss=1.81]\n"
     ]
    },
    {
     "name": "stdout",
     "output_type": "stream",
     "text": [
      "Epoch [101/5000]: Train loss: 1.5448, Valid loss: 1.0721\n"
     ]
    },
    {
     "name": "stderr",
     "output_type": "stream",
     "text": [
      "Epoch [102/5000]: 100%|███████████████████████████████████████████████████████████████████████████████████████████| 10/10 [00:00<00:00, 216.17it/s, loss=1.71]\n"
     ]
    },
    {
     "name": "stdout",
     "output_type": "stream",
     "text": [
      "Epoch [102/5000]: Train loss: 1.5803, Valid loss: 1.0736\n"
     ]
    },
    {
     "name": "stderr",
     "output_type": "stream",
     "text": [
      "Epoch [103/5000]: 100%|████████████████████████████████████████████████████████████████████████████████████████████| 10/10 [00:00<00:00, 217.30it/s, loss=1.3]\n"
     ]
    },
    {
     "name": "stdout",
     "output_type": "stream",
     "text": [
      "Epoch [103/5000]: Train loss: 1.5266, Valid loss: 1.1452\n"
     ]
    },
    {
     "name": "stderr",
     "output_type": "stream",
     "text": [
      "Epoch [104/5000]: 100%|████████████████████████████████████████████████████████████████████████████████████████████| 10/10 [00:00<00:00, 93.42it/s, loss=1.54]\n"
     ]
    },
    {
     "name": "stdout",
     "output_type": "stream",
     "text": [
      "Epoch [104/5000]: Train loss: 1.5294, Valid loss: 1.0692\n"
     ]
    },
    {
     "name": "stderr",
     "output_type": "stream",
     "text": [
      "Epoch [105/5000]: 100%|███████████████████████████████████████████████████████████████████████████████████████████| 10/10 [00:00<00:00, 220.07it/s, loss=1.43]\n"
     ]
    },
    {
     "name": "stdout",
     "output_type": "stream",
     "text": [
      "Epoch [105/5000]: Train loss: 1.5623, Valid loss: 1.0417\n"
     ]
    },
    {
     "name": "stderr",
     "output_type": "stream",
     "text": [
      "Epoch [106/5000]: 100%|███████████████████████████████████████████████████████████████████████████████████████████| 10/10 [00:00<00:00, 212.39it/s, loss=1.47]\n"
     ]
    },
    {
     "name": "stdout",
     "output_type": "stream",
     "text": [
      "Epoch [106/5000]: Train loss: 1.5225, Valid loss: 1.0297\n"
     ]
    },
    {
     "name": "stderr",
     "output_type": "stream",
     "text": [
      "Epoch [107/5000]: 100%|███████████████████████████████████████████████████████████████████████████████████████████| 10/10 [00:00<00:00, 221.34it/s, loss=1.39]\n"
     ]
    },
    {
     "name": "stdout",
     "output_type": "stream",
     "text": [
      "Epoch [107/5000]: Train loss: 1.5131, Valid loss: 1.0655\n"
     ]
    },
    {
     "name": "stderr",
     "output_type": "stream",
     "text": [
      "Epoch [108/5000]: 100%|███████████████████████████████████████████████████████████████████████████████████████████| 10/10 [00:00<00:00, 211.75it/s, loss=1.46]\n"
     ]
    },
    {
     "name": "stdout",
     "output_type": "stream",
     "text": [
      "Epoch [108/5000]: Train loss: 1.5622, Valid loss: 1.1463\n"
     ]
    },
    {
     "name": "stderr",
     "output_type": "stream",
     "text": [
      "Epoch [109/5000]: 100%|███████████████████████████████████████████████████████████████████████████████████████████| 10/10 [00:00<00:00, 216.04it/s, loss=1.69]\n"
     ]
    },
    {
     "name": "stdout",
     "output_type": "stream",
     "text": [
      "Epoch [109/5000]: Train loss: 1.5721, Valid loss: 0.9867\n",
      "Saving model with loss 0.987...\n"
     ]
    },
    {
     "name": "stderr",
     "output_type": "stream",
     "text": [
      "Epoch [110/5000]: 100%|████████████████████████████████████████████████████████████████████████████████████████████| 10/10 [00:00<00:00, 95.85it/s, loss=1.59]\n"
     ]
    },
    {
     "name": "stdout",
     "output_type": "stream",
     "text": [
      "Epoch [110/5000]: Train loss: 1.5209, Valid loss: 1.0703\n"
     ]
    },
    {
     "name": "stderr",
     "output_type": "stream",
     "text": [
      "Epoch [111/5000]: 100%|███████████████████████████████████████████████████████████████████████████████████████████| 10/10 [00:00<00:00, 221.03it/s, loss=1.51]\n"
     ]
    },
    {
     "name": "stdout",
     "output_type": "stream",
     "text": [
      "Epoch [111/5000]: Train loss: 1.5526, Valid loss: 1.0755\n"
     ]
    },
    {
     "name": "stderr",
     "output_type": "stream",
     "text": [
      "Epoch [112/5000]: 100%|███████████████████████████████████████████████████████████████████████████████████████████| 10/10 [00:00<00:00, 211.79it/s, loss=1.73]\n"
     ]
    },
    {
     "name": "stdout",
     "output_type": "stream",
     "text": [
      "Epoch [112/5000]: Train loss: 1.5363, Valid loss: 1.0583\n"
     ]
    },
    {
     "name": "stderr",
     "output_type": "stream",
     "text": [
      "Epoch [113/5000]: 100%|███████████████████████████████████████████████████████████████████████████████████████████| 10/10 [00:00<00:00, 220.80it/s, loss=1.74]\n"
     ]
    },
    {
     "name": "stdout",
     "output_type": "stream",
     "text": [
      "Epoch [113/5000]: Train loss: 1.5347, Valid loss: 1.0838\n"
     ]
    },
    {
     "name": "stderr",
     "output_type": "stream",
     "text": [
      "Epoch [114/5000]: 100%|███████████████████████████████████████████████████████████████████████████████████████████| 10/10 [00:00<00:00, 212.10it/s, loss=1.69]\n"
     ]
    },
    {
     "name": "stdout",
     "output_type": "stream",
     "text": [
      "Epoch [114/5000]: Train loss: 1.5148, Valid loss: 1.1370\n"
     ]
    },
    {
     "name": "stderr",
     "output_type": "stream",
     "text": [
      "Epoch [115/5000]: 100%|███████████████████████████████████████████████████████████████████████████████████████████| 10/10 [00:00<00:00, 222.04it/s, loss=1.35]\n"
     ]
    },
    {
     "name": "stdout",
     "output_type": "stream",
     "text": [
      "Epoch [115/5000]: Train loss: 1.5171, Valid loss: 1.1090\n"
     ]
    },
    {
     "name": "stderr",
     "output_type": "stream",
     "text": [
      "Epoch [116/5000]: 100%|████████████████████████████████████████████████████████████████████████████████████████████| 10/10 [00:00<00:00, 97.27it/s, loss=1.62]\n"
     ]
    },
    {
     "name": "stdout",
     "output_type": "stream",
     "text": [
      "Epoch [116/5000]: Train loss: 1.5352, Valid loss: 1.1001\n"
     ]
    },
    {
     "name": "stderr",
     "output_type": "stream",
     "text": [
      "Epoch [117/5000]: 100%|███████████████████████████████████████████████████████████████████████████████████████████| 10/10 [00:00<00:00, 209.20it/s, loss=1.54]\n"
     ]
    },
    {
     "name": "stdout",
     "output_type": "stream",
     "text": [
      "Epoch [117/5000]: Train loss: 1.5273, Valid loss: 1.1295\n"
     ]
    },
    {
     "name": "stderr",
     "output_type": "stream",
     "text": [
      "Epoch [118/5000]: 100%|███████████████████████████████████████████████████████████████████████████████████████████| 10/10 [00:00<00:00, 210.78it/s, loss=1.56]\n"
     ]
    },
    {
     "name": "stdout",
     "output_type": "stream",
     "text": [
      "Epoch [118/5000]: Train loss: 1.5255, Valid loss: 1.1737\n"
     ]
    },
    {
     "name": "stderr",
     "output_type": "stream",
     "text": [
      "Epoch [119/5000]: 100%|███████████████████████████████████████████████████████████████████████████████████████████| 10/10 [00:00<00:00, 203.80it/s, loss=1.43]\n"
     ]
    },
    {
     "name": "stdout",
     "output_type": "stream",
     "text": [
      "Epoch [119/5000]: Train loss: 1.5069, Valid loss: 1.0793\n"
     ]
    },
    {
     "name": "stderr",
     "output_type": "stream",
     "text": [
      "Epoch [120/5000]: 100%|███████████████████████████████████████████████████████████████████████████████████████████| 10/10 [00:00<00:00, 216.78it/s, loss=1.31]\n"
     ]
    },
    {
     "name": "stdout",
     "output_type": "stream",
     "text": [
      "Epoch [120/5000]: Train loss: 1.5112, Valid loss: 1.0572\n"
     ]
    },
    {
     "name": "stderr",
     "output_type": "stream",
     "text": [
      "Epoch [121/5000]: 100%|███████████████████████████████████████████████████████████████████████████████████████████| 10/10 [00:00<00:00, 217.22it/s, loss=1.42]\n"
     ]
    },
    {
     "name": "stdout",
     "output_type": "stream",
     "text": [
      "Epoch [121/5000]: Train loss: 1.5305, Valid loss: 1.0617\n"
     ]
    },
    {
     "name": "stderr",
     "output_type": "stream",
     "text": [
      "Epoch [122/5000]: 100%|████████████████████████████████████████████████████████████████████████████████████████████| 10/10 [00:00<00:00, 92.51it/s, loss=1.37]\n"
     ]
    },
    {
     "name": "stdout",
     "output_type": "stream",
     "text": [
      "Epoch [122/5000]: Train loss: 1.4828, Valid loss: 1.0713\n"
     ]
    },
    {
     "name": "stderr",
     "output_type": "stream",
     "text": [
      "Epoch [123/5000]: 100%|███████████████████████████████████████████████████████████████████████████████████████████| 10/10 [00:00<00:00, 218.03it/s, loss=1.61]\n"
     ]
    },
    {
     "name": "stdout",
     "output_type": "stream",
     "text": [
      "Epoch [123/5000]: Train loss: 1.4922, Valid loss: 1.0800\n"
     ]
    },
    {
     "name": "stderr",
     "output_type": "stream",
     "text": [
      "Epoch [124/5000]: 100%|███████████████████████████████████████████████████████████████████████████████████████████| 10/10 [00:00<00:00, 218.66it/s, loss=1.59]\n"
     ]
    },
    {
     "name": "stdout",
     "output_type": "stream",
     "text": [
      "Epoch [124/5000]: Train loss: 1.4893, Valid loss: 1.0503\n"
     ]
    },
    {
     "name": "stderr",
     "output_type": "stream",
     "text": [
      "Epoch [125/5000]: 100%|███████████████████████████████████████████████████████████████████████████████████████████| 10/10 [00:00<00:00, 218.37it/s, loss=1.56]\n"
     ]
    },
    {
     "name": "stdout",
     "output_type": "stream",
     "text": [
      "Epoch [125/5000]: Train loss: 1.5022, Valid loss: 1.0572\n"
     ]
    },
    {
     "name": "stderr",
     "output_type": "stream",
     "text": [
      "Epoch [126/5000]: 100%|███████████████████████████████████████████████████████████████████████████████████████████| 10/10 [00:00<00:00, 215.64it/s, loss=1.68]\n"
     ]
    },
    {
     "name": "stdout",
     "output_type": "stream",
     "text": [
      "Epoch [126/5000]: Train loss: 1.4932, Valid loss: 1.0784\n"
     ]
    },
    {
     "name": "stderr",
     "output_type": "stream",
     "text": [
      "Epoch [127/5000]: 100%|███████████████████████████████████████████████████████████████████████████████████████████| 10/10 [00:00<00:00, 215.15it/s, loss=1.49]\n"
     ]
    },
    {
     "name": "stdout",
     "output_type": "stream",
     "text": [
      "Epoch [127/5000]: Train loss: 1.4894, Valid loss: 1.1240\n"
     ]
    },
    {
     "name": "stderr",
     "output_type": "stream",
     "text": [
      "Epoch [128/5000]: 100%|████████████████████████████████████████████████████████████████████████████████████████████| 10/10 [00:00<00:00, 94.88it/s, loss=1.58]\n"
     ]
    },
    {
     "name": "stdout",
     "output_type": "stream",
     "text": [
      "Epoch [128/5000]: Train loss: 1.4512, Valid loss: 1.0278\n"
     ]
    },
    {
     "name": "stderr",
     "output_type": "stream",
     "text": [
      "Epoch [129/5000]: 100%|███████████████████████████████████████████████████████████████████████████████████████████| 10/10 [00:00<00:00, 216.32it/s, loss=1.43]\n"
     ]
    },
    {
     "name": "stdout",
     "output_type": "stream",
     "text": [
      "Epoch [129/5000]: Train loss: 1.4671, Valid loss: 1.1116\n"
     ]
    },
    {
     "name": "stderr",
     "output_type": "stream",
     "text": [
      "Epoch [130/5000]: 100%|███████████████████████████████████████████████████████████████████████████████████████████| 10/10 [00:00<00:00, 217.00it/s, loss=1.69]\n"
     ]
    },
    {
     "name": "stdout",
     "output_type": "stream",
     "text": [
      "Epoch [130/5000]: Train loss: 1.4808, Valid loss: 1.1053\n"
     ]
    },
    {
     "name": "stderr",
     "output_type": "stream",
     "text": [
      "Epoch [131/5000]: 100%|███████████████████████████████████████████████████████████████████████████████████████████| 10/10 [00:00<00:00, 217.36it/s, loss=1.42]\n"
     ]
    },
    {
     "name": "stdout",
     "output_type": "stream",
     "text": [
      "Epoch [131/5000]: Train loss: 1.4816, Valid loss: 1.0607\n"
     ]
    },
    {
     "name": "stderr",
     "output_type": "stream",
     "text": [
      "Epoch [132/5000]: 100%|████████████████████████████████████████████████████████████████████████████████████████████| 10/10 [00:00<00:00, 219.09it/s, loss=1.6]\n"
     ]
    },
    {
     "name": "stdout",
     "output_type": "stream",
     "text": [
      "Epoch [132/5000]: Train loss: 1.5005, Valid loss: 1.0544\n"
     ]
    },
    {
     "name": "stderr",
     "output_type": "stream",
     "text": [
      "Epoch [133/5000]: 100%|███████████████████████████████████████████████████████████████████████████████████████████| 10/10 [00:00<00:00, 219.14it/s, loss=1.49]\n"
     ]
    },
    {
     "name": "stdout",
     "output_type": "stream",
     "text": [
      "Epoch [133/5000]: Train loss: 1.4381, Valid loss: 1.0585\n"
     ]
    },
    {
     "name": "stderr",
     "output_type": "stream",
     "text": [
      "Epoch [134/5000]: 100%|████████████████████████████████████████████████████████████████████████████████████████████| 10/10 [00:00<00:00, 96.97it/s, loss=1.66]\n"
     ]
    },
    {
     "name": "stdout",
     "output_type": "stream",
     "text": [
      "Epoch [134/5000]: Train loss: 1.4761, Valid loss: 1.1226\n"
     ]
    },
    {
     "name": "stderr",
     "output_type": "stream",
     "text": [
      "Epoch [135/5000]: 100%|███████████████████████████████████████████████████████████████████████████████████████████| 10/10 [00:00<00:00, 221.10it/s, loss=1.32]\n"
     ]
    },
    {
     "name": "stdout",
     "output_type": "stream",
     "text": [
      "Epoch [135/5000]: Train loss: 1.4532, Valid loss: 1.0257\n"
     ]
    },
    {
     "name": "stderr",
     "output_type": "stream",
     "text": [
      "Epoch [136/5000]: 100%|███████████████████████████████████████████████████████████████████████████████████████████| 10/10 [00:00<00:00, 214.81it/s, loss=1.46]\n"
     ]
    },
    {
     "name": "stdout",
     "output_type": "stream",
     "text": [
      "Epoch [136/5000]: Train loss: 1.4629, Valid loss: 1.0577\n"
     ]
    },
    {
     "name": "stderr",
     "output_type": "stream",
     "text": [
      "Epoch [137/5000]: 100%|███████████████████████████████████████████████████████████████████████████████████████████| 10/10 [00:00<00:00, 217.62it/s, loss=1.51]\n"
     ]
    },
    {
     "name": "stdout",
     "output_type": "stream",
     "text": [
      "Epoch [137/5000]: Train loss: 1.4613, Valid loss: 1.0957\n"
     ]
    },
    {
     "name": "stderr",
     "output_type": "stream",
     "text": [
      "Epoch [138/5000]: 100%|████████████████████████████████████████████████████████████████████████████████████████████| 10/10 [00:00<00:00, 215.89it/s, loss=1.4]\n"
     ]
    },
    {
     "name": "stdout",
     "output_type": "stream",
     "text": [
      "Epoch [138/5000]: Train loss: 1.4434, Valid loss: 1.0714\n"
     ]
    },
    {
     "name": "stderr",
     "output_type": "stream",
     "text": [
      "Epoch [139/5000]: 100%|███████████████████████████████████████████████████████████████████████████████████████████| 10/10 [00:00<00:00, 216.27it/s, loss=1.58]\n"
     ]
    },
    {
     "name": "stdout",
     "output_type": "stream",
     "text": [
      "Epoch [139/5000]: Train loss: 1.4802, Valid loss: 1.0502\n"
     ]
    },
    {
     "name": "stderr",
     "output_type": "stream",
     "text": [
      "Epoch [140/5000]: 100%|████████████████████████████████████████████████████████████████████████████████████████████| 10/10 [00:00<00:00, 96.81it/s, loss=1.43]\n"
     ]
    },
    {
     "name": "stdout",
     "output_type": "stream",
     "text": [
      "Epoch [140/5000]: Train loss: 1.5047, Valid loss: 1.0777\n"
     ]
    },
    {
     "name": "stderr",
     "output_type": "stream",
     "text": [
      "Epoch [141/5000]: 100%|███████████████████████████████████████████████████████████████████████████████████████████| 10/10 [00:00<00:00, 218.75it/s, loss=1.56]\n"
     ]
    },
    {
     "name": "stdout",
     "output_type": "stream",
     "text": [
      "Epoch [141/5000]: Train loss: 1.4951, Valid loss: 1.1182\n"
     ]
    },
    {
     "name": "stderr",
     "output_type": "stream",
     "text": [
      "Epoch [142/5000]: 100%|███████████████████████████████████████████████████████████████████████████████████████████| 10/10 [00:00<00:00, 219.19it/s, loss=1.53]\n"
     ]
    },
    {
     "name": "stdout",
     "output_type": "stream",
     "text": [
      "Epoch [142/5000]: Train loss: 1.4624, Valid loss: 1.0146\n"
     ]
    },
    {
     "name": "stderr",
     "output_type": "stream",
     "text": [
      "Epoch [143/5000]: 100%|███████████████████████████████████████████████████████████████████████████████████████████| 10/10 [00:00<00:00, 220.05it/s, loss=1.64]\n"
     ]
    },
    {
     "name": "stdout",
     "output_type": "stream",
     "text": [
      "Epoch [143/5000]: Train loss: 1.4913, Valid loss: 1.0955\n"
     ]
    },
    {
     "name": "stderr",
     "output_type": "stream",
     "text": [
      "Epoch [144/5000]: 100%|███████████████████████████████████████████████████████████████████████████████████████████| 10/10 [00:00<00:00, 213.31it/s, loss=1.28]\n"
     ]
    },
    {
     "name": "stdout",
     "output_type": "stream",
     "text": [
      "Epoch [144/5000]: Train loss: 1.4803, Valid loss: 1.0520\n"
     ]
    },
    {
     "name": "stderr",
     "output_type": "stream",
     "text": [
      "Epoch [145/5000]: 100%|███████████████████████████████████████████████████████████████████████████████████████████| 10/10 [00:00<00:00, 219.37it/s, loss=1.38]\n"
     ]
    },
    {
     "name": "stdout",
     "output_type": "stream",
     "text": [
      "Epoch [145/5000]: Train loss: 1.4565, Valid loss: 1.1032\n"
     ]
    },
    {
     "name": "stderr",
     "output_type": "stream",
     "text": [
      "Epoch [146/5000]: 100%|████████████████████████████████████████████████████████████████████████████████████████████| 10/10 [00:00<00:00, 97.17it/s, loss=1.36]\n"
     ]
    },
    {
     "name": "stdout",
     "output_type": "stream",
     "text": [
      "Epoch [146/5000]: Train loss: 1.4615, Valid loss: 1.0879\n"
     ]
    },
    {
     "name": "stderr",
     "output_type": "stream",
     "text": [
      "Epoch [147/5000]: 100%|███████████████████████████████████████████████████████████████████████████████████████████| 10/10 [00:00<00:00, 219.94it/s, loss=1.37]\n"
     ]
    },
    {
     "name": "stdout",
     "output_type": "stream",
     "text": [
      "Epoch [147/5000]: Train loss: 1.4781, Valid loss: 1.0836\n"
     ]
    },
    {
     "name": "stderr",
     "output_type": "stream",
     "text": [
      "Epoch [148/5000]: 100%|███████████████████████████████████████████████████████████████████████████████████████████| 10/10 [00:00<00:00, 214.69it/s, loss=1.39]\n"
     ]
    },
    {
     "name": "stdout",
     "output_type": "stream",
     "text": [
      "Epoch [148/5000]: Train loss: 1.4691, Valid loss: 1.0695\n"
     ]
    },
    {
     "name": "stderr",
     "output_type": "stream",
     "text": [
      "Epoch [149/5000]: 100%|███████████████████████████████████████████████████████████████████████████████████████████| 10/10 [00:00<00:00, 215.16it/s, loss=1.42]\n"
     ]
    },
    {
     "name": "stdout",
     "output_type": "stream",
     "text": [
      "Epoch [149/5000]: Train loss: 1.4764, Valid loss: 1.0965\n"
     ]
    },
    {
     "name": "stderr",
     "output_type": "stream",
     "text": [
      "Epoch [150/5000]: 100%|███████████████████████████████████████████████████████████████████████████████████████████| 10/10 [00:00<00:00, 215.82it/s, loss=1.52]\n"
     ]
    },
    {
     "name": "stdout",
     "output_type": "stream",
     "text": [
      "Epoch [150/5000]: Train loss: 1.4567, Valid loss: 1.0345\n"
     ]
    },
    {
     "name": "stderr",
     "output_type": "stream",
     "text": [
      "Epoch [151/5000]: 100%|███████████████████████████████████████████████████████████████████████████████████████████| 10/10 [00:00<00:00, 214.96it/s, loss=1.71]\n"
     ]
    },
    {
     "name": "stdout",
     "output_type": "stream",
     "text": [
      "Epoch [151/5000]: Train loss: 1.4568, Valid loss: 1.0476\n"
     ]
    },
    {
     "name": "stderr",
     "output_type": "stream",
     "text": [
      "Epoch [152/5000]: 100%|█████████████████████████████████████████████████████████████████████████████████████████████| 10/10 [00:00<00:00, 93.89it/s, loss=1.5]\n"
     ]
    },
    {
     "name": "stdout",
     "output_type": "stream",
     "text": [
      "Epoch [152/5000]: Train loss: 1.4775, Valid loss: 1.0513\n"
     ]
    },
    {
     "name": "stderr",
     "output_type": "stream",
     "text": [
      "Epoch [153/5000]: 100%|████████████████████████████████████████████████████████████████████████████████████████████| 10/10 [00:00<00:00, 220.24it/s, loss=1.4]\n"
     ]
    },
    {
     "name": "stdout",
     "output_type": "stream",
     "text": [
      "Epoch [153/5000]: Train loss: 1.4666, Valid loss: 1.1382\n"
     ]
    },
    {
     "name": "stderr",
     "output_type": "stream",
     "text": [
      "Epoch [154/5000]: 100%|███████████████████████████████████████████████████████████████████████████████████████████| 10/10 [00:00<00:00, 211.86it/s, loss=1.37]\n"
     ]
    },
    {
     "name": "stdout",
     "output_type": "stream",
     "text": [
      "Epoch [154/5000]: Train loss: 1.4703, Valid loss: 1.0442\n"
     ]
    },
    {
     "name": "stderr",
     "output_type": "stream",
     "text": [
      "Epoch [155/5000]: 100%|███████████████████████████████████████████████████████████████████████████████████████████| 10/10 [00:00<00:00, 218.57it/s, loss=1.56]\n"
     ]
    },
    {
     "name": "stdout",
     "output_type": "stream",
     "text": [
      "Epoch [155/5000]: Train loss: 1.4651, Valid loss: 1.0638\n"
     ]
    },
    {
     "name": "stderr",
     "output_type": "stream",
     "text": [
      "Epoch [156/5000]: 100%|███████████████████████████████████████████████████████████████████████████████████████████| 10/10 [00:00<00:00, 217.62it/s, loss=1.56]\n"
     ]
    },
    {
     "name": "stdout",
     "output_type": "stream",
     "text": [
      "Epoch [156/5000]: Train loss: 1.4130, Valid loss: 1.1172\n"
     ]
    },
    {
     "name": "stderr",
     "output_type": "stream",
     "text": [
      "Epoch [157/5000]: 100%|███████████████████████████████████████████████████████████████████████████████████████████| 10/10 [00:00<00:00, 219.35it/s, loss=1.61]\n"
     ]
    },
    {
     "name": "stdout",
     "output_type": "stream",
     "text": [
      "Epoch [157/5000]: Train loss: 1.4510, Valid loss: 1.0610\n"
     ]
    },
    {
     "name": "stderr",
     "output_type": "stream",
     "text": [
      "Epoch [158/5000]: 100%|████████████████████████████████████████████████████████████████████████████████████████████| 10/10 [00:00<00:00, 96.73it/s, loss=1.53]\n"
     ]
    },
    {
     "name": "stdout",
     "output_type": "stream",
     "text": [
      "Epoch [158/5000]: Train loss: 1.4650, Valid loss: 1.0599\n"
     ]
    },
    {
     "name": "stderr",
     "output_type": "stream",
     "text": [
      "Epoch [159/5000]: 100%|███████████████████████████████████████████████████████████████████████████████████████████| 10/10 [00:00<00:00, 212.46it/s, loss=1.36]\n"
     ]
    },
    {
     "name": "stdout",
     "output_type": "stream",
     "text": [
      "Epoch [159/5000]: Train loss: 1.5024, Valid loss: 1.1554\n"
     ]
    },
    {
     "name": "stderr",
     "output_type": "stream",
     "text": [
      "Epoch [160/5000]: 100%|███████████████████████████████████████████████████████████████████████████████████████████| 10/10 [00:00<00:00, 218.17it/s, loss=1.41]\n"
     ]
    },
    {
     "name": "stdout",
     "output_type": "stream",
     "text": [
      "Epoch [160/5000]: Train loss: 1.4683, Valid loss: 1.1365\n"
     ]
    },
    {
     "name": "stderr",
     "output_type": "stream",
     "text": [
      "Epoch [161/5000]: 100%|███████████████████████████████████████████████████████████████████████████████████████████| 10/10 [00:00<00:00, 218.68it/s, loss=1.15]\n"
     ]
    },
    {
     "name": "stdout",
     "output_type": "stream",
     "text": [
      "Epoch [161/5000]: Train loss: 1.4560, Valid loss: 1.0790\n"
     ]
    },
    {
     "name": "stderr",
     "output_type": "stream",
     "text": [
      "Epoch [162/5000]: 100%|███████████████████████████████████████████████████████████████████████████████████████████| 10/10 [00:00<00:00, 217.23it/s, loss=1.37]\n"
     ]
    },
    {
     "name": "stdout",
     "output_type": "stream",
     "text": [
      "Epoch [162/5000]: Train loss: 1.4362, Valid loss: 1.1165\n"
     ]
    },
    {
     "name": "stderr",
     "output_type": "stream",
     "text": [
      "Epoch [163/5000]: 100%|███████████████████████████████████████████████████████████████████████████████████████████| 10/10 [00:00<00:00, 218.57it/s, loss=1.48]\n"
     ]
    },
    {
     "name": "stdout",
     "output_type": "stream",
     "text": [
      "Epoch [163/5000]: Train loss: 1.4775, Valid loss: 1.1175\n"
     ]
    },
    {
     "name": "stderr",
     "output_type": "stream",
     "text": [
      "Epoch [164/5000]: 100%|████████████████████████████████████████████████████████████████████████████████████████████| 10/10 [00:00<00:00, 96.93it/s, loss=1.53]\n"
     ]
    },
    {
     "name": "stdout",
     "output_type": "stream",
     "text": [
      "Epoch [164/5000]: Train loss: 1.4261, Valid loss: 1.0783\n"
     ]
    },
    {
     "name": "stderr",
     "output_type": "stream",
     "text": [
      "Epoch [165/5000]: 100%|████████████████████████████████████████████████████████████████████████████████████████████| 10/10 [00:00<00:00, 212.53it/s, loss=1.3]\n"
     ]
    },
    {
     "name": "stdout",
     "output_type": "stream",
     "text": [
      "Epoch [165/5000]: Train loss: 1.4426, Valid loss: 1.0112\n"
     ]
    },
    {
     "name": "stderr",
     "output_type": "stream",
     "text": [
      "Epoch [166/5000]: 100%|███████████████████████████████████████████████████████████████████████████████████████████| 10/10 [00:00<00:00, 217.47it/s, loss=1.33]\n"
     ]
    },
    {
     "name": "stdout",
     "output_type": "stream",
     "text": [
      "Epoch [166/5000]: Train loss: 1.4193, Valid loss: 1.0567\n"
     ]
    },
    {
     "name": "stderr",
     "output_type": "stream",
     "text": [
      "Epoch [167/5000]: 100%|████████████████████████████████████████████████████████████████████████████████████████████| 10/10 [00:00<00:00, 217.99it/s, loss=1.4]\n"
     ]
    },
    {
     "name": "stdout",
     "output_type": "stream",
     "text": [
      "Epoch [167/5000]: Train loss: 1.3825, Valid loss: 1.0765\n"
     ]
    },
    {
     "name": "stderr",
     "output_type": "stream",
     "text": [
      "Epoch [168/5000]: 100%|███████████████████████████████████████████████████████████████████████████████████████████| 10/10 [00:00<00:00, 218.31it/s, loss=1.37]\n"
     ]
    },
    {
     "name": "stdout",
     "output_type": "stream",
     "text": [
      "Epoch [168/5000]: Train loss: 1.3980, Valid loss: 1.0502\n"
     ]
    },
    {
     "name": "stderr",
     "output_type": "stream",
     "text": [
      "Epoch [169/5000]: 100%|███████████████████████████████████████████████████████████████████████████████████████████| 10/10 [00:00<00:00, 217.56it/s, loss=1.44]\n"
     ]
    },
    {
     "name": "stdout",
     "output_type": "stream",
     "text": [
      "Epoch [169/5000]: Train loss: 1.4325, Valid loss: 1.0921\n"
     ]
    },
    {
     "name": "stderr",
     "output_type": "stream",
     "text": [
      "Epoch [170/5000]: 100%|████████████████████████████████████████████████████████████████████████████████████████████| 10/10 [00:00<00:00, 96.91it/s, loss=1.53]\n"
     ]
    },
    {
     "name": "stdout",
     "output_type": "stream",
     "text": [
      "Epoch [170/5000]: Train loss: 1.4485, Valid loss: 1.0732\n"
     ]
    },
    {
     "name": "stderr",
     "output_type": "stream",
     "text": [
      "Epoch [171/5000]: 100%|███████████████████████████████████████████████████████████████████████████████████████████| 10/10 [00:00<00:00, 212.47it/s, loss=1.44]\n"
     ]
    },
    {
     "name": "stdout",
     "output_type": "stream",
     "text": [
      "Epoch [171/5000]: Train loss: 1.4299, Valid loss: 1.1334\n"
     ]
    },
    {
     "name": "stderr",
     "output_type": "stream",
     "text": [
      "Epoch [172/5000]: 100%|███████████████████████████████████████████████████████████████████████████████████████████| 10/10 [00:00<00:00, 216.33it/s, loss=1.62]\n"
     ]
    },
    {
     "name": "stdout",
     "output_type": "stream",
     "text": [
      "Epoch [172/5000]: Train loss: 1.4582, Valid loss: 1.0228\n"
     ]
    },
    {
     "name": "stderr",
     "output_type": "stream",
     "text": [
      "Epoch [173/5000]: 100%|███████████████████████████████████████████████████████████████████████████████████████████| 10/10 [00:00<00:00, 217.71it/s, loss=1.42]\n"
     ]
    },
    {
     "name": "stdout",
     "output_type": "stream",
     "text": [
      "Epoch [173/5000]: Train loss: 1.4239, Valid loss: 1.0374\n"
     ]
    },
    {
     "name": "stderr",
     "output_type": "stream",
     "text": [
      "Epoch [174/5000]: 100%|███████████████████████████████████████████████████████████████████████████████████████████| 10/10 [00:00<00:00, 217.46it/s, loss=1.36]\n"
     ]
    },
    {
     "name": "stdout",
     "output_type": "stream",
     "text": [
      "Epoch [174/5000]: Train loss: 1.4606, Valid loss: 1.0599\n"
     ]
    },
    {
     "name": "stderr",
     "output_type": "stream",
     "text": [
      "Epoch [175/5000]: 100%|███████████████████████████████████████████████████████████████████████████████████████████| 10/10 [00:00<00:00, 218.03it/s, loss=1.25]\n"
     ]
    },
    {
     "name": "stdout",
     "output_type": "stream",
     "text": [
      "Epoch [175/5000]: Train loss: 1.4435, Valid loss: 1.0552\n"
     ]
    },
    {
     "name": "stderr",
     "output_type": "stream",
     "text": [
      "Epoch [176/5000]: 100%|████████████████████████████████████████████████████████████████████████████████████████████| 10/10 [00:00<00:00, 97.05it/s, loss=1.47]\n"
     ]
    },
    {
     "name": "stdout",
     "output_type": "stream",
     "text": [
      "Epoch [176/5000]: Train loss: 1.4156, Valid loss: 1.0299\n"
     ]
    },
    {
     "name": "stderr",
     "output_type": "stream",
     "text": [
      "Epoch [177/5000]: 100%|███████████████████████████████████████████████████████████████████████████████████████████| 10/10 [00:00<00:00, 216.88it/s, loss=1.47]\n"
     ]
    },
    {
     "name": "stdout",
     "output_type": "stream",
     "text": [
      "Epoch [177/5000]: Train loss: 1.4196, Valid loss: 1.0567\n"
     ]
    },
    {
     "name": "stderr",
     "output_type": "stream",
     "text": [
      "Epoch [178/5000]: 100%|███████████████████████████████████████████████████████████████████████████████████████████| 10/10 [00:00<00:00, 213.09it/s, loss=1.45]\n"
     ]
    },
    {
     "name": "stdout",
     "output_type": "stream",
     "text": [
      "Epoch [178/5000]: Train loss: 1.4434, Valid loss: 1.0727\n"
     ]
    },
    {
     "name": "stderr",
     "output_type": "stream",
     "text": [
      "Epoch [179/5000]: 100%|███████████████████████████████████████████████████████████████████████████████████████████| 10/10 [00:00<00:00, 219.28it/s, loss=1.39]\n"
     ]
    },
    {
     "name": "stdout",
     "output_type": "stream",
     "text": [
      "Epoch [179/5000]: Train loss: 1.4382, Valid loss: 1.0794\n"
     ]
    },
    {
     "name": "stderr",
     "output_type": "stream",
     "text": [
      "Epoch [180/5000]: 100%|███████████████████████████████████████████████████████████████████████████████████████████| 10/10 [00:00<00:00, 218.02it/s, loss=1.48]\n"
     ]
    },
    {
     "name": "stdout",
     "output_type": "stream",
     "text": [
      "Epoch [180/5000]: Train loss: 1.4347, Valid loss: 1.0800\n"
     ]
    },
    {
     "name": "stderr",
     "output_type": "stream",
     "text": [
      "Epoch [181/5000]: 100%|███████████████████████████████████████████████████████████████████████████████████████████| 10/10 [00:00<00:00, 220.22it/s, loss=1.51]\n"
     ]
    },
    {
     "name": "stdout",
     "output_type": "stream",
     "text": [
      "Epoch [181/5000]: Train loss: 1.4722, Valid loss: 1.0642\n"
     ]
    },
    {
     "name": "stderr",
     "output_type": "stream",
     "text": [
      "Epoch [182/5000]: 100%|████████████████████████████████████████████████████████████████████████████████████████████| 10/10 [00:00<00:00, 97.52it/s, loss=1.43]\n"
     ]
    },
    {
     "name": "stdout",
     "output_type": "stream",
     "text": [
      "Epoch [182/5000]: Train loss: 1.4251, Valid loss: 1.1174\n"
     ]
    },
    {
     "name": "stderr",
     "output_type": "stream",
     "text": [
      "Epoch [183/5000]: 100%|███████████████████████████████████████████████████████████████████████████████████████████| 10/10 [00:00<00:00, 217.15it/s, loss=1.36]\n"
     ]
    },
    {
     "name": "stdout",
     "output_type": "stream",
     "text": [
      "Epoch [183/5000]: Train loss: 1.4328, Valid loss: 1.0921\n"
     ]
    },
    {
     "name": "stderr",
     "output_type": "stream",
     "text": [
      "Epoch [184/5000]: 100%|███████████████████████████████████████████████████████████████████████████████████████████| 10/10 [00:00<00:00, 205.43it/s, loss=1.16]\n"
     ]
    },
    {
     "name": "stdout",
     "output_type": "stream",
     "text": [
      "Epoch [184/5000]: Train loss: 1.4341, Valid loss: 1.0574\n"
     ]
    },
    {
     "name": "stderr",
     "output_type": "stream",
     "text": [
      "Epoch [185/5000]: 100%|███████████████████████████████████████████████████████████████████████████████████████████| 10/10 [00:00<00:00, 213.89it/s, loss=1.48]\n"
     ]
    },
    {
     "name": "stdout",
     "output_type": "stream",
     "text": [
      "Epoch [185/5000]: Train loss: 1.4359, Valid loss: 1.1135\n"
     ]
    },
    {
     "name": "stderr",
     "output_type": "stream",
     "text": [
      "Epoch [186/5000]: 100%|███████████████████████████████████████████████████████████████████████████████████████████| 10/10 [00:00<00:00, 217.23it/s, loss=1.51]\n"
     ]
    },
    {
     "name": "stdout",
     "output_type": "stream",
     "text": [
      "Epoch [186/5000]: Train loss: 1.3914, Valid loss: 1.0711\n"
     ]
    },
    {
     "name": "stderr",
     "output_type": "stream",
     "text": [
      "Epoch [187/5000]: 100%|███████████████████████████████████████████████████████████████████████████████████████████| 10/10 [00:00<00:00, 218.35it/s, loss=1.42]\n"
     ]
    },
    {
     "name": "stdout",
     "output_type": "stream",
     "text": [
      "Epoch [187/5000]: Train loss: 1.4190, Valid loss: 1.1087\n"
     ]
    },
    {
     "name": "stderr",
     "output_type": "stream",
     "text": [
      "Epoch [188/5000]: 100%|████████████████████████████████████████████████████████████████████████████████████████████| 10/10 [00:00<00:00, 96.78it/s, loss=1.33]\n"
     ]
    },
    {
     "name": "stdout",
     "output_type": "stream",
     "text": [
      "Epoch [188/5000]: Train loss: 1.4339, Valid loss: 1.0650\n"
     ]
    },
    {
     "name": "stderr",
     "output_type": "stream",
     "text": [
      "Epoch [189/5000]: 100%|███████████████████████████████████████████████████████████████████████████████████████████| 10/10 [00:00<00:00, 213.29it/s, loss=1.55]\n"
     ]
    },
    {
     "name": "stdout",
     "output_type": "stream",
     "text": [
      "Epoch [189/5000]: Train loss: 1.4437, Valid loss: 1.0310\n"
     ]
    },
    {
     "name": "stderr",
     "output_type": "stream",
     "text": [
      "Epoch [190/5000]: 100%|███████████████████████████████████████████████████████████████████████████████████████████| 10/10 [00:00<00:00, 215.28it/s, loss=1.48]\n"
     ]
    },
    {
     "name": "stdout",
     "output_type": "stream",
     "text": [
      "Epoch [190/5000]: Train loss: 1.3955, Valid loss: 1.0689\n"
     ]
    },
    {
     "name": "stderr",
     "output_type": "stream",
     "text": [
      "Epoch [191/5000]: 100%|███████████████████████████████████████████████████████████████████████████████████████████| 10/10 [00:00<00:00, 219.70it/s, loss=1.34]\n"
     ]
    },
    {
     "name": "stdout",
     "output_type": "stream",
     "text": [
      "Epoch [191/5000]: Train loss: 1.4134, Valid loss: 1.0314\n"
     ]
    },
    {
     "name": "stderr",
     "output_type": "stream",
     "text": [
      "Epoch [192/5000]: 100%|███████████████████████████████████████████████████████████████████████████████████████████| 10/10 [00:00<00:00, 217.18it/s, loss=1.49]\n"
     ]
    },
    {
     "name": "stdout",
     "output_type": "stream",
     "text": [
      "Epoch [192/5000]: Train loss: 1.4503, Valid loss: 1.0277\n"
     ]
    },
    {
     "name": "stderr",
     "output_type": "stream",
     "text": [
      "Epoch [193/5000]: 100%|███████████████████████████████████████████████████████████████████████████████████████████| 10/10 [00:00<00:00, 215.07it/s, loss=1.43]\n"
     ]
    },
    {
     "name": "stdout",
     "output_type": "stream",
     "text": [
      "Epoch [193/5000]: Train loss: 1.4183, Valid loss: 1.0938\n"
     ]
    },
    {
     "name": "stderr",
     "output_type": "stream",
     "text": [
      "Epoch [194/5000]: 100%|████████████████████████████████████████████████████████████████████████████████████████████| 10/10 [00:00<00:00, 95.59it/s, loss=1.41]\n"
     ]
    },
    {
     "name": "stdout",
     "output_type": "stream",
     "text": [
      "Epoch [194/5000]: Train loss: 1.4319, Valid loss: 1.1934\n"
     ]
    },
    {
     "name": "stderr",
     "output_type": "stream",
     "text": [
      "Epoch [195/5000]: 100%|███████████████████████████████████████████████████████████████████████████████████████████| 10/10 [00:00<00:00, 218.50it/s, loss=1.72]\n"
     ]
    },
    {
     "name": "stdout",
     "output_type": "stream",
     "text": [
      "Epoch [195/5000]: Train loss: 1.4145, Valid loss: 1.0751\n"
     ]
    },
    {
     "name": "stderr",
     "output_type": "stream",
     "text": [
      "Epoch [196/5000]: 100%|███████████████████████████████████████████████████████████████████████████████████████████| 10/10 [00:00<00:00, 216.56it/s, loss=1.49]\n"
     ]
    },
    {
     "name": "stdout",
     "output_type": "stream",
     "text": [
      "Epoch [196/5000]: Train loss: 1.4471, Valid loss: 1.0618\n"
     ]
    },
    {
     "name": "stderr",
     "output_type": "stream",
     "text": [
      "Epoch [197/5000]: 100%|███████████████████████████████████████████████████████████████████████████████████████████| 10/10 [00:00<00:00, 218.43it/s, loss=1.45]\n"
     ]
    },
    {
     "name": "stdout",
     "output_type": "stream",
     "text": [
      "Epoch [197/5000]: Train loss: 1.4331, Valid loss: 1.0320\n"
     ]
    },
    {
     "name": "stderr",
     "output_type": "stream",
     "text": [
      "Epoch [198/5000]: 100%|███████████████████████████████████████████████████████████████████████████████████████████| 10/10 [00:00<00:00, 217.56it/s, loss=1.34]\n"
     ]
    },
    {
     "name": "stdout",
     "output_type": "stream",
     "text": [
      "Epoch [198/5000]: Train loss: 1.4121, Valid loss: 1.1024\n"
     ]
    },
    {
     "name": "stderr",
     "output_type": "stream",
     "text": [
      "Epoch [199/5000]: 100%|████████████████████████████████████████████████████████████████████████████████████████████| 10/10 [00:00<00:00, 220.34it/s, loss=1.4]\n"
     ]
    },
    {
     "name": "stdout",
     "output_type": "stream",
     "text": [
      "Epoch [199/5000]: Train loss: 1.4155, Valid loss: 1.0377\n"
     ]
    },
    {
     "name": "stderr",
     "output_type": "stream",
     "text": [
      "Epoch [200/5000]: 100%|████████████████████████████████████████████████████████████████████████████████████████████| 10/10 [00:00<00:00, 92.26it/s, loss=1.31]\n"
     ]
    },
    {
     "name": "stdout",
     "output_type": "stream",
     "text": [
      "Epoch [200/5000]: Train loss: 1.4020, Valid loss: 1.0668\n"
     ]
    },
    {
     "name": "stderr",
     "output_type": "stream",
     "text": [
      "Epoch [201/5000]: 100%|███████████████████████████████████████████████████████████████████████████████████████████| 10/10 [00:00<00:00, 218.40it/s, loss=1.47]\n"
     ]
    },
    {
     "name": "stdout",
     "output_type": "stream",
     "text": [
      "Epoch [201/5000]: Train loss: 1.4152, Valid loss: 1.1232\n"
     ]
    },
    {
     "name": "stderr",
     "output_type": "stream",
     "text": [
      "Epoch [202/5000]: 100%|███████████████████████████████████████████████████████████████████████████████████████████| 10/10 [00:00<00:00, 219.63it/s, loss=1.45]\n"
     ]
    },
    {
     "name": "stdout",
     "output_type": "stream",
     "text": [
      "Epoch [202/5000]: Train loss: 1.4353, Valid loss: 1.0694\n"
     ]
    },
    {
     "name": "stderr",
     "output_type": "stream",
     "text": [
      "Epoch [203/5000]: 100%|████████████████████████████████████████████████████████████████████████████████████████████| 10/10 [00:00<00:00, 218.43it/s, loss=1.4]\n"
     ]
    },
    {
     "name": "stdout",
     "output_type": "stream",
     "text": [
      "Epoch [203/5000]: Train loss: 1.4108, Valid loss: 1.1319\n"
     ]
    },
    {
     "name": "stderr",
     "output_type": "stream",
     "text": [
      "Epoch [204/5000]: 100%|███████████████████████████████████████████████████████████████████████████████████████████| 10/10 [00:00<00:00, 218.75it/s, loss=1.46]\n"
     ]
    },
    {
     "name": "stdout",
     "output_type": "stream",
     "text": [
      "Epoch [204/5000]: Train loss: 1.3963, Valid loss: 1.0989\n"
     ]
    },
    {
     "name": "stderr",
     "output_type": "stream",
     "text": [
      "Epoch [205/5000]: 100%|███████████████████████████████████████████████████████████████████████████████████████████| 10/10 [00:00<00:00, 219.47it/s, loss=1.25]\n"
     ]
    },
    {
     "name": "stdout",
     "output_type": "stream",
     "text": [
      "Epoch [205/5000]: Train loss: 1.3671, Valid loss: 1.0258\n"
     ]
    },
    {
     "name": "stderr",
     "output_type": "stream",
     "text": [
      "Epoch [206/5000]: 100%|████████████████████████████████████████████████████████████████████████████████████████████| 10/10 [00:00<00:00, 96.96it/s, loss=1.24]\n"
     ]
    },
    {
     "name": "stdout",
     "output_type": "stream",
     "text": [
      "Epoch [206/5000]: Train loss: 1.3836, Valid loss: 1.0381\n"
     ]
    },
    {
     "name": "stderr",
     "output_type": "stream",
     "text": [
      "Epoch [207/5000]: 100%|███████████████████████████████████████████████████████████████████████████████████████████| 10/10 [00:00<00:00, 219.58it/s, loss=1.38]\n"
     ]
    },
    {
     "name": "stdout",
     "output_type": "stream",
     "text": [
      "Epoch [207/5000]: Train loss: 1.3863, Valid loss: 1.0736\n"
     ]
    },
    {
     "name": "stderr",
     "output_type": "stream",
     "text": [
      "Epoch [208/5000]: 100%|███████████████████████████████████████████████████████████████████████████████████████████| 10/10 [00:00<00:00, 217.79it/s, loss=1.33]\n"
     ]
    },
    {
     "name": "stdout",
     "output_type": "stream",
     "text": [
      "Epoch [208/5000]: Train loss: 1.4125, Valid loss: 1.0705\n"
     ]
    },
    {
     "name": "stderr",
     "output_type": "stream",
     "text": [
      "Epoch [209/5000]: 100%|███████████████████████████████████████████████████████████████████████████████████████████| 10/10 [00:00<00:00, 218.02it/s, loss=1.57]\n"
     ]
    },
    {
     "name": "stdout",
     "output_type": "stream",
     "text": [
      "Epoch [209/5000]: Train loss: 1.4341, Valid loss: 1.0801\n"
     ]
    },
    {
     "name": "stderr",
     "output_type": "stream",
     "text": [
      "Epoch [210/5000]: 100%|███████████████████████████████████████████████████████████████████████████████████████████| 10/10 [00:00<00:00, 219.00it/s, loss=1.39]\n"
     ]
    },
    {
     "name": "stdout",
     "output_type": "stream",
     "text": [
      "Epoch [210/5000]: Train loss: 1.4231, Valid loss: 1.1019\n"
     ]
    },
    {
     "name": "stderr",
     "output_type": "stream",
     "text": [
      "Epoch [211/5000]: 100%|███████████████████████████████████████████████████████████████████████████████████████████| 10/10 [00:00<00:00, 220.10it/s, loss=1.33]\n"
     ]
    },
    {
     "name": "stdout",
     "output_type": "stream",
     "text": [
      "Epoch [211/5000]: Train loss: 1.3984, Valid loss: 1.0927\n"
     ]
    },
    {
     "name": "stderr",
     "output_type": "stream",
     "text": [
      "Epoch [212/5000]: 100%|████████████████████████████████████████████████████████████████████████████████████████████| 10/10 [00:00<00:00, 96.79it/s, loss=1.32]\n"
     ]
    },
    {
     "name": "stdout",
     "output_type": "stream",
     "text": [
      "Epoch [212/5000]: Train loss: 1.4033, Valid loss: 1.1025\n"
     ]
    },
    {
     "name": "stderr",
     "output_type": "stream",
     "text": [
      "Epoch [213/5000]: 100%|███████████████████████████████████████████████████████████████████████████████████████████| 10/10 [00:00<00:00, 218.39it/s, loss=1.34]\n"
     ]
    },
    {
     "name": "stdout",
     "output_type": "stream",
     "text": [
      "Epoch [213/5000]: Train loss: 1.3883, Valid loss: 1.0089\n"
     ]
    },
    {
     "name": "stderr",
     "output_type": "stream",
     "text": [
      "Epoch [214/5000]: 100%|███████████████████████████████████████████████████████████████████████████████████████████| 10/10 [00:00<00:00, 219.90it/s, loss=1.35]\n"
     ]
    },
    {
     "name": "stdout",
     "output_type": "stream",
     "text": [
      "Epoch [214/5000]: Train loss: 1.4050, Valid loss: 0.9979\n"
     ]
    },
    {
     "name": "stderr",
     "output_type": "stream",
     "text": [
      "Epoch [215/5000]: 100%|███████████████████████████████████████████████████████████████████████████████████████████| 10/10 [00:00<00:00, 220.61it/s, loss=1.35]\n"
     ]
    },
    {
     "name": "stdout",
     "output_type": "stream",
     "text": [
      "Epoch [215/5000]: Train loss: 1.4086, Valid loss: 1.0258\n"
     ]
    },
    {
     "name": "stderr",
     "output_type": "stream",
     "text": [
      "Epoch [216/5000]: 100%|███████████████████████████████████████████████████████████████████████████████████████████| 10/10 [00:00<00:00, 218.23it/s, loss=1.42]\n"
     ]
    },
    {
     "name": "stdout",
     "output_type": "stream",
     "text": [
      "Epoch [216/5000]: Train loss: 1.4179, Valid loss: 1.0669\n"
     ]
    },
    {
     "name": "stderr",
     "output_type": "stream",
     "text": [
      "Epoch [217/5000]: 100%|███████████████████████████████████████████████████████████████████████████████████████████| 10/10 [00:00<00:00, 219.03it/s, loss=1.52]\n"
     ]
    },
    {
     "name": "stdout",
     "output_type": "stream",
     "text": [
      "Epoch [217/5000]: Train loss: 1.4028, Valid loss: 1.1244\n"
     ]
    },
    {
     "name": "stderr",
     "output_type": "stream",
     "text": [
      "Epoch [218/5000]: 100%|████████████████████████████████████████████████████████████████████████████████████████████| 10/10 [00:00<00:00, 96.93it/s, loss=1.56]\n"
     ]
    },
    {
     "name": "stdout",
     "output_type": "stream",
     "text": [
      "Epoch [218/5000]: Train loss: 1.3850, Valid loss: 1.0536\n"
     ]
    },
    {
     "name": "stderr",
     "output_type": "stream",
     "text": [
      "Epoch [219/5000]: 100%|████████████████████████████████████████████████████████████████████████████████████████████| 10/10 [00:00<00:00, 219.01it/s, loss=1.4]\n"
     ]
    },
    {
     "name": "stdout",
     "output_type": "stream",
     "text": [
      "Epoch [219/5000]: Train loss: 1.3930, Valid loss: 1.0386\n"
     ]
    },
    {
     "name": "stderr",
     "output_type": "stream",
     "text": [
      "Epoch [220/5000]: 100%|███████████████████████████████████████████████████████████████████████████████████████████| 10/10 [00:00<00:00, 218.01it/s, loss=1.29]\n"
     ]
    },
    {
     "name": "stdout",
     "output_type": "stream",
     "text": [
      "Epoch [220/5000]: Train loss: 1.3874, Valid loss: 1.0721\n"
     ]
    },
    {
     "name": "stderr",
     "output_type": "stream",
     "text": [
      "Epoch [221/5000]: 100%|███████████████████████████████████████████████████████████████████████████████████████████| 10/10 [00:00<00:00, 216.59it/s, loss=1.32]\n"
     ]
    },
    {
     "name": "stdout",
     "output_type": "stream",
     "text": [
      "Epoch [221/5000]: Train loss: 1.3915, Valid loss: 1.0592\n"
     ]
    },
    {
     "name": "stderr",
     "output_type": "stream",
     "text": [
      "Epoch [222/5000]: 100%|████████████████████████████████████████████████████████████████████████████████████████████| 10/10 [00:00<00:00, 213.62it/s, loss=1.3]\n"
     ]
    },
    {
     "name": "stdout",
     "output_type": "stream",
     "text": [
      "Epoch [222/5000]: Train loss: 1.3771, Valid loss: 1.1033\n"
     ]
    },
    {
     "name": "stderr",
     "output_type": "stream",
     "text": [
      "Epoch [223/5000]: 100%|████████████████████████████████████████████████████████████████████████████████████████████| 10/10 [00:00<00:00, 220.61it/s, loss=1.6]\n"
     ]
    },
    {
     "name": "stdout",
     "output_type": "stream",
     "text": [
      "Epoch [223/5000]: Train loss: 1.4329, Valid loss: 1.0761\n"
     ]
    },
    {
     "name": "stderr",
     "output_type": "stream",
     "text": [
      "Epoch [224/5000]: 100%|████████████████████████████████████████████████████████████████████████████████████████████| 10/10 [00:00<00:00, 97.16it/s, loss=1.62]\n"
     ]
    },
    {
     "name": "stdout",
     "output_type": "stream",
     "text": [
      "Epoch [224/5000]: Train loss: 1.4106, Valid loss: 1.1052\n"
     ]
    },
    {
     "name": "stderr",
     "output_type": "stream",
     "text": [
      "Epoch [225/5000]: 100%|███████████████████████████████████████████████████████████████████████████████████████████| 10/10 [00:00<00:00, 216.69it/s, loss=1.34]\n"
     ]
    },
    {
     "name": "stdout",
     "output_type": "stream",
     "text": [
      "Epoch [225/5000]: Train loss: 1.3691, Valid loss: 1.0659\n"
     ]
    },
    {
     "name": "stderr",
     "output_type": "stream",
     "text": [
      "Epoch [226/5000]: 100%|███████████████████████████████████████████████████████████████████████████████████████████| 10/10 [00:00<00:00, 214.22it/s, loss=1.23]\n"
     ]
    },
    {
     "name": "stdout",
     "output_type": "stream",
     "text": [
      "Epoch [226/5000]: Train loss: 1.3941, Valid loss: 1.0318\n"
     ]
    },
    {
     "name": "stderr",
     "output_type": "stream",
     "text": [
      "Epoch [227/5000]: 100%|███████████████████████████████████████████████████████████████████████████████████████████| 10/10 [00:00<00:00, 219.47it/s, loss=1.44]\n"
     ]
    },
    {
     "name": "stdout",
     "output_type": "stream",
     "text": [
      "Epoch [227/5000]: Train loss: 1.4108, Valid loss: 1.0529\n"
     ]
    },
    {
     "name": "stderr",
     "output_type": "stream",
     "text": [
      "Epoch [228/5000]: 100%|███████████████████████████████████████████████████████████████████████████████████████████| 10/10 [00:00<00:00, 220.08it/s, loss=1.38]\n"
     ]
    },
    {
     "name": "stdout",
     "output_type": "stream",
     "text": [
      "Epoch [228/5000]: Train loss: 1.3960, Valid loss: 1.0650\n"
     ]
    },
    {
     "name": "stderr",
     "output_type": "stream",
     "text": [
      "Epoch [229/5000]: 100%|███████████████████████████████████████████████████████████████████████████████████████████| 10/10 [00:00<00:00, 219.38it/s, loss=1.31]\n"
     ]
    },
    {
     "name": "stdout",
     "output_type": "stream",
     "text": [
      "Epoch [229/5000]: Train loss: 1.3896, Valid loss: 1.0517\n"
     ]
    },
    {
     "name": "stderr",
     "output_type": "stream",
     "text": [
      "Epoch [230/5000]: 100%|████████████████████████████████████████████████████████████████████████████████████████████| 10/10 [00:00<00:00, 96.48it/s, loss=1.18]\n"
     ]
    },
    {
     "name": "stdout",
     "output_type": "stream",
     "text": [
      "Epoch [230/5000]: Train loss: 1.3979, Valid loss: 1.0604\n"
     ]
    },
    {
     "name": "stderr",
     "output_type": "stream",
     "text": [
      "Epoch [231/5000]: 100%|███████████████████████████████████████████████████████████████████████████████████████████| 10/10 [00:00<00:00, 217.99it/s, loss=1.26]\n"
     ]
    },
    {
     "name": "stdout",
     "output_type": "stream",
     "text": [
      "Epoch [231/5000]: Train loss: 1.3831, Valid loss: 1.0488\n"
     ]
    },
    {
     "name": "stderr",
     "output_type": "stream",
     "text": [
      "Epoch [232/5000]: 100%|███████████████████████████████████████████████████████████████████████████████████████████| 10/10 [00:00<00:00, 217.83it/s, loss=1.37]\n"
     ]
    },
    {
     "name": "stdout",
     "output_type": "stream",
     "text": [
      "Epoch [232/5000]: Train loss: 1.3986, Valid loss: 1.0747\n"
     ]
    },
    {
     "name": "stderr",
     "output_type": "stream",
     "text": [
      "Epoch [233/5000]: 100%|███████████████████████████████████████████████████████████████████████████████████████████| 10/10 [00:00<00:00, 215.99it/s, loss=1.62]\n"
     ]
    },
    {
     "name": "stdout",
     "output_type": "stream",
     "text": [
      "Epoch [233/5000]: Train loss: 1.4015, Valid loss: 1.1089\n"
     ]
    },
    {
     "name": "stderr",
     "output_type": "stream",
     "text": [
      "Epoch [234/5000]: 100%|███████████████████████████████████████████████████████████████████████████████████████████| 10/10 [00:00<00:00, 218.06it/s, loss=1.33]\n"
     ]
    },
    {
     "name": "stdout",
     "output_type": "stream",
     "text": [
      "Epoch [234/5000]: Train loss: 1.4101, Valid loss: 1.1073\n"
     ]
    },
    {
     "name": "stderr",
     "output_type": "stream",
     "text": [
      "Epoch [235/5000]: 100%|███████████████████████████████████████████████████████████████████████████████████████████| 10/10 [00:00<00:00, 219.98it/s, loss=1.42]\n"
     ]
    },
    {
     "name": "stdout",
     "output_type": "stream",
     "text": [
      "Epoch [235/5000]: Train loss: 1.4003, Valid loss: 1.0472\n"
     ]
    },
    {
     "name": "stderr",
     "output_type": "stream",
     "text": [
      "Epoch [236/5000]: 100%|████████████████████████████████████████████████████████████████████████████████████████████| 10/10 [00:00<00:00, 97.98it/s, loss=1.38]\n"
     ]
    },
    {
     "name": "stdout",
     "output_type": "stream",
     "text": [
      "Epoch [236/5000]: Train loss: 1.4113, Valid loss: 1.0603\n"
     ]
    },
    {
     "name": "stderr",
     "output_type": "stream",
     "text": [
      "Epoch [237/5000]: 100%|████████████████████████████████████████████████████████████████████████████████████████████| 10/10 [00:00<00:00, 214.56it/s, loss=1.4]\n"
     ]
    },
    {
     "name": "stdout",
     "output_type": "stream",
     "text": [
      "Epoch [237/5000]: Train loss: 1.4068, Valid loss: 1.0894\n"
     ]
    },
    {
     "name": "stderr",
     "output_type": "stream",
     "text": [
      "Epoch [238/5000]: 100%|███████████████████████████████████████████████████████████████████████████████████████████| 10/10 [00:00<00:00, 219.13it/s, loss=1.48]\n"
     ]
    },
    {
     "name": "stdout",
     "output_type": "stream",
     "text": [
      "Epoch [238/5000]: Train loss: 1.3849, Valid loss: 1.0332\n"
     ]
    },
    {
     "name": "stderr",
     "output_type": "stream",
     "text": [
      "Epoch [239/5000]: 100%|████████████████████████████████████████████████████████████████████████████████████████████| 10/10 [00:00<00:00, 219.57it/s, loss=1.5]\n"
     ]
    },
    {
     "name": "stdout",
     "output_type": "stream",
     "text": [
      "Epoch [239/5000]: Train loss: 1.4311, Valid loss: 1.0452\n"
     ]
    },
    {
     "name": "stderr",
     "output_type": "stream",
     "text": [
      "Epoch [240/5000]: 100%|███████████████████████████████████████████████████████████████████████████████████████████| 10/10 [00:00<00:00, 217.52it/s, loss=1.35]\n"
     ]
    },
    {
     "name": "stdout",
     "output_type": "stream",
     "text": [
      "Epoch [240/5000]: Train loss: 1.3674, Valid loss: 1.0102\n"
     ]
    },
    {
     "name": "stderr",
     "output_type": "stream",
     "text": [
      "Epoch [241/5000]: 100%|███████████████████████████████████████████████████████████████████████████████████████████| 10/10 [00:00<00:00, 215.72it/s, loss=1.42]\n"
     ]
    },
    {
     "name": "stdout",
     "output_type": "stream",
     "text": [
      "Epoch [241/5000]: Train loss: 1.3818, Valid loss: 1.0504\n"
     ]
    },
    {
     "name": "stderr",
     "output_type": "stream",
     "text": [
      "Epoch [242/5000]: 100%|████████████████████████████████████████████████████████████████████████████████████████████| 10/10 [00:00<00:00, 97.28it/s, loss=1.35]\n"
     ]
    },
    {
     "name": "stdout",
     "output_type": "stream",
     "text": [
      "Epoch [242/5000]: Train loss: 1.4007, Valid loss: 1.0887\n"
     ]
    },
    {
     "name": "stderr",
     "output_type": "stream",
     "text": [
      "Epoch [243/5000]: 100%|███████████████████████████████████████████████████████████████████████████████████████████| 10/10 [00:00<00:00, 221.37it/s, loss=1.47]\n"
     ]
    },
    {
     "name": "stdout",
     "output_type": "stream",
     "text": [
      "Epoch [243/5000]: Train loss: 1.4161, Valid loss: 1.0547\n"
     ]
    },
    {
     "name": "stderr",
     "output_type": "stream",
     "text": [
      "Epoch [244/5000]: 100%|███████████████████████████████████████████████████████████████████████████████████████████| 10/10 [00:00<00:00, 214.56it/s, loss=1.38]\n"
     ]
    },
    {
     "name": "stdout",
     "output_type": "stream",
     "text": [
      "Epoch [244/5000]: Train loss: 1.4023, Valid loss: 1.0999\n"
     ]
    },
    {
     "name": "stderr",
     "output_type": "stream",
     "text": [
      "Epoch [245/5000]: 100%|███████████████████████████████████████████████████████████████████████████████████████████| 10/10 [00:00<00:00, 218.38it/s, loss=1.48]\n"
     ]
    },
    {
     "name": "stdout",
     "output_type": "stream",
     "text": [
      "Epoch [245/5000]: Train loss: 1.3764, Valid loss: 1.1308\n"
     ]
    },
    {
     "name": "stderr",
     "output_type": "stream",
     "text": [
      "Epoch [246/5000]: 100%|████████████████████████████████████████████████████████████████████████████████████████████| 10/10 [00:00<00:00, 215.95it/s, loss=1.4]\n"
     ]
    },
    {
     "name": "stdout",
     "output_type": "stream",
     "text": [
      "Epoch [246/5000]: Train loss: 1.3763, Valid loss: 1.0077\n"
     ]
    },
    {
     "name": "stderr",
     "output_type": "stream",
     "text": [
      "Epoch [247/5000]: 100%|███████████████████████████████████████████████████████████████████████████████████████████| 10/10 [00:00<00:00, 219.88it/s, loss=1.31]\n"
     ]
    },
    {
     "name": "stdout",
     "output_type": "stream",
     "text": [
      "Epoch [247/5000]: Train loss: 1.3928, Valid loss: 1.1157\n"
     ]
    },
    {
     "name": "stderr",
     "output_type": "stream",
     "text": [
      "Epoch [248/5000]: 100%|████████████████████████████████████████████████████████████████████████████████████████████| 10/10 [00:00<00:00, 91.98it/s, loss=1.48]\n"
     ]
    },
    {
     "name": "stdout",
     "output_type": "stream",
     "text": [
      "Epoch [248/5000]: Train loss: 1.3943, Valid loss: 1.1167\n"
     ]
    },
    {
     "name": "stderr",
     "output_type": "stream",
     "text": [
      "Epoch [249/5000]: 100%|███████████████████████████████████████████████████████████████████████████████████████████| 10/10 [00:00<00:00, 214.45it/s, loss=1.27]\n"
     ]
    },
    {
     "name": "stdout",
     "output_type": "stream",
     "text": [
      "Epoch [249/5000]: Train loss: 1.4013, Valid loss: 1.0023\n"
     ]
    },
    {
     "name": "stderr",
     "output_type": "stream",
     "text": [
      "Epoch [250/5000]: 100%|████████████████████████████████████████████████████████████████████████████████████████████| 10/10 [00:00<00:00, 219.68it/s, loss=1.3]\n"
     ]
    },
    {
     "name": "stdout",
     "output_type": "stream",
     "text": [
      "Epoch [250/5000]: Train loss: 1.4117, Valid loss: 1.1064\n"
     ]
    },
    {
     "name": "stderr",
     "output_type": "stream",
     "text": [
      "Epoch [251/5000]: 100%|████████████████████████████████████████████████████████████████████████████████████████████| 10/10 [00:00<00:00, 218.71it/s, loss=1.2]\n"
     ]
    },
    {
     "name": "stdout",
     "output_type": "stream",
     "text": [
      "Epoch [251/5000]: Train loss: 1.3737, Valid loss: 1.0524\n"
     ]
    },
    {
     "name": "stderr",
     "output_type": "stream",
     "text": [
      "Epoch [252/5000]: 100%|████████████████████████████████████████████████████████████████████████████████████████████| 10/10 [00:00<00:00, 218.50it/s, loss=1.4]\n"
     ]
    },
    {
     "name": "stdout",
     "output_type": "stream",
     "text": [
      "Epoch [252/5000]: Train loss: 1.3764, Valid loss: 1.0872\n"
     ]
    },
    {
     "name": "stderr",
     "output_type": "stream",
     "text": [
      "Epoch [253/5000]: 100%|███████████████████████████████████████████████████████████████████████████████████████████| 10/10 [00:00<00:00, 220.02it/s, loss=1.39]\n"
     ]
    },
    {
     "name": "stdout",
     "output_type": "stream",
     "text": [
      "Epoch [253/5000]: Train loss: 1.3762, Valid loss: 1.1119\n"
     ]
    },
    {
     "name": "stderr",
     "output_type": "stream",
     "text": [
      "Epoch [254/5000]: 100%|████████████████████████████████████████████████████████████████████████████████████████████| 10/10 [00:00<00:00, 96.90it/s, loss=1.34]\n"
     ]
    },
    {
     "name": "stdout",
     "output_type": "stream",
     "text": [
      "Epoch [254/5000]: Train loss: 1.3890, Valid loss: 1.0457\n"
     ]
    },
    {
     "name": "stderr",
     "output_type": "stream",
     "text": [
      "Epoch [255/5000]: 100%|███████████████████████████████████████████████████████████████████████████████████████████| 10/10 [00:00<00:00, 218.80it/s, loss=1.39]\n"
     ]
    },
    {
     "name": "stdout",
     "output_type": "stream",
     "text": [
      "Epoch [255/5000]: Train loss: 1.3632, Valid loss: 1.0266\n"
     ]
    },
    {
     "name": "stderr",
     "output_type": "stream",
     "text": [
      "Epoch [256/5000]: 100%|███████████████████████████████████████████████████████████████████████████████████████████| 10/10 [00:00<00:00, 217.82it/s, loss=1.55]\n"
     ]
    },
    {
     "name": "stdout",
     "output_type": "stream",
     "text": [
      "Epoch [256/5000]: Train loss: 1.3855, Valid loss: 1.0515\n"
     ]
    },
    {
     "name": "stderr",
     "output_type": "stream",
     "text": [
      "Epoch [257/5000]: 100%|███████████████████████████████████████████████████████████████████████████████████████████| 10/10 [00:00<00:00, 213.81it/s, loss=1.27]\n"
     ]
    },
    {
     "name": "stdout",
     "output_type": "stream",
     "text": [
      "Epoch [257/5000]: Train loss: 1.3872, Valid loss: 1.0965\n"
     ]
    },
    {
     "name": "stderr",
     "output_type": "stream",
     "text": [
      "Epoch [258/5000]: 100%|████████████████████████████████████████████████████████████████████████████████████████████| 10/10 [00:00<00:00, 214.88it/s, loss=1.2]\n"
     ]
    },
    {
     "name": "stdout",
     "output_type": "stream",
     "text": [
      "Epoch [258/5000]: Train loss: 1.3552, Valid loss: 1.0710\n"
     ]
    },
    {
     "name": "stderr",
     "output_type": "stream",
     "text": [
      "Epoch [259/5000]: 100%|███████████████████████████████████████████████████████████████████████████████████████████| 10/10 [00:00<00:00, 219.77it/s, loss=1.32]\n"
     ]
    },
    {
     "name": "stdout",
     "output_type": "stream",
     "text": [
      "Epoch [259/5000]: Train loss: 1.3695, Valid loss: 1.0628\n"
     ]
    },
    {
     "name": "stderr",
     "output_type": "stream",
     "text": [
      "Epoch [260/5000]: 100%|████████████████████████████████████████████████████████████████████████████████████████████| 10/10 [00:00<00:00, 96.75it/s, loss=1.42]\n"
     ]
    },
    {
     "name": "stdout",
     "output_type": "stream",
     "text": [
      "Epoch [260/5000]: Train loss: 1.3654, Valid loss: 1.0720\n"
     ]
    },
    {
     "name": "stderr",
     "output_type": "stream",
     "text": [
      "Epoch [261/5000]: 100%|███████████████████████████████████████████████████████████████████████████████████████████| 10/10 [00:00<00:00, 219.48it/s, loss=1.46]\n"
     ]
    },
    {
     "name": "stdout",
     "output_type": "stream",
     "text": [
      "Epoch [261/5000]: Train loss: 1.3883, Valid loss: 1.0772\n"
     ]
    },
    {
     "name": "stderr",
     "output_type": "stream",
     "text": [
      "Epoch [262/5000]: 100%|███████████████████████████████████████████████████████████████████████████████████████████| 10/10 [00:00<00:00, 217.22it/s, loss=1.47]\n"
     ]
    },
    {
     "name": "stdout",
     "output_type": "stream",
     "text": [
      "Epoch [262/5000]: Train loss: 1.4043, Valid loss: 1.1235\n"
     ]
    },
    {
     "name": "stderr",
     "output_type": "stream",
     "text": [
      "Epoch [263/5000]: 100%|███████████████████████████████████████████████████████████████████████████████████████████| 10/10 [00:00<00:00, 217.79it/s, loss=1.23]\n"
     ]
    },
    {
     "name": "stdout",
     "output_type": "stream",
     "text": [
      "Epoch [263/5000]: Train loss: 1.3652, Valid loss: 1.0351\n"
     ]
    },
    {
     "name": "stderr",
     "output_type": "stream",
     "text": [
      "Epoch [264/5000]: 100%|███████████████████████████████████████████████████████████████████████████████████████████| 10/10 [00:00<00:00, 214.06it/s, loss=1.49]\n"
     ]
    },
    {
     "name": "stdout",
     "output_type": "stream",
     "text": [
      "Epoch [264/5000]: Train loss: 1.3873, Valid loss: 1.0689\n"
     ]
    },
    {
     "name": "stderr",
     "output_type": "stream",
     "text": [
      "Epoch [265/5000]: 100%|███████████████████████████████████████████████████████████████████████████████████████████| 10/10 [00:00<00:00, 217.73it/s, loss=1.39]\n"
     ]
    },
    {
     "name": "stdout",
     "output_type": "stream",
     "text": [
      "Epoch [265/5000]: Train loss: 1.4132, Valid loss: 1.0346\n"
     ]
    },
    {
     "name": "stderr",
     "output_type": "stream",
     "text": [
      "Epoch [266/5000]: 100%|████████████████████████████████████████████████████████████████████████████████████████████| 10/10 [00:00<00:00, 96.61it/s, loss=1.43]\n"
     ]
    },
    {
     "name": "stdout",
     "output_type": "stream",
     "text": [
      "Epoch [266/5000]: Train loss: 1.3879, Valid loss: 1.0496\n"
     ]
    },
    {
     "name": "stderr",
     "output_type": "stream",
     "text": [
      "Epoch [267/5000]: 100%|███████████████████████████████████████████████████████████████████████████████████████████| 10/10 [00:00<00:00, 216.45it/s, loss=1.47]\n"
     ]
    },
    {
     "name": "stdout",
     "output_type": "stream",
     "text": [
      "Epoch [267/5000]: Train loss: 1.3647, Valid loss: 1.0348\n"
     ]
    },
    {
     "name": "stderr",
     "output_type": "stream",
     "text": [
      "Epoch [268/5000]: 100%|███████████████████████████████████████████████████████████████████████████████████████████| 10/10 [00:00<00:00, 211.69it/s, loss=1.36]\n"
     ]
    },
    {
     "name": "stdout",
     "output_type": "stream",
     "text": [
      "Epoch [268/5000]: Train loss: 1.4084, Valid loss: 1.1142\n"
     ]
    },
    {
     "name": "stderr",
     "output_type": "stream",
     "text": [
      "Epoch [269/5000]: 100%|███████████████████████████████████████████████████████████████████████████████████████████| 10/10 [00:00<00:00, 217.83it/s, loss=1.47]\n"
     ]
    },
    {
     "name": "stdout",
     "output_type": "stream",
     "text": [
      "Epoch [269/5000]: Train loss: 1.4737, Valid loss: 1.1566\n"
     ]
    },
    {
     "name": "stderr",
     "output_type": "stream",
     "text": [
      "Epoch [270/5000]: 100%|███████████████████████████████████████████████████████████████████████████████████████████| 10/10 [00:00<00:00, 214.71it/s, loss=1.25]\n"
     ]
    },
    {
     "name": "stdout",
     "output_type": "stream",
     "text": [
      "Epoch [270/5000]: Train loss: 1.4283, Valid loss: 1.0943\n"
     ]
    },
    {
     "name": "stderr",
     "output_type": "stream",
     "text": [
      "Epoch [271/5000]: 100%|███████████████████████████████████████████████████████████████████████████████████████████| 10/10 [00:00<00:00, 218.27it/s, loss=1.44]\n"
     ]
    },
    {
     "name": "stdout",
     "output_type": "stream",
     "text": [
      "Epoch [271/5000]: Train loss: 1.3851, Valid loss: 1.0844\n"
     ]
    },
    {
     "name": "stderr",
     "output_type": "stream",
     "text": [
      "Epoch [272/5000]: 100%|████████████████████████████████████████████████████████████████████████████████████████████| 10/10 [00:00<00:00, 96.62it/s, loss=1.24]\n"
     ]
    },
    {
     "name": "stdout",
     "output_type": "stream",
     "text": [
      "Epoch [272/5000]: Train loss: 1.3780, Valid loss: 1.0669\n"
     ]
    },
    {
     "name": "stderr",
     "output_type": "stream",
     "text": [
      "Epoch [273/5000]: 100%|███████████████████████████████████████████████████████████████████████████████████████████| 10/10 [00:00<00:00, 220.21it/s, loss=1.32]\n"
     ]
    },
    {
     "name": "stdout",
     "output_type": "stream",
     "text": [
      "Epoch [273/5000]: Train loss: 1.3710, Valid loss: 1.0121\n"
     ]
    },
    {
     "name": "stderr",
     "output_type": "stream",
     "text": [
      "Epoch [274/5000]: 100%|███████████████████████████████████████████████████████████████████████████████████████████| 10/10 [00:00<00:00, 217.95it/s, loss=1.49]\n"
     ]
    },
    {
     "name": "stdout",
     "output_type": "stream",
     "text": [
      "Epoch [274/5000]: Train loss: 1.3690, Valid loss: 1.0319\n"
     ]
    },
    {
     "name": "stderr",
     "output_type": "stream",
     "text": [
      "Epoch [275/5000]: 100%|███████████████████████████████████████████████████████████████████████████████████████████| 10/10 [00:00<00:00, 218.84it/s, loss=1.38]\n"
     ]
    },
    {
     "name": "stdout",
     "output_type": "stream",
     "text": [
      "Epoch [275/5000]: Train loss: 1.4255, Valid loss: 1.1097\n"
     ]
    },
    {
     "name": "stderr",
     "output_type": "stream",
     "text": [
      "Epoch [276/5000]: 100%|███████████████████████████████████████████████████████████████████████████████████████████| 10/10 [00:00<00:00, 218.01it/s, loss=1.53]\n"
     ]
    },
    {
     "name": "stdout",
     "output_type": "stream",
     "text": [
      "Epoch [276/5000]: Train loss: 1.3858, Valid loss: 1.1427\n"
     ]
    },
    {
     "name": "stderr",
     "output_type": "stream",
     "text": [
      "Epoch [277/5000]: 100%|███████████████████████████████████████████████████████████████████████████████████████████| 10/10 [00:00<00:00, 221.13it/s, loss=1.51]\n"
     ]
    },
    {
     "name": "stdout",
     "output_type": "stream",
     "text": [
      "Epoch [277/5000]: Train loss: 1.4145, Valid loss: 1.0499\n"
     ]
    },
    {
     "name": "stderr",
     "output_type": "stream",
     "text": [
      "Epoch [278/5000]: 100%|████████████████████████████████████████████████████████████████████████████████████████████| 10/10 [00:00<00:00, 96.93it/s, loss=1.47]\n"
     ]
    },
    {
     "name": "stdout",
     "output_type": "stream",
     "text": [
      "Epoch [278/5000]: Train loss: 1.3836, Valid loss: 1.0624\n"
     ]
    },
    {
     "name": "stderr",
     "output_type": "stream",
     "text": [
      "Epoch [279/5000]: 100%|███████████████████████████████████████████████████████████████████████████████████████████| 10/10 [00:00<00:00, 215.76it/s, loss=1.18]\n"
     ]
    },
    {
     "name": "stdout",
     "output_type": "stream",
     "text": [
      "Epoch [279/5000]: Train loss: 1.3880, Valid loss: 1.0847\n"
     ]
    },
    {
     "name": "stderr",
     "output_type": "stream",
     "text": [
      "Epoch [280/5000]: 100%|████████████████████████████████████████████████████████████████████████████████████████████| 10/10 [00:00<00:00, 219.47it/s, loss=1.3]\n"
     ]
    },
    {
     "name": "stdout",
     "output_type": "stream",
     "text": [
      "Epoch [280/5000]: Train loss: 1.3626, Valid loss: 1.0037\n"
     ]
    },
    {
     "name": "stderr",
     "output_type": "stream",
     "text": [
      "Epoch [281/5000]: 100%|███████████████████████████████████████████████████████████████████████████████████████████| 10/10 [00:00<00:00, 219.19it/s, loss=1.25]\n"
     ]
    },
    {
     "name": "stdout",
     "output_type": "stream",
     "text": [
      "Epoch [281/5000]: Train loss: 1.3761, Valid loss: 1.0597\n"
     ]
    },
    {
     "name": "stderr",
     "output_type": "stream",
     "text": [
      "Epoch [282/5000]: 100%|███████████████████████████████████████████████████████████████████████████████████████████| 10/10 [00:00<00:00, 218.22it/s, loss=1.59]\n"
     ]
    },
    {
     "name": "stdout",
     "output_type": "stream",
     "text": [
      "Epoch [282/5000]: Train loss: 1.4050, Valid loss: 1.0776\n"
     ]
    },
    {
     "name": "stderr",
     "output_type": "stream",
     "text": [
      "Epoch [283/5000]: 100%|███████████████████████████████████████████████████████████████████████████████████████████| 10/10 [00:00<00:00, 218.52it/s, loss=1.44]\n"
     ]
    },
    {
     "name": "stdout",
     "output_type": "stream",
     "text": [
      "Epoch [283/5000]: Train loss: 1.4098, Valid loss: 1.0957\n"
     ]
    },
    {
     "name": "stderr",
     "output_type": "stream",
     "text": [
      "Epoch [284/5000]: 100%|████████████████████████████████████████████████████████████████████████████████████████████| 10/10 [00:00<00:00, 94.21it/s, loss=1.45]\n"
     ]
    },
    {
     "name": "stdout",
     "output_type": "stream",
     "text": [
      "Epoch [284/5000]: Train loss: 1.3720, Valid loss: 1.0749\n"
     ]
    },
    {
     "name": "stderr",
     "output_type": "stream",
     "text": [
      "Epoch [285/5000]: 100%|███████████████████████████████████████████████████████████████████████████████████████████| 10/10 [00:00<00:00, 220.49it/s, loss=1.52]\n"
     ]
    },
    {
     "name": "stdout",
     "output_type": "stream",
     "text": [
      "Epoch [285/5000]: Train loss: 1.4013, Valid loss: 1.0984\n"
     ]
    },
    {
     "name": "stderr",
     "output_type": "stream",
     "text": [
      "Epoch [286/5000]: 100%|███████████████████████████████████████████████████████████████████████████████████████████| 10/10 [00:00<00:00, 214.34it/s, loss=1.09]\n"
     ]
    },
    {
     "name": "stdout",
     "output_type": "stream",
     "text": [
      "Epoch [286/5000]: Train loss: 1.3784, Valid loss: 1.1048\n"
     ]
    },
    {
     "name": "stderr",
     "output_type": "stream",
     "text": [
      "Epoch [287/5000]: 100%|███████████████████████████████████████████████████████████████████████████████████████████| 10/10 [00:00<00:00, 217.70it/s, loss=1.47]\n"
     ]
    },
    {
     "name": "stdout",
     "output_type": "stream",
     "text": [
      "Epoch [287/5000]: Train loss: 1.3871, Valid loss: 1.0459\n"
     ]
    },
    {
     "name": "stderr",
     "output_type": "stream",
     "text": [
      "Epoch [288/5000]: 100%|███████████████████████████████████████████████████████████████████████████████████████████| 10/10 [00:00<00:00, 217.28it/s, loss=1.22]\n"
     ]
    },
    {
     "name": "stdout",
     "output_type": "stream",
     "text": [
      "Epoch [288/5000]: Train loss: 1.3725, Valid loss: 1.1012\n"
     ]
    },
    {
     "name": "stderr",
     "output_type": "stream",
     "text": [
      "Epoch [289/5000]: 100%|███████████████████████████████████████████████████████████████████████████████████████████| 10/10 [00:00<00:00, 219.71it/s, loss=1.46]\n"
     ]
    },
    {
     "name": "stdout",
     "output_type": "stream",
     "text": [
      "Epoch [289/5000]: Train loss: 1.3711, Valid loss: 1.0368\n"
     ]
    },
    {
     "name": "stderr",
     "output_type": "stream",
     "text": [
      "Epoch [290/5000]: 100%|████████████████████████████████████████████████████████████████████████████████████████████| 10/10 [00:00<00:00, 97.19it/s, loss=1.51]\n"
     ]
    },
    {
     "name": "stdout",
     "output_type": "stream",
     "text": [
      "Epoch [290/5000]: Train loss: 1.3752, Valid loss: 0.9860\n",
      "Saving model with loss 0.986...\n"
     ]
    },
    {
     "name": "stderr",
     "output_type": "stream",
     "text": [
      "Epoch [291/5000]: 100%|███████████████████████████████████████████████████████████████████████████████████████████| 10/10 [00:00<00:00, 215.60it/s, loss=1.29]\n"
     ]
    },
    {
     "name": "stdout",
     "output_type": "stream",
     "text": [
      "Epoch [291/5000]: Train loss: 1.3626, Valid loss: 1.0512\n"
     ]
    },
    {
     "name": "stderr",
     "output_type": "stream",
     "text": [
      "Epoch [292/5000]: 100%|███████████████████████████████████████████████████████████████████████████████████████████| 10/10 [00:00<00:00, 216.11it/s, loss=1.59]\n"
     ]
    },
    {
     "name": "stdout",
     "output_type": "stream",
     "text": [
      "Epoch [292/5000]: Train loss: 1.3967, Valid loss: 1.0611\n"
     ]
    },
    {
     "name": "stderr",
     "output_type": "stream",
     "text": [
      "Epoch [293/5000]: 100%|████████████████████████████████████████████████████████████████████████████████████████████| 10/10 [00:00<00:00, 218.92it/s, loss=1.3]\n"
     ]
    },
    {
     "name": "stdout",
     "output_type": "stream",
     "text": [
      "Epoch [293/5000]: Train loss: 1.3636, Valid loss: 1.0649\n"
     ]
    },
    {
     "name": "stderr",
     "output_type": "stream",
     "text": [
      "Epoch [294/5000]: 100%|███████████████████████████████████████████████████████████████████████████████████████████| 10/10 [00:00<00:00, 217.01it/s, loss=1.39]\n"
     ]
    },
    {
     "name": "stdout",
     "output_type": "stream",
     "text": [
      "Epoch [294/5000]: Train loss: 1.3864, Valid loss: 1.0657\n"
     ]
    },
    {
     "name": "stderr",
     "output_type": "stream",
     "text": [
      "Epoch [295/5000]: 100%|███████████████████████████████████████████████████████████████████████████████████████████| 10/10 [00:00<00:00, 218.80it/s, loss=1.41]\n"
     ]
    },
    {
     "name": "stdout",
     "output_type": "stream",
     "text": [
      "Epoch [295/5000]: Train loss: 1.3877, Valid loss: 1.1815\n"
     ]
    },
    {
     "name": "stderr",
     "output_type": "stream",
     "text": [
      "Epoch [296/5000]: 100%|████████████████████████████████████████████████████████████████████████████████████████████| 10/10 [00:00<00:00, 97.11it/s, loss=1.17]\n"
     ]
    },
    {
     "name": "stdout",
     "output_type": "stream",
     "text": [
      "Epoch [296/5000]: Train loss: 1.3780, Valid loss: 1.0638\n"
     ]
    },
    {
     "name": "stderr",
     "output_type": "stream",
     "text": [
      "Epoch [297/5000]: 100%|███████████████████████████████████████████████████████████████████████████████████████████| 10/10 [00:00<00:00, 220.16it/s, loss=1.29]\n"
     ]
    },
    {
     "name": "stdout",
     "output_type": "stream",
     "text": [
      "Epoch [297/5000]: Train loss: 1.3600, Valid loss: 1.1068\n"
     ]
    },
    {
     "name": "stderr",
     "output_type": "stream",
     "text": [
      "Epoch [298/5000]: 100%|███████████████████████████████████████████████████████████████████████████████████████████| 10/10 [00:00<00:00, 218.77it/s, loss=1.27]\n"
     ]
    },
    {
     "name": "stdout",
     "output_type": "stream",
     "text": [
      "Epoch [298/5000]: Train loss: 1.3862, Valid loss: 1.0769\n"
     ]
    },
    {
     "name": "stderr",
     "output_type": "stream",
     "text": [
      "Epoch [299/5000]: 100%|███████████████████████████████████████████████████████████████████████████████████████████| 10/10 [00:00<00:00, 219.45it/s, loss=1.19]\n"
     ]
    },
    {
     "name": "stdout",
     "output_type": "stream",
     "text": [
      "Epoch [299/5000]: Train loss: 1.3510, Valid loss: 1.0788\n"
     ]
    },
    {
     "name": "stderr",
     "output_type": "stream",
     "text": [
      "Epoch [300/5000]: 100%|████████████████████████████████████████████████████████████████████████████████████████████| 10/10 [00:00<00:00, 216.85it/s, loss=1.3]\n"
     ]
    },
    {
     "name": "stdout",
     "output_type": "stream",
     "text": [
      "Epoch [300/5000]: Train loss: 1.3811, Valid loss: 1.0596\n"
     ]
    },
    {
     "name": "stderr",
     "output_type": "stream",
     "text": [
      "Epoch [301/5000]: 100%|███████████████████████████████████████████████████████████████████████████████████████████| 10/10 [00:00<00:00, 218.94it/s, loss=1.45]\n"
     ]
    },
    {
     "name": "stdout",
     "output_type": "stream",
     "text": [
      "Epoch [301/5000]: Train loss: 1.3738, Valid loss: 1.0414\n"
     ]
    },
    {
     "name": "stderr",
     "output_type": "stream",
     "text": [
      "Epoch [302/5000]: 100%|████████████████████████████████████████████████████████████████████████████████████████████| 10/10 [00:00<00:00, 92.90it/s, loss=1.44]\n"
     ]
    },
    {
     "name": "stdout",
     "output_type": "stream",
     "text": [
      "Epoch [302/5000]: Train loss: 1.3795, Valid loss: 1.0796\n"
     ]
    },
    {
     "name": "stderr",
     "output_type": "stream",
     "text": [
      "Epoch [303/5000]: 100%|███████████████████████████████████████████████████████████████████████████████████████████| 10/10 [00:00<00:00, 221.06it/s, loss=1.21]\n"
     ]
    },
    {
     "name": "stdout",
     "output_type": "stream",
     "text": [
      "Epoch [303/5000]: Train loss: 1.3582, Valid loss: 1.0712\n"
     ]
    },
    {
     "name": "stderr",
     "output_type": "stream",
     "text": [
      "Epoch [304/5000]: 100%|███████████████████████████████████████████████████████████████████████████████████████████| 10/10 [00:00<00:00, 218.61it/s, loss=1.36]\n"
     ]
    },
    {
     "name": "stdout",
     "output_type": "stream",
     "text": [
      "Epoch [304/5000]: Train loss: 1.4025, Valid loss: 1.1193\n"
     ]
    },
    {
     "name": "stderr",
     "output_type": "stream",
     "text": [
      "Epoch [305/5000]: 100%|███████████████████████████████████████████████████████████████████████████████████████████| 10/10 [00:00<00:00, 219.38it/s, loss=1.28]\n"
     ]
    },
    {
     "name": "stdout",
     "output_type": "stream",
     "text": [
      "Epoch [305/5000]: Train loss: 1.3594, Valid loss: 1.0323\n"
     ]
    },
    {
     "name": "stderr",
     "output_type": "stream",
     "text": [
      "Epoch [306/5000]: 100%|███████████████████████████████████████████████████████████████████████████████████████████| 10/10 [00:00<00:00, 213.90it/s, loss=1.72]\n"
     ]
    },
    {
     "name": "stdout",
     "output_type": "stream",
     "text": [
      "Epoch [306/5000]: Train loss: 1.3825, Valid loss: 1.0307\n"
     ]
    },
    {
     "name": "stderr",
     "output_type": "stream",
     "text": [
      "Epoch [307/5000]: 100%|███████████████████████████████████████████████████████████████████████████████████████████| 10/10 [00:00<00:00, 215.72it/s, loss=1.29]\n"
     ]
    },
    {
     "name": "stdout",
     "output_type": "stream",
     "text": [
      "Epoch [307/5000]: Train loss: 1.3627, Valid loss: 1.0846\n"
     ]
    },
    {
     "name": "stderr",
     "output_type": "stream",
     "text": [
      "Epoch [308/5000]: 100%|████████████████████████████████████████████████████████████████████████████████████████████| 10/10 [00:00<00:00, 97.53it/s, loss=1.27]\n"
     ]
    },
    {
     "name": "stdout",
     "output_type": "stream",
     "text": [
      "Epoch [308/5000]: Train loss: 1.3618, Valid loss: 1.1059\n"
     ]
    },
    {
     "name": "stderr",
     "output_type": "stream",
     "text": [
      "Epoch [309/5000]: 100%|███████████████████████████████████████████████████████████████████████████████████████████| 10/10 [00:00<00:00, 215.55it/s, loss=1.51]\n"
     ]
    },
    {
     "name": "stdout",
     "output_type": "stream",
     "text": [
      "Epoch [309/5000]: Train loss: 1.3555, Valid loss: 1.0778\n"
     ]
    },
    {
     "name": "stderr",
     "output_type": "stream",
     "text": [
      "Epoch [310/5000]: 100%|████████████████████████████████████████████████████████████████████████████████████████████| 10/10 [00:00<00:00, 217.30it/s, loss=1.4]\n"
     ]
    },
    {
     "name": "stdout",
     "output_type": "stream",
     "text": [
      "Epoch [310/5000]: Train loss: 1.3657, Valid loss: 1.0742\n"
     ]
    },
    {
     "name": "stderr",
     "output_type": "stream",
     "text": [
      "Epoch [311/5000]: 100%|███████████████████████████████████████████████████████████████████████████████████████████| 10/10 [00:00<00:00, 218.87it/s, loss=1.34]\n"
     ]
    },
    {
     "name": "stdout",
     "output_type": "stream",
     "text": [
      "Epoch [311/5000]: Train loss: 1.3825, Valid loss: 1.0684\n"
     ]
    },
    {
     "name": "stderr",
     "output_type": "stream",
     "text": [
      "Epoch [312/5000]: 100%|███████████████████████████████████████████████████████████████████████████████████████████| 10/10 [00:00<00:00, 218.95it/s, loss=1.37]\n"
     ]
    },
    {
     "name": "stdout",
     "output_type": "stream",
     "text": [
      "Epoch [312/5000]: Train loss: 1.3813, Valid loss: 1.0515\n"
     ]
    },
    {
     "name": "stderr",
     "output_type": "stream",
     "text": [
      "Epoch [313/5000]: 100%|███████████████████████████████████████████████████████████████████████████████████████████| 10/10 [00:00<00:00, 216.45it/s, loss=1.44]\n"
     ]
    },
    {
     "name": "stdout",
     "output_type": "stream",
     "text": [
      "Epoch [313/5000]: Train loss: 1.3640, Valid loss: 1.0404\n"
     ]
    },
    {
     "name": "stderr",
     "output_type": "stream",
     "text": [
      "Epoch [314/5000]: 100%|████████████████████████████████████████████████████████████████████████████████████████████| 10/10 [00:00<00:00, 96.08it/s, loss=1.27]\n"
     ]
    },
    {
     "name": "stdout",
     "output_type": "stream",
     "text": [
      "Epoch [314/5000]: Train loss: 1.3876, Valid loss: 1.0814\n"
     ]
    },
    {
     "name": "stderr",
     "output_type": "stream",
     "text": [
      "Epoch [315/5000]: 100%|███████████████████████████████████████████████████████████████████████████████████████████| 10/10 [00:00<00:00, 216.57it/s, loss=1.48]\n"
     ]
    },
    {
     "name": "stdout",
     "output_type": "stream",
     "text": [
      "Epoch [315/5000]: Train loss: 1.3973, Valid loss: 1.0612\n"
     ]
    },
    {
     "name": "stderr",
     "output_type": "stream",
     "text": [
      "Epoch [316/5000]: 100%|███████████████████████████████████████████████████████████████████████████████████████████| 10/10 [00:00<00:00, 212.28it/s, loss=1.52]\n"
     ]
    },
    {
     "name": "stdout",
     "output_type": "stream",
     "text": [
      "Epoch [316/5000]: Train loss: 1.3625, Valid loss: 1.0452\n"
     ]
    },
    {
     "name": "stderr",
     "output_type": "stream",
     "text": [
      "Epoch [317/5000]: 100%|███████████████████████████████████████████████████████████████████████████████████████████| 10/10 [00:00<00:00, 218.15it/s, loss=1.35]\n"
     ]
    },
    {
     "name": "stdout",
     "output_type": "stream",
     "text": [
      "Epoch [317/5000]: Train loss: 1.3847, Valid loss: 1.0732\n"
     ]
    },
    {
     "name": "stderr",
     "output_type": "stream",
     "text": [
      "Epoch [318/5000]: 100%|███████████████████████████████████████████████████████████████████████████████████████████| 10/10 [00:00<00:00, 214.81it/s, loss=1.35]\n"
     ]
    },
    {
     "name": "stdout",
     "output_type": "stream",
     "text": [
      "Epoch [318/5000]: Train loss: 1.3553, Valid loss: 1.0789\n"
     ]
    },
    {
     "name": "stderr",
     "output_type": "stream",
     "text": [
      "Epoch [319/5000]: 100%|███████████████████████████████████████████████████████████████████████████████████████████| 10/10 [00:00<00:00, 220.12it/s, loss=1.37]\n"
     ]
    },
    {
     "name": "stdout",
     "output_type": "stream",
     "text": [
      "Epoch [319/5000]: Train loss: 1.3556, Valid loss: 1.0941\n"
     ]
    },
    {
     "name": "stderr",
     "output_type": "stream",
     "text": [
      "Epoch [320/5000]: 100%|████████████████████████████████████████████████████████████████████████████████████████████| 10/10 [00:00<00:00, 96.01it/s, loss=1.21]\n"
     ]
    },
    {
     "name": "stdout",
     "output_type": "stream",
     "text": [
      "Epoch [320/5000]: Train loss: 1.3567, Valid loss: 1.0700\n"
     ]
    },
    {
     "name": "stderr",
     "output_type": "stream",
     "text": [
      "Epoch [321/5000]: 100%|███████████████████████████████████████████████████████████████████████████████████████████| 10/10 [00:00<00:00, 218.54it/s, loss=1.39]\n"
     ]
    },
    {
     "name": "stdout",
     "output_type": "stream",
     "text": [
      "Epoch [321/5000]: Train loss: 1.3903, Valid loss: 1.0125\n"
     ]
    },
    {
     "name": "stderr",
     "output_type": "stream",
     "text": [
      "Epoch [322/5000]: 100%|███████████████████████████████████████████████████████████████████████████████████████████| 10/10 [00:00<00:00, 214.01it/s, loss=1.46]\n"
     ]
    },
    {
     "name": "stdout",
     "output_type": "stream",
     "text": [
      "Epoch [322/5000]: Train loss: 1.3873, Valid loss: 1.0816\n"
     ]
    },
    {
     "name": "stderr",
     "output_type": "stream",
     "text": [
      "Epoch [323/5000]: 100%|███████████████████████████████████████████████████████████████████████████████████████████| 10/10 [00:00<00:00, 218.84it/s, loss=1.31]\n"
     ]
    },
    {
     "name": "stdout",
     "output_type": "stream",
     "text": [
      "Epoch [323/5000]: Train loss: 1.3797, Valid loss: 1.1048\n"
     ]
    },
    {
     "name": "stderr",
     "output_type": "stream",
     "text": [
      "Epoch [324/5000]: 100%|███████████████████████████████████████████████████████████████████████████████████████████| 10/10 [00:00<00:00, 217.86it/s, loss=1.46]\n"
     ]
    },
    {
     "name": "stdout",
     "output_type": "stream",
     "text": [
      "Epoch [324/5000]: Train loss: 1.3733, Valid loss: 1.0114\n"
     ]
    },
    {
     "name": "stderr",
     "output_type": "stream",
     "text": [
      "Epoch [325/5000]: 100%|███████████████████████████████████████████████████████████████████████████████████████████| 10/10 [00:00<00:00, 214.46it/s, loss=1.42]\n"
     ]
    },
    {
     "name": "stdout",
     "output_type": "stream",
     "text": [
      "Epoch [325/5000]: Train loss: 1.3831, Valid loss: 1.0708\n"
     ]
    },
    {
     "name": "stderr",
     "output_type": "stream",
     "text": [
      "Epoch [326/5000]: 100%|████████████████████████████████████████████████████████████████████████████████████████████| 10/10 [00:00<00:00, 96.54it/s, loss=1.34]\n"
     ]
    },
    {
     "name": "stdout",
     "output_type": "stream",
     "text": [
      "Epoch [326/5000]: Train loss: 1.3854, Valid loss: 1.0390\n"
     ]
    },
    {
     "name": "stderr",
     "output_type": "stream",
     "text": [
      "Epoch [327/5000]: 100%|███████████████████████████████████████████████████████████████████████████████████████████| 10/10 [00:00<00:00, 220.80it/s, loss=1.27]\n"
     ]
    },
    {
     "name": "stdout",
     "output_type": "stream",
     "text": [
      "Epoch [327/5000]: Train loss: 1.3638, Valid loss: 1.0993\n"
     ]
    },
    {
     "name": "stderr",
     "output_type": "stream",
     "text": [
      "Epoch [328/5000]: 100%|███████████████████████████████████████████████████████████████████████████████████████████| 10/10 [00:00<00:00, 215.74it/s, loss=1.63]\n"
     ]
    },
    {
     "name": "stdout",
     "output_type": "stream",
     "text": [
      "Epoch [328/5000]: Train loss: 1.3736, Valid loss: 1.0678\n"
     ]
    },
    {
     "name": "stderr",
     "output_type": "stream",
     "text": [
      "Epoch [329/5000]: 100%|███████████████████████████████████████████████████████████████████████████████████████████| 10/10 [00:00<00:00, 219.96it/s, loss=1.31]\n"
     ]
    },
    {
     "name": "stdout",
     "output_type": "stream",
     "text": [
      "Epoch [329/5000]: Train loss: 1.3421, Valid loss: 1.0576\n"
     ]
    },
    {
     "name": "stderr",
     "output_type": "stream",
     "text": [
      "Epoch [330/5000]: 100%|███████████████████████████████████████████████████████████████████████████████████████████| 10/10 [00:00<00:00, 219.43it/s, loss=1.23]\n"
     ]
    },
    {
     "name": "stdout",
     "output_type": "stream",
     "text": [
      "Epoch [330/5000]: Train loss: 1.3819, Valid loss: 1.0674\n"
     ]
    },
    {
     "name": "stderr",
     "output_type": "stream",
     "text": [
      "Epoch [331/5000]: 100%|███████████████████████████████████████████████████████████████████████████████████████████| 10/10 [00:00<00:00, 220.55it/s, loss=1.26]\n"
     ]
    },
    {
     "name": "stdout",
     "output_type": "stream",
     "text": [
      "Epoch [331/5000]: Train loss: 1.3694, Valid loss: 1.0243\n"
     ]
    },
    {
     "name": "stderr",
     "output_type": "stream",
     "text": [
      "Epoch [332/5000]: 100%|████████████████████████████████████████████████████████████████████████████████████████████| 10/10 [00:00<00:00, 97.22it/s, loss=1.29]\n"
     ]
    },
    {
     "name": "stdout",
     "output_type": "stream",
     "text": [
      "Epoch [332/5000]: Train loss: 1.3865, Valid loss: 1.0897\n"
     ]
    },
    {
     "name": "stderr",
     "output_type": "stream",
     "text": [
      "Epoch [333/5000]: 100%|████████████████████████████████████████████████████████████████████████████████████████████| 10/10 [00:00<00:00, 220.22it/s, loss=1.2]\n"
     ]
    },
    {
     "name": "stdout",
     "output_type": "stream",
     "text": [
      "Epoch [333/5000]: Train loss: 1.4152, Valid loss: 1.1964\n"
     ]
    },
    {
     "name": "stderr",
     "output_type": "stream",
     "text": [
      "Epoch [334/5000]: 100%|███████████████████████████████████████████████████████████████████████████████████████████| 10/10 [00:00<00:00, 218.70it/s, loss=1.37]\n"
     ]
    },
    {
     "name": "stdout",
     "output_type": "stream",
     "text": [
      "Epoch [334/5000]: Train loss: 1.3707, Valid loss: 1.0125\n"
     ]
    },
    {
     "name": "stderr",
     "output_type": "stream",
     "text": [
      "Epoch [335/5000]: 100%|███████████████████████████████████████████████████████████████████████████████████████████| 10/10 [00:00<00:00, 218.70it/s, loss=1.39]\n"
     ]
    },
    {
     "name": "stdout",
     "output_type": "stream",
     "text": [
      "Epoch [335/5000]: Train loss: 1.3709, Valid loss: 1.0659\n"
     ]
    },
    {
     "name": "stderr",
     "output_type": "stream",
     "text": [
      "Epoch [336/5000]: 100%|███████████████████████████████████████████████████████████████████████████████████████████| 10/10 [00:00<00:00, 217.28it/s, loss=1.25]\n"
     ]
    },
    {
     "name": "stdout",
     "output_type": "stream",
     "text": [
      "Epoch [336/5000]: Train loss: 1.3561, Valid loss: 1.1106\n"
     ]
    },
    {
     "name": "stderr",
     "output_type": "stream",
     "text": [
      "Epoch [337/5000]: 100%|███████████████████████████████████████████████████████████████████████████████████████████| 10/10 [00:00<00:00, 219.54it/s, loss=1.33]\n"
     ]
    },
    {
     "name": "stdout",
     "output_type": "stream",
     "text": [
      "Epoch [337/5000]: Train loss: 1.4267, Valid loss: 1.1086\n"
     ]
    },
    {
     "name": "stderr",
     "output_type": "stream",
     "text": [
      "Epoch [338/5000]: 100%|█████████████████████████████████████████████████████████████████████████████████████████████| 10/10 [00:00<00:00, 97.63it/s, loss=1.4]\n"
     ]
    },
    {
     "name": "stdout",
     "output_type": "stream",
     "text": [
      "Epoch [338/5000]: Train loss: 1.3976, Valid loss: 1.0566\n"
     ]
    },
    {
     "name": "stderr",
     "output_type": "stream",
     "text": [
      "Epoch [339/5000]: 100%|███████████████████████████████████████████████████████████████████████████████████████████| 10/10 [00:00<00:00, 214.71it/s, loss=1.48]\n"
     ]
    },
    {
     "name": "stdout",
     "output_type": "stream",
     "text": [
      "Epoch [339/5000]: Train loss: 1.3973, Valid loss: 1.0740\n"
     ]
    },
    {
     "name": "stderr",
     "output_type": "stream",
     "text": [
      "Epoch [340/5000]: 100%|███████████████████████████████████████████████████████████████████████████████████████████| 10/10 [00:00<00:00, 219.16it/s, loss=1.34]\n"
     ]
    },
    {
     "name": "stdout",
     "output_type": "stream",
     "text": [
      "Epoch [340/5000]: Train loss: 1.3809, Valid loss: 1.0875\n"
     ]
    },
    {
     "name": "stderr",
     "output_type": "stream",
     "text": [
      "Epoch [341/5000]: 100%|███████████████████████████████████████████████████████████████████████████████████████████| 10/10 [00:00<00:00, 220.98it/s, loss=1.38]\n"
     ]
    },
    {
     "name": "stdout",
     "output_type": "stream",
     "text": [
      "Epoch [341/5000]: Train loss: 1.3555, Valid loss: 1.0726\n"
     ]
    },
    {
     "name": "stderr",
     "output_type": "stream",
     "text": [
      "Epoch [342/5000]: 100%|████████████████████████████████████████████████████████████████████████████████████████████| 10/10 [00:00<00:00, 216.49it/s, loss=1.4]\n"
     ]
    },
    {
     "name": "stdout",
     "output_type": "stream",
     "text": [
      "Epoch [342/5000]: Train loss: 1.3279, Valid loss: 1.0391\n"
     ]
    },
    {
     "name": "stderr",
     "output_type": "stream",
     "text": [
      "Epoch [343/5000]: 100%|███████████████████████████████████████████████████████████████████████████████████████████| 10/10 [00:00<00:00, 220.37it/s, loss=1.45]\n"
     ]
    },
    {
     "name": "stdout",
     "output_type": "stream",
     "text": [
      "Epoch [343/5000]: Train loss: 1.3781, Valid loss: 1.0454\n"
     ]
    },
    {
     "name": "stderr",
     "output_type": "stream",
     "text": [
      "Epoch [344/5000]: 100%|█████████████████████████████████████████████████████████████████████████████████████████████| 10/10 [00:00<00:00, 95.70it/s, loss=1.5]\n"
     ]
    },
    {
     "name": "stdout",
     "output_type": "stream",
     "text": [
      "Epoch [344/5000]: Train loss: 1.4101, Valid loss: 1.0327\n"
     ]
    },
    {
     "name": "stderr",
     "output_type": "stream",
     "text": [
      "Epoch [345/5000]: 100%|███████████████████████████████████████████████████████████████████████████████████████████| 10/10 [00:00<00:00, 212.93it/s, loss=1.56]\n"
     ]
    },
    {
     "name": "stdout",
     "output_type": "stream",
     "text": [
      "Epoch [345/5000]: Train loss: 1.3599, Valid loss: 1.0465\n"
     ]
    },
    {
     "name": "stderr",
     "output_type": "stream",
     "text": [
      "Epoch [346/5000]: 100%|███████████████████████████████████████████████████████████████████████████████████████████| 10/10 [00:00<00:00, 217.40it/s, loss=1.34]\n"
     ]
    },
    {
     "name": "stdout",
     "output_type": "stream",
     "text": [
      "Epoch [346/5000]: Train loss: 1.3541, Valid loss: 1.0315\n"
     ]
    },
    {
     "name": "stderr",
     "output_type": "stream",
     "text": [
      "Epoch [347/5000]: 100%|███████████████████████████████████████████████████████████████████████████████████████████| 10/10 [00:00<00:00, 218.57it/s, loss=1.24]\n"
     ]
    },
    {
     "name": "stdout",
     "output_type": "stream",
     "text": [
      "Epoch [347/5000]: Train loss: 1.3618, Valid loss: 1.0348\n"
     ]
    },
    {
     "name": "stderr",
     "output_type": "stream",
     "text": [
      "Epoch [348/5000]: 100%|███████████████████████████████████████████████████████████████████████████████████████████| 10/10 [00:00<00:00, 218.01it/s, loss=1.35]\n"
     ]
    },
    {
     "name": "stdout",
     "output_type": "stream",
     "text": [
      "Epoch [348/5000]: Train loss: 1.3963, Valid loss: 1.0631\n"
     ]
    },
    {
     "name": "stderr",
     "output_type": "stream",
     "text": [
      "Epoch [349/5000]: 100%|███████████████████████████████████████████████████████████████████████████████████████████| 10/10 [00:00<00:00, 215.67it/s, loss=1.36]\n"
     ]
    },
    {
     "name": "stdout",
     "output_type": "stream",
     "text": [
      "Epoch [349/5000]: Train loss: 1.3889, Valid loss: 1.0796\n"
     ]
    },
    {
     "name": "stderr",
     "output_type": "stream",
     "text": [
      "Epoch [350/5000]: 100%|████████████████████████████████████████████████████████████████████████████████████████████| 10/10 [00:00<00:00, 96.98it/s, loss=1.35]\n"
     ]
    },
    {
     "name": "stdout",
     "output_type": "stream",
     "text": [
      "Epoch [350/5000]: Train loss: 1.3910, Valid loss: 1.0958\n"
     ]
    },
    {
     "name": "stderr",
     "output_type": "stream",
     "text": [
      "Epoch [351/5000]: 100%|███████████████████████████████████████████████████████████████████████████████████████████| 10/10 [00:00<00:00, 208.58it/s, loss=1.58]\n"
     ]
    },
    {
     "name": "stdout",
     "output_type": "stream",
     "text": [
      "Epoch [351/5000]: Train loss: 1.4030, Valid loss: 1.0327\n"
     ]
    },
    {
     "name": "stderr",
     "output_type": "stream",
     "text": [
      "Epoch [352/5000]: 100%|███████████████████████████████████████████████████████████████████████████████████████████| 10/10 [00:00<00:00, 217.87it/s, loss=1.35]\n"
     ]
    },
    {
     "name": "stdout",
     "output_type": "stream",
     "text": [
      "Epoch [352/5000]: Train loss: 1.3746, Valid loss: 0.9912\n"
     ]
    },
    {
     "name": "stderr",
     "output_type": "stream",
     "text": [
      "Epoch [353/5000]: 100%|███████████████████████████████████████████████████████████████████████████████████████████| 10/10 [00:00<00:00, 216.92it/s, loss=1.32]\n"
     ]
    },
    {
     "name": "stdout",
     "output_type": "stream",
     "text": [
      "Epoch [353/5000]: Train loss: 1.3510, Valid loss: 1.0696\n"
     ]
    },
    {
     "name": "stderr",
     "output_type": "stream",
     "text": [
      "Epoch [354/5000]: 100%|███████████████████████████████████████████████████████████████████████████████████████████| 10/10 [00:00<00:00, 216.92it/s, loss=1.28]\n"
     ]
    },
    {
     "name": "stdout",
     "output_type": "stream",
     "text": [
      "Epoch [354/5000]: Train loss: 1.3498, Valid loss: 1.0099\n"
     ]
    },
    {
     "name": "stderr",
     "output_type": "stream",
     "text": [
      "Epoch [355/5000]: 100%|███████████████████████████████████████████████████████████████████████████████████████████| 10/10 [00:00<00:00, 221.22it/s, loss=1.39]\n"
     ]
    },
    {
     "name": "stdout",
     "output_type": "stream",
     "text": [
      "Epoch [355/5000]: Train loss: 1.3554, Valid loss: 1.0352\n"
     ]
    },
    {
     "name": "stderr",
     "output_type": "stream",
     "text": [
      "Epoch [356/5000]: 100%|████████████████████████████████████████████████████████████████████████████████████████████| 10/10 [00:00<00:00, 96.78it/s, loss=1.31]\n"
     ]
    },
    {
     "name": "stdout",
     "output_type": "stream",
     "text": [
      "Epoch [356/5000]: Train loss: 1.3668, Valid loss: 1.0449\n"
     ]
    },
    {
     "name": "stderr",
     "output_type": "stream",
     "text": [
      "Epoch [357/5000]: 100%|███████████████████████████████████████████████████████████████████████████████████████████| 10/10 [00:00<00:00, 218.68it/s, loss=1.36]\n"
     ]
    },
    {
     "name": "stdout",
     "output_type": "stream",
     "text": [
      "Epoch [357/5000]: Train loss: 1.3976, Valid loss: 1.0689\n"
     ]
    },
    {
     "name": "stderr",
     "output_type": "stream",
     "text": [
      "Epoch [358/5000]: 100%|███████████████████████████████████████████████████████████████████████████████████████████| 10/10 [00:00<00:00, 216.74it/s, loss=1.37]\n"
     ]
    },
    {
     "name": "stdout",
     "output_type": "stream",
     "text": [
      "Epoch [358/5000]: Train loss: 1.4050, Valid loss: 1.0124\n"
     ]
    },
    {
     "name": "stderr",
     "output_type": "stream",
     "text": [
      "Epoch [359/5000]: 100%|████████████████████████████████████████████████████████████████████████████████████████████| 10/10 [00:00<00:00, 217.88it/s, loss=1.3]\n"
     ]
    },
    {
     "name": "stdout",
     "output_type": "stream",
     "text": [
      "Epoch [359/5000]: Train loss: 1.3950, Valid loss: 1.0263\n"
     ]
    },
    {
     "name": "stderr",
     "output_type": "stream",
     "text": [
      "Epoch [360/5000]: 100%|███████████████████████████████████████████████████████████████████████████████████████████| 10/10 [00:00<00:00, 218.15it/s, loss=1.27]\n"
     ]
    },
    {
     "name": "stdout",
     "output_type": "stream",
     "text": [
      "Epoch [360/5000]: Train loss: 1.3401, Valid loss: 1.0586\n"
     ]
    },
    {
     "name": "stderr",
     "output_type": "stream",
     "text": [
      "Epoch [361/5000]: 100%|███████████████████████████████████████████████████████████████████████████████████████████| 10/10 [00:00<00:00, 218.10it/s, loss=1.26]\n"
     ]
    },
    {
     "name": "stdout",
     "output_type": "stream",
     "text": [
      "Epoch [361/5000]: Train loss: 1.3340, Valid loss: 1.1004\n"
     ]
    },
    {
     "name": "stderr",
     "output_type": "stream",
     "text": [
      "Epoch [362/5000]: 100%|████████████████████████████████████████████████████████████████████████████████████████████| 10/10 [00:00<00:00, 97.46it/s, loss=1.26]\n"
     ]
    },
    {
     "name": "stdout",
     "output_type": "stream",
     "text": [
      "Epoch [362/5000]: Train loss: 1.3385, Valid loss: 1.0262\n"
     ]
    },
    {
     "name": "stderr",
     "output_type": "stream",
     "text": [
      "Epoch [363/5000]: 100%|███████████████████████████████████████████████████████████████████████████████████████████| 10/10 [00:00<00:00, 216.00it/s, loss=1.21]\n"
     ]
    },
    {
     "name": "stdout",
     "output_type": "stream",
     "text": [
      "Epoch [363/5000]: Train loss: 1.3479, Valid loss: 1.0852\n"
     ]
    },
    {
     "name": "stderr",
     "output_type": "stream",
     "text": [
      "Epoch [364/5000]: 100%|███████████████████████████████████████████████████████████████████████████████████████████| 10/10 [00:00<00:00, 217.58it/s, loss=1.53]\n"
     ]
    },
    {
     "name": "stdout",
     "output_type": "stream",
     "text": [
      "Epoch [364/5000]: Train loss: 1.3633, Valid loss: 1.0473\n"
     ]
    },
    {
     "name": "stderr",
     "output_type": "stream",
     "text": [
      "Epoch [365/5000]: 100%|███████████████████████████████████████████████████████████████████████████████████████████| 10/10 [00:00<00:00, 220.06it/s, loss=1.31]\n"
     ]
    },
    {
     "name": "stdout",
     "output_type": "stream",
     "text": [
      "Epoch [365/5000]: Train loss: 1.3710, Valid loss: 1.0622\n"
     ]
    },
    {
     "name": "stderr",
     "output_type": "stream",
     "text": [
      "Epoch [366/5000]: 100%|███████████████████████████████████████████████████████████████████████████████████████████| 10/10 [00:00<00:00, 218.02it/s, loss=1.51]\n"
     ]
    },
    {
     "name": "stdout",
     "output_type": "stream",
     "text": [
      "Epoch [366/5000]: Train loss: 1.3459, Valid loss: 1.0908\n"
     ]
    },
    {
     "name": "stderr",
     "output_type": "stream",
     "text": [
      "Epoch [367/5000]: 100%|███████████████████████████████████████████████████████████████████████████████████████████| 10/10 [00:00<00:00, 218.90it/s, loss=1.33]\n"
     ]
    },
    {
     "name": "stdout",
     "output_type": "stream",
     "text": [
      "Epoch [367/5000]: Train loss: 1.3657, Valid loss: 1.0489\n"
     ]
    },
    {
     "name": "stderr",
     "output_type": "stream",
     "text": [
      "Epoch [368/5000]: 100%|████████████████████████████████████████████████████████████████████████████████████████████| 10/10 [00:00<00:00, 97.18it/s, loss=1.35]\n"
     ]
    },
    {
     "name": "stdout",
     "output_type": "stream",
     "text": [
      "Epoch [368/5000]: Train loss: 1.3813, Valid loss: 1.0388\n"
     ]
    },
    {
     "name": "stderr",
     "output_type": "stream",
     "text": [
      "Epoch [369/5000]: 100%|████████████████████████████████████████████████████████████████████████████████████████████| 10/10 [00:00<00:00, 216.73it/s, loss=1.2]\n"
     ]
    },
    {
     "name": "stdout",
     "output_type": "stream",
     "text": [
      "Epoch [369/5000]: Train loss: 1.3603, Valid loss: 1.1013\n"
     ]
    },
    {
     "name": "stderr",
     "output_type": "stream",
     "text": [
      "Epoch [370/5000]: 100%|███████████████████████████████████████████████████████████████████████████████████████████| 10/10 [00:00<00:00, 217.51it/s, loss=1.47]\n"
     ]
    },
    {
     "name": "stdout",
     "output_type": "stream",
     "text": [
      "Epoch [370/5000]: Train loss: 1.3624, Valid loss: 1.0211\n"
     ]
    },
    {
     "name": "stderr",
     "output_type": "stream",
     "text": [
      "Epoch [371/5000]: 100%|███████████████████████████████████████████████████████████████████████████████████████████| 10/10 [00:00<00:00, 218.19it/s, loss=1.36]\n"
     ]
    },
    {
     "name": "stdout",
     "output_type": "stream",
     "text": [
      "Epoch [371/5000]: Train loss: 1.3510, Valid loss: 1.0831\n"
     ]
    },
    {
     "name": "stderr",
     "output_type": "stream",
     "text": [
      "Epoch [372/5000]: 100%|███████████████████████████████████████████████████████████████████████████████████████████| 10/10 [00:00<00:00, 217.20it/s, loss=1.37]\n"
     ]
    },
    {
     "name": "stdout",
     "output_type": "stream",
     "text": [
      "Epoch [372/5000]: Train loss: 1.3584, Valid loss: 1.1445\n"
     ]
    },
    {
     "name": "stderr",
     "output_type": "stream",
     "text": [
      "Epoch [373/5000]: 100%|███████████████████████████████████████████████████████████████████████████████████████████| 10/10 [00:00<00:00, 221.16it/s, loss=1.32]\n"
     ]
    },
    {
     "name": "stdout",
     "output_type": "stream",
     "text": [
      "Epoch [373/5000]: Train loss: 1.3772, Valid loss: 1.0512\n"
     ]
    },
    {
     "name": "stderr",
     "output_type": "stream",
     "text": [
      "Epoch [374/5000]: 100%|████████████████████████████████████████████████████████████████████████████████████████████| 10/10 [00:00<00:00, 97.21it/s, loss=1.37]\n"
     ]
    },
    {
     "name": "stdout",
     "output_type": "stream",
     "text": [
      "Epoch [374/5000]: Train loss: 1.3377, Valid loss: 1.1938\n"
     ]
    },
    {
     "name": "stderr",
     "output_type": "stream",
     "text": [
      "Epoch [375/5000]: 100%|███████████████████████████████████████████████████████████████████████████████████████████| 10/10 [00:00<00:00, 219.52it/s, loss=1.34]\n"
     ]
    },
    {
     "name": "stdout",
     "output_type": "stream",
     "text": [
      "Epoch [375/5000]: Train loss: 1.3454, Valid loss: 0.9983\n"
     ]
    },
    {
     "name": "stderr",
     "output_type": "stream",
     "text": [
      "Epoch [376/5000]: 100%|███████████████████████████████████████████████████████████████████████████████████████████| 10/10 [00:00<00:00, 213.04it/s, loss=1.31]\n"
     ]
    },
    {
     "name": "stdout",
     "output_type": "stream",
     "text": [
      "Epoch [376/5000]: Train loss: 1.3596, Valid loss: 1.0837\n"
     ]
    },
    {
     "name": "stderr",
     "output_type": "stream",
     "text": [
      "Epoch [377/5000]: 100%|███████████████████████████████████████████████████████████████████████████████████████████| 10/10 [00:00<00:00, 217.45it/s, loss=1.37]\n"
     ]
    },
    {
     "name": "stdout",
     "output_type": "stream",
     "text": [
      "Epoch [377/5000]: Train loss: 1.3667, Valid loss: 1.0718\n"
     ]
    },
    {
     "name": "stderr",
     "output_type": "stream",
     "text": [
      "Epoch [378/5000]: 100%|███████████████████████████████████████████████████████████████████████████████████████████| 10/10 [00:00<00:00, 216.85it/s, loss=1.43]\n"
     ]
    },
    {
     "name": "stdout",
     "output_type": "stream",
     "text": [
      "Epoch [378/5000]: Train loss: 1.3983, Valid loss: 1.0232\n"
     ]
    },
    {
     "name": "stderr",
     "output_type": "stream",
     "text": [
      "Epoch [379/5000]: 100%|███████████████████████████████████████████████████████████████████████████████████████████| 10/10 [00:00<00:00, 216.37it/s, loss=1.39]\n"
     ]
    },
    {
     "name": "stdout",
     "output_type": "stream",
     "text": [
      "Epoch [379/5000]: Train loss: 1.3443, Valid loss: 1.0587\n"
     ]
    },
    {
     "name": "stderr",
     "output_type": "stream",
     "text": [
      "Epoch [380/5000]: 100%|█████████████████████████████████████████████████████████████████████████████████████████████| 10/10 [00:00<00:00, 92.51it/s, loss=1.5]\n"
     ]
    },
    {
     "name": "stdout",
     "output_type": "stream",
     "text": [
      "Epoch [380/5000]: Train loss: 1.3603, Valid loss: 1.0827\n"
     ]
    },
    {
     "name": "stderr",
     "output_type": "stream",
     "text": [
      "Epoch [381/5000]: 100%|███████████████████████████████████████████████████████████████████████████████████████████| 10/10 [00:00<00:00, 219.34it/s, loss=1.38]\n"
     ]
    },
    {
     "name": "stdout",
     "output_type": "stream",
     "text": [
      "Epoch [381/5000]: Train loss: 1.3796, Valid loss: 1.0580\n"
     ]
    },
    {
     "name": "stderr",
     "output_type": "stream",
     "text": [
      "Epoch [382/5000]: 100%|███████████████████████████████████████████████████████████████████████████████████████████| 10/10 [00:00<00:00, 219.29it/s, loss=1.36]\n"
     ]
    },
    {
     "name": "stdout",
     "output_type": "stream",
     "text": [
      "Epoch [382/5000]: Train loss: 1.3876, Valid loss: 1.0426\n"
     ]
    },
    {
     "name": "stderr",
     "output_type": "stream",
     "text": [
      "Epoch [383/5000]: 100%|███████████████████████████████████████████████████████████████████████████████████████████| 10/10 [00:00<00:00, 218.41it/s, loss=1.79]\n"
     ]
    },
    {
     "name": "stdout",
     "output_type": "stream",
     "text": [
      "Epoch [383/5000]: Train loss: 1.4097, Valid loss: 1.1318\n"
     ]
    },
    {
     "name": "stderr",
     "output_type": "stream",
     "text": [
      "Epoch [384/5000]: 100%|████████████████████████████████████████████████████████████████████████████████████████████| 10/10 [00:00<00:00, 217.80it/s, loss=1.4]\n"
     ]
    },
    {
     "name": "stdout",
     "output_type": "stream",
     "text": [
      "Epoch [384/5000]: Train loss: 1.3693, Valid loss: 1.0490\n"
     ]
    },
    {
     "name": "stderr",
     "output_type": "stream",
     "text": [
      "Epoch [385/5000]: 100%|███████████████████████████████████████████████████████████████████████████████████████████| 10/10 [00:00<00:00, 218.43it/s, loss=1.63]\n"
     ]
    },
    {
     "name": "stdout",
     "output_type": "stream",
     "text": [
      "Epoch [385/5000]: Train loss: 1.3929, Valid loss: 1.0685\n"
     ]
    },
    {
     "name": "stderr",
     "output_type": "stream",
     "text": [
      "Epoch [386/5000]: 100%|████████████████████████████████████████████████████████████████████████████████████████████| 10/10 [00:00<00:00, 94.08it/s, loss=1.39]\n"
     ]
    },
    {
     "name": "stdout",
     "output_type": "stream",
     "text": [
      "Epoch [386/5000]: Train loss: 1.3641, Valid loss: 1.0575\n"
     ]
    },
    {
     "name": "stderr",
     "output_type": "stream",
     "text": [
      "Epoch [387/5000]: 100%|████████████████████████████████████████████████████████████████████████████████████████████| 10/10 [00:00<00:00, 216.73it/s, loss=1.3]\n"
     ]
    },
    {
     "name": "stdout",
     "output_type": "stream",
     "text": [
      "Epoch [387/5000]: Train loss: 1.3481, Valid loss: 1.0887\n"
     ]
    },
    {
     "name": "stderr",
     "output_type": "stream",
     "text": [
      "Epoch [388/5000]: 100%|███████████████████████████████████████████████████████████████████████████████████████████| 10/10 [00:00<00:00, 218.93it/s, loss=1.48]\n"
     ]
    },
    {
     "name": "stdout",
     "output_type": "stream",
     "text": [
      "Epoch [388/5000]: Train loss: 1.3831, Valid loss: 1.0454\n"
     ]
    },
    {
     "name": "stderr",
     "output_type": "stream",
     "text": [
      "Epoch [389/5000]: 100%|███████████████████████████████████████████████████████████████████████████████████████████| 10/10 [00:00<00:00, 219.78it/s, loss=1.37]\n"
     ]
    },
    {
     "name": "stdout",
     "output_type": "stream",
     "text": [
      "Epoch [389/5000]: Train loss: 1.3505, Valid loss: 1.0049\n"
     ]
    },
    {
     "name": "stderr",
     "output_type": "stream",
     "text": [
      "Epoch [390/5000]: 100%|███████████████████████████████████████████████████████████████████████████████████████████| 10/10 [00:00<00:00, 219.08it/s, loss=1.32]\n"
     ]
    },
    {
     "name": "stdout",
     "output_type": "stream",
     "text": [
      "Epoch [390/5000]: Train loss: 1.3857, Valid loss: 1.1087\n"
     ]
    },
    {
     "name": "stderr",
     "output_type": "stream",
     "text": [
      "Epoch [391/5000]: 100%|███████████████████████████████████████████████████████████████████████████████████████████| 10/10 [00:00<00:00, 218.95it/s, loss=1.32]\n"
     ]
    },
    {
     "name": "stdout",
     "output_type": "stream",
     "text": [
      "Epoch [391/5000]: Train loss: 1.3328, Valid loss: 1.0378\n"
     ]
    },
    {
     "name": "stderr",
     "output_type": "stream",
     "text": [
      "Epoch [392/5000]: 100%|████████████████████████████████████████████████████████████████████████████████████████████| 10/10 [00:00<00:00, 97.01it/s, loss=1.14]\n"
     ]
    },
    {
     "name": "stdout",
     "output_type": "stream",
     "text": [
      "Epoch [392/5000]: Train loss: 1.3654, Valid loss: 1.0768\n"
     ]
    },
    {
     "name": "stderr",
     "output_type": "stream",
     "text": [
      "Epoch [393/5000]: 100%|███████████████████████████████████████████████████████████████████████████████████████████| 10/10 [00:00<00:00, 218.06it/s, loss=1.32]\n"
     ]
    },
    {
     "name": "stdout",
     "output_type": "stream",
     "text": [
      "Epoch [393/5000]: Train loss: 1.3527, Valid loss: 1.0880\n"
     ]
    },
    {
     "name": "stderr",
     "output_type": "stream",
     "text": [
      "Epoch [394/5000]: 100%|███████████████████████████████████████████████████████████████████████████████████████████| 10/10 [00:00<00:00, 220.14it/s, loss=1.22]\n"
     ]
    },
    {
     "name": "stdout",
     "output_type": "stream",
     "text": [
      "Epoch [394/5000]: Train loss: 1.3388, Valid loss: 1.0580\n"
     ]
    },
    {
     "name": "stderr",
     "output_type": "stream",
     "text": [
      "Epoch [395/5000]: 100%|███████████████████████████████████████████████████████████████████████████████████████████| 10/10 [00:00<00:00, 216.07it/s, loss=1.32]\n"
     ]
    },
    {
     "name": "stdout",
     "output_type": "stream",
     "text": [
      "Epoch [395/5000]: Train loss: 1.3381, Valid loss: 1.1584\n"
     ]
    },
    {
     "name": "stderr",
     "output_type": "stream",
     "text": [
      "Epoch [396/5000]: 100%|███████████████████████████████████████████████████████████████████████████████████████████| 10/10 [00:00<00:00, 218.98it/s, loss=1.52]\n"
     ]
    },
    {
     "name": "stdout",
     "output_type": "stream",
     "text": [
      "Epoch [396/5000]: Train loss: 1.3959, Valid loss: 1.0402\n"
     ]
    },
    {
     "name": "stderr",
     "output_type": "stream",
     "text": [
      "Epoch [397/5000]: 100%|███████████████████████████████████████████████████████████████████████████████████████████| 10/10 [00:00<00:00, 220.42it/s, loss=1.39]\n"
     ]
    },
    {
     "name": "stdout",
     "output_type": "stream",
     "text": [
      "Epoch [397/5000]: Train loss: 1.3933, Valid loss: 0.9923\n"
     ]
    },
    {
     "name": "stderr",
     "output_type": "stream",
     "text": [
      "Epoch [398/5000]: 100%|████████████████████████████████████████████████████████████████████████████████████████████| 10/10 [00:00<00:00, 96.95it/s, loss=1.42]\n"
     ]
    },
    {
     "name": "stdout",
     "output_type": "stream",
     "text": [
      "Epoch [398/5000]: Train loss: 1.3617, Valid loss: 1.0754\n"
     ]
    },
    {
     "name": "stderr",
     "output_type": "stream",
     "text": [
      "Epoch [399/5000]: 100%|███████████████████████████████████████████████████████████████████████████████████████████| 10/10 [00:00<00:00, 218.61it/s, loss=1.25]\n"
     ]
    },
    {
     "name": "stdout",
     "output_type": "stream",
     "text": [
      "Epoch [399/5000]: Train loss: 1.3563, Valid loss: 1.0488\n"
     ]
    },
    {
     "name": "stderr",
     "output_type": "stream",
     "text": [
      "Epoch [400/5000]: 100%|███████████████████████████████████████████████████████████████████████████████████████████| 10/10 [00:00<00:00, 217.84it/s, loss=1.39]\n"
     ]
    },
    {
     "name": "stdout",
     "output_type": "stream",
     "text": [
      "Epoch [400/5000]: Train loss: 1.3860, Valid loss: 1.1097\n"
     ]
    },
    {
     "name": "stderr",
     "output_type": "stream",
     "text": [
      "Epoch [401/5000]: 100%|███████████████████████████████████████████████████████████████████████████████████████████| 10/10 [00:00<00:00, 218.43it/s, loss=1.45]\n"
     ]
    },
    {
     "name": "stdout",
     "output_type": "stream",
     "text": [
      "Epoch [401/5000]: Train loss: 1.4100, Valid loss: 1.0493\n"
     ]
    },
    {
     "name": "stderr",
     "output_type": "stream",
     "text": [
      "Epoch [402/5000]: 100%|████████████████████████████████████████████████████████████████████████████████████████████| 10/10 [00:00<00:00, 216.01it/s, loss=1.2]\n"
     ]
    },
    {
     "name": "stdout",
     "output_type": "stream",
     "text": [
      "Epoch [402/5000]: Train loss: 1.3373, Valid loss: 1.0139\n"
     ]
    },
    {
     "name": "stderr",
     "output_type": "stream",
     "text": [
      "Epoch [403/5000]: 100%|███████████████████████████████████████████████████████████████████████████████████████████| 10/10 [00:00<00:00, 217.90it/s, loss=1.48]\n"
     ]
    },
    {
     "name": "stdout",
     "output_type": "stream",
     "text": [
      "Epoch [403/5000]: Train loss: 1.3333, Valid loss: 1.0790\n"
     ]
    },
    {
     "name": "stderr",
     "output_type": "stream",
     "text": [
      "Epoch [404/5000]: 100%|████████████████████████████████████████████████████████████████████████████████████████████| 10/10 [00:00<00:00, 96.94it/s, loss=1.22]\n"
     ]
    },
    {
     "name": "stdout",
     "output_type": "stream",
     "text": [
      "Epoch [404/5000]: Train loss: 1.3401, Valid loss: 1.0529\n"
     ]
    },
    {
     "name": "stderr",
     "output_type": "stream",
     "text": [
      "Epoch [405/5000]: 100%|███████████████████████████████████████████████████████████████████████████████████████████| 10/10 [00:00<00:00, 219.56it/s, loss=1.32]\n"
     ]
    },
    {
     "name": "stdout",
     "output_type": "stream",
     "text": [
      "Epoch [405/5000]: Train loss: 1.3571, Valid loss: 1.0280\n"
     ]
    },
    {
     "name": "stderr",
     "output_type": "stream",
     "text": [
      "Epoch [406/5000]: 100%|███████████████████████████████████████████████████████████████████████████████████████████| 10/10 [00:00<00:00, 220.16it/s, loss=1.21]\n"
     ]
    },
    {
     "name": "stdout",
     "output_type": "stream",
     "text": [
      "Epoch [406/5000]: Train loss: 1.3574, Valid loss: 1.0648\n"
     ]
    },
    {
     "name": "stderr",
     "output_type": "stream",
     "text": [
      "Epoch [407/5000]: 100%|███████████████████████████████████████████████████████████████████████████████████████████| 10/10 [00:00<00:00, 222.04it/s, loss=1.37]\n"
     ]
    },
    {
     "name": "stdout",
     "output_type": "stream",
     "text": [
      "Epoch [407/5000]: Train loss: 1.3613, Valid loss: 1.0284\n"
     ]
    },
    {
     "name": "stderr",
     "output_type": "stream",
     "text": [
      "Epoch [408/5000]: 100%|███████████████████████████████████████████████████████████████████████████████████████████| 10/10 [00:00<00:00, 222.03it/s, loss=1.29]\n"
     ]
    },
    {
     "name": "stdout",
     "output_type": "stream",
     "text": [
      "Epoch [408/5000]: Train loss: 1.3420, Valid loss: 1.0907\n"
     ]
    },
    {
     "name": "stderr",
     "output_type": "stream",
     "text": [
      "Epoch [409/5000]: 100%|███████████████████████████████████████████████████████████████████████████████████████████| 10/10 [00:00<00:00, 220.67it/s, loss=1.39]\n"
     ]
    },
    {
     "name": "stdout",
     "output_type": "stream",
     "text": [
      "Epoch [409/5000]: Train loss: 1.3495, Valid loss: 1.0601\n"
     ]
    },
    {
     "name": "stderr",
     "output_type": "stream",
     "text": [
      "Epoch [410/5000]: 100%|████████████████████████████████████████████████████████████████████████████████████████████| 10/10 [00:00<00:00, 97.54it/s, loss=1.09]\n"
     ]
    },
    {
     "name": "stdout",
     "output_type": "stream",
     "text": [
      "Epoch [410/5000]: Train loss: 1.3586, Valid loss: 1.0458\n"
     ]
    },
    {
     "name": "stderr",
     "output_type": "stream",
     "text": [
      "Epoch [411/5000]: 100%|███████████████████████████████████████████████████████████████████████████████████████████| 10/10 [00:00<00:00, 220.13it/s, loss=1.31]\n"
     ]
    },
    {
     "name": "stdout",
     "output_type": "stream",
     "text": [
      "Epoch [411/5000]: Train loss: 1.3358, Valid loss: 1.0814\n"
     ]
    },
    {
     "name": "stderr",
     "output_type": "stream",
     "text": [
      "Epoch [412/5000]: 100%|███████████████████████████████████████████████████████████████████████████████████████████| 10/10 [00:00<00:00, 215.39it/s, loss=1.32]\n"
     ]
    },
    {
     "name": "stdout",
     "output_type": "stream",
     "text": [
      "Epoch [412/5000]: Train loss: 1.3448, Valid loss: 1.0982\n"
     ]
    },
    {
     "name": "stderr",
     "output_type": "stream",
     "text": [
      "Epoch [413/5000]: 100%|███████████████████████████████████████████████████████████████████████████████████████████| 10/10 [00:00<00:00, 219.68it/s, loss=1.41]\n"
     ]
    },
    {
     "name": "stdout",
     "output_type": "stream",
     "text": [
      "Epoch [413/5000]: Train loss: 1.3709, Valid loss: 1.1391\n"
     ]
    },
    {
     "name": "stderr",
     "output_type": "stream",
     "text": [
      "Epoch [414/5000]: 100%|███████████████████████████████████████████████████████████████████████████████████████████| 10/10 [00:00<00:00, 217.82it/s, loss=1.24]\n"
     ]
    },
    {
     "name": "stdout",
     "output_type": "stream",
     "text": [
      "Epoch [414/5000]: Train loss: 1.3742, Valid loss: 1.0418\n"
     ]
    },
    {
     "name": "stderr",
     "output_type": "stream",
     "text": [
      "Epoch [415/5000]: 100%|███████████████████████████████████████████████████████████████████████████████████████████| 10/10 [00:00<00:00, 221.76it/s, loss=1.27]\n"
     ]
    },
    {
     "name": "stdout",
     "output_type": "stream",
     "text": [
      "Epoch [415/5000]: Train loss: 1.3521, Valid loss: 1.0293\n"
     ]
    },
    {
     "name": "stderr",
     "output_type": "stream",
     "text": [
      "Epoch [416/5000]: 100%|████████████████████████████████████████████████████████████████████████████████████████████| 10/10 [00:00<00:00, 97.54it/s, loss=1.31]\n"
     ]
    },
    {
     "name": "stdout",
     "output_type": "stream",
     "text": [
      "Epoch [416/5000]: Train loss: 1.3526, Valid loss: 1.1092\n"
     ]
    },
    {
     "name": "stderr",
     "output_type": "stream",
     "text": [
      "Epoch [417/5000]: 100%|███████████████████████████████████████████████████████████████████████████████████████████| 10/10 [00:00<00:00, 218.93it/s, loss=1.33]\n"
     ]
    },
    {
     "name": "stdout",
     "output_type": "stream",
     "text": [
      "Epoch [417/5000]: Train loss: 1.3785, Valid loss: 1.0107\n"
     ]
    },
    {
     "name": "stderr",
     "output_type": "stream",
     "text": [
      "Epoch [418/5000]: 100%|███████████████████████████████████████████████████████████████████████████████████████████| 10/10 [00:00<00:00, 219.89it/s, loss=1.34]\n"
     ]
    },
    {
     "name": "stdout",
     "output_type": "stream",
     "text": [
      "Epoch [418/5000]: Train loss: 1.3468, Valid loss: 1.0755\n"
     ]
    },
    {
     "name": "stderr",
     "output_type": "stream",
     "text": [
      "Epoch [419/5000]: 100%|███████████████████████████████████████████████████████████████████████████████████████████| 10/10 [00:00<00:00, 221.33it/s, loss=1.54]\n"
     ]
    },
    {
     "name": "stdout",
     "output_type": "stream",
     "text": [
      "Epoch [419/5000]: Train loss: 1.3877, Valid loss: 1.1331\n"
     ]
    },
    {
     "name": "stderr",
     "output_type": "stream",
     "text": [
      "Epoch [420/5000]: 100%|███████████████████████████████████████████████████████████████████████████████████████████| 10/10 [00:00<00:00, 217.32it/s, loss=1.28]\n"
     ]
    },
    {
     "name": "stdout",
     "output_type": "stream",
     "text": [
      "Epoch [420/5000]: Train loss: 1.3700, Valid loss: 1.0564\n"
     ]
    },
    {
     "name": "stderr",
     "output_type": "stream",
     "text": [
      "Epoch [421/5000]: 100%|███████████████████████████████████████████████████████████████████████████████████████████| 10/10 [00:00<00:00, 219.25it/s, loss=1.41]\n"
     ]
    },
    {
     "name": "stdout",
     "output_type": "stream",
     "text": [
      "Epoch [421/5000]: Train loss: 1.3652, Valid loss: 1.0893\n"
     ]
    },
    {
     "name": "stderr",
     "output_type": "stream",
     "text": [
      "Epoch [422/5000]: 100%|████████████████████████████████████████████████████████████████████████████████████████████| 10/10 [00:00<00:00, 97.19it/s, loss=1.45]\n"
     ]
    },
    {
     "name": "stdout",
     "output_type": "stream",
     "text": [
      "Epoch [422/5000]: Train loss: 1.3649, Valid loss: 1.0907\n"
     ]
    },
    {
     "name": "stderr",
     "output_type": "stream",
     "text": [
      "Epoch [423/5000]: 100%|███████████████████████████████████████████████████████████████████████████████████████████| 10/10 [00:00<00:00, 220.50it/s, loss=1.28]\n"
     ]
    },
    {
     "name": "stdout",
     "output_type": "stream",
     "text": [
      "Epoch [423/5000]: Train loss: 1.3626, Valid loss: 1.0426\n"
     ]
    },
    {
     "name": "stderr",
     "output_type": "stream",
     "text": [
      "Epoch [424/5000]: 100%|███████████████████████████████████████████████████████████████████████████████████████████| 10/10 [00:00<00:00, 218.66it/s, loss=1.47]\n"
     ]
    },
    {
     "name": "stdout",
     "output_type": "stream",
     "text": [
      "Epoch [424/5000]: Train loss: 1.3661, Valid loss: 1.0960\n"
     ]
    },
    {
     "name": "stderr",
     "output_type": "stream",
     "text": [
      "Epoch [425/5000]: 100%|███████████████████████████████████████████████████████████████████████████████████████████| 10/10 [00:00<00:00, 220.05it/s, loss=1.57]\n"
     ]
    },
    {
     "name": "stdout",
     "output_type": "stream",
     "text": [
      "Epoch [425/5000]: Train loss: 1.3780, Valid loss: 1.0980\n"
     ]
    },
    {
     "name": "stderr",
     "output_type": "stream",
     "text": [
      "Epoch [426/5000]: 100%|███████████████████████████████████████████████████████████████████████████████████████████| 10/10 [00:00<00:00, 216.08it/s, loss=1.33]\n"
     ]
    },
    {
     "name": "stdout",
     "output_type": "stream",
     "text": [
      "Epoch [426/5000]: Train loss: 1.3784, Valid loss: 1.0257\n"
     ]
    },
    {
     "name": "stderr",
     "output_type": "stream",
     "text": [
      "Epoch [427/5000]: 100%|████████████████████████████████████████████████████████████████████████████████████████████| 10/10 [00:00<00:00, 218.07it/s, loss=1.3]\n"
     ]
    },
    {
     "name": "stdout",
     "output_type": "stream",
     "text": [
      "Epoch [427/5000]: Train loss: 1.3335, Valid loss: 1.0677\n"
     ]
    },
    {
     "name": "stderr",
     "output_type": "stream",
     "text": [
      "Epoch [428/5000]: 100%|████████████████████████████████████████████████████████████████████████████████████████████| 10/10 [00:00<00:00, 96.88it/s, loss=1.49]\n"
     ]
    },
    {
     "name": "stdout",
     "output_type": "stream",
     "text": [
      "Epoch [428/5000]: Train loss: 1.3822, Valid loss: 1.0866\n"
     ]
    },
    {
     "name": "stderr",
     "output_type": "stream",
     "text": [
      "Epoch [429/5000]: 100%|███████████████████████████████████████████████████████████████████████████████████████████| 10/10 [00:00<00:00, 223.07it/s, loss=1.47]\n"
     ]
    },
    {
     "name": "stdout",
     "output_type": "stream",
     "text": [
      "Epoch [429/5000]: Train loss: 1.3700, Valid loss: 1.1200\n"
     ]
    },
    {
     "name": "stderr",
     "output_type": "stream",
     "text": [
      "Epoch [430/5000]: 100%|███████████████████████████████████████████████████████████████████████████████████████████| 10/10 [00:00<00:00, 217.09it/s, loss=1.34]\n"
     ]
    },
    {
     "name": "stdout",
     "output_type": "stream",
     "text": [
      "Epoch [430/5000]: Train loss: 1.3649, Valid loss: 1.0466\n"
     ]
    },
    {
     "name": "stderr",
     "output_type": "stream",
     "text": [
      "Epoch [431/5000]: 100%|███████████████████████████████████████████████████████████████████████████████████████████| 10/10 [00:00<00:00, 207.39it/s, loss=1.27]\n"
     ]
    },
    {
     "name": "stdout",
     "output_type": "stream",
     "text": [
      "Epoch [431/5000]: Train loss: 1.3502, Valid loss: 1.1472\n"
     ]
    },
    {
     "name": "stderr",
     "output_type": "stream",
     "text": [
      "Epoch [432/5000]: 100%|███████████████████████████████████████████████████████████████████████████████████████████| 10/10 [00:00<00:00, 217.71it/s, loss=1.43]\n"
     ]
    },
    {
     "name": "stdout",
     "output_type": "stream",
     "text": [
      "Epoch [432/5000]: Train loss: 1.3574, Valid loss: 1.1110\n"
     ]
    },
    {
     "name": "stderr",
     "output_type": "stream",
     "text": [
      "Epoch [433/5000]: 100%|███████████████████████████████████████████████████████████████████████████████████████████| 10/10 [00:00<00:00, 218.32it/s, loss=1.25]\n"
     ]
    },
    {
     "name": "stdout",
     "output_type": "stream",
     "text": [
      "Epoch [433/5000]: Train loss: 1.3580, Valid loss: 1.0121\n"
     ]
    },
    {
     "name": "stderr",
     "output_type": "stream",
     "text": [
      "Epoch [434/5000]: 100%|████████████████████████████████████████████████████████████████████████████████████████████| 10/10 [00:00<00:00, 95.83it/s, loss=1.25]\n"
     ]
    },
    {
     "name": "stdout",
     "output_type": "stream",
     "text": [
      "Epoch [434/5000]: Train loss: 1.3349, Valid loss: 1.0953\n"
     ]
    },
    {
     "name": "stderr",
     "output_type": "stream",
     "text": [
      "Epoch [435/5000]: 100%|████████████████████████████████████████████████████████████████████████████████████████████| 10/10 [00:00<00:00, 213.38it/s, loss=1.7]\n"
     ]
    },
    {
     "name": "stdout",
     "output_type": "stream",
     "text": [
      "Epoch [435/5000]: Train loss: 1.3815, Valid loss: 1.0392\n"
     ]
    },
    {
     "name": "stderr",
     "output_type": "stream",
     "text": [
      "Epoch [436/5000]: 100%|███████████████████████████████████████████████████████████████████████████████████████████| 10/10 [00:00<00:00, 216.77it/s, loss=1.21]\n"
     ]
    },
    {
     "name": "stdout",
     "output_type": "stream",
     "text": [
      "Epoch [436/5000]: Train loss: 1.3370, Valid loss: 1.0868\n"
     ]
    },
    {
     "name": "stderr",
     "output_type": "stream",
     "text": [
      "Epoch [437/5000]: 100%|████████████████████████████████████████████████████████████████████████████████████████████| 10/10 [00:00<00:00, 218.60it/s, loss=1.3]\n"
     ]
    },
    {
     "name": "stdout",
     "output_type": "stream",
     "text": [
      "Epoch [437/5000]: Train loss: 1.3244, Valid loss: 1.0261\n"
     ]
    },
    {
     "name": "stderr",
     "output_type": "stream",
     "text": [
      "Epoch [438/5000]: 100%|███████████████████████████████████████████████████████████████████████████████████████████| 10/10 [00:00<00:00, 217.59it/s, loss=1.32]\n"
     ]
    },
    {
     "name": "stdout",
     "output_type": "stream",
     "text": [
      "Epoch [438/5000]: Train loss: 1.3951, Valid loss: 1.0958\n"
     ]
    },
    {
     "name": "stderr",
     "output_type": "stream",
     "text": [
      "Epoch [439/5000]: 100%|███████████████████████████████████████████████████████████████████████████████████████████| 10/10 [00:00<00:00, 217.41it/s, loss=1.31]\n"
     ]
    },
    {
     "name": "stdout",
     "output_type": "stream",
     "text": [
      "Epoch [439/5000]: Train loss: 1.3587, Valid loss: 1.0685\n"
     ]
    },
    {
     "name": "stderr",
     "output_type": "stream",
     "text": [
      "Epoch [440/5000]: 100%|████████████████████████████████████████████████████████████████████████████████████████████| 10/10 [00:00<00:00, 96.29it/s, loss=1.42]\n"
     ]
    },
    {
     "name": "stdout",
     "output_type": "stream",
     "text": [
      "Epoch [440/5000]: Train loss: 1.3813, Valid loss: 0.9959\n"
     ]
    },
    {
     "name": "stderr",
     "output_type": "stream",
     "text": [
      "Epoch [441/5000]: 100%|███████████████████████████████████████████████████████████████████████████████████████████| 10/10 [00:00<00:00, 217.80it/s, loss=1.35]\n"
     ]
    },
    {
     "name": "stdout",
     "output_type": "stream",
     "text": [
      "Epoch [441/5000]: Train loss: 1.3527, Valid loss: 1.0648\n"
     ]
    },
    {
     "name": "stderr",
     "output_type": "stream",
     "text": [
      "Epoch [442/5000]: 100%|████████████████████████████████████████████████████████████████████████████████████████████| 10/10 [00:00<00:00, 212.61it/s, loss=1.2]\n"
     ]
    },
    {
     "name": "stdout",
     "output_type": "stream",
     "text": [
      "Epoch [442/5000]: Train loss: 1.3471, Valid loss: 1.0417\n"
     ]
    },
    {
     "name": "stderr",
     "output_type": "stream",
     "text": [
      "Epoch [443/5000]: 100%|███████████████████████████████████████████████████████████████████████████████████████████| 10/10 [00:00<00:00, 218.24it/s, loss=1.28]\n"
     ]
    },
    {
     "name": "stdout",
     "output_type": "stream",
     "text": [
      "Epoch [443/5000]: Train loss: 1.3447, Valid loss: 1.0527\n"
     ]
    },
    {
     "name": "stderr",
     "output_type": "stream",
     "text": [
      "Epoch [444/5000]: 100%|███████████████████████████████████████████████████████████████████████████████████████████| 10/10 [00:00<00:00, 217.13it/s, loss=1.35]\n"
     ]
    },
    {
     "name": "stdout",
     "output_type": "stream",
     "text": [
      "Epoch [444/5000]: Train loss: 1.3643, Valid loss: 1.0058\n"
     ]
    },
    {
     "name": "stderr",
     "output_type": "stream",
     "text": [
      "Epoch [445/5000]: 100%|███████████████████████████████████████████████████████████████████████████████████████████| 10/10 [00:00<00:00, 218.80it/s, loss=1.27]\n"
     ]
    },
    {
     "name": "stdout",
     "output_type": "stream",
     "text": [
      "Epoch [445/5000]: Train loss: 1.3182, Valid loss: 1.0267\n"
     ]
    },
    {
     "name": "stderr",
     "output_type": "stream",
     "text": [
      "Epoch [446/5000]: 100%|████████████████████████████████████████████████████████████████████████████████████████████| 10/10 [00:00<00:00, 96.06it/s, loss=1.36]\n"
     ]
    },
    {
     "name": "stdout",
     "output_type": "stream",
     "text": [
      "Epoch [446/5000]: Train loss: 1.3423, Valid loss: 1.0667\n"
     ]
    },
    {
     "name": "stderr",
     "output_type": "stream",
     "text": [
      "Epoch [447/5000]: 100%|███████████████████████████████████████████████████████████████████████████████████████████| 10/10 [00:00<00:00, 222.44it/s, loss=1.36]\n"
     ]
    },
    {
     "name": "stdout",
     "output_type": "stream",
     "text": [
      "Epoch [447/5000]: Train loss: 1.3376, Valid loss: 1.0707\n"
     ]
    },
    {
     "name": "stderr",
     "output_type": "stream",
     "text": [
      "Epoch [448/5000]: 100%|███████████████████████████████████████████████████████████████████████████████████████████| 10/10 [00:00<00:00, 211.93it/s, loss=1.33]\n"
     ]
    },
    {
     "name": "stdout",
     "output_type": "stream",
     "text": [
      "Epoch [448/5000]: Train loss: 1.3697, Valid loss: 1.0775\n"
     ]
    },
    {
     "name": "stderr",
     "output_type": "stream",
     "text": [
      "Epoch [449/5000]: 100%|███████████████████████████████████████████████████████████████████████████████████████████| 10/10 [00:00<00:00, 219.58it/s, loss=1.49]\n"
     ]
    },
    {
     "name": "stdout",
     "output_type": "stream",
     "text": [
      "Epoch [449/5000]: Train loss: 1.3658, Valid loss: 1.0452\n"
     ]
    },
    {
     "name": "stderr",
     "output_type": "stream",
     "text": [
      "Epoch [450/5000]: 100%|███████████████████████████████████████████████████████████████████████████████████████████| 10/10 [00:00<00:00, 216.79it/s, loss=1.49]\n"
     ]
    },
    {
     "name": "stdout",
     "output_type": "stream",
     "text": [
      "Epoch [450/5000]: Train loss: 1.3765, Valid loss: 1.0200\n"
     ]
    },
    {
     "name": "stderr",
     "output_type": "stream",
     "text": [
      "Epoch [451/5000]: 100%|███████████████████████████████████████████████████████████████████████████████████████████| 10/10 [00:00<00:00, 215.48it/s, loss=1.22]\n"
     ]
    },
    {
     "name": "stdout",
     "output_type": "stream",
     "text": [
      "Epoch [451/5000]: Train loss: 1.3608, Valid loss: 1.0104\n"
     ]
    },
    {
     "name": "stderr",
     "output_type": "stream",
     "text": [
      "Epoch [452/5000]: 100%|████████████████████████████████████████████████████████████████████████████████████████████| 10/10 [00:00<00:00, 97.55it/s, loss=1.34]\n"
     ]
    },
    {
     "name": "stdout",
     "output_type": "stream",
     "text": [
      "Epoch [452/5000]: Train loss: 1.3480, Valid loss: 0.9931\n"
     ]
    },
    {
     "name": "stderr",
     "output_type": "stream",
     "text": [
      "Epoch [453/5000]: 100%|███████████████████████████████████████████████████████████████████████████████████████████| 10/10 [00:00<00:00, 211.55it/s, loss=1.38]\n"
     ]
    },
    {
     "name": "stdout",
     "output_type": "stream",
     "text": [
      "Epoch [453/5000]: Train loss: 1.3479, Valid loss: 1.0229\n"
     ]
    },
    {
     "name": "stderr",
     "output_type": "stream",
     "text": [
      "Epoch [454/5000]: 100%|███████████████████████████████████████████████████████████████████████████████████████████| 10/10 [00:00<00:00, 214.95it/s, loss=1.25]\n"
     ]
    },
    {
     "name": "stdout",
     "output_type": "stream",
     "text": [
      "Epoch [454/5000]: Train loss: 1.3427, Valid loss: 1.0638\n"
     ]
    },
    {
     "name": "stderr",
     "output_type": "stream",
     "text": [
      "Epoch [455/5000]: 100%|███████████████████████████████████████████████████████████████████████████████████████████| 10/10 [00:00<00:00, 215.46it/s, loss=1.33]\n"
     ]
    },
    {
     "name": "stdout",
     "output_type": "stream",
     "text": [
      "Epoch [455/5000]: Train loss: 1.3754, Valid loss: 1.1270\n"
     ]
    },
    {
     "name": "stderr",
     "output_type": "stream",
     "text": [
      "Epoch [456/5000]: 100%|███████████████████████████████████████████████████████████████████████████████████████████| 10/10 [00:00<00:00, 214.69it/s, loss=1.45]\n"
     ]
    },
    {
     "name": "stdout",
     "output_type": "stream",
     "text": [
      "Epoch [456/5000]: Train loss: 1.3803, Valid loss: 1.1062\n"
     ]
    },
    {
     "name": "stderr",
     "output_type": "stream",
     "text": [
      "Epoch [457/5000]: 100%|███████████████████████████████████████████████████████████████████████████████████████████| 10/10 [00:00<00:00, 217.44it/s, loss=1.36]\n"
     ]
    },
    {
     "name": "stdout",
     "output_type": "stream",
     "text": [
      "Epoch [457/5000]: Train loss: 1.3538, Valid loss: 1.0267\n"
     ]
    },
    {
     "name": "stderr",
     "output_type": "stream",
     "text": [
      "Epoch [458/5000]: 100%|████████████████████████████████████████████████████████████████████████████████████████████| 10/10 [00:00<00:00, 96.35it/s, loss=1.27]\n"
     ]
    },
    {
     "name": "stdout",
     "output_type": "stream",
     "text": [
      "Epoch [458/5000]: Train loss: 1.3566, Valid loss: 0.9858\n",
      "Saving model with loss 0.986...\n"
     ]
    },
    {
     "name": "stderr",
     "output_type": "stream",
     "text": [
      "Epoch [459/5000]: 100%|███████████████████████████████████████████████████████████████████████████████████████████| 10/10 [00:00<00:00, 214.16it/s, loss=1.37]\n"
     ]
    },
    {
     "name": "stdout",
     "output_type": "stream",
     "text": [
      "Epoch [459/5000]: Train loss: 1.3670, Valid loss: 1.0216\n"
     ]
    },
    {
     "name": "stderr",
     "output_type": "stream",
     "text": [
      "Epoch [460/5000]: 100%|███████████████████████████████████████████████████████████████████████████████████████████| 10/10 [00:00<00:00, 209.23it/s, loss=1.45]\n"
     ]
    },
    {
     "name": "stdout",
     "output_type": "stream",
     "text": [
      "Epoch [460/5000]: Train loss: 1.3272, Valid loss: 1.0834\n"
     ]
    },
    {
     "name": "stderr",
     "output_type": "stream",
     "text": [
      "Epoch [461/5000]: 100%|███████████████████████████████████████████████████████████████████████████████████████████| 10/10 [00:00<00:00, 217.86it/s, loss=1.34]\n"
     ]
    },
    {
     "name": "stdout",
     "output_type": "stream",
     "text": [
      "Epoch [461/5000]: Train loss: 1.3606, Valid loss: 1.0582\n"
     ]
    },
    {
     "name": "stderr",
     "output_type": "stream",
     "text": [
      "Epoch [462/5000]: 100%|███████████████████████████████████████████████████████████████████████████████████████████| 10/10 [00:00<00:00, 219.31it/s, loss=1.36]\n"
     ]
    },
    {
     "name": "stdout",
     "output_type": "stream",
     "text": [
      "Epoch [462/5000]: Train loss: 1.3681, Valid loss: 1.0485\n"
     ]
    },
    {
     "name": "stderr",
     "output_type": "stream",
     "text": [
      "Epoch [463/5000]: 100%|████████████████████████████████████████████████████████████████████████████████████████████| 10/10 [00:00<00:00, 221.17it/s, loss=1.4]\n"
     ]
    },
    {
     "name": "stdout",
     "output_type": "stream",
     "text": [
      "Epoch [463/5000]: Train loss: 1.3623, Valid loss: 1.0220\n"
     ]
    },
    {
     "name": "stderr",
     "output_type": "stream",
     "text": [
      "Epoch [464/5000]: 100%|████████████████████████████████████████████████████████████████████████████████████████████| 10/10 [00:00<00:00, 97.77it/s, loss=1.15]\n"
     ]
    },
    {
     "name": "stdout",
     "output_type": "stream",
     "text": [
      "Epoch [464/5000]: Train loss: 1.3425, Valid loss: 1.0663\n"
     ]
    },
    {
     "name": "stderr",
     "output_type": "stream",
     "text": [
      "Epoch [465/5000]: 100%|███████████████████████████████████████████████████████████████████████████████████████████| 10/10 [00:00<00:00, 217.78it/s, loss=1.25]\n"
     ]
    },
    {
     "name": "stdout",
     "output_type": "stream",
     "text": [
      "Epoch [465/5000]: Train loss: 1.3626, Valid loss: 1.0178\n"
     ]
    },
    {
     "name": "stderr",
     "output_type": "stream",
     "text": [
      "Epoch [466/5000]: 100%|████████████████████████████████████████████████████████████████████████████████████████████| 10/10 [00:00<00:00, 216.59it/s, loss=1.3]\n"
     ]
    },
    {
     "name": "stdout",
     "output_type": "stream",
     "text": [
      "Epoch [466/5000]: Train loss: 1.3419, Valid loss: 1.0502\n"
     ]
    },
    {
     "name": "stderr",
     "output_type": "stream",
     "text": [
      "Epoch [467/5000]: 100%|███████████████████████████████████████████████████████████████████████████████████████████| 10/10 [00:00<00:00, 218.65it/s, loss=1.42]\n"
     ]
    },
    {
     "name": "stdout",
     "output_type": "stream",
     "text": [
      "Epoch [467/5000]: Train loss: 1.3514, Valid loss: 1.0561\n"
     ]
    },
    {
     "name": "stderr",
     "output_type": "stream",
     "text": [
      "Epoch [468/5000]: 100%|███████████████████████████████████████████████████████████████████████████████████████████| 10/10 [00:00<00:00, 220.20it/s, loss=1.36]\n"
     ]
    },
    {
     "name": "stdout",
     "output_type": "stream",
     "text": [
      "Epoch [468/5000]: Train loss: 1.3484, Valid loss: 1.0354\n"
     ]
    },
    {
     "name": "stderr",
     "output_type": "stream",
     "text": [
      "Epoch [469/5000]: 100%|███████████████████████████████████████████████████████████████████████████████████████████| 10/10 [00:00<00:00, 222.59it/s, loss=1.46]\n"
     ]
    },
    {
     "name": "stdout",
     "output_type": "stream",
     "text": [
      "Epoch [469/5000]: Train loss: 1.3737, Valid loss: 1.0687\n"
     ]
    },
    {
     "name": "stderr",
     "output_type": "stream",
     "text": [
      "Epoch [470/5000]: 100%|████████████████████████████████████████████████████████████████████████████████████████████| 10/10 [00:00<00:00, 97.35it/s, loss=1.29]\n"
     ]
    },
    {
     "name": "stdout",
     "output_type": "stream",
     "text": [
      "Epoch [470/5000]: Train loss: 1.3306, Valid loss: 1.0208\n"
     ]
    },
    {
     "name": "stderr",
     "output_type": "stream",
     "text": [
      "Epoch [471/5000]: 100%|███████████████████████████████████████████████████████████████████████████████████████████| 10/10 [00:00<00:00, 212.84it/s, loss=1.37]\n"
     ]
    },
    {
     "name": "stdout",
     "output_type": "stream",
     "text": [
      "Epoch [471/5000]: Train loss: 1.3688, Valid loss: 1.0912\n"
     ]
    },
    {
     "name": "stderr",
     "output_type": "stream",
     "text": [
      "Epoch [472/5000]: 100%|███████████████████████████████████████████████████████████████████████████████████████████| 10/10 [00:00<00:00, 216.74it/s, loss=1.06]\n"
     ]
    },
    {
     "name": "stdout",
     "output_type": "stream",
     "text": [
      "Epoch [472/5000]: Train loss: 1.3382, Valid loss: 1.1308\n"
     ]
    },
    {
     "name": "stderr",
     "output_type": "stream",
     "text": [
      "Epoch [473/5000]: 100%|███████████████████████████████████████████████████████████████████████████████████████████| 10/10 [00:00<00:00, 218.15it/s, loss=1.45]\n"
     ]
    },
    {
     "name": "stdout",
     "output_type": "stream",
     "text": [
      "Epoch [473/5000]: Train loss: 1.3403, Valid loss: 1.0024\n"
     ]
    },
    {
     "name": "stderr",
     "output_type": "stream",
     "text": [
      "Epoch [474/5000]: 100%|███████████████████████████████████████████████████████████████████████████████████████████| 10/10 [00:00<00:00, 219.87it/s, loss=1.46]\n"
     ]
    },
    {
     "name": "stdout",
     "output_type": "stream",
     "text": [
      "Epoch [474/5000]: Train loss: 1.3316, Valid loss: 1.1990\n"
     ]
    },
    {
     "name": "stderr",
     "output_type": "stream",
     "text": [
      "Epoch [475/5000]: 100%|███████████████████████████████████████████████████████████████████████████████████████████| 10/10 [00:00<00:00, 220.85it/s, loss=1.39]\n"
     ]
    },
    {
     "name": "stdout",
     "output_type": "stream",
     "text": [
      "Epoch [475/5000]: Train loss: 1.3603, Valid loss: 1.0281\n"
     ]
    },
    {
     "name": "stderr",
     "output_type": "stream",
     "text": [
      "Epoch [476/5000]: 100%|█████████████████████████████████████████████████████████████████████████████████████████████| 10/10 [00:00<00:00, 97.35it/s, loss=1.5]\n"
     ]
    },
    {
     "name": "stdout",
     "output_type": "stream",
     "text": [
      "Epoch [476/5000]: Train loss: 1.3413, Valid loss: 1.1069\n"
     ]
    },
    {
     "name": "stderr",
     "output_type": "stream",
     "text": [
      "Epoch [477/5000]: 100%|███████████████████████████████████████████████████████████████████████████████████████████| 10/10 [00:00<00:00, 219.16it/s, loss=1.28]\n"
     ]
    },
    {
     "name": "stdout",
     "output_type": "stream",
     "text": [
      "Epoch [477/5000]: Train loss: 1.3376, Valid loss: 1.0739\n"
     ]
    },
    {
     "name": "stderr",
     "output_type": "stream",
     "text": [
      "Epoch [478/5000]: 100%|███████████████████████████████████████████████████████████████████████████████████████████| 10/10 [00:00<00:00, 220.43it/s, loss=1.23]\n"
     ]
    },
    {
     "name": "stdout",
     "output_type": "stream",
     "text": [
      "Epoch [478/5000]: Train loss: 1.3528, Valid loss: 1.0091\n"
     ]
    },
    {
     "name": "stderr",
     "output_type": "stream",
     "text": [
      "Epoch [479/5000]: 100%|███████████████████████████████████████████████████████████████████████████████████████████| 10/10 [00:00<00:00, 218.44it/s, loss=1.18]\n"
     ]
    },
    {
     "name": "stdout",
     "output_type": "stream",
     "text": [
      "Epoch [479/5000]: Train loss: 1.3359, Valid loss: 1.0893\n"
     ]
    },
    {
     "name": "stderr",
     "output_type": "stream",
     "text": [
      "Epoch [480/5000]: 100%|███████████████████████████████████████████████████████████████████████████████████████████| 10/10 [00:00<00:00, 221.31it/s, loss=1.18]\n"
     ]
    },
    {
     "name": "stdout",
     "output_type": "stream",
     "text": [
      "Epoch [480/5000]: Train loss: 1.3098, Valid loss: 1.0945\n"
     ]
    },
    {
     "name": "stderr",
     "output_type": "stream",
     "text": [
      "Epoch [481/5000]: 100%|███████████████████████████████████████████████████████████████████████████████████████████| 10/10 [00:00<00:00, 219.32it/s, loss=1.43]\n"
     ]
    },
    {
     "name": "stdout",
     "output_type": "stream",
     "text": [
      "Epoch [481/5000]: Train loss: 1.3308, Valid loss: 1.0049\n"
     ]
    },
    {
     "name": "stderr",
     "output_type": "stream",
     "text": [
      "Epoch [482/5000]: 100%|█████████████████████████████████████████████████████████████████████████████████████████████| 10/10 [00:00<00:00, 97.50it/s, loss=1.4]\n"
     ]
    },
    {
     "name": "stdout",
     "output_type": "stream",
     "text": [
      "Epoch [482/5000]: Train loss: 1.3607, Valid loss: 1.0761\n"
     ]
    },
    {
     "name": "stderr",
     "output_type": "stream",
     "text": [
      "Epoch [483/5000]: 100%|████████████████████████████████████████████████████████████████████████████████████████████| 10/10 [00:00<00:00, 218.19it/s, loss=1.3]\n"
     ]
    },
    {
     "name": "stdout",
     "output_type": "stream",
     "text": [
      "Epoch [483/5000]: Train loss: 1.3379, Valid loss: 1.0259\n"
     ]
    },
    {
     "name": "stderr",
     "output_type": "stream",
     "text": [
      "Epoch [484/5000]: 100%|███████████████████████████████████████████████████████████████████████████████████████████| 10/10 [00:00<00:00, 220.98it/s, loss=1.46]\n"
     ]
    },
    {
     "name": "stdout",
     "output_type": "stream",
     "text": [
      "Epoch [484/5000]: Train loss: 1.3332, Valid loss: 1.0646\n"
     ]
    },
    {
     "name": "stderr",
     "output_type": "stream",
     "text": [
      "Epoch [485/5000]: 100%|███████████████████████████████████████████████████████████████████████████████████████████| 10/10 [00:00<00:00, 221.97it/s, loss=1.51]\n"
     ]
    },
    {
     "name": "stdout",
     "output_type": "stream",
     "text": [
      "Epoch [485/5000]: Train loss: 1.4184, Valid loss: 1.0777\n"
     ]
    },
    {
     "name": "stderr",
     "output_type": "stream",
     "text": [
      "Epoch [486/5000]: 100%|███████████████████████████████████████████████████████████████████████████████████████████| 10/10 [00:00<00:00, 220.41it/s, loss=1.35]\n"
     ]
    },
    {
     "name": "stdout",
     "output_type": "stream",
     "text": [
      "Epoch [486/5000]: Train loss: 1.3527, Valid loss: 1.0106\n"
     ]
    },
    {
     "name": "stderr",
     "output_type": "stream",
     "text": [
      "Epoch [487/5000]: 100%|███████████████████████████████████████████████████████████████████████████████████████████| 10/10 [00:00<00:00, 221.76it/s, loss=1.37]\n"
     ]
    },
    {
     "name": "stdout",
     "output_type": "stream",
     "text": [
      "Epoch [487/5000]: Train loss: 1.3552, Valid loss: 1.1114\n"
     ]
    },
    {
     "name": "stderr",
     "output_type": "stream",
     "text": [
      "Epoch [488/5000]: 100%|█████████████████████████████████████████████████████████████████████████████████████████████| 10/10 [00:00<00:00, 97.65it/s, loss=1.3]\n"
     ]
    },
    {
     "name": "stdout",
     "output_type": "stream",
     "text": [
      "Epoch [488/5000]: Train loss: 1.3445, Valid loss: 1.0342\n"
     ]
    },
    {
     "name": "stderr",
     "output_type": "stream",
     "text": [
      "Epoch [489/5000]: 100%|███████████████████████████████████████████████████████████████████████████████████████████| 10/10 [00:00<00:00, 213.06it/s, loss=1.41]\n"
     ]
    },
    {
     "name": "stdout",
     "output_type": "stream",
     "text": [
      "Epoch [489/5000]: Train loss: 1.3485, Valid loss: 1.0995\n"
     ]
    },
    {
     "name": "stderr",
     "output_type": "stream",
     "text": [
      "Epoch [490/5000]: 100%|███████████████████████████████████████████████████████████████████████████████████████████| 10/10 [00:00<00:00, 214.54it/s, loss=1.32]\n"
     ]
    },
    {
     "name": "stdout",
     "output_type": "stream",
     "text": [
      "Epoch [490/5000]: Train loss: 1.3588, Valid loss: 1.0257\n"
     ]
    },
    {
     "name": "stderr",
     "output_type": "stream",
     "text": [
      "Epoch [491/5000]: 100%|████████████████████████████████████████████████████████████████████████████████████████████| 10/10 [00:00<00:00, 217.83it/s, loss=1.3]\n"
     ]
    },
    {
     "name": "stdout",
     "output_type": "stream",
     "text": [
      "Epoch [491/5000]: Train loss: 1.3404, Valid loss: 1.0306\n"
     ]
    },
    {
     "name": "stderr",
     "output_type": "stream",
     "text": [
      "Epoch [492/5000]: 100%|███████████████████████████████████████████████████████████████████████████████████████████| 10/10 [00:00<00:00, 217.00it/s, loss=1.31]\n"
     ]
    },
    {
     "name": "stdout",
     "output_type": "stream",
     "text": [
      "Epoch [492/5000]: Train loss: 1.3325, Valid loss: 1.0222\n"
     ]
    },
    {
     "name": "stderr",
     "output_type": "stream",
     "text": [
      "Epoch [493/5000]: 100%|███████████████████████████████████████████████████████████████████████████████████████████| 10/10 [00:00<00:00, 217.48it/s, loss=1.31]\n"
     ]
    },
    {
     "name": "stdout",
     "output_type": "stream",
     "text": [
      "Epoch [493/5000]: Train loss: 1.3407, Valid loss: 1.0953\n"
     ]
    },
    {
     "name": "stderr",
     "output_type": "stream",
     "text": [
      "Epoch [494/5000]: 100%|████████████████████████████████████████████████████████████████████████████████████████████| 10/10 [00:00<00:00, 96.78it/s, loss=1.22]\n"
     ]
    },
    {
     "name": "stdout",
     "output_type": "stream",
     "text": [
      "Epoch [494/5000]: Train loss: 1.3728, Valid loss: 1.1341\n"
     ]
    },
    {
     "name": "stderr",
     "output_type": "stream",
     "text": [
      "Epoch [495/5000]: 100%|███████████████████████████████████████████████████████████████████████████████████████████| 10/10 [00:00<00:00, 217.28it/s, loss=1.48]\n"
     ]
    },
    {
     "name": "stdout",
     "output_type": "stream",
     "text": [
      "Epoch [495/5000]: Train loss: 1.4138, Valid loss: 1.1017\n"
     ]
    },
    {
     "name": "stderr",
     "output_type": "stream",
     "text": [
      "Epoch [496/5000]: 100%|████████████████████████████████████████████████████████████████████████████████████████████| 10/10 [00:00<00:00, 216.13it/s, loss=1.4]\n"
     ]
    },
    {
     "name": "stdout",
     "output_type": "stream",
     "text": [
      "Epoch [496/5000]: Train loss: 1.3979, Valid loss: 1.0948\n"
     ]
    },
    {
     "name": "stderr",
     "output_type": "stream",
     "text": [
      "Epoch [497/5000]: 100%|███████████████████████████████████████████████████████████████████████████████████████████| 10/10 [00:00<00:00, 216.84it/s, loss=1.51]\n"
     ]
    },
    {
     "name": "stdout",
     "output_type": "stream",
     "text": [
      "Epoch [497/5000]: Train loss: 1.3499, Valid loss: 1.0523\n"
     ]
    },
    {
     "name": "stderr",
     "output_type": "stream",
     "text": [
      "Epoch [498/5000]: 100%|███████████████████████████████████████████████████████████████████████████████████████████| 10/10 [00:00<00:00, 217.66it/s, loss=1.48]\n"
     ]
    },
    {
     "name": "stdout",
     "output_type": "stream",
     "text": [
      "Epoch [498/5000]: Train loss: 1.3618, Valid loss: 1.1091\n"
     ]
    },
    {
     "name": "stderr",
     "output_type": "stream",
     "text": [
      "Epoch [499/5000]: 100%|███████████████████████████████████████████████████████████████████████████████████████████| 10/10 [00:00<00:00, 220.28it/s, loss=1.38]\n"
     ]
    },
    {
     "name": "stdout",
     "output_type": "stream",
     "text": [
      "Epoch [499/5000]: Train loss: 1.3662, Valid loss: 1.0609\n"
     ]
    },
    {
     "name": "stderr",
     "output_type": "stream",
     "text": [
      "Epoch [500/5000]: 100%|████████████████████████████████████████████████████████████████████████████████████████████| 10/10 [00:00<00:00, 97.34it/s, loss=1.21]\n"
     ]
    },
    {
     "name": "stdout",
     "output_type": "stream",
     "text": [
      "Epoch [500/5000]: Train loss: 1.3484, Valid loss: 1.0229\n"
     ]
    },
    {
     "name": "stderr",
     "output_type": "stream",
     "text": [
      "Epoch [501/5000]: 100%|███████████████████████████████████████████████████████████████████████████████████████████| 10/10 [00:00<00:00, 218.21it/s, loss=1.25]\n"
     ]
    },
    {
     "name": "stdout",
     "output_type": "stream",
     "text": [
      "Epoch [501/5000]: Train loss: 1.3409, Valid loss: 1.0819\n"
     ]
    },
    {
     "name": "stderr",
     "output_type": "stream",
     "text": [
      "Epoch [502/5000]: 100%|███████████████████████████████████████████████████████████████████████████████████████████| 10/10 [00:00<00:00, 214.75it/s, loss=1.35]\n"
     ]
    },
    {
     "name": "stdout",
     "output_type": "stream",
     "text": [
      "Epoch [502/5000]: Train loss: 1.3371, Valid loss: 1.0340\n"
     ]
    },
    {
     "name": "stderr",
     "output_type": "stream",
     "text": [
      "Epoch [503/5000]: 100%|███████████████████████████████████████████████████████████████████████████████████████████| 10/10 [00:00<00:00, 216.91it/s, loss=1.46]\n"
     ]
    },
    {
     "name": "stdout",
     "output_type": "stream",
     "text": [
      "Epoch [503/5000]: Train loss: 1.3320, Valid loss: 1.0522\n"
     ]
    },
    {
     "name": "stderr",
     "output_type": "stream",
     "text": [
      "Epoch [504/5000]: 100%|███████████████████████████████████████████████████████████████████████████████████████████| 10/10 [00:00<00:00, 215.31it/s, loss=1.27]\n"
     ]
    },
    {
     "name": "stdout",
     "output_type": "stream",
     "text": [
      "Epoch [504/5000]: Train loss: 1.3102, Valid loss: 1.0558\n"
     ]
    },
    {
     "name": "stderr",
     "output_type": "stream",
     "text": [
      "Epoch [505/5000]: 100%|███████████████████████████████████████████████████████████████████████████████████████████| 10/10 [00:00<00:00, 216.96it/s, loss=1.41]\n"
     ]
    },
    {
     "name": "stdout",
     "output_type": "stream",
     "text": [
      "Epoch [505/5000]: Train loss: 1.3347, Valid loss: 1.0447\n"
     ]
    },
    {
     "name": "stderr",
     "output_type": "stream",
     "text": [
      "Epoch [506/5000]: 100%|████████████████████████████████████████████████████████████████████████████████████████████| 10/10 [00:00<00:00, 96.65it/s, loss=1.32]\n"
     ]
    },
    {
     "name": "stdout",
     "output_type": "stream",
     "text": [
      "Epoch [506/5000]: Train loss: 1.3212, Valid loss: 1.0656\n"
     ]
    },
    {
     "name": "stderr",
     "output_type": "stream",
     "text": [
      "Epoch [507/5000]: 100%|███████████████████████████████████████████████████████████████████████████████████████████| 10/10 [00:00<00:00, 217.84it/s, loss=1.26]\n"
     ]
    },
    {
     "name": "stdout",
     "output_type": "stream",
     "text": [
      "Epoch [507/5000]: Train loss: 1.3049, Valid loss: 1.1091\n"
     ]
    },
    {
     "name": "stderr",
     "output_type": "stream",
     "text": [
      "Epoch [508/5000]: 100%|███████████████████████████████████████████████████████████████████████████████████████████| 10/10 [00:00<00:00, 214.57it/s, loss=1.45]\n"
     ]
    },
    {
     "name": "stdout",
     "output_type": "stream",
     "text": [
      "Epoch [508/5000]: Train loss: 1.3742, Valid loss: 1.1161\n"
     ]
    },
    {
     "name": "stderr",
     "output_type": "stream",
     "text": [
      "Epoch [509/5000]: 100%|███████████████████████████████████████████████████████████████████████████████████████████| 10/10 [00:00<00:00, 216.28it/s, loss=1.33]\n"
     ]
    },
    {
     "name": "stdout",
     "output_type": "stream",
     "text": [
      "Epoch [509/5000]: Train loss: 1.3992, Valid loss: 1.1129\n"
     ]
    },
    {
     "name": "stderr",
     "output_type": "stream",
     "text": [
      "Epoch [510/5000]: 100%|███████████████████████████████████████████████████████████████████████████████████████████| 10/10 [00:00<00:00, 215.34it/s, loss=1.37]\n"
     ]
    },
    {
     "name": "stdout",
     "output_type": "stream",
     "text": [
      "Epoch [510/5000]: Train loss: 1.3457, Valid loss: 1.0461\n"
     ]
    },
    {
     "name": "stderr",
     "output_type": "stream",
     "text": [
      "Epoch [511/5000]: 100%|███████████████████████████████████████████████████████████████████████████████████████████| 10/10 [00:00<00:00, 215.86it/s, loss=1.28]\n"
     ]
    },
    {
     "name": "stdout",
     "output_type": "stream",
     "text": [
      "Epoch [511/5000]: Train loss: 1.3670, Valid loss: 1.2032\n"
     ]
    },
    {
     "name": "stderr",
     "output_type": "stream",
     "text": [
      "Epoch [512/5000]: 100%|████████████████████████████████████████████████████████████████████████████████████████████| 10/10 [00:00<00:00, 95.38it/s, loss=1.53]\n"
     ]
    },
    {
     "name": "stdout",
     "output_type": "stream",
     "text": [
      "Epoch [512/5000]: Train loss: 1.3713, Valid loss: 1.0984\n"
     ]
    },
    {
     "name": "stderr",
     "output_type": "stream",
     "text": [
      "Epoch [513/5000]: 100%|███████████████████████████████████████████████████████████████████████████████████████████| 10/10 [00:00<00:00, 218.95it/s, loss=1.48]\n"
     ]
    },
    {
     "name": "stdout",
     "output_type": "stream",
     "text": [
      "Epoch [513/5000]: Train loss: 1.3902, Valid loss: 1.0391\n"
     ]
    },
    {
     "name": "stderr",
     "output_type": "stream",
     "text": [
      "Epoch [514/5000]: 100%|████████████████████████████████████████████████████████████████████████████████████████████| 10/10 [00:00<00:00, 216.72it/s, loss=1.1]\n"
     ]
    },
    {
     "name": "stdout",
     "output_type": "stream",
     "text": [
      "Epoch [514/5000]: Train loss: 1.3403, Valid loss: 1.2034\n"
     ]
    },
    {
     "name": "stderr",
     "output_type": "stream",
     "text": [
      "Epoch [515/5000]: 100%|███████████████████████████████████████████████████████████████████████████████████████████| 10/10 [00:00<00:00, 217.43it/s, loss=1.24]\n"
     ]
    },
    {
     "name": "stdout",
     "output_type": "stream",
     "text": [
      "Epoch [515/5000]: Train loss: 1.3739, Valid loss: 1.1261\n"
     ]
    },
    {
     "name": "stderr",
     "output_type": "stream",
     "text": [
      "Epoch [516/5000]: 100%|███████████████████████████████████████████████████████████████████████████████████████████| 10/10 [00:00<00:00, 218.29it/s, loss=1.33]\n"
     ]
    },
    {
     "name": "stdout",
     "output_type": "stream",
     "text": [
      "Epoch [516/5000]: Train loss: 1.3590, Valid loss: 1.1140\n"
     ]
    },
    {
     "name": "stderr",
     "output_type": "stream",
     "text": [
      "Epoch [517/5000]: 100%|███████████████████████████████████████████████████████████████████████████████████████████| 10/10 [00:00<00:00, 219.45it/s, loss=1.37]\n"
     ]
    },
    {
     "name": "stdout",
     "output_type": "stream",
     "text": [
      "Epoch [517/5000]: Train loss: 1.3415, Valid loss: 1.1261\n"
     ]
    },
    {
     "name": "stderr",
     "output_type": "stream",
     "text": [
      "Epoch [518/5000]: 100%|████████████████████████████████████████████████████████████████████████████████████████████| 10/10 [00:00<00:00, 96.25it/s, loss=1.38]\n"
     ]
    },
    {
     "name": "stdout",
     "output_type": "stream",
     "text": [
      "Epoch [518/5000]: Train loss: 1.3447, Valid loss: 1.0094\n"
     ]
    },
    {
     "name": "stderr",
     "output_type": "stream",
     "text": [
      "Epoch [519/5000]: 100%|████████████████████████████████████████████████████████████████████████████████████████████| 10/10 [00:00<00:00, 218.80it/s, loss=1.3]\n"
     ]
    },
    {
     "name": "stdout",
     "output_type": "stream",
     "text": [
      "Epoch [519/5000]: Train loss: 1.3406, Valid loss: 0.9972\n"
     ]
    },
    {
     "name": "stderr",
     "output_type": "stream",
     "text": [
      "Epoch [520/5000]: 100%|███████████████████████████████████████████████████████████████████████████████████████████| 10/10 [00:00<00:00, 219.30it/s, loss=1.34]\n"
     ]
    },
    {
     "name": "stdout",
     "output_type": "stream",
     "text": [
      "Epoch [520/5000]: Train loss: 1.3536, Valid loss: 1.0467\n"
     ]
    },
    {
     "name": "stderr",
     "output_type": "stream",
     "text": [
      "Epoch [521/5000]: 100%|███████████████████████████████████████████████████████████████████████████████████████████| 10/10 [00:00<00:00, 215.99it/s, loss=1.47]\n"
     ]
    },
    {
     "name": "stdout",
     "output_type": "stream",
     "text": [
      "Epoch [521/5000]: Train loss: 1.3567, Valid loss: 1.0587\n"
     ]
    },
    {
     "name": "stderr",
     "output_type": "stream",
     "text": [
      "Epoch [522/5000]: 100%|███████████████████████████████████████████████████████████████████████████████████████████| 10/10 [00:00<00:00, 218.27it/s, loss=1.35]\n"
     ]
    },
    {
     "name": "stdout",
     "output_type": "stream",
     "text": [
      "Epoch [522/5000]: Train loss: 1.3766, Valid loss: 1.1581\n"
     ]
    },
    {
     "name": "stderr",
     "output_type": "stream",
     "text": [
      "Epoch [523/5000]: 100%|███████████████████████████████████████████████████████████████████████████████████████████| 10/10 [00:00<00:00, 213.92it/s, loss=1.46]\n"
     ]
    },
    {
     "name": "stdout",
     "output_type": "stream",
     "text": [
      "Epoch [523/5000]: Train loss: 1.4007, Valid loss: 1.0788\n"
     ]
    },
    {
     "name": "stderr",
     "output_type": "stream",
     "text": [
      "Epoch [524/5000]: 100%|████████████████████████████████████████████████████████████████████████████████████████████| 10/10 [00:00<00:00, 96.40it/s, loss=1.33]\n"
     ]
    },
    {
     "name": "stdout",
     "output_type": "stream",
     "text": [
      "Epoch [524/5000]: Train loss: 1.3400, Valid loss: 1.1077\n"
     ]
    },
    {
     "name": "stderr",
     "output_type": "stream",
     "text": [
      "Epoch [525/5000]: 100%|███████████████████████████████████████████████████████████████████████████████████████████| 10/10 [00:00<00:00, 214.18it/s, loss=1.38]\n"
     ]
    },
    {
     "name": "stdout",
     "output_type": "stream",
     "text": [
      "Epoch [525/5000]: Train loss: 1.3559, Valid loss: 1.0492\n"
     ]
    },
    {
     "name": "stderr",
     "output_type": "stream",
     "text": [
      "Epoch [526/5000]: 100%|███████████████████████████████████████████████████████████████████████████████████████████| 10/10 [00:00<00:00, 215.24it/s, loss=1.45]\n"
     ]
    },
    {
     "name": "stdout",
     "output_type": "stream",
     "text": [
      "Epoch [526/5000]: Train loss: 1.3920, Valid loss: 1.1414\n"
     ]
    },
    {
     "name": "stderr",
     "output_type": "stream",
     "text": [
      "Epoch [527/5000]: 100%|███████████████████████████████████████████████████████████████████████████████████████████| 10/10 [00:00<00:00, 216.73it/s, loss=1.19]\n"
     ]
    },
    {
     "name": "stdout",
     "output_type": "stream",
     "text": [
      "Epoch [527/5000]: Train loss: 1.3820, Valid loss: 1.0157\n"
     ]
    },
    {
     "name": "stderr",
     "output_type": "stream",
     "text": [
      "Epoch [528/5000]: 100%|████████████████████████████████████████████████████████████████████████████████████████████| 10/10 [00:00<00:00, 218.88it/s, loss=1.3]\n"
     ]
    },
    {
     "name": "stdout",
     "output_type": "stream",
     "text": [
      "Epoch [528/5000]: Train loss: 1.3269, Valid loss: 1.0560\n"
     ]
    },
    {
     "name": "stderr",
     "output_type": "stream",
     "text": [
      "Epoch [529/5000]: 100%|███████████████████████████████████████████████████████████████████████████████████████████| 10/10 [00:00<00:00, 218.84it/s, loss=1.38]\n"
     ]
    },
    {
     "name": "stdout",
     "output_type": "stream",
     "text": [
      "Epoch [529/5000]: Train loss: 1.3531, Valid loss: 1.0801\n"
     ]
    },
    {
     "name": "stderr",
     "output_type": "stream",
     "text": [
      "Epoch [530/5000]: 100%|████████████████████████████████████████████████████████████████████████████████████████████| 10/10 [00:00<00:00, 97.21it/s, loss=1.46]\n"
     ]
    },
    {
     "name": "stdout",
     "output_type": "stream",
     "text": [
      "Epoch [530/5000]: Train loss: 1.3310, Valid loss: 1.0193\n"
     ]
    },
    {
     "name": "stderr",
     "output_type": "stream",
     "text": [
      "Epoch [531/5000]: 100%|███████████████████████████████████████████████████████████████████████████████████████████| 10/10 [00:00<00:00, 220.51it/s, loss=1.22]\n"
     ]
    },
    {
     "name": "stdout",
     "output_type": "stream",
     "text": [
      "Epoch [531/5000]: Train loss: 1.3353, Valid loss: 1.0470\n"
     ]
    },
    {
     "name": "stderr",
     "output_type": "stream",
     "text": [
      "Epoch [532/5000]: 100%|███████████████████████████████████████████████████████████████████████████████████████████| 10/10 [00:00<00:00, 217.06it/s, loss=1.43]\n"
     ]
    },
    {
     "name": "stdout",
     "output_type": "stream",
     "text": [
      "Epoch [532/5000]: Train loss: 1.3584, Valid loss: 1.0553\n"
     ]
    },
    {
     "name": "stderr",
     "output_type": "stream",
     "text": [
      "Epoch [533/5000]: 100%|███████████████████████████████████████████████████████████████████████████████████████████| 10/10 [00:00<00:00, 217.81it/s, loss=1.36]\n"
     ]
    },
    {
     "name": "stdout",
     "output_type": "stream",
     "text": [
      "Epoch [533/5000]: Train loss: 1.3371, Valid loss: 1.1105\n"
     ]
    },
    {
     "name": "stderr",
     "output_type": "stream",
     "text": [
      "Epoch [534/5000]: 100%|███████████████████████████████████████████████████████████████████████████████████████████| 10/10 [00:00<00:00, 215.97it/s, loss=1.33]\n"
     ]
    },
    {
     "name": "stdout",
     "output_type": "stream",
     "text": [
      "Epoch [534/5000]: Train loss: 1.3404, Valid loss: 1.0159\n"
     ]
    },
    {
     "name": "stderr",
     "output_type": "stream",
     "text": [
      "Epoch [535/5000]: 100%|███████████████████████████████████████████████████████████████████████████████████████████| 10/10 [00:00<00:00, 221.76it/s, loss=1.32]\n"
     ]
    },
    {
     "name": "stdout",
     "output_type": "stream",
     "text": [
      "Epoch [535/5000]: Train loss: 1.3612, Valid loss: 1.0996\n"
     ]
    },
    {
     "name": "stderr",
     "output_type": "stream",
     "text": [
      "Epoch [536/5000]: 100%|████████████████████████████████████████████████████████████████████████████████████████████| 10/10 [00:00<00:00, 97.51it/s, loss=1.54]\n"
     ]
    },
    {
     "name": "stdout",
     "output_type": "stream",
     "text": [
      "Epoch [536/5000]: Train loss: 1.3882, Valid loss: 1.0919\n"
     ]
    },
    {
     "name": "stderr",
     "output_type": "stream",
     "text": [
      "Epoch [537/5000]: 100%|███████████████████████████████████████████████████████████████████████████████████████████| 10/10 [00:00<00:00, 219.37it/s, loss=1.41]\n"
     ]
    },
    {
     "name": "stdout",
     "output_type": "stream",
     "text": [
      "Epoch [537/5000]: Train loss: 1.3816, Valid loss: 1.1375\n"
     ]
    },
    {
     "name": "stderr",
     "output_type": "stream",
     "text": [
      "Epoch [538/5000]: 100%|███████████████████████████████████████████████████████████████████████████████████████████| 10/10 [00:00<00:00, 219.86it/s, loss=1.15]\n"
     ]
    },
    {
     "name": "stdout",
     "output_type": "stream",
     "text": [
      "Epoch [538/5000]: Train loss: 1.3025, Valid loss: 1.0924\n"
     ]
    },
    {
     "name": "stderr",
     "output_type": "stream",
     "text": [
      "Epoch [539/5000]: 100%|███████████████████████████████████████████████████████████████████████████████████████████| 10/10 [00:00<00:00, 217.97it/s, loss=1.45]\n"
     ]
    },
    {
     "name": "stdout",
     "output_type": "stream",
     "text": [
      "Epoch [539/5000]: Train loss: 1.3388, Valid loss: 1.0352\n"
     ]
    },
    {
     "name": "stderr",
     "output_type": "stream",
     "text": [
      "Epoch [540/5000]: 100%|███████████████████████████████████████████████████████████████████████████████████████████| 10/10 [00:00<00:00, 214.03it/s, loss=1.44]\n"
     ]
    },
    {
     "name": "stdout",
     "output_type": "stream",
     "text": [
      "Epoch [540/5000]: Train loss: 1.3567, Valid loss: 0.9919\n"
     ]
    },
    {
     "name": "stderr",
     "output_type": "stream",
     "text": [
      "Epoch [541/5000]: 100%|███████████████████████████████████████████████████████████████████████████████████████████| 10/10 [00:00<00:00, 216.84it/s, loss=1.53]\n"
     ]
    },
    {
     "name": "stdout",
     "output_type": "stream",
     "text": [
      "Epoch [541/5000]: Train loss: 1.3403, Valid loss: 1.0112\n"
     ]
    },
    {
     "name": "stderr",
     "output_type": "stream",
     "text": [
      "Epoch [542/5000]: 100%|████████████████████████████████████████████████████████████████████████████████████████████| 10/10 [00:00<00:00, 96.68it/s, loss=1.36]\n"
     ]
    },
    {
     "name": "stdout",
     "output_type": "stream",
     "text": [
      "Epoch [542/5000]: Train loss: 1.3216, Valid loss: 1.0454\n"
     ]
    },
    {
     "name": "stderr",
     "output_type": "stream",
     "text": [
      "Epoch [543/5000]: 100%|███████████████████████████████████████████████████████████████████████████████████████████| 10/10 [00:00<00:00, 219.83it/s, loss=1.39]\n"
     ]
    },
    {
     "name": "stdout",
     "output_type": "stream",
     "text": [
      "Epoch [543/5000]: Train loss: 1.3333, Valid loss: 1.0513\n"
     ]
    },
    {
     "name": "stderr",
     "output_type": "stream",
     "text": [
      "Epoch [544/5000]: 100%|███████████████████████████████████████████████████████████████████████████████████████████| 10/10 [00:00<00:00, 217.98it/s, loss=1.12]\n"
     ]
    },
    {
     "name": "stdout",
     "output_type": "stream",
     "text": [
      "Epoch [544/5000]: Train loss: 1.3100, Valid loss: 1.0410\n"
     ]
    },
    {
     "name": "stderr",
     "output_type": "stream",
     "text": [
      "Epoch [545/5000]: 100%|████████████████████████████████████████████████████████████████████████████████████████████| 10/10 [00:00<00:00, 219.47it/s, loss=1.4]\n"
     ]
    },
    {
     "name": "stdout",
     "output_type": "stream",
     "text": [
      "Epoch [545/5000]: Train loss: 1.3296, Valid loss: 1.0172\n"
     ]
    },
    {
     "name": "stderr",
     "output_type": "stream",
     "text": [
      "Epoch [546/5000]: 100%|████████████████████████████████████████████████████████████████████████████████████████████| 10/10 [00:00<00:00, 221.22it/s, loss=1.4]\n"
     ]
    },
    {
     "name": "stdout",
     "output_type": "stream",
     "text": [
      "Epoch [546/5000]: Train loss: 1.3660, Valid loss: 1.0074\n"
     ]
    },
    {
     "name": "stderr",
     "output_type": "stream",
     "text": [
      "Epoch [547/5000]: 100%|███████████████████████████████████████████████████████████████████████████████████████████| 10/10 [00:00<00:00, 220.56it/s, loss=1.35]\n"
     ]
    },
    {
     "name": "stdout",
     "output_type": "stream",
     "text": [
      "Epoch [547/5000]: Train loss: 1.3158, Valid loss: 1.0110\n"
     ]
    },
    {
     "name": "stderr",
     "output_type": "stream",
     "text": [
      "Epoch [548/5000]: 100%|████████████████████████████████████████████████████████████████████████████████████████████| 10/10 [00:00<00:00, 97.20it/s, loss=1.22]\n"
     ]
    },
    {
     "name": "stdout",
     "output_type": "stream",
     "text": [
      "Epoch [548/5000]: Train loss: 1.3393, Valid loss: 1.0528\n"
     ]
    },
    {
     "name": "stderr",
     "output_type": "stream",
     "text": [
      "Epoch [549/5000]: 100%|███████████████████████████████████████████████████████████████████████████████████████████| 10/10 [00:00<00:00, 221.26it/s, loss=1.52]\n"
     ]
    },
    {
     "name": "stdout",
     "output_type": "stream",
     "text": [
      "Epoch [549/5000]: Train loss: 1.3289, Valid loss: 1.0965\n"
     ]
    },
    {
     "name": "stderr",
     "output_type": "stream",
     "text": [
      "Epoch [550/5000]: 100%|███████████████████████████████████████████████████████████████████████████████████████████| 10/10 [00:00<00:00, 221.07it/s, loss=1.55]\n"
     ]
    },
    {
     "name": "stdout",
     "output_type": "stream",
     "text": [
      "Epoch [550/5000]: Train loss: 1.3959, Valid loss: 1.0783\n"
     ]
    },
    {
     "name": "stderr",
     "output_type": "stream",
     "text": [
      "Epoch [551/5000]: 100%|███████████████████████████████████████████████████████████████████████████████████████████| 10/10 [00:00<00:00, 216.56it/s, loss=1.44]\n"
     ]
    },
    {
     "name": "stdout",
     "output_type": "stream",
     "text": [
      "Epoch [551/5000]: Train loss: 1.3151, Valid loss: 1.0457\n"
     ]
    },
    {
     "name": "stderr",
     "output_type": "stream",
     "text": [
      "Epoch [552/5000]: 100%|███████████████████████████████████████████████████████████████████████████████████████████| 10/10 [00:00<00:00, 220.04it/s, loss=1.51]\n"
     ]
    },
    {
     "name": "stdout",
     "output_type": "stream",
     "text": [
      "Epoch [552/5000]: Train loss: 1.3346, Valid loss: 1.0316\n"
     ]
    },
    {
     "name": "stderr",
     "output_type": "stream",
     "text": [
      "Epoch [553/5000]: 100%|███████████████████████████████████████████████████████████████████████████████████████████| 10/10 [00:00<00:00, 220.04it/s, loss=1.44]\n"
     ]
    },
    {
     "name": "stdout",
     "output_type": "stream",
     "text": [
      "Epoch [553/5000]: Train loss: 1.3430, Valid loss: 1.1018\n"
     ]
    },
    {
     "name": "stderr",
     "output_type": "stream",
     "text": [
      "Epoch [554/5000]: 100%|████████████████████████████████████████████████████████████████████████████████████████████| 10/10 [00:00<00:00, 96.96it/s, loss=1.42]\n"
     ]
    },
    {
     "name": "stdout",
     "output_type": "stream",
     "text": [
      "Epoch [554/5000]: Train loss: 1.3447, Valid loss: 1.0963\n"
     ]
    },
    {
     "name": "stderr",
     "output_type": "stream",
     "text": [
      "Epoch [555/5000]: 100%|████████████████████████████████████████████████████████████████████████████████████████████| 10/10 [00:00<00:00, 214.73it/s, loss=1.3]\n"
     ]
    },
    {
     "name": "stdout",
     "output_type": "stream",
     "text": [
      "Epoch [555/5000]: Train loss: 1.3186, Valid loss: 1.0212\n"
     ]
    },
    {
     "name": "stderr",
     "output_type": "stream",
     "text": [
      "Epoch [556/5000]: 100%|███████████████████████████████████████████████████████████████████████████████████████████| 10/10 [00:00<00:00, 213.09it/s, loss=1.29]\n"
     ]
    },
    {
     "name": "stdout",
     "output_type": "stream",
     "text": [
      "Epoch [556/5000]: Train loss: 1.3159, Valid loss: 1.0334\n"
     ]
    },
    {
     "name": "stderr",
     "output_type": "stream",
     "text": [
      "Epoch [557/5000]: 100%|███████████████████████████████████████████████████████████████████████████████████████████| 10/10 [00:00<00:00, 217.90it/s, loss=1.61]\n"
     ]
    },
    {
     "name": "stdout",
     "output_type": "stream",
     "text": [
      "Epoch [557/5000]: Train loss: 1.3469, Valid loss: 1.0197\n"
     ]
    },
    {
     "name": "stderr",
     "output_type": "stream",
     "text": [
      "Epoch [558/5000]: 100%|███████████████████████████████████████████████████████████████████████████████████████████| 10/10 [00:00<00:00, 216.85it/s, loss=1.35]\n"
     ]
    },
    {
     "name": "stdout",
     "output_type": "stream",
     "text": [
      "Epoch [558/5000]: Train loss: 1.3283, Valid loss: 1.0197\n"
     ]
    },
    {
     "name": "stderr",
     "output_type": "stream",
     "text": [
      "Epoch [559/5000]: 100%|███████████████████████████████████████████████████████████████████████████████████████████| 10/10 [00:00<00:00, 217.37it/s, loss=1.21]\n"
     ]
    },
    {
     "name": "stdout",
     "output_type": "stream",
     "text": [
      "Epoch [559/5000]: Train loss: 1.3476, Valid loss: 1.0475\n"
     ]
    },
    {
     "name": "stderr",
     "output_type": "stream",
     "text": [
      "Epoch [560/5000]: 100%|████████████████████████████████████████████████████████████████████████████████████████████| 10/10 [00:00<00:00, 91.69it/s, loss=1.06]\n"
     ]
    },
    {
     "name": "stdout",
     "output_type": "stream",
     "text": [
      "Epoch [560/5000]: Train loss: 1.3261, Valid loss: 1.0684\n"
     ]
    },
    {
     "name": "stderr",
     "output_type": "stream",
     "text": [
      "Epoch [561/5000]: 100%|███████████████████████████████████████████████████████████████████████████████████████████| 10/10 [00:00<00:00, 214.49it/s, loss=1.26]\n"
     ]
    },
    {
     "name": "stdout",
     "output_type": "stream",
     "text": [
      "Epoch [561/5000]: Train loss: 1.3398, Valid loss: 1.0735\n"
     ]
    },
    {
     "name": "stderr",
     "output_type": "stream",
     "text": [
      "Epoch [562/5000]: 100%|████████████████████████████████████████████████████████████████████████████████████████████| 10/10 [00:00<00:00, 216.41it/s, loss=1.4]\n"
     ]
    },
    {
     "name": "stdout",
     "output_type": "stream",
     "text": [
      "Epoch [562/5000]: Train loss: 1.3785, Valid loss: 1.0760\n"
     ]
    },
    {
     "name": "stderr",
     "output_type": "stream",
     "text": [
      "Epoch [563/5000]: 100%|███████████████████████████████████████████████████████████████████████████████████████████| 10/10 [00:00<00:00, 217.50it/s, loss=1.25]\n"
     ]
    },
    {
     "name": "stdout",
     "output_type": "stream",
     "text": [
      "Epoch [563/5000]: Train loss: 1.3236, Valid loss: 1.0115\n"
     ]
    },
    {
     "name": "stderr",
     "output_type": "stream",
     "text": [
      "Epoch [564/5000]: 100%|███████████████████████████████████████████████████████████████████████████████████████████| 10/10 [00:00<00:00, 216.26it/s, loss=1.34]\n"
     ]
    },
    {
     "name": "stdout",
     "output_type": "stream",
     "text": [
      "Epoch [564/5000]: Train loss: 1.3520, Valid loss: 1.0396\n"
     ]
    },
    {
     "name": "stderr",
     "output_type": "stream",
     "text": [
      "Epoch [565/5000]: 100%|███████████████████████████████████████████████████████████████████████████████████████████| 10/10 [00:00<00:00, 218.81it/s, loss=1.35]\n"
     ]
    },
    {
     "name": "stdout",
     "output_type": "stream",
     "text": [
      "Epoch [565/5000]: Train loss: 1.3347, Valid loss: 1.0589\n"
     ]
    },
    {
     "name": "stderr",
     "output_type": "stream",
     "text": [
      "Epoch [566/5000]: 100%|█████████████████████████████████████████████████████████████████████████████████████████████| 10/10 [00:00<00:00, 91.97it/s, loss=1.2]\n"
     ]
    },
    {
     "name": "stdout",
     "output_type": "stream",
     "text": [
      "Epoch [566/5000]: Train loss: 1.3415, Valid loss: 1.0250\n"
     ]
    },
    {
     "name": "stderr",
     "output_type": "stream",
     "text": [
      "Epoch [567/5000]: 100%|███████████████████████████████████████████████████████████████████████████████████████████| 10/10 [00:00<00:00, 216.44it/s, loss=1.32]\n"
     ]
    },
    {
     "name": "stdout",
     "output_type": "stream",
     "text": [
      "Epoch [567/5000]: Train loss: 1.3184, Valid loss: 1.0130\n"
     ]
    },
    {
     "name": "stderr",
     "output_type": "stream",
     "text": [
      "Epoch [568/5000]: 100%|███████████████████████████████████████████████████████████████████████████████████████████| 10/10 [00:00<00:00, 215.69it/s, loss=1.49]\n"
     ]
    },
    {
     "name": "stdout",
     "output_type": "stream",
     "text": [
      "Epoch [568/5000]: Train loss: 1.3486, Valid loss: 1.0858\n"
     ]
    },
    {
     "name": "stderr",
     "output_type": "stream",
     "text": [
      "Epoch [569/5000]: 100%|███████████████████████████████████████████████████████████████████████████████████████████| 10/10 [00:00<00:00, 218.01it/s, loss=1.32]\n"
     ]
    },
    {
     "name": "stdout",
     "output_type": "stream",
     "text": [
      "Epoch [569/5000]: Train loss: 1.3488, Valid loss: 1.0422\n"
     ]
    },
    {
     "name": "stderr",
     "output_type": "stream",
     "text": [
      "Epoch [570/5000]: 100%|███████████████████████████████████████████████████████████████████████████████████████████| 10/10 [00:00<00:00, 210.21it/s, loss=1.43]\n"
     ]
    },
    {
     "name": "stdout",
     "output_type": "stream",
     "text": [
      "Epoch [570/5000]: Train loss: 1.3879, Valid loss: 1.0370\n"
     ]
    },
    {
     "name": "stderr",
     "output_type": "stream",
     "text": [
      "Epoch [571/5000]: 100%|███████████████████████████████████████████████████████████████████████████████████████████| 10/10 [00:00<00:00, 219.14it/s, loss=1.47]\n"
     ]
    },
    {
     "name": "stdout",
     "output_type": "stream",
     "text": [
      "Epoch [571/5000]: Train loss: 1.3535, Valid loss: 1.0229\n"
     ]
    },
    {
     "name": "stderr",
     "output_type": "stream",
     "text": [
      "Epoch [572/5000]: 100%|████████████████████████████████████████████████████████████████████████████████████████████| 10/10 [00:00<00:00, 93.86it/s, loss=1.37]\n"
     ]
    },
    {
     "name": "stdout",
     "output_type": "stream",
     "text": [
      "Epoch [572/5000]: Train loss: 1.3372, Valid loss: 1.0152\n"
     ]
    },
    {
     "name": "stderr",
     "output_type": "stream",
     "text": [
      "Epoch [573/5000]: 100%|███████████████████████████████████████████████████████████████████████████████████████████| 10/10 [00:00<00:00, 218.12it/s, loss=1.41]\n"
     ]
    },
    {
     "name": "stdout",
     "output_type": "stream",
     "text": [
      "Epoch [573/5000]: Train loss: 1.3406, Valid loss: 1.0355\n"
     ]
    },
    {
     "name": "stderr",
     "output_type": "stream",
     "text": [
      "Epoch [574/5000]: 100%|███████████████████████████████████████████████████████████████████████████████████████████| 10/10 [00:00<00:00, 214.28it/s, loss=1.42]\n"
     ]
    },
    {
     "name": "stdout",
     "output_type": "stream",
     "text": [
      "Epoch [574/5000]: Train loss: 1.3226, Valid loss: 1.0425\n"
     ]
    },
    {
     "name": "stderr",
     "output_type": "stream",
     "text": [
      "Epoch [575/5000]: 100%|███████████████████████████████████████████████████████████████████████████████████████████| 10/10 [00:00<00:00, 219.56it/s, loss=1.48]\n"
     ]
    },
    {
     "name": "stdout",
     "output_type": "stream",
     "text": [
      "Epoch [575/5000]: Train loss: 1.3776, Valid loss: 1.0379\n"
     ]
    },
    {
     "name": "stderr",
     "output_type": "stream",
     "text": [
      "Epoch [576/5000]: 100%|███████████████████████████████████████████████████████████████████████████████████████████| 10/10 [00:00<00:00, 220.28it/s, loss=1.42]\n"
     ]
    },
    {
     "name": "stdout",
     "output_type": "stream",
     "text": [
      "Epoch [576/5000]: Train loss: 1.3288, Valid loss: 1.0249\n"
     ]
    },
    {
     "name": "stderr",
     "output_type": "stream",
     "text": [
      "Epoch [577/5000]: 100%|███████████████████████████████████████████████████████████████████████████████████████████| 10/10 [00:00<00:00, 219.28it/s, loss=1.29]\n"
     ]
    },
    {
     "name": "stdout",
     "output_type": "stream",
     "text": [
      "Epoch [577/5000]: Train loss: 1.3263, Valid loss: 1.0219\n"
     ]
    },
    {
     "name": "stderr",
     "output_type": "stream",
     "text": [
      "Epoch [578/5000]: 100%|████████████████████████████████████████████████████████████████████████████████████████████| 10/10 [00:00<00:00, 96.96it/s, loss=1.19]\n"
     ]
    },
    {
     "name": "stdout",
     "output_type": "stream",
     "text": [
      "Epoch [578/5000]: Train loss: 1.3374, Valid loss: 1.0014\n"
     ]
    },
    {
     "name": "stderr",
     "output_type": "stream",
     "text": [
      "Epoch [579/5000]: 100%|███████████████████████████████████████████████████████████████████████████████████████████| 10/10 [00:00<00:00, 216.31it/s, loss=1.22]\n"
     ]
    },
    {
     "name": "stdout",
     "output_type": "stream",
     "text": [
      "Epoch [579/5000]: Train loss: 1.3326, Valid loss: 1.0511\n"
     ]
    },
    {
     "name": "stderr",
     "output_type": "stream",
     "text": [
      "Epoch [580/5000]: 100%|███████████████████████████████████████████████████████████████████████████████████████████| 10/10 [00:00<00:00, 213.85it/s, loss=1.46]\n"
     ]
    },
    {
     "name": "stdout",
     "output_type": "stream",
     "text": [
      "Epoch [580/5000]: Train loss: 1.3632, Valid loss: 1.0528\n"
     ]
    },
    {
     "name": "stderr",
     "output_type": "stream",
     "text": [
      "Epoch [581/5000]: 100%|███████████████████████████████████████████████████████████████████████████████████████████| 10/10 [00:00<00:00, 216.81it/s, loss=1.53]\n"
     ]
    },
    {
     "name": "stdout",
     "output_type": "stream",
     "text": [
      "Epoch [581/5000]: Train loss: 1.3243, Valid loss: 1.0422\n"
     ]
    },
    {
     "name": "stderr",
     "output_type": "stream",
     "text": [
      "Epoch [582/5000]: 100%|███████████████████████████████████████████████████████████████████████████████████████████| 10/10 [00:00<00:00, 216.07it/s, loss=1.29]\n"
     ]
    },
    {
     "name": "stdout",
     "output_type": "stream",
     "text": [
      "Epoch [582/5000]: Train loss: 1.3192, Valid loss: 1.0417\n"
     ]
    },
    {
     "name": "stderr",
     "output_type": "stream",
     "text": [
      "Epoch [583/5000]: 100%|███████████████████████████████████████████████████████████████████████████████████████████| 10/10 [00:00<00:00, 218.08it/s, loss=1.36]\n"
     ]
    },
    {
     "name": "stdout",
     "output_type": "stream",
     "text": [
      "Epoch [583/5000]: Train loss: 1.3355, Valid loss: 1.0471\n"
     ]
    },
    {
     "name": "stderr",
     "output_type": "stream",
     "text": [
      "Epoch [584/5000]: 100%|████████████████████████████████████████████████████████████████████████████████████████████| 10/10 [00:00<00:00, 91.69it/s, loss=1.17]\n"
     ]
    },
    {
     "name": "stdout",
     "output_type": "stream",
     "text": [
      "Epoch [584/5000]: Train loss: 1.3189, Valid loss: 1.0648\n"
     ]
    },
    {
     "name": "stderr",
     "output_type": "stream",
     "text": [
      "Epoch [585/5000]: 100%|███████████████████████████████████████████████████████████████████████████████████████████| 10/10 [00:00<00:00, 219.34it/s, loss=1.35]\n"
     ]
    },
    {
     "name": "stdout",
     "output_type": "stream",
     "text": [
      "Epoch [585/5000]: Train loss: 1.3229, Valid loss: 1.0488\n"
     ]
    },
    {
     "name": "stderr",
     "output_type": "stream",
     "text": [
      "Epoch [586/5000]: 100%|███████████████████████████████████████████████████████████████████████████████████████████| 10/10 [00:00<00:00, 218.19it/s, loss=1.31]\n"
     ]
    },
    {
     "name": "stdout",
     "output_type": "stream",
     "text": [
      "Epoch [586/5000]: Train loss: 1.3330, Valid loss: 1.0382\n"
     ]
    },
    {
     "name": "stderr",
     "output_type": "stream",
     "text": [
      "Epoch [587/5000]: 100%|███████████████████████████████████████████████████████████████████████████████████████████| 10/10 [00:00<00:00, 216.63it/s, loss=1.22]\n"
     ]
    },
    {
     "name": "stdout",
     "output_type": "stream",
     "text": [
      "Epoch [587/5000]: Train loss: 1.3397, Valid loss: 1.0356\n"
     ]
    },
    {
     "name": "stderr",
     "output_type": "stream",
     "text": [
      "Epoch [588/5000]: 100%|███████████████████████████████████████████████████████████████████████████████████████████| 10/10 [00:00<00:00, 217.28it/s, loss=1.56]\n"
     ]
    },
    {
     "name": "stdout",
     "output_type": "stream",
     "text": [
      "Epoch [588/5000]: Train loss: 1.3522, Valid loss: 1.0260\n"
     ]
    },
    {
     "name": "stderr",
     "output_type": "stream",
     "text": [
      "Epoch [589/5000]: 100%|███████████████████████████████████████████████████████████████████████████████████████████| 10/10 [00:00<00:00, 218.57it/s, loss=1.42]\n"
     ]
    },
    {
     "name": "stdout",
     "output_type": "stream",
     "text": [
      "Epoch [589/5000]: Train loss: 1.3722, Valid loss: 0.9979\n"
     ]
    },
    {
     "name": "stderr",
     "output_type": "stream",
     "text": [
      "Epoch [590/5000]: 100%|████████████████████████████████████████████████████████████████████████████████████████████| 10/10 [00:00<00:00, 92.07it/s, loss=1.26]\n"
     ]
    },
    {
     "name": "stdout",
     "output_type": "stream",
     "text": [
      "Epoch [590/5000]: Train loss: 1.3430, Valid loss: 1.0791\n"
     ]
    },
    {
     "name": "stderr",
     "output_type": "stream",
     "text": [
      "Epoch [591/5000]: 100%|███████████████████████████████████████████████████████████████████████████████████████████| 10/10 [00:00<00:00, 218.35it/s, loss=1.29]\n"
     ]
    },
    {
     "name": "stdout",
     "output_type": "stream",
     "text": [
      "Epoch [591/5000]: Train loss: 1.3319, Valid loss: 0.9886\n"
     ]
    },
    {
     "name": "stderr",
     "output_type": "stream",
     "text": [
      "Epoch [592/5000]: 100%|███████████████████████████████████████████████████████████████████████████████████████████| 10/10 [00:00<00:00, 216.93it/s, loss=1.18]\n"
     ]
    },
    {
     "name": "stdout",
     "output_type": "stream",
     "text": [
      "Epoch [592/5000]: Train loss: 1.3196, Valid loss: 1.0384\n"
     ]
    },
    {
     "name": "stderr",
     "output_type": "stream",
     "text": [
      "Epoch [593/5000]: 100%|███████████████████████████████████████████████████████████████████████████████████████████| 10/10 [00:00<00:00, 215.82it/s, loss=1.32]\n"
     ]
    },
    {
     "name": "stdout",
     "output_type": "stream",
     "text": [
      "Epoch [593/5000]: Train loss: 1.3183, Valid loss: 1.0325\n"
     ]
    },
    {
     "name": "stderr",
     "output_type": "stream",
     "text": [
      "Epoch [594/5000]: 100%|███████████████████████████████████████████████████████████████████████████████████████████| 10/10 [00:00<00:00, 217.98it/s, loss=1.61]\n"
     ]
    },
    {
     "name": "stdout",
     "output_type": "stream",
     "text": [
      "Epoch [594/5000]: Train loss: 1.3206, Valid loss: 1.0161\n"
     ]
    },
    {
     "name": "stderr",
     "output_type": "stream",
     "text": [
      "Epoch [595/5000]: 100%|███████████████████████████████████████████████████████████████████████████████████████████| 10/10 [00:00<00:00, 218.43it/s, loss=1.32]\n"
     ]
    },
    {
     "name": "stdout",
     "output_type": "stream",
     "text": [
      "Epoch [595/5000]: Train loss: 1.3050, Valid loss: 1.0402\n"
     ]
    },
    {
     "name": "stderr",
     "output_type": "stream",
     "text": [
      "Epoch [596/5000]: 100%|████████████████████████████████████████████████████████████████████████████████████████████| 10/10 [00:00<00:00, 91.99it/s, loss=1.49]\n"
     ]
    },
    {
     "name": "stdout",
     "output_type": "stream",
     "text": [
      "Epoch [596/5000]: Train loss: 1.3662, Valid loss: 1.0854\n"
     ]
    },
    {
     "name": "stderr",
     "output_type": "stream",
     "text": [
      "Epoch [597/5000]: 100%|███████████████████████████████████████████████████████████████████████████████████████████| 10/10 [00:00<00:00, 220.03it/s, loss=1.37]\n"
     ]
    },
    {
     "name": "stdout",
     "output_type": "stream",
     "text": [
      "Epoch [597/5000]: Train loss: 1.3291, Valid loss: 1.0654\n"
     ]
    },
    {
     "name": "stderr",
     "output_type": "stream",
     "text": [
      "Epoch [598/5000]: 100%|███████████████████████████████████████████████████████████████████████████████████████████| 10/10 [00:00<00:00, 212.12it/s, loss=1.31]\n"
     ]
    },
    {
     "name": "stdout",
     "output_type": "stream",
     "text": [
      "Epoch [598/5000]: Train loss: 1.3378, Valid loss: 1.1088\n"
     ]
    },
    {
     "name": "stderr",
     "output_type": "stream",
     "text": [
      "Epoch [599/5000]: 100%|███████████████████████████████████████████████████████████████████████████████████████████| 10/10 [00:00<00:00, 217.32it/s, loss=1.31]\n"
     ]
    },
    {
     "name": "stdout",
     "output_type": "stream",
     "text": [
      "Epoch [599/5000]: Train loss: 1.3412, Valid loss: 1.0460\n"
     ]
    },
    {
     "name": "stderr",
     "output_type": "stream",
     "text": [
      "Epoch [600/5000]: 100%|███████████████████████████████████████████████████████████████████████████████████████████| 10/10 [00:00<00:00, 215.73it/s, loss=1.54]\n"
     ]
    },
    {
     "name": "stdout",
     "output_type": "stream",
     "text": [
      "Epoch [600/5000]: Train loss: 1.3595, Valid loss: 1.1080\n"
     ]
    },
    {
     "name": "stderr",
     "output_type": "stream",
     "text": [
      "Epoch [601/5000]: 100%|███████████████████████████████████████████████████████████████████████████████████████████| 10/10 [00:00<00:00, 217.14it/s, loss=1.39]\n"
     ]
    },
    {
     "name": "stdout",
     "output_type": "stream",
     "text": [
      "Epoch [601/5000]: Train loss: 1.3672, Valid loss: 1.0900\n"
     ]
    },
    {
     "name": "stderr",
     "output_type": "stream",
     "text": [
      "Epoch [602/5000]: 100%|█████████████████████████████████████████████████████████████████████████████████████████████| 10/10 [00:00<00:00, 92.00it/s, loss=1.3]\n"
     ]
    },
    {
     "name": "stdout",
     "output_type": "stream",
     "text": [
      "Epoch [602/5000]: Train loss: 1.3521, Valid loss: 1.0624\n"
     ]
    },
    {
     "name": "stderr",
     "output_type": "stream",
     "text": [
      "Epoch [603/5000]: 100%|████████████████████████████████████████████████████████████████████████████████████████████| 10/10 [00:00<00:00, 219.70it/s, loss=1.3]\n"
     ]
    },
    {
     "name": "stdout",
     "output_type": "stream",
     "text": [
      "Epoch [603/5000]: Train loss: 1.3247, Valid loss: 0.9984\n"
     ]
    },
    {
     "name": "stderr",
     "output_type": "stream",
     "text": [
      "Epoch [604/5000]: 100%|████████████████████████████████████████████████████████████████████████████████████████████| 10/10 [00:00<00:00, 219.15it/s, loss=1.2]\n"
     ]
    },
    {
     "name": "stdout",
     "output_type": "stream",
     "text": [
      "Epoch [604/5000]: Train loss: 1.2938, Valid loss: 1.0641\n"
     ]
    },
    {
     "name": "stderr",
     "output_type": "stream",
     "text": [
      "Epoch [605/5000]: 100%|███████████████████████████████████████████████████████████████████████████████████████████| 10/10 [00:00<00:00, 218.44it/s, loss=1.27]\n"
     ]
    },
    {
     "name": "stdout",
     "output_type": "stream",
     "text": [
      "Epoch [605/5000]: Train loss: 1.3189, Valid loss: 1.0286\n"
     ]
    },
    {
     "name": "stderr",
     "output_type": "stream",
     "text": [
      "Epoch [606/5000]: 100%|███████████████████████████████████████████████████████████████████████████████████████████| 10/10 [00:00<00:00, 219.13it/s, loss=1.38]\n"
     ]
    },
    {
     "name": "stdout",
     "output_type": "stream",
     "text": [
      "Epoch [606/5000]: Train loss: 1.3336, Valid loss: 1.0425\n"
     ]
    },
    {
     "name": "stderr",
     "output_type": "stream",
     "text": [
      "Epoch [607/5000]: 100%|████████████████████████████████████████████████████████████████████████████████████████████| 10/10 [00:00<00:00, 213.37it/s, loss=1.4]\n"
     ]
    },
    {
     "name": "stdout",
     "output_type": "stream",
     "text": [
      "Epoch [607/5000]: Train loss: 1.3040, Valid loss: 1.0290\n"
     ]
    },
    {
     "name": "stderr",
     "output_type": "stream",
     "text": [
      "Epoch [608/5000]: 100%|████████████████████████████████████████████████████████████████████████████████████████████| 10/10 [00:00<00:00, 92.46it/s, loss=1.34]\n"
     ]
    },
    {
     "name": "stdout",
     "output_type": "stream",
     "text": [
      "Epoch [608/5000]: Train loss: 1.3347, Valid loss: 1.0697\n"
     ]
    },
    {
     "name": "stderr",
     "output_type": "stream",
     "text": [
      "Epoch [609/5000]: 100%|███████████████████████████████████████████████████████████████████████████████████████████| 10/10 [00:00<00:00, 215.78it/s, loss=1.26]\n"
     ]
    },
    {
     "name": "stdout",
     "output_type": "stream",
     "text": [
      "Epoch [609/5000]: Train loss: 1.3243, Valid loss: 1.0542\n"
     ]
    },
    {
     "name": "stderr",
     "output_type": "stream",
     "text": [
      "Epoch [610/5000]: 100%|███████████████████████████████████████████████████████████████████████████████████████████| 10/10 [00:00<00:00, 215.34it/s, loss=1.27]\n"
     ]
    },
    {
     "name": "stdout",
     "output_type": "stream",
     "text": [
      "Epoch [610/5000]: Train loss: 1.3164, Valid loss: 1.0404\n"
     ]
    },
    {
     "name": "stderr",
     "output_type": "stream",
     "text": [
      "Epoch [611/5000]: 100%|███████████████████████████████████████████████████████████████████████████████████████████| 10/10 [00:00<00:00, 218.94it/s, loss=1.26]\n"
     ]
    },
    {
     "name": "stdout",
     "output_type": "stream",
     "text": [
      "Epoch [611/5000]: Train loss: 1.3073, Valid loss: 1.0356\n"
     ]
    },
    {
     "name": "stderr",
     "output_type": "stream",
     "text": [
      "Epoch [612/5000]: 100%|███████████████████████████████████████████████████████████████████████████████████████████| 10/10 [00:00<00:00, 217.88it/s, loss=1.43]\n"
     ]
    },
    {
     "name": "stdout",
     "output_type": "stream",
     "text": [
      "Epoch [612/5000]: Train loss: 1.3431, Valid loss: 1.0498\n"
     ]
    },
    {
     "name": "stderr",
     "output_type": "stream",
     "text": [
      "Epoch [613/5000]: 100%|███████████████████████████████████████████████████████████████████████████████████████████| 10/10 [00:00<00:00, 217.45it/s, loss=1.28]\n"
     ]
    },
    {
     "name": "stdout",
     "output_type": "stream",
     "text": [
      "Epoch [613/5000]: Train loss: 1.3405, Valid loss: 1.0031\n"
     ]
    },
    {
     "name": "stderr",
     "output_type": "stream",
     "text": [
      "Epoch [614/5000]: 100%|████████████████████████████████████████████████████████████████████████████████████████████| 10/10 [00:00<00:00, 96.80it/s, loss=1.27]\n"
     ]
    },
    {
     "name": "stdout",
     "output_type": "stream",
     "text": [
      "Epoch [614/5000]: Train loss: 1.3234, Valid loss: 1.0701\n"
     ]
    },
    {
     "name": "stderr",
     "output_type": "stream",
     "text": [
      "Epoch [615/5000]: 100%|███████████████████████████████████████████████████████████████████████████████████████████| 10/10 [00:00<00:00, 213.80it/s, loss=1.34]\n"
     ]
    },
    {
     "name": "stdout",
     "output_type": "stream",
     "text": [
      "Epoch [615/5000]: Train loss: 1.3216, Valid loss: 1.0528\n"
     ]
    },
    {
     "name": "stderr",
     "output_type": "stream",
     "text": [
      "Epoch [616/5000]: 100%|███████████████████████████████████████████████████████████████████████████████████████████| 10/10 [00:00<00:00, 218.45it/s, loss=1.43]\n"
     ]
    },
    {
     "name": "stdout",
     "output_type": "stream",
     "text": [
      "Epoch [616/5000]: Train loss: 1.3303, Valid loss: 1.0917\n"
     ]
    },
    {
     "name": "stderr",
     "output_type": "stream",
     "text": [
      "Epoch [617/5000]: 100%|███████████████████████████████████████████████████████████████████████████████████████████| 10/10 [00:00<00:00, 218.59it/s, loss=1.34]\n"
     ]
    },
    {
     "name": "stdout",
     "output_type": "stream",
     "text": [
      "Epoch [617/5000]: Train loss: 1.3435, Valid loss: 1.0741\n"
     ]
    },
    {
     "name": "stderr",
     "output_type": "stream",
     "text": [
      "Epoch [618/5000]: 100%|███████████████████████████████████████████████████████████████████████████████████████████| 10/10 [00:00<00:00, 216.99it/s, loss=1.08]\n"
     ]
    },
    {
     "name": "stdout",
     "output_type": "stream",
     "text": [
      "Epoch [618/5000]: Train loss: 1.2785, Valid loss: 1.0239\n"
     ]
    },
    {
     "name": "stderr",
     "output_type": "stream",
     "text": [
      "Epoch [619/5000]: 100%|███████████████████████████████████████████████████████████████████████████████████████████| 10/10 [00:00<00:00, 218.78it/s, loss=1.36]\n"
     ]
    },
    {
     "name": "stdout",
     "output_type": "stream",
     "text": [
      "Epoch [619/5000]: Train loss: 1.3185, Valid loss: 1.0438\n"
     ]
    },
    {
     "name": "stderr",
     "output_type": "stream",
     "text": [
      "Epoch [620/5000]: 100%|████████████████████████████████████████████████████████████████████████████████████████████| 10/10 [00:00<00:00, 91.57it/s, loss=1.41]\n"
     ]
    },
    {
     "name": "stdout",
     "output_type": "stream",
     "text": [
      "Epoch [620/5000]: Train loss: 1.3324, Valid loss: 0.9794\n",
      "Saving model with loss 0.979...\n"
     ]
    },
    {
     "name": "stderr",
     "output_type": "stream",
     "text": [
      "Epoch [621/5000]: 100%|████████████████████████████████████████████████████████████████████████████████████████████| 10/10 [00:00<00:00, 215.89it/s, loss=1.3]\n"
     ]
    },
    {
     "name": "stdout",
     "output_type": "stream",
     "text": [
      "Epoch [621/5000]: Train loss: 1.3025, Valid loss: 1.0077\n"
     ]
    },
    {
     "name": "stderr",
     "output_type": "stream",
     "text": [
      "Epoch [622/5000]: 100%|███████████████████████████████████████████████████████████████████████████████████████████| 10/10 [00:00<00:00, 216.02it/s, loss=1.21]\n"
     ]
    },
    {
     "name": "stdout",
     "output_type": "stream",
     "text": [
      "Epoch [622/5000]: Train loss: 1.3094, Valid loss: 1.0069\n"
     ]
    },
    {
     "name": "stderr",
     "output_type": "stream",
     "text": [
      "Epoch [623/5000]: 100%|███████████████████████████████████████████████████████████████████████████████████████████| 10/10 [00:00<00:00, 217.76it/s, loss=1.25]\n"
     ]
    },
    {
     "name": "stdout",
     "output_type": "stream",
     "text": [
      "Epoch [623/5000]: Train loss: 1.3139, Valid loss: 1.0374\n"
     ]
    },
    {
     "name": "stderr",
     "output_type": "stream",
     "text": [
      "Epoch [624/5000]: 100%|████████████████████████████████████████████████████████████████████████████████████████████| 10/10 [00:00<00:00, 211.08it/s, loss=1.2]\n"
     ]
    },
    {
     "name": "stdout",
     "output_type": "stream",
     "text": [
      "Epoch [624/5000]: Train loss: 1.3457, Valid loss: 1.0673\n"
     ]
    },
    {
     "name": "stderr",
     "output_type": "stream",
     "text": [
      "Epoch [625/5000]: 100%|███████████████████████████████████████████████████████████████████████████████████████████| 10/10 [00:00<00:00, 220.81it/s, loss=1.33]\n"
     ]
    },
    {
     "name": "stdout",
     "output_type": "stream",
     "text": [
      "Epoch [625/5000]: Train loss: 1.3284, Valid loss: 1.0506\n"
     ]
    },
    {
     "name": "stderr",
     "output_type": "stream",
     "text": [
      "Epoch [626/5000]: 100%|█████████████████████████████████████████████████████████████████████████████████████████████| 10/10 [00:00<00:00, 96.70it/s, loss=1.3]\n"
     ]
    },
    {
     "name": "stdout",
     "output_type": "stream",
     "text": [
      "Epoch [626/5000]: Train loss: 1.3397, Valid loss: 1.1223\n"
     ]
    },
    {
     "name": "stderr",
     "output_type": "stream",
     "text": [
      "Epoch [627/5000]: 100%|███████████████████████████████████████████████████████████████████████████████████████████| 10/10 [00:00<00:00, 216.11it/s, loss=1.23]\n"
     ]
    },
    {
     "name": "stdout",
     "output_type": "stream",
     "text": [
      "Epoch [627/5000]: Train loss: 1.3305, Valid loss: 1.0246\n"
     ]
    },
    {
     "name": "stderr",
     "output_type": "stream",
     "text": [
      "Epoch [628/5000]: 100%|███████████████████████████████████████████████████████████████████████████████████████████| 10/10 [00:00<00:00, 211.86it/s, loss=1.41]\n"
     ]
    },
    {
     "name": "stdout",
     "output_type": "stream",
     "text": [
      "Epoch [628/5000]: Train loss: 1.3361, Valid loss: 1.0357\n"
     ]
    },
    {
     "name": "stderr",
     "output_type": "stream",
     "text": [
      "Epoch [629/5000]: 100%|███████████████████████████████████████████████████████████████████████████████████████████| 10/10 [00:00<00:00, 217.62it/s, loss=1.44]\n"
     ]
    },
    {
     "name": "stdout",
     "output_type": "stream",
     "text": [
      "Epoch [629/5000]: Train loss: 1.3194, Valid loss: 1.0340\n"
     ]
    },
    {
     "name": "stderr",
     "output_type": "stream",
     "text": [
      "Epoch [630/5000]: 100%|███████████████████████████████████████████████████████████████████████████████████████████| 10/10 [00:00<00:00, 219.36it/s, loss=1.29]\n"
     ]
    },
    {
     "name": "stdout",
     "output_type": "stream",
     "text": [
      "Epoch [630/5000]: Train loss: 1.3174, Valid loss: 1.1143\n"
     ]
    },
    {
     "name": "stderr",
     "output_type": "stream",
     "text": [
      "Epoch [631/5000]: 100%|███████████████████████████████████████████████████████████████████████████████████████████| 10/10 [00:00<00:00, 219.27it/s, loss=1.39]\n"
     ]
    },
    {
     "name": "stdout",
     "output_type": "stream",
     "text": [
      "Epoch [631/5000]: Train loss: 1.3413, Valid loss: 1.0126\n"
     ]
    },
    {
     "name": "stderr",
     "output_type": "stream",
     "text": [
      "Epoch [632/5000]: 100%|████████████████████████████████████████████████████████████████████████████████████████████| 10/10 [00:00<00:00, 97.03it/s, loss=1.46]\n"
     ]
    },
    {
     "name": "stdout",
     "output_type": "stream",
     "text": [
      "Epoch [632/5000]: Train loss: 1.3410, Valid loss: 1.0322\n"
     ]
    },
    {
     "name": "stderr",
     "output_type": "stream",
     "text": [
      "Epoch [633/5000]: 100%|███████████████████████████████████████████████████████████████████████████████████████████| 10/10 [00:00<00:00, 213.73it/s, loss=1.38]\n"
     ]
    },
    {
     "name": "stdout",
     "output_type": "stream",
     "text": [
      "Epoch [633/5000]: Train loss: 1.3643, Valid loss: 1.1535\n"
     ]
    },
    {
     "name": "stderr",
     "output_type": "stream",
     "text": [
      "Epoch [634/5000]: 100%|███████████████████████████████████████████████████████████████████████████████████████████| 10/10 [00:00<00:00, 220.72it/s, loss=1.31]\n"
     ]
    },
    {
     "name": "stdout",
     "output_type": "stream",
     "text": [
      "Epoch [634/5000]: Train loss: 1.3364, Valid loss: 1.1383\n"
     ]
    },
    {
     "name": "stderr",
     "output_type": "stream",
     "text": [
      "Epoch [635/5000]: 100%|███████████████████████████████████████████████████████████████████████████████████████████| 10/10 [00:00<00:00, 220.55it/s, loss=1.34]\n"
     ]
    },
    {
     "name": "stdout",
     "output_type": "stream",
     "text": [
      "Epoch [635/5000]: Train loss: 1.3195, Valid loss: 1.0498\n"
     ]
    },
    {
     "name": "stderr",
     "output_type": "stream",
     "text": [
      "Epoch [636/5000]: 100%|███████████████████████████████████████████████████████████████████████████████████████████| 10/10 [00:00<00:00, 211.38it/s, loss=1.49]\n"
     ]
    },
    {
     "name": "stdout",
     "output_type": "stream",
     "text": [
      "Epoch [636/5000]: Train loss: 1.3053, Valid loss: 1.0504\n"
     ]
    },
    {
     "name": "stderr",
     "output_type": "stream",
     "text": [
      "Epoch [637/5000]: 100%|███████████████████████████████████████████████████████████████████████████████████████████| 10/10 [00:00<00:00, 219.80it/s, loss=1.38]\n"
     ]
    },
    {
     "name": "stdout",
     "output_type": "stream",
     "text": [
      "Epoch [637/5000]: Train loss: 1.3511, Valid loss: 1.0447\n"
     ]
    },
    {
     "name": "stderr",
     "output_type": "stream",
     "text": [
      "Epoch [638/5000]: 100%|████████████████████████████████████████████████████████████████████████████████████████████| 10/10 [00:00<00:00, 95.40it/s, loss=1.21]\n"
     ]
    },
    {
     "name": "stdout",
     "output_type": "stream",
     "text": [
      "Epoch [638/5000]: Train loss: 1.3430, Valid loss: 1.0971\n"
     ]
    },
    {
     "name": "stderr",
     "output_type": "stream",
     "text": [
      "Epoch [639/5000]: 100%|███████████████████████████████████████████████████████████████████████████████████████████| 10/10 [00:00<00:00, 216.57it/s, loss=1.32]\n"
     ]
    },
    {
     "name": "stdout",
     "output_type": "stream",
     "text": [
      "Epoch [639/5000]: Train loss: 1.3238, Valid loss: 1.0545\n"
     ]
    },
    {
     "name": "stderr",
     "output_type": "stream",
     "text": [
      "Epoch [640/5000]: 100%|███████████████████████████████████████████████████████████████████████████████████████████| 10/10 [00:00<00:00, 218.52it/s, loss=1.29]\n"
     ]
    },
    {
     "name": "stdout",
     "output_type": "stream",
     "text": [
      "Epoch [640/5000]: Train loss: 1.3449, Valid loss: 1.0278\n"
     ]
    },
    {
     "name": "stderr",
     "output_type": "stream",
     "text": [
      "Epoch [641/5000]: 100%|███████████████████████████████████████████████████████████████████████████████████████████| 10/10 [00:00<00:00, 216.91it/s, loss=1.28]\n"
     ]
    },
    {
     "name": "stdout",
     "output_type": "stream",
     "text": [
      "Epoch [641/5000]: Train loss: 1.3317, Valid loss: 1.1241\n"
     ]
    },
    {
     "name": "stderr",
     "output_type": "stream",
     "text": [
      "Epoch [642/5000]: 100%|████████████████████████████████████████████████████████████████████████████████████████████| 10/10 [00:00<00:00, 212.45it/s, loss=1.2]\n"
     ]
    },
    {
     "name": "stdout",
     "output_type": "stream",
     "text": [
      "Epoch [642/5000]: Train loss: 1.3247, Valid loss: 1.1039\n"
     ]
    },
    {
     "name": "stderr",
     "output_type": "stream",
     "text": [
      "Epoch [643/5000]: 100%|████████████████████████████████████████████████████████████████████████████████████████████| 10/10 [00:00<00:00, 220.89it/s, loss=1.3]\n"
     ]
    },
    {
     "name": "stdout",
     "output_type": "stream",
     "text": [
      "Epoch [643/5000]: Train loss: 1.3490, Valid loss: 1.0558\n"
     ]
    },
    {
     "name": "stderr",
     "output_type": "stream",
     "text": [
      "Epoch [644/5000]: 100%|█████████████████████████████████████████████████████████████████████████████████████████████| 10/10 [00:00<00:00, 93.58it/s, loss=1.3]\n"
     ]
    },
    {
     "name": "stdout",
     "output_type": "stream",
     "text": [
      "Epoch [644/5000]: Train loss: 1.3030, Valid loss: 1.0509\n"
     ]
    },
    {
     "name": "stderr",
     "output_type": "stream",
     "text": [
      "Epoch [645/5000]: 100%|███████████████████████████████████████████████████████████████████████████████████████████| 10/10 [00:00<00:00, 213.82it/s, loss=1.22]\n"
     ]
    },
    {
     "name": "stdout",
     "output_type": "stream",
     "text": [
      "Epoch [645/5000]: Train loss: 1.3420, Valid loss: 1.0193\n"
     ]
    },
    {
     "name": "stderr",
     "output_type": "stream",
     "text": [
      "Epoch [646/5000]: 100%|███████████████████████████████████████████████████████████████████████████████████████████| 10/10 [00:00<00:00, 221.10it/s, loss=1.19]\n"
     ]
    },
    {
     "name": "stdout",
     "output_type": "stream",
     "text": [
      "Epoch [646/5000]: Train loss: 1.3088, Valid loss: 1.0794\n"
     ]
    },
    {
     "name": "stderr",
     "output_type": "stream",
     "text": [
      "Epoch [647/5000]: 100%|███████████████████████████████████████████████████████████████████████████████████████████| 10/10 [00:00<00:00, 214.45it/s, loss=1.24]\n"
     ]
    },
    {
     "name": "stdout",
     "output_type": "stream",
     "text": [
      "Epoch [647/5000]: Train loss: 1.3422, Valid loss: 0.9687\n",
      "Saving model with loss 0.969...\n"
     ]
    },
    {
     "name": "stderr",
     "output_type": "stream",
     "text": [
      "Epoch [648/5000]: 100%|███████████████████████████████████████████████████████████████████████████████████████████| 10/10 [00:00<00:00, 218.69it/s, loss=1.22]\n"
     ]
    },
    {
     "name": "stdout",
     "output_type": "stream",
     "text": [
      "Epoch [648/5000]: Train loss: 1.3253, Valid loss: 1.0412\n"
     ]
    },
    {
     "name": "stderr",
     "output_type": "stream",
     "text": [
      "Epoch [649/5000]: 100%|███████████████████████████████████████████████████████████████████████████████████████████| 10/10 [00:00<00:00, 214.80it/s, loss=1.33]\n"
     ]
    },
    {
     "name": "stdout",
     "output_type": "stream",
     "text": [
      "Epoch [649/5000]: Train loss: 1.3399, Valid loss: 1.0269\n"
     ]
    },
    {
     "name": "stderr",
     "output_type": "stream",
     "text": [
      "Epoch [650/5000]: 100%|████████████████████████████████████████████████████████████████████████████████████████████| 10/10 [00:00<00:00, 96.86it/s, loss=1.32]\n"
     ]
    },
    {
     "name": "stdout",
     "output_type": "stream",
     "text": [
      "Epoch [650/5000]: Train loss: 1.3396, Valid loss: 1.0441\n"
     ]
    },
    {
     "name": "stderr",
     "output_type": "stream",
     "text": [
      "Epoch [651/5000]: 100%|███████████████████████████████████████████████████████████████████████████████████████████| 10/10 [00:00<00:00, 215.61it/s, loss=1.44]\n"
     ]
    },
    {
     "name": "stdout",
     "output_type": "stream",
     "text": [
      "Epoch [651/5000]: Train loss: 1.3534, Valid loss: 1.1524\n"
     ]
    },
    {
     "name": "stderr",
     "output_type": "stream",
     "text": [
      "Epoch [652/5000]: 100%|███████████████████████████████████████████████████████████████████████████████████████████| 10/10 [00:00<00:00, 213.08it/s, loss=1.47]\n"
     ]
    },
    {
     "name": "stdout",
     "output_type": "stream",
     "text": [
      "Epoch [652/5000]: Train loss: 1.3679, Valid loss: 1.0953\n"
     ]
    },
    {
     "name": "stderr",
     "output_type": "stream",
     "text": [
      "Epoch [653/5000]: 100%|███████████████████████████████████████████████████████████████████████████████████████████| 10/10 [00:00<00:00, 218.83it/s, loss=1.34]\n"
     ]
    },
    {
     "name": "stdout",
     "output_type": "stream",
     "text": [
      "Epoch [653/5000]: Train loss: 1.3184, Valid loss: 1.0439\n"
     ]
    },
    {
     "name": "stderr",
     "output_type": "stream",
     "text": [
      "Epoch [654/5000]: 100%|███████████████████████████████████████████████████████████████████████████████████████████| 10/10 [00:00<00:00, 216.86it/s, loss=1.44]\n"
     ]
    },
    {
     "name": "stdout",
     "output_type": "stream",
     "text": [
      "Epoch [654/5000]: Train loss: 1.3210, Valid loss: 0.9993\n"
     ]
    },
    {
     "name": "stderr",
     "output_type": "stream",
     "text": [
      "Epoch [655/5000]: 100%|███████████████████████████████████████████████████████████████████████████████████████████| 10/10 [00:00<00:00, 216.21it/s, loss=1.43]\n"
     ]
    },
    {
     "name": "stdout",
     "output_type": "stream",
     "text": [
      "Epoch [655/5000]: Train loss: 1.3119, Valid loss: 1.0137\n"
     ]
    },
    {
     "name": "stderr",
     "output_type": "stream",
     "text": [
      "Epoch [656/5000]: 100%|████████████████████████████████████████████████████████████████████████████████████████████| 10/10 [00:00<00:00, 97.54it/s, loss=1.33]\n"
     ]
    },
    {
     "name": "stdout",
     "output_type": "stream",
     "text": [
      "Epoch [656/5000]: Train loss: 1.3444, Valid loss: 1.0886\n"
     ]
    },
    {
     "name": "stderr",
     "output_type": "stream",
     "text": [
      "Epoch [657/5000]: 100%|███████████████████████████████████████████████████████████████████████████████████████████| 10/10 [00:00<00:00, 214.33it/s, loss=1.26]\n"
     ]
    },
    {
     "name": "stdout",
     "output_type": "stream",
     "text": [
      "Epoch [657/5000]: Train loss: 1.3328, Valid loss: 1.1102\n"
     ]
    },
    {
     "name": "stderr",
     "output_type": "stream",
     "text": [
      "Epoch [658/5000]: 100%|███████████████████████████████████████████████████████████████████████████████████████████| 10/10 [00:00<00:00, 212.14it/s, loss=1.29]\n"
     ]
    },
    {
     "name": "stdout",
     "output_type": "stream",
     "text": [
      "Epoch [658/5000]: Train loss: 1.3481, Valid loss: 1.0690\n"
     ]
    },
    {
     "name": "stderr",
     "output_type": "stream",
     "text": [
      "Epoch [659/5000]: 100%|███████████████████████████████████████████████████████████████████████████████████████████| 10/10 [00:00<00:00, 218.52it/s, loss=1.28]\n"
     ]
    },
    {
     "name": "stdout",
     "output_type": "stream",
     "text": [
      "Epoch [659/5000]: Train loss: 1.3083, Valid loss: 1.0776\n"
     ]
    },
    {
     "name": "stderr",
     "output_type": "stream",
     "text": [
      "Epoch [660/5000]: 100%|████████████████████████████████████████████████████████████████████████████████████████████| 10/10 [00:00<00:00, 215.68it/s, loss=1.2]\n"
     ]
    },
    {
     "name": "stdout",
     "output_type": "stream",
     "text": [
      "Epoch [660/5000]: Train loss: 1.3226, Valid loss: 0.9864\n"
     ]
    },
    {
     "name": "stderr",
     "output_type": "stream",
     "text": [
      "Epoch [661/5000]: 100%|███████████████████████████████████████████████████████████████████████████████████████████| 10/10 [00:00<00:00, 218.68it/s, loss=1.43]\n"
     ]
    },
    {
     "name": "stdout",
     "output_type": "stream",
     "text": [
      "Epoch [661/5000]: Train loss: 1.3133, Valid loss: 1.0482\n"
     ]
    },
    {
     "name": "stderr",
     "output_type": "stream",
     "text": [
      "Epoch [662/5000]: 100%|████████████████████████████████████████████████████████████████████████████████████████████| 10/10 [00:00<00:00, 96.14it/s, loss=1.23]\n"
     ]
    },
    {
     "name": "stdout",
     "output_type": "stream",
     "text": [
      "Epoch [662/5000]: Train loss: 1.3086, Valid loss: 1.1035\n"
     ]
    },
    {
     "name": "stderr",
     "output_type": "stream",
     "text": [
      "Epoch [663/5000]: 100%|███████████████████████████████████████████████████████████████████████████████████████████| 10/10 [00:00<00:00, 220.25it/s, loss=1.43]\n"
     ]
    },
    {
     "name": "stdout",
     "output_type": "stream",
     "text": [
      "Epoch [663/5000]: Train loss: 1.3489, Valid loss: 1.1270\n"
     ]
    },
    {
     "name": "stderr",
     "output_type": "stream",
     "text": [
      "Epoch [664/5000]: 100%|███████████████████████████████████████████████████████████████████████████████████████████| 10/10 [00:00<00:00, 210.25it/s, loss=1.29]\n"
     ]
    },
    {
     "name": "stdout",
     "output_type": "stream",
     "text": [
      "Epoch [664/5000]: Train loss: 1.3081, Valid loss: 1.0602\n"
     ]
    },
    {
     "name": "stderr",
     "output_type": "stream",
     "text": [
      "Epoch [665/5000]: 100%|███████████████████████████████████████████████████████████████████████████████████████████| 10/10 [00:00<00:00, 214.48it/s, loss=1.49]\n"
     ]
    },
    {
     "name": "stdout",
     "output_type": "stream",
     "text": [
      "Epoch [665/5000]: Train loss: 1.3177, Valid loss: 1.1002\n"
     ]
    },
    {
     "name": "stderr",
     "output_type": "stream",
     "text": [
      "Epoch [666/5000]: 100%|████████████████████████████████████████████████████████████████████████████████████████████| 10/10 [00:00<00:00, 218.60it/s, loss=1.4]\n"
     ]
    },
    {
     "name": "stdout",
     "output_type": "stream",
     "text": [
      "Epoch [666/5000]: Train loss: 1.3382, Valid loss: 1.0530\n"
     ]
    },
    {
     "name": "stderr",
     "output_type": "stream",
     "text": [
      "Epoch [667/5000]: 100%|███████████████████████████████████████████████████████████████████████████████████████████| 10/10 [00:00<00:00, 218.74it/s, loss=1.13]\n"
     ]
    },
    {
     "name": "stdout",
     "output_type": "stream",
     "text": [
      "Epoch [667/5000]: Train loss: 1.3247, Valid loss: 0.9750\n"
     ]
    },
    {
     "name": "stderr",
     "output_type": "stream",
     "text": [
      "Epoch [668/5000]: 100%|████████████████████████████████████████████████████████████████████████████████████████████| 10/10 [00:00<00:00, 95.81it/s, loss=1.43]\n"
     ]
    },
    {
     "name": "stdout",
     "output_type": "stream",
     "text": [
      "Epoch [668/5000]: Train loss: 1.3136, Valid loss: 1.0245\n"
     ]
    },
    {
     "name": "stderr",
     "output_type": "stream",
     "text": [
      "Epoch [669/5000]: 100%|███████████████████████████████████████████████████████████████████████████████████████████| 10/10 [00:00<00:00, 212.03it/s, loss=1.37]\n"
     ]
    },
    {
     "name": "stdout",
     "output_type": "stream",
     "text": [
      "Epoch [669/5000]: Train loss: 1.3234, Valid loss: 1.0650\n"
     ]
    },
    {
     "name": "stderr",
     "output_type": "stream",
     "text": [
      "Epoch [670/5000]: 100%|███████████████████████████████████████████████████████████████████████████████████████████| 10/10 [00:00<00:00, 217.23it/s, loss=1.29]\n"
     ]
    },
    {
     "name": "stdout",
     "output_type": "stream",
     "text": [
      "Epoch [670/5000]: Train loss: 1.3213, Valid loss: 1.1079\n"
     ]
    },
    {
     "name": "stderr",
     "output_type": "stream",
     "text": [
      "Epoch [671/5000]: 100%|███████████████████████████████████████████████████████████████████████████████████████████| 10/10 [00:00<00:00, 219.38it/s, loss=1.19]\n"
     ]
    },
    {
     "name": "stdout",
     "output_type": "stream",
     "text": [
      "Epoch [671/5000]: Train loss: 1.3474, Valid loss: 1.0573\n"
     ]
    },
    {
     "name": "stderr",
     "output_type": "stream",
     "text": [
      "Epoch [672/5000]: 100%|███████████████████████████████████████████████████████████████████████████████████████████| 10/10 [00:00<00:00, 218.21it/s, loss=1.31]\n"
     ]
    },
    {
     "name": "stdout",
     "output_type": "stream",
     "text": [
      "Epoch [672/5000]: Train loss: 1.3365, Valid loss: 1.0247\n"
     ]
    },
    {
     "name": "stderr",
     "output_type": "stream",
     "text": [
      "Epoch [673/5000]: 100%|███████████████████████████████████████████████████████████████████████████████████████████| 10/10 [00:00<00:00, 218.94it/s, loss=1.31]\n"
     ]
    },
    {
     "name": "stdout",
     "output_type": "stream",
     "text": [
      "Epoch [673/5000]: Train loss: 1.3184, Valid loss: 1.0656\n"
     ]
    },
    {
     "name": "stderr",
     "output_type": "stream",
     "text": [
      "Epoch [674/5000]: 100%|████████████████████████████████████████████████████████████████████████████████████████████| 10/10 [00:00<00:00, 96.72it/s, loss=1.27]\n"
     ]
    },
    {
     "name": "stdout",
     "output_type": "stream",
     "text": [
      "Epoch [674/5000]: Train loss: 1.3753, Valid loss: 1.1422\n"
     ]
    },
    {
     "name": "stderr",
     "output_type": "stream",
     "text": [
      "Epoch [675/5000]: 100%|███████████████████████████████████████████████████████████████████████████████████████████| 10/10 [00:00<00:00, 219.58it/s, loss=1.31]\n"
     ]
    },
    {
     "name": "stdout",
     "output_type": "stream",
     "text": [
      "Epoch [675/5000]: Train loss: 1.3205, Valid loss: 1.0516\n"
     ]
    },
    {
     "name": "stderr",
     "output_type": "stream",
     "text": [
      "Epoch [676/5000]: 100%|███████████████████████████████████████████████████████████████████████████████████████████| 10/10 [00:00<00:00, 218.38it/s, loss=1.36]\n"
     ]
    },
    {
     "name": "stdout",
     "output_type": "stream",
     "text": [
      "Epoch [676/5000]: Train loss: 1.3209, Valid loss: 1.0210\n"
     ]
    },
    {
     "name": "stderr",
     "output_type": "stream",
     "text": [
      "Epoch [677/5000]: 100%|███████████████████████████████████████████████████████████████████████████████████████████| 10/10 [00:00<00:00, 218.50it/s, loss=1.24]\n"
     ]
    },
    {
     "name": "stdout",
     "output_type": "stream",
     "text": [
      "Epoch [677/5000]: Train loss: 1.3278, Valid loss: 0.9879\n"
     ]
    },
    {
     "name": "stderr",
     "output_type": "stream",
     "text": [
      "Epoch [678/5000]: 100%|███████████████████████████████████████████████████████████████████████████████████████████| 10/10 [00:00<00:00, 214.39it/s, loss=1.52]\n"
     ]
    },
    {
     "name": "stdout",
     "output_type": "stream",
     "text": [
      "Epoch [678/5000]: Train loss: 1.3447, Valid loss: 1.0954\n"
     ]
    },
    {
     "name": "stderr",
     "output_type": "stream",
     "text": [
      "Epoch [679/5000]: 100%|███████████████████████████████████████████████████████████████████████████████████████████| 10/10 [00:00<00:00, 216.88it/s, loss=1.27]\n"
     ]
    },
    {
     "name": "stdout",
     "output_type": "stream",
     "text": [
      "Epoch [679/5000]: Train loss: 1.3013, Valid loss: 1.1140\n"
     ]
    },
    {
     "name": "stderr",
     "output_type": "stream",
     "text": [
      "Epoch [680/5000]: 100%|████████████████████████████████████████████████████████████████████████████████████████████| 10/10 [00:00<00:00, 96.79it/s, loss=1.18]\n"
     ]
    },
    {
     "name": "stdout",
     "output_type": "stream",
     "text": [
      "Epoch [680/5000]: Train loss: 1.3192, Valid loss: 1.1111\n"
     ]
    },
    {
     "name": "stderr",
     "output_type": "stream",
     "text": [
      "Epoch [681/5000]: 100%|████████████████████████████████████████████████████████████████████████████████████████████| 10/10 [00:00<00:00, 218.63it/s, loss=1.3]\n"
     ]
    },
    {
     "name": "stdout",
     "output_type": "stream",
     "text": [
      "Epoch [681/5000]: Train loss: 1.3244, Valid loss: 1.0138\n"
     ]
    },
    {
     "name": "stderr",
     "output_type": "stream",
     "text": [
      "Epoch [682/5000]: 100%|███████████████████████████████████████████████████████████████████████████████████████████| 10/10 [00:00<00:00, 209.07it/s, loss=1.44]\n"
     ]
    },
    {
     "name": "stdout",
     "output_type": "stream",
     "text": [
      "Epoch [682/5000]: Train loss: 1.3281, Valid loss: 1.0626\n"
     ]
    },
    {
     "name": "stderr",
     "output_type": "stream",
     "text": [
      "Epoch [683/5000]: 100%|███████████████████████████████████████████████████████████████████████████████████████████| 10/10 [00:00<00:00, 219.11it/s, loss=1.42]\n"
     ]
    },
    {
     "name": "stdout",
     "output_type": "stream",
     "text": [
      "Epoch [683/5000]: Train loss: 1.3268, Valid loss: 1.0420\n"
     ]
    },
    {
     "name": "stderr",
     "output_type": "stream",
     "text": [
      "Epoch [684/5000]: 100%|███████████████████████████████████████████████████████████████████████████████████████████| 10/10 [00:00<00:00, 218.58it/s, loss=1.31]\n"
     ]
    },
    {
     "name": "stdout",
     "output_type": "stream",
     "text": [
      "Epoch [684/5000]: Train loss: 1.3314, Valid loss: 1.0354\n"
     ]
    },
    {
     "name": "stderr",
     "output_type": "stream",
     "text": [
      "Epoch [685/5000]: 100%|███████████████████████████████████████████████████████████████████████████████████████████| 10/10 [00:00<00:00, 219.43it/s, loss=1.38]\n"
     ]
    },
    {
     "name": "stdout",
     "output_type": "stream",
     "text": [
      "Epoch [685/5000]: Train loss: 1.3387, Valid loss: 0.9946\n"
     ]
    },
    {
     "name": "stderr",
     "output_type": "stream",
     "text": [
      "Epoch [686/5000]: 100%|█████████████████████████████████████████████████████████████████████████████████████████████| 10/10 [00:00<00:00, 96.98it/s, loss=1.2]\n"
     ]
    },
    {
     "name": "stdout",
     "output_type": "stream",
     "text": [
      "Epoch [686/5000]: Train loss: 1.3153, Valid loss: 1.0253\n"
     ]
    },
    {
     "name": "stderr",
     "output_type": "stream",
     "text": [
      "Epoch [687/5000]: 100%|███████████████████████████████████████████████████████████████████████████████████████████| 10/10 [00:00<00:00, 211.25it/s, loss=1.18]\n"
     ]
    },
    {
     "name": "stdout",
     "output_type": "stream",
     "text": [
      "Epoch [687/5000]: Train loss: 1.3069, Valid loss: 0.9914\n"
     ]
    },
    {
     "name": "stderr",
     "output_type": "stream",
     "text": [
      "Epoch [688/5000]: 100%|███████████████████████████████████████████████████████████████████████████████████████████| 10/10 [00:00<00:00, 216.90it/s, loss=1.49]\n"
     ]
    },
    {
     "name": "stdout",
     "output_type": "stream",
     "text": [
      "Epoch [688/5000]: Train loss: 1.3483, Valid loss: 1.0543\n"
     ]
    },
    {
     "name": "stderr",
     "output_type": "stream",
     "text": [
      "Epoch [689/5000]: 100%|███████████████████████████████████████████████████████████████████████████████████████████| 10/10 [00:00<00:00, 220.17it/s, loss=1.35]\n"
     ]
    },
    {
     "name": "stdout",
     "output_type": "stream",
     "text": [
      "Epoch [689/5000]: Train loss: 1.3453, Valid loss: 1.0759\n"
     ]
    },
    {
     "name": "stderr",
     "output_type": "stream",
     "text": [
      "Epoch [690/5000]: 100%|███████████████████████████████████████████████████████████████████████████████████████████| 10/10 [00:00<00:00, 217.98it/s, loss=1.48]\n"
     ]
    },
    {
     "name": "stdout",
     "output_type": "stream",
     "text": [
      "Epoch [690/5000]: Train loss: 1.3352, Valid loss: 1.0499\n"
     ]
    },
    {
     "name": "stderr",
     "output_type": "stream",
     "text": [
      "Epoch [691/5000]: 100%|███████████████████████████████████████████████████████████████████████████████████████████| 10/10 [00:00<00:00, 220.23it/s, loss=1.17]\n"
     ]
    },
    {
     "name": "stdout",
     "output_type": "stream",
     "text": [
      "Epoch [691/5000]: Train loss: 1.3334, Valid loss: 0.9852\n"
     ]
    },
    {
     "name": "stderr",
     "output_type": "stream",
     "text": [
      "Epoch [692/5000]: 100%|████████████████████████████████████████████████████████████████████████████████████████████| 10/10 [00:00<00:00, 96.83it/s, loss=1.05]\n"
     ]
    },
    {
     "name": "stdout",
     "output_type": "stream",
     "text": [
      "Epoch [692/5000]: Train loss: 1.2895, Valid loss: 1.0504\n"
     ]
    },
    {
     "name": "stderr",
     "output_type": "stream",
     "text": [
      "Epoch [693/5000]: 100%|███████████████████████████████████████████████████████████████████████████████████████████| 10/10 [00:00<00:00, 213.35it/s, loss=1.53]\n"
     ]
    },
    {
     "name": "stdout",
     "output_type": "stream",
     "text": [
      "Epoch [693/5000]: Train loss: 1.3118, Valid loss: 1.0540\n"
     ]
    },
    {
     "name": "stderr",
     "output_type": "stream",
     "text": [
      "Epoch [694/5000]: 100%|███████████████████████████████████████████████████████████████████████████████████████████| 10/10 [00:00<00:00, 217.58it/s, loss=1.35]\n"
     ]
    },
    {
     "name": "stdout",
     "output_type": "stream",
     "text": [
      "Epoch [694/5000]: Train loss: 1.3136, Valid loss: 1.0371\n"
     ]
    },
    {
     "name": "stderr",
     "output_type": "stream",
     "text": [
      "Epoch [695/5000]: 100%|███████████████████████████████████████████████████████████████████████████████████████████| 10/10 [00:00<00:00, 218.56it/s, loss=1.19]\n"
     ]
    },
    {
     "name": "stdout",
     "output_type": "stream",
     "text": [
      "Epoch [695/5000]: Train loss: 1.3156, Valid loss: 1.0922\n"
     ]
    },
    {
     "name": "stderr",
     "output_type": "stream",
     "text": [
      "Epoch [696/5000]: 100%|███████████████████████████████████████████████████████████████████████████████████████████| 10/10 [00:00<00:00, 220.79it/s, loss=1.16]\n"
     ]
    },
    {
     "name": "stdout",
     "output_type": "stream",
     "text": [
      "Epoch [696/5000]: Train loss: 1.2896, Valid loss: 1.1090\n"
     ]
    },
    {
     "name": "stderr",
     "output_type": "stream",
     "text": [
      "Epoch [697/5000]: 100%|███████████████████████████████████████████████████████████████████████████████████████████| 10/10 [00:00<00:00, 210.32it/s, loss=1.29]\n"
     ]
    },
    {
     "name": "stdout",
     "output_type": "stream",
     "text": [
      "Epoch [697/5000]: Train loss: 1.3281, Valid loss: 1.0457\n"
     ]
    },
    {
     "name": "stderr",
     "output_type": "stream",
     "text": [
      "Epoch [698/5000]: 100%|████████████████████████████████████████████████████████████████████████████████████████████| 10/10 [00:00<00:00, 96.01it/s, loss=1.29]\n"
     ]
    },
    {
     "name": "stdout",
     "output_type": "stream",
     "text": [
      "Epoch [698/5000]: Train loss: 1.3351, Valid loss: 1.0175\n"
     ]
    },
    {
     "name": "stderr",
     "output_type": "stream",
     "text": [
      "Epoch [699/5000]: 100%|███████████████████████████████████████████████████████████████████████████████████████████| 10/10 [00:00<00:00, 215.47it/s, loss=1.23]\n"
     ]
    },
    {
     "name": "stdout",
     "output_type": "stream",
     "text": [
      "Epoch [699/5000]: Train loss: 1.3196, Valid loss: 1.1566\n"
     ]
    },
    {
     "name": "stderr",
     "output_type": "stream",
     "text": [
      "Epoch [700/5000]: 100%|███████████████████████████████████████████████████████████████████████████████████████████| 10/10 [00:00<00:00, 211.48it/s, loss=1.45]\n"
     ]
    },
    {
     "name": "stdout",
     "output_type": "stream",
     "text": [
      "Epoch [700/5000]: Train loss: 1.3586, Valid loss: 1.0356\n"
     ]
    },
    {
     "name": "stderr",
     "output_type": "stream",
     "text": [
      "Epoch [701/5000]: 100%|███████████████████████████████████████████████████████████████████████████████████████████| 10/10 [00:00<00:00, 219.29it/s, loss=1.23]\n"
     ]
    },
    {
     "name": "stdout",
     "output_type": "stream",
     "text": [
      "Epoch [701/5000]: Train loss: 1.3634, Valid loss: 1.0651\n"
     ]
    },
    {
     "name": "stderr",
     "output_type": "stream",
     "text": [
      "Epoch [702/5000]: 100%|███████████████████████████████████████████████████████████████████████████████████████████| 10/10 [00:00<00:00, 216.91it/s, loss=1.48]\n"
     ]
    },
    {
     "name": "stdout",
     "output_type": "stream",
     "text": [
      "Epoch [702/5000]: Train loss: 1.3414, Valid loss: 1.0513\n"
     ]
    },
    {
     "name": "stderr",
     "output_type": "stream",
     "text": [
      "Epoch [703/5000]: 100%|████████████████████████████████████████████████████████████████████████████████████████████| 10/10 [00:00<00:00, 210.03it/s, loss=1.4]\n"
     ]
    },
    {
     "name": "stdout",
     "output_type": "stream",
     "text": [
      "Epoch [703/5000]: Train loss: 1.3214, Valid loss: 1.0452\n"
     ]
    },
    {
     "name": "stderr",
     "output_type": "stream",
     "text": [
      "Epoch [704/5000]: 100%|████████████████████████████████████████████████████████████████████████████████████████████| 10/10 [00:00<00:00, 92.03it/s, loss=1.52]\n"
     ]
    },
    {
     "name": "stdout",
     "output_type": "stream",
     "text": [
      "Epoch [704/5000]: Train loss: 1.3234, Valid loss: 1.0096\n"
     ]
    },
    {
     "name": "stderr",
     "output_type": "stream",
     "text": [
      "Epoch [705/5000]: 100%|███████████████████████████████████████████████████████████████████████████████████████████| 10/10 [00:00<00:00, 214.22it/s, loss=1.32]\n"
     ]
    },
    {
     "name": "stdout",
     "output_type": "stream",
     "text": [
      "Epoch [705/5000]: Train loss: 1.3199, Valid loss: 0.9942\n"
     ]
    },
    {
     "name": "stderr",
     "output_type": "stream",
     "text": [
      "Epoch [706/5000]: 100%|███████████████████████████████████████████████████████████████████████████████████████████| 10/10 [00:00<00:00, 216.84it/s, loss=1.32]\n"
     ]
    },
    {
     "name": "stdout",
     "output_type": "stream",
     "text": [
      "Epoch [706/5000]: Train loss: 1.3031, Valid loss: 1.0279\n"
     ]
    },
    {
     "name": "stderr",
     "output_type": "stream",
     "text": [
      "Epoch [707/5000]: 100%|███████████████████████████████████████████████████████████████████████████████████████████| 10/10 [00:00<00:00, 218.84it/s, loss=1.31]\n"
     ]
    },
    {
     "name": "stdout",
     "output_type": "stream",
     "text": [
      "Epoch [707/5000]: Train loss: 1.3394, Valid loss: 1.0185\n"
     ]
    },
    {
     "name": "stderr",
     "output_type": "stream",
     "text": [
      "Epoch [708/5000]: 100%|███████████████████████████████████████████████████████████████████████████████████████████| 10/10 [00:00<00:00, 214.01it/s, loss=1.14]\n"
     ]
    },
    {
     "name": "stdout",
     "output_type": "stream",
     "text": [
      "Epoch [708/5000]: Train loss: 1.3020, Valid loss: 1.0881\n"
     ]
    },
    {
     "name": "stderr",
     "output_type": "stream",
     "text": [
      "Epoch [709/5000]: 100%|███████████████████████████████████████████████████████████████████████████████████████████| 10/10 [00:00<00:00, 221.06it/s, loss=1.28]\n"
     ]
    },
    {
     "name": "stdout",
     "output_type": "stream",
     "text": [
      "Epoch [709/5000]: Train loss: 1.3026, Valid loss: 1.0068\n"
     ]
    },
    {
     "name": "stderr",
     "output_type": "stream",
     "text": [
      "Epoch [710/5000]: 100%|████████████████████████████████████████████████████████████████████████████████████████████| 10/10 [00:00<00:00, 96.73it/s, loss=1.21]\n"
     ]
    },
    {
     "name": "stdout",
     "output_type": "stream",
     "text": [
      "Epoch [710/5000]: Train loss: 1.3018, Valid loss: 1.0844\n"
     ]
    },
    {
     "name": "stderr",
     "output_type": "stream",
     "text": [
      "Epoch [711/5000]: 100%|███████████████████████████████████████████████████████████████████████████████████████████| 10/10 [00:00<00:00, 213.15it/s, loss=1.24]\n"
     ]
    },
    {
     "name": "stdout",
     "output_type": "stream",
     "text": [
      "Epoch [711/5000]: Train loss: 1.2961, Valid loss: 1.0028\n"
     ]
    },
    {
     "name": "stderr",
     "output_type": "stream",
     "text": [
      "Epoch [712/5000]: 100%|███████████████████████████████████████████████████████████████████████████████████████████| 10/10 [00:00<00:00, 218.64it/s, loss=1.19]\n"
     ]
    },
    {
     "name": "stdout",
     "output_type": "stream",
     "text": [
      "Epoch [712/5000]: Train loss: 1.2978, Valid loss: 1.0439\n"
     ]
    },
    {
     "name": "stderr",
     "output_type": "stream",
     "text": [
      "Epoch [713/5000]: 100%|███████████████████████████████████████████████████████████████████████████████████████████| 10/10 [00:00<00:00, 220.01it/s, loss=1.33]\n"
     ]
    },
    {
     "name": "stdout",
     "output_type": "stream",
     "text": [
      "Epoch [713/5000]: Train loss: 1.3077, Valid loss: 1.0102\n"
     ]
    },
    {
     "name": "stderr",
     "output_type": "stream",
     "text": [
      "Epoch [714/5000]: 100%|███████████████████████████████████████████████████████████████████████████████████████████| 10/10 [00:00<00:00, 219.84it/s, loss=1.19]\n"
     ]
    },
    {
     "name": "stdout",
     "output_type": "stream",
     "text": [
      "Epoch [714/5000]: Train loss: 1.3293, Valid loss: 1.0785\n"
     ]
    },
    {
     "name": "stderr",
     "output_type": "stream",
     "text": [
      "Epoch [715/5000]: 100%|███████████████████████████████████████████████████████████████████████████████████████████| 10/10 [00:00<00:00, 220.40it/s, loss=1.33]\n"
     ]
    },
    {
     "name": "stdout",
     "output_type": "stream",
     "text": [
      "Epoch [715/5000]: Train loss: 1.3221, Valid loss: 1.0328\n"
     ]
    },
    {
     "name": "stderr",
     "output_type": "stream",
     "text": [
      "Epoch [716/5000]: 100%|█████████████████████████████████████████████████████████████████████████████████████████████| 10/10 [00:00<00:00, 97.16it/s, loss=1.2]\n"
     ]
    },
    {
     "name": "stdout",
     "output_type": "stream",
     "text": [
      "Epoch [716/5000]: Train loss: 1.3004, Valid loss: 1.0376\n"
     ]
    },
    {
     "name": "stderr",
     "output_type": "stream",
     "text": [
      "Epoch [717/5000]: 100%|███████████████████████████████████████████████████████████████████████████████████████████| 10/10 [00:00<00:00, 221.37it/s, loss=1.25]\n"
     ]
    },
    {
     "name": "stdout",
     "output_type": "stream",
     "text": [
      "Epoch [717/5000]: Train loss: 1.3255, Valid loss: 1.0896\n"
     ]
    },
    {
     "name": "stderr",
     "output_type": "stream",
     "text": [
      "Epoch [718/5000]: 100%|███████████████████████████████████████████████████████████████████████████████████████████| 10/10 [00:00<00:00, 211.93it/s, loss=1.22]\n"
     ]
    },
    {
     "name": "stdout",
     "output_type": "stream",
     "text": [
      "Epoch [718/5000]: Train loss: 1.3041, Valid loss: 1.0847\n"
     ]
    },
    {
     "name": "stderr",
     "output_type": "stream",
     "text": [
      "Epoch [719/5000]: 100%|███████████████████████████████████████████████████████████████████████████████████████████| 10/10 [00:00<00:00, 219.21it/s, loss=1.23]\n"
     ]
    },
    {
     "name": "stdout",
     "output_type": "stream",
     "text": [
      "Epoch [719/5000]: Train loss: 1.3105, Valid loss: 1.0527\n"
     ]
    },
    {
     "name": "stderr",
     "output_type": "stream",
     "text": [
      "Epoch [720/5000]: 100%|███████████████████████████████████████████████████████████████████████████████████████████| 10/10 [00:00<00:00, 216.74it/s, loss=1.47]\n"
     ]
    },
    {
     "name": "stdout",
     "output_type": "stream",
     "text": [
      "Epoch [720/5000]: Train loss: 1.3324, Valid loss: 1.0453\n"
     ]
    },
    {
     "name": "stderr",
     "output_type": "stream",
     "text": [
      "Epoch [721/5000]: 100%|███████████████████████████████████████████████████████████████████████████████████████████| 10/10 [00:00<00:00, 215.97it/s, loss=1.43]\n"
     ]
    },
    {
     "name": "stdout",
     "output_type": "stream",
     "text": [
      "Epoch [721/5000]: Train loss: 1.3614, Valid loss: 1.0556\n"
     ]
    },
    {
     "name": "stderr",
     "output_type": "stream",
     "text": [
      "Epoch [722/5000]: 100%|████████████████████████████████████████████████████████████████████████████████████████████| 10/10 [00:00<00:00, 91.19it/s, loss=1.35]\n"
     ]
    },
    {
     "name": "stdout",
     "output_type": "stream",
     "text": [
      "Epoch [722/5000]: Train loss: 1.3162, Valid loss: 1.0511\n"
     ]
    },
    {
     "name": "stderr",
     "output_type": "stream",
     "text": [
      "Epoch [723/5000]: 100%|███████████████████████████████████████████████████████████████████████████████████████████| 10/10 [00:00<00:00, 215.24it/s, loss=1.13]\n"
     ]
    },
    {
     "name": "stdout",
     "output_type": "stream",
     "text": [
      "Epoch [723/5000]: Train loss: 1.3230, Valid loss: 1.0473\n"
     ]
    },
    {
     "name": "stderr",
     "output_type": "stream",
     "text": [
      "Epoch [724/5000]: 100%|███████████████████████████████████████████████████████████████████████████████████████████| 10/10 [00:00<00:00, 212.77it/s, loss=1.36]\n"
     ]
    },
    {
     "name": "stdout",
     "output_type": "stream",
     "text": [
      "Epoch [724/5000]: Train loss: 1.3891, Valid loss: 1.1439\n"
     ]
    },
    {
     "name": "stderr",
     "output_type": "stream",
     "text": [
      "Epoch [725/5000]: 100%|███████████████████████████████████████████████████████████████████████████████████████████| 10/10 [00:00<00:00, 218.20it/s, loss=1.42]\n"
     ]
    },
    {
     "name": "stdout",
     "output_type": "stream",
     "text": [
      "Epoch [725/5000]: Train loss: 1.3742, Valid loss: 1.0857\n"
     ]
    },
    {
     "name": "stderr",
     "output_type": "stream",
     "text": [
      "Epoch [726/5000]: 100%|███████████████████████████████████████████████████████████████████████████████████████████| 10/10 [00:00<00:00, 217.14it/s, loss=1.24]\n"
     ]
    },
    {
     "name": "stdout",
     "output_type": "stream",
     "text": [
      "Epoch [726/5000]: Train loss: 1.3518, Valid loss: 1.0455\n"
     ]
    },
    {
     "name": "stderr",
     "output_type": "stream",
     "text": [
      "Epoch [727/5000]: 100%|███████████████████████████████████████████████████████████████████████████████████████████| 10/10 [00:00<00:00, 211.68it/s, loss=1.31]\n"
     ]
    },
    {
     "name": "stdout",
     "output_type": "stream",
     "text": [
      "Epoch [727/5000]: Train loss: 1.3204, Valid loss: 1.0276\n"
     ]
    },
    {
     "name": "stderr",
     "output_type": "stream",
     "text": [
      "Epoch [728/5000]: 100%|█████████████████████████████████████████████████████████████████████████████████████████████| 10/10 [00:00<00:00, 91.66it/s, loss=1.6]\n"
     ]
    },
    {
     "name": "stdout",
     "output_type": "stream",
     "text": [
      "Epoch [728/5000]: Train loss: 1.3689, Valid loss: 1.1029\n"
     ]
    },
    {
     "name": "stderr",
     "output_type": "stream",
     "text": [
      "Epoch [729/5000]: 100%|██████████████████████████████████████████████████████████████████████████████████████████| 10/10 [00:00<00:00, 212.93it/s, loss=0.984]\n"
     ]
    },
    {
     "name": "stdout",
     "output_type": "stream",
     "text": [
      "Epoch [729/5000]: Train loss: 1.3079, Valid loss: 1.0741\n"
     ]
    },
    {
     "name": "stderr",
     "output_type": "stream",
     "text": [
      "Epoch [730/5000]: 100%|████████████████████████████████████████████████████████████████████████████████████████████| 10/10 [00:00<00:00, 218.17it/s, loss=1.2]\n"
     ]
    },
    {
     "name": "stdout",
     "output_type": "stream",
     "text": [
      "Epoch [730/5000]: Train loss: 1.3117, Valid loss: 1.0149\n"
     ]
    },
    {
     "name": "stderr",
     "output_type": "stream",
     "text": [
      "Epoch [731/5000]: 100%|███████████████████████████████████████████████████████████████████████████████████████████| 10/10 [00:00<00:00, 219.62it/s, loss=1.28]\n"
     ]
    },
    {
     "name": "stdout",
     "output_type": "stream",
     "text": [
      "Epoch [731/5000]: Train loss: 1.3121, Valid loss: 1.0493\n"
     ]
    },
    {
     "name": "stderr",
     "output_type": "stream",
     "text": [
      "Epoch [732/5000]: 100%|███████████████████████████████████████████████████████████████████████████████████████████| 10/10 [00:00<00:00, 219.26it/s, loss=1.19]\n"
     ]
    },
    {
     "name": "stdout",
     "output_type": "stream",
     "text": [
      "Epoch [732/5000]: Train loss: 1.3026, Valid loss: 1.0813\n"
     ]
    },
    {
     "name": "stderr",
     "output_type": "stream",
     "text": [
      "Epoch [733/5000]: 100%|███████████████████████████████████████████████████████████████████████████████████████████| 10/10 [00:00<00:00, 220.53it/s, loss=1.23]\n"
     ]
    },
    {
     "name": "stdout",
     "output_type": "stream",
     "text": [
      "Epoch [733/5000]: Train loss: 1.3092, Valid loss: 1.0820\n"
     ]
    },
    {
     "name": "stderr",
     "output_type": "stream",
     "text": [
      "Epoch [734/5000]: 100%|████████████████████████████████████████████████████████████████████████████████████████████| 10/10 [00:00<00:00, 96.94it/s, loss=1.46]\n"
     ]
    },
    {
     "name": "stdout",
     "output_type": "stream",
     "text": [
      "Epoch [734/5000]: Train loss: 1.3164, Valid loss: 1.0379\n"
     ]
    },
    {
     "name": "stderr",
     "output_type": "stream",
     "text": [
      "Epoch [735/5000]: 100%|███████████████████████████████████████████████████████████████████████████████████████████| 10/10 [00:00<00:00, 219.70it/s, loss=1.33]\n"
     ]
    },
    {
     "name": "stdout",
     "output_type": "stream",
     "text": [
      "Epoch [735/5000]: Train loss: 1.3185, Valid loss: 1.0509\n"
     ]
    },
    {
     "name": "stderr",
     "output_type": "stream",
     "text": [
      "Epoch [736/5000]: 100%|███████████████████████████████████████████████████████████████████████████████████████████| 10/10 [00:00<00:00, 220.18it/s, loss=1.28]\n"
     ]
    },
    {
     "name": "stdout",
     "output_type": "stream",
     "text": [
      "Epoch [736/5000]: Train loss: 1.3246, Valid loss: 1.0229\n"
     ]
    },
    {
     "name": "stderr",
     "output_type": "stream",
     "text": [
      "Epoch [737/5000]: 100%|███████████████████████████████████████████████████████████████████████████████████████████| 10/10 [00:00<00:00, 219.83it/s, loss=1.45]\n"
     ]
    },
    {
     "name": "stdout",
     "output_type": "stream",
     "text": [
      "Epoch [737/5000]: Train loss: 1.3426, Valid loss: 1.0726\n"
     ]
    },
    {
     "name": "stderr",
     "output_type": "stream",
     "text": [
      "Epoch [738/5000]: 100%|███████████████████████████████████████████████████████████████████████████████████████████| 10/10 [00:00<00:00, 214.75it/s, loss=1.33]\n"
     ]
    },
    {
     "name": "stdout",
     "output_type": "stream",
     "text": [
      "Epoch [738/5000]: Train loss: 1.3657, Valid loss: 1.1153\n"
     ]
    },
    {
     "name": "stderr",
     "output_type": "stream",
     "text": [
      "Epoch [739/5000]: 100%|███████████████████████████████████████████████████████████████████████████████████████████| 10/10 [00:00<00:00, 220.04it/s, loss=1.49]\n"
     ]
    },
    {
     "name": "stdout",
     "output_type": "stream",
     "text": [
      "Epoch [739/5000]: Train loss: 1.3621, Valid loss: 1.1093\n"
     ]
    },
    {
     "name": "stderr",
     "output_type": "stream",
     "text": [
      "Epoch [740/5000]: 100%|████████████████████████████████████████████████████████████████████████████████████████████| 10/10 [00:00<00:00, 96.41it/s, loss=1.35]\n"
     ]
    },
    {
     "name": "stdout",
     "output_type": "stream",
     "text": [
      "Epoch [740/5000]: Train loss: 1.3440, Valid loss: 1.1073\n"
     ]
    },
    {
     "name": "stderr",
     "output_type": "stream",
     "text": [
      "Epoch [741/5000]: 100%|███████████████████████████████████████████████████████████████████████████████████████████| 10/10 [00:00<00:00, 221.09it/s, loss=1.33]\n"
     ]
    },
    {
     "name": "stdout",
     "output_type": "stream",
     "text": [
      "Epoch [741/5000]: Train loss: 1.3467, Valid loss: 1.0520\n"
     ]
    },
    {
     "name": "stderr",
     "output_type": "stream",
     "text": [
      "Epoch [742/5000]: 100%|███████████████████████████████████████████████████████████████████████████████████████████| 10/10 [00:00<00:00, 219.47it/s, loss=1.52]\n"
     ]
    },
    {
     "name": "stdout",
     "output_type": "stream",
     "text": [
      "Epoch [742/5000]: Train loss: 1.3186, Valid loss: 1.0404\n"
     ]
    },
    {
     "name": "stderr",
     "output_type": "stream",
     "text": [
      "Epoch [743/5000]: 100%|███████████████████████████████████████████████████████████████████████████████████████████| 10/10 [00:00<00:00, 219.25it/s, loss=1.17]\n"
     ]
    },
    {
     "name": "stdout",
     "output_type": "stream",
     "text": [
      "Epoch [743/5000]: Train loss: 1.2733, Valid loss: 1.0202\n"
     ]
    },
    {
     "name": "stderr",
     "output_type": "stream",
     "text": [
      "Epoch [744/5000]: 100%|███████████████████████████████████████████████████████████████████████████████████████████| 10/10 [00:00<00:00, 220.73it/s, loss=1.13]\n"
     ]
    },
    {
     "name": "stdout",
     "output_type": "stream",
     "text": [
      "Epoch [744/5000]: Train loss: 1.3047, Valid loss: 1.0201\n"
     ]
    },
    {
     "name": "stderr",
     "output_type": "stream",
     "text": [
      "Epoch [745/5000]: 100%|███████████████████████████████████████████████████████████████████████████████████████████| 10/10 [00:00<00:00, 221.54it/s, loss=1.36]\n"
     ]
    },
    {
     "name": "stdout",
     "output_type": "stream",
     "text": [
      "Epoch [745/5000]: Train loss: 1.3369, Valid loss: 1.0028\n"
     ]
    },
    {
     "name": "stderr",
     "output_type": "stream",
     "text": [
      "Epoch [746/5000]: 100%|████████████████████████████████████████████████████████████████████████████████████████████| 10/10 [00:00<00:00, 97.74it/s, loss=1.33]\n"
     ]
    },
    {
     "name": "stdout",
     "output_type": "stream",
     "text": [
      "Epoch [746/5000]: Train loss: 1.3007, Valid loss: 1.0742\n"
     ]
    },
    {
     "name": "stderr",
     "output_type": "stream",
     "text": [
      "Epoch [747/5000]: 100%|███████████████████████████████████████████████████████████████████████████████████████████| 10/10 [00:00<00:00, 212.47it/s, loss=1.08]\n"
     ]
    },
    {
     "name": "stdout",
     "output_type": "stream",
     "text": [
      "Epoch [747/5000]: Train loss: 1.2981, Valid loss: 1.1629\n"
     ]
    },
    {
     "name": "stderr",
     "output_type": "stream",
     "text": [
      "Epoch [748/5000]: 100%|███████████████████████████████████████████████████████████████████████████████████████████| 10/10 [00:00<00:00, 212.92it/s, loss=1.36]\n"
     ]
    },
    {
     "name": "stdout",
     "output_type": "stream",
     "text": [
      "Epoch [748/5000]: Train loss: 1.3118, Valid loss: 1.0701\n"
     ]
    },
    {
     "name": "stderr",
     "output_type": "stream",
     "text": [
      "Epoch [749/5000]: 100%|████████████████████████████████████████████████████████████████████████████████████████████| 10/10 [00:00<00:00, 217.12it/s, loss=1.4]\n"
     ]
    },
    {
     "name": "stdout",
     "output_type": "stream",
     "text": [
      "Epoch [749/5000]: Train loss: 1.3153, Valid loss: 1.0453\n"
     ]
    },
    {
     "name": "stderr",
     "output_type": "stream",
     "text": [
      "Epoch [750/5000]: 100%|███████████████████████████████████████████████████████████████████████████████████████████| 10/10 [00:00<00:00, 216.38it/s, loss=1.34]\n"
     ]
    },
    {
     "name": "stdout",
     "output_type": "stream",
     "text": [
      "Epoch [750/5000]: Train loss: 1.3363, Valid loss: 1.0683\n"
     ]
    },
    {
     "name": "stderr",
     "output_type": "stream",
     "text": [
      "Epoch [751/5000]: 100%|████████████████████████████████████████████████████████████████████████████████████████████| 10/10 [00:00<00:00, 219.43it/s, loss=1.3]\n"
     ]
    },
    {
     "name": "stdout",
     "output_type": "stream",
     "text": [
      "Epoch [751/5000]: Train loss: 1.2962, Valid loss: 1.0135\n"
     ]
    },
    {
     "name": "stderr",
     "output_type": "stream",
     "text": [
      "Epoch [752/5000]: 100%|████████████████████████████████████████████████████████████████████████████████████████████| 10/10 [00:00<00:00, 92.70it/s, loss=1.14]\n"
     ]
    },
    {
     "name": "stdout",
     "output_type": "stream",
     "text": [
      "Epoch [752/5000]: Train loss: 1.3103, Valid loss: 1.0425\n"
     ]
    },
    {
     "name": "stderr",
     "output_type": "stream",
     "text": [
      "Epoch [753/5000]: 100%|███████████████████████████████████████████████████████████████████████████████████████████| 10/10 [00:00<00:00, 220.99it/s, loss=1.35]\n"
     ]
    },
    {
     "name": "stdout",
     "output_type": "stream",
     "text": [
      "Epoch [753/5000]: Train loss: 1.3097, Valid loss: 1.0190\n"
     ]
    },
    {
     "name": "stderr",
     "output_type": "stream",
     "text": [
      "Epoch [754/5000]: 100%|███████████████████████████████████████████████████████████████████████████████████████████| 10/10 [00:00<00:00, 219.03it/s, loss=1.22]\n"
     ]
    },
    {
     "name": "stdout",
     "output_type": "stream",
     "text": [
      "Epoch [754/5000]: Train loss: 1.3234, Valid loss: 1.0541\n"
     ]
    },
    {
     "name": "stderr",
     "output_type": "stream",
     "text": [
      "Epoch [755/5000]: 100%|████████████████████████████████████████████████████████████████████████████████████████████| 10/10 [00:00<00:00, 218.73it/s, loss=1.3]\n"
     ]
    },
    {
     "name": "stdout",
     "output_type": "stream",
     "text": [
      "Epoch [755/5000]: Train loss: 1.3039, Valid loss: 1.0541\n"
     ]
    },
    {
     "name": "stderr",
     "output_type": "stream",
     "text": [
      "Epoch [756/5000]: 100%|███████████████████████████████████████████████████████████████████████████████████████████| 10/10 [00:00<00:00, 218.31it/s, loss=1.25]\n"
     ]
    },
    {
     "name": "stdout",
     "output_type": "stream",
     "text": [
      "Epoch [756/5000]: Train loss: 1.3148, Valid loss: 1.0784\n"
     ]
    },
    {
     "name": "stderr",
     "output_type": "stream",
     "text": [
      "Epoch [757/5000]: 100%|███████████████████████████████████████████████████████████████████████████████████████████| 10/10 [00:00<00:00, 218.66it/s, loss=1.37]\n"
     ]
    },
    {
     "name": "stdout",
     "output_type": "stream",
     "text": [
      "Epoch [757/5000]: Train loss: 1.3136, Valid loss: 1.1112\n"
     ]
    },
    {
     "name": "stderr",
     "output_type": "stream",
     "text": [
      "Epoch [758/5000]: 100%|████████████████████████████████████████████████████████████████████████████████████████████| 10/10 [00:00<00:00, 96.82it/s, loss=1.21]\n"
     ]
    },
    {
     "name": "stdout",
     "output_type": "stream",
     "text": [
      "Epoch [758/5000]: Train loss: 1.3179, Valid loss: 1.1054\n"
     ]
    },
    {
     "name": "stderr",
     "output_type": "stream",
     "text": [
      "Epoch [759/5000]: 100%|███████████████████████████████████████████████████████████████████████████████████████████| 10/10 [00:00<00:00, 219.13it/s, loss=1.28]\n"
     ]
    },
    {
     "name": "stdout",
     "output_type": "stream",
     "text": [
      "Epoch [759/5000]: Train loss: 1.3364, Valid loss: 1.1009\n"
     ]
    },
    {
     "name": "stderr",
     "output_type": "stream",
     "text": [
      "Epoch [760/5000]: 100%|███████████████████████████████████████████████████████████████████████████████████████████| 10/10 [00:00<00:00, 219.35it/s, loss=1.43]\n"
     ]
    },
    {
     "name": "stdout",
     "output_type": "stream",
     "text": [
      "Epoch [760/5000]: Train loss: 1.3494, Valid loss: 1.0829\n"
     ]
    },
    {
     "name": "stderr",
     "output_type": "stream",
     "text": [
      "Epoch [761/5000]: 100%|███████████████████████████████████████████████████████████████████████████████████████████| 10/10 [00:00<00:00, 214.28it/s, loss=1.37]\n"
     ]
    },
    {
     "name": "stdout",
     "output_type": "stream",
     "text": [
      "Epoch [761/5000]: Train loss: 1.3124, Valid loss: 1.0970\n"
     ]
    },
    {
     "name": "stderr",
     "output_type": "stream",
     "text": [
      "Epoch [762/5000]: 100%|███████████████████████████████████████████████████████████████████████████████████████████| 10/10 [00:00<00:00, 218.89it/s, loss=1.39]\n"
     ]
    },
    {
     "name": "stdout",
     "output_type": "stream",
     "text": [
      "Epoch [762/5000]: Train loss: 1.3543, Valid loss: 1.0525\n"
     ]
    },
    {
     "name": "stderr",
     "output_type": "stream",
     "text": [
      "Epoch [763/5000]: 100%|███████████████████████████████████████████████████████████████████████████████████████████| 10/10 [00:00<00:00, 219.69it/s, loss=1.07]\n"
     ]
    },
    {
     "name": "stdout",
     "output_type": "stream",
     "text": [
      "Epoch [763/5000]: Train loss: 1.2988, Valid loss: 1.0791\n"
     ]
    },
    {
     "name": "stderr",
     "output_type": "stream",
     "text": [
      "Epoch [764/5000]: 100%|████████████████████████████████████████████████████████████████████████████████████████████| 10/10 [00:00<00:00, 92.50it/s, loss=1.34]\n"
     ]
    },
    {
     "name": "stdout",
     "output_type": "stream",
     "text": [
      "Epoch [764/5000]: Train loss: 1.3397, Valid loss: 1.0380\n"
     ]
    },
    {
     "name": "stderr",
     "output_type": "stream",
     "text": [
      "Epoch [765/5000]: 100%|████████████████████████████████████████████████████████████████████████████████████████████| 10/10 [00:00<00:00, 217.99it/s, loss=1.3]\n"
     ]
    },
    {
     "name": "stdout",
     "output_type": "stream",
     "text": [
      "Epoch [765/5000]: Train loss: 1.3041, Valid loss: 1.0186\n"
     ]
    },
    {
     "name": "stderr",
     "output_type": "stream",
     "text": [
      "Epoch [766/5000]: 100%|███████████████████████████████████████████████████████████████████████████████████████████| 10/10 [00:00<00:00, 213.37it/s, loss=1.11]\n"
     ]
    },
    {
     "name": "stdout",
     "output_type": "stream",
     "text": [
      "Epoch [766/5000]: Train loss: 1.3158, Valid loss: 1.0371\n"
     ]
    },
    {
     "name": "stderr",
     "output_type": "stream",
     "text": [
      "Epoch [767/5000]: 100%|███████████████████████████████████████████████████████████████████████████████████████████| 10/10 [00:00<00:00, 218.16it/s, loss=1.51]\n"
     ]
    },
    {
     "name": "stdout",
     "output_type": "stream",
     "text": [
      "Epoch [767/5000]: Train loss: 1.3243, Valid loss: 1.1081\n"
     ]
    },
    {
     "name": "stderr",
     "output_type": "stream",
     "text": [
      "Epoch [768/5000]: 100%|███████████████████████████████████████████████████████████████████████████████████████████| 10/10 [00:00<00:00, 212.76it/s, loss=1.28]\n"
     ]
    },
    {
     "name": "stdout",
     "output_type": "stream",
     "text": [
      "Epoch [768/5000]: Train loss: 1.3248, Valid loss: 1.0711\n"
     ]
    },
    {
     "name": "stderr",
     "output_type": "stream",
     "text": [
      "Epoch [769/5000]: 100%|███████████████████████████████████████████████████████████████████████████████████████████| 10/10 [00:00<00:00, 214.10it/s, loss=1.46]\n"
     ]
    },
    {
     "name": "stdout",
     "output_type": "stream",
     "text": [
      "Epoch [769/5000]: Train loss: 1.3326, Valid loss: 1.0149\n"
     ]
    },
    {
     "name": "stderr",
     "output_type": "stream",
     "text": [
      "Epoch [770/5000]: 100%|████████████████████████████████████████████████████████████████████████████████████████████| 10/10 [00:00<00:00, 95.02it/s, loss=1.24]\n"
     ]
    },
    {
     "name": "stdout",
     "output_type": "stream",
     "text": [
      "Epoch [770/5000]: Train loss: 1.3105, Valid loss: 1.0476\n"
     ]
    },
    {
     "name": "stderr",
     "output_type": "stream",
     "text": [
      "Epoch [771/5000]: 100%|███████████████████████████████████████████████████████████████████████████████████████████| 10/10 [00:00<00:00, 215.83it/s, loss=1.32]\n"
     ]
    },
    {
     "name": "stdout",
     "output_type": "stream",
     "text": [
      "Epoch [771/5000]: Train loss: 1.2986, Valid loss: 1.0741\n"
     ]
    },
    {
     "name": "stderr",
     "output_type": "stream",
     "text": [
      "Epoch [772/5000]: 100%|███████████████████████████████████████████████████████████████████████████████████████████| 10/10 [00:00<00:00, 215.47it/s, loss=1.35]\n"
     ]
    },
    {
     "name": "stdout",
     "output_type": "stream",
     "text": [
      "Epoch [772/5000]: Train loss: 1.3230, Valid loss: 1.0007\n"
     ]
    },
    {
     "name": "stderr",
     "output_type": "stream",
     "text": [
      "Epoch [773/5000]: 100%|███████████████████████████████████████████████████████████████████████████████████████████| 10/10 [00:00<00:00, 189.62it/s, loss=1.13]\n"
     ]
    },
    {
     "name": "stdout",
     "output_type": "stream",
     "text": [
      "Epoch [773/5000]: Train loss: 1.3054, Valid loss: 1.0508\n"
     ]
    },
    {
     "name": "stderr",
     "output_type": "stream",
     "text": [
      "Epoch [774/5000]: 100%|███████████████████████████████████████████████████████████████████████████████████████████| 10/10 [00:00<00:00, 216.56it/s, loss=1.37]\n"
     ]
    },
    {
     "name": "stdout",
     "output_type": "stream",
     "text": [
      "Epoch [774/5000]: Train loss: 1.3196, Valid loss: 1.0814\n"
     ]
    },
    {
     "name": "stderr",
     "output_type": "stream",
     "text": [
      "Epoch [775/5000]: 100%|███████████████████████████████████████████████████████████████████████████████████████████| 10/10 [00:00<00:00, 217.39it/s, loss=1.36]\n"
     ]
    },
    {
     "name": "stdout",
     "output_type": "stream",
     "text": [
      "Epoch [775/5000]: Train loss: 1.3095, Valid loss: 1.0426\n"
     ]
    },
    {
     "name": "stderr",
     "output_type": "stream",
     "text": [
      "Epoch [776/5000]: 100%|████████████████████████████████████████████████████████████████████████████████████████████| 10/10 [00:00<00:00, 96.76it/s, loss=1.25]\n"
     ]
    },
    {
     "name": "stdout",
     "output_type": "stream",
     "text": [
      "Epoch [776/5000]: Train loss: 1.2998, Valid loss: 1.0948\n"
     ]
    },
    {
     "name": "stderr",
     "output_type": "stream",
     "text": [
      "Epoch [777/5000]: 100%|███████████████████████████████████████████████████████████████████████████████████████████| 10/10 [00:00<00:00, 218.69it/s, loss=1.39]\n"
     ]
    },
    {
     "name": "stdout",
     "output_type": "stream",
     "text": [
      "Epoch [777/5000]: Train loss: 1.2996, Valid loss: 1.0890\n"
     ]
    },
    {
     "name": "stderr",
     "output_type": "stream",
     "text": [
      "Epoch [778/5000]: 100%|███████████████████████████████████████████████████████████████████████████████████████████| 10/10 [00:00<00:00, 218.25it/s, loss=1.37]\n"
     ]
    },
    {
     "name": "stdout",
     "output_type": "stream",
     "text": [
      "Epoch [778/5000]: Train loss: 1.3069, Valid loss: 1.0552\n"
     ]
    },
    {
     "name": "stderr",
     "output_type": "stream",
     "text": [
      "Epoch [779/5000]: 100%|███████████████████████████████████████████████████████████████████████████████████████████| 10/10 [00:00<00:00, 220.59it/s, loss=1.26]\n"
     ]
    },
    {
     "name": "stdout",
     "output_type": "stream",
     "text": [
      "Epoch [779/5000]: Train loss: 1.3014, Valid loss: 1.0327\n"
     ]
    },
    {
     "name": "stderr",
     "output_type": "stream",
     "text": [
      "Epoch [780/5000]: 100%|███████████████████████████████████████████████████████████████████████████████████████████| 10/10 [00:00<00:00, 217.71it/s, loss=1.47]\n"
     ]
    },
    {
     "name": "stdout",
     "output_type": "stream",
     "text": [
      "Epoch [780/5000]: Train loss: 1.3021, Valid loss: 1.0448\n"
     ]
    },
    {
     "name": "stderr",
     "output_type": "stream",
     "text": [
      "Epoch [781/5000]: 100%|███████████████████████████████████████████████████████████████████████████████████████████| 10/10 [00:00<00:00, 220.23it/s, loss=1.24]\n"
     ]
    },
    {
     "name": "stdout",
     "output_type": "stream",
     "text": [
      "Epoch [781/5000]: Train loss: 1.3249, Valid loss: 1.0654\n"
     ]
    },
    {
     "name": "stderr",
     "output_type": "stream",
     "text": [
      "Epoch [782/5000]: 100%|████████████████████████████████████████████████████████████████████████████████████████████| 10/10 [00:00<00:00, 97.59it/s, loss=1.38]\n"
     ]
    },
    {
     "name": "stdout",
     "output_type": "stream",
     "text": [
      "Epoch [782/5000]: Train loss: 1.3067, Valid loss: 1.0540\n"
     ]
    },
    {
     "name": "stderr",
     "output_type": "stream",
     "text": [
      "Epoch [783/5000]: 100%|████████████████████████████████████████████████████████████████████████████████████████████| 10/10 [00:00<00:00, 219.99it/s, loss=1.4]\n"
     ]
    },
    {
     "name": "stdout",
     "output_type": "stream",
     "text": [
      "Epoch [783/5000]: Train loss: 1.3268, Valid loss: 1.0256\n"
     ]
    },
    {
     "name": "stderr",
     "output_type": "stream",
     "text": [
      "Epoch [784/5000]: 100%|███████████████████████████████████████████████████████████████████████████████████████████| 10/10 [00:00<00:00, 218.54it/s, loss=1.44]\n"
     ]
    },
    {
     "name": "stdout",
     "output_type": "stream",
     "text": [
      "Epoch [784/5000]: Train loss: 1.3011, Valid loss: 1.0326\n"
     ]
    },
    {
     "name": "stderr",
     "output_type": "stream",
     "text": [
      "Epoch [785/5000]: 100%|███████████████████████████████████████████████████████████████████████████████████████████| 10/10 [00:00<00:00, 219.84it/s, loss=1.43]\n"
     ]
    },
    {
     "name": "stdout",
     "output_type": "stream",
     "text": [
      "Epoch [785/5000]: Train loss: 1.3158, Valid loss: 1.0964\n"
     ]
    },
    {
     "name": "stderr",
     "output_type": "stream",
     "text": [
      "Epoch [786/5000]: 100%|███████████████████████████████████████████████████████████████████████████████████████████| 10/10 [00:00<00:00, 217.93it/s, loss=1.17]\n"
     ]
    },
    {
     "name": "stdout",
     "output_type": "stream",
     "text": [
      "Epoch [786/5000]: Train loss: 1.2962, Valid loss: 0.9951\n"
     ]
    },
    {
     "name": "stderr",
     "output_type": "stream",
     "text": [
      "Epoch [787/5000]: 100%|███████████████████████████████████████████████████████████████████████████████████████████| 10/10 [00:00<00:00, 219.07it/s, loss=1.24]\n"
     ]
    },
    {
     "name": "stdout",
     "output_type": "stream",
     "text": [
      "Epoch [787/5000]: Train loss: 1.3062, Valid loss: 1.0189\n"
     ]
    },
    {
     "name": "stderr",
     "output_type": "stream",
     "text": [
      "Epoch [788/5000]: 100%|████████████████████████████████████████████████████████████████████████████████████████████| 10/10 [00:00<00:00, 91.98it/s, loss=1.24]\n"
     ]
    },
    {
     "name": "stdout",
     "output_type": "stream",
     "text": [
      "Epoch [788/5000]: Train loss: 1.3275, Valid loss: 1.0194\n"
     ]
    },
    {
     "name": "stderr",
     "output_type": "stream",
     "text": [
      "Epoch [789/5000]: 100%|███████████████████████████████████████████████████████████████████████████████████████████| 10/10 [00:00<00:00, 217.39it/s, loss=1.46]\n"
     ]
    },
    {
     "name": "stdout",
     "output_type": "stream",
     "text": [
      "Epoch [789/5000]: Train loss: 1.3059, Valid loss: 1.0348\n"
     ]
    },
    {
     "name": "stderr",
     "output_type": "stream",
     "text": [
      "Epoch [790/5000]: 100%|████████████████████████████████████████████████████████████████████████████████████████████| 10/10 [00:00<00:00, 215.11it/s, loss=1.3]\n"
     ]
    },
    {
     "name": "stdout",
     "output_type": "stream",
     "text": [
      "Epoch [790/5000]: Train loss: 1.3090, Valid loss: 1.0114\n"
     ]
    },
    {
     "name": "stderr",
     "output_type": "stream",
     "text": [
      "Epoch [791/5000]: 100%|███████████████████████████████████████████████████████████████████████████████████████████| 10/10 [00:00<00:00, 217.52it/s, loss=1.27]\n"
     ]
    },
    {
     "name": "stdout",
     "output_type": "stream",
     "text": [
      "Epoch [791/5000]: Train loss: 1.3251, Valid loss: 0.9899\n"
     ]
    },
    {
     "name": "stderr",
     "output_type": "stream",
     "text": [
      "Epoch [792/5000]: 100%|███████████████████████████████████████████████████████████████████████████████████████████| 10/10 [00:00<00:00, 216.57it/s, loss=1.16]\n"
     ]
    },
    {
     "name": "stdout",
     "output_type": "stream",
     "text": [
      "Epoch [792/5000]: Train loss: 1.3141, Valid loss: 1.0440\n"
     ]
    },
    {
     "name": "stderr",
     "output_type": "stream",
     "text": [
      "Epoch [793/5000]: 100%|███████████████████████████████████████████████████████████████████████████████████████████| 10/10 [00:00<00:00, 216.68it/s, loss=1.29]\n"
     ]
    },
    {
     "name": "stdout",
     "output_type": "stream",
     "text": [
      "Epoch [793/5000]: Train loss: 1.3182, Valid loss: 1.1073\n"
     ]
    },
    {
     "name": "stderr",
     "output_type": "stream",
     "text": [
      "Epoch [794/5000]: 100%|████████████████████████████████████████████████████████████████████████████████████████████| 10/10 [00:00<00:00, 92.00it/s, loss=1.38]\n"
     ]
    },
    {
     "name": "stdout",
     "output_type": "stream",
     "text": [
      "Epoch [794/5000]: Train loss: 1.3339, Valid loss: 1.0869\n"
     ]
    },
    {
     "name": "stderr",
     "output_type": "stream",
     "text": [
      "Epoch [795/5000]: 100%|███████████████████████████████████████████████████████████████████████████████████████████| 10/10 [00:00<00:00, 219.20it/s, loss=1.15]\n"
     ]
    },
    {
     "name": "stdout",
     "output_type": "stream",
     "text": [
      "Epoch [795/5000]: Train loss: 1.2885, Valid loss: 0.9774\n"
     ]
    },
    {
     "name": "stderr",
     "output_type": "stream",
     "text": [
      "Epoch [796/5000]: 100%|███████████████████████████████████████████████████████████████████████████████████████████| 10/10 [00:00<00:00, 219.25it/s, loss=1.32]\n"
     ]
    },
    {
     "name": "stdout",
     "output_type": "stream",
     "text": [
      "Epoch [796/5000]: Train loss: 1.3275, Valid loss: 1.0148\n"
     ]
    },
    {
     "name": "stderr",
     "output_type": "stream",
     "text": [
      "Epoch [797/5000]: 100%|███████████████████████████████████████████████████████████████████████████████████████████| 10/10 [00:00<00:00, 220.29it/s, loss=1.24]\n"
     ]
    },
    {
     "name": "stdout",
     "output_type": "stream",
     "text": [
      "Epoch [797/5000]: Train loss: 1.2803, Valid loss: 1.0785\n"
     ]
    },
    {
     "name": "stderr",
     "output_type": "stream",
     "text": [
      "Epoch [798/5000]: 100%|███████████████████████████████████████████████████████████████████████████████████████████| 10/10 [00:00<00:00, 218.70it/s, loss=1.22]\n"
     ]
    },
    {
     "name": "stdout",
     "output_type": "stream",
     "text": [
      "Epoch [798/5000]: Train loss: 1.2978, Valid loss: 1.0294\n"
     ]
    },
    {
     "name": "stderr",
     "output_type": "stream",
     "text": [
      "Epoch [799/5000]: 100%|███████████████████████████████████████████████████████████████████████████████████████████| 10/10 [00:00<00:00, 218.30it/s, loss=1.25]\n"
     ]
    },
    {
     "name": "stdout",
     "output_type": "stream",
     "text": [
      "Epoch [799/5000]: Train loss: 1.3105, Valid loss: 1.0719\n"
     ]
    },
    {
     "name": "stderr",
     "output_type": "stream",
     "text": [
      "Epoch [800/5000]: 100%|████████████████████████████████████████████████████████████████████████████████████████████| 10/10 [00:00<00:00, 97.08it/s, loss=1.26]\n"
     ]
    },
    {
     "name": "stdout",
     "output_type": "stream",
     "text": [
      "Epoch [800/5000]: Train loss: 1.3038, Valid loss: 1.0147\n"
     ]
    },
    {
     "name": "stderr",
     "output_type": "stream",
     "text": [
      "Epoch [801/5000]: 100%|███████████████████████████████████████████████████████████████████████████████████████████| 10/10 [00:00<00:00, 217.91it/s, loss=1.28]\n"
     ]
    },
    {
     "name": "stdout",
     "output_type": "stream",
     "text": [
      "Epoch [801/5000]: Train loss: 1.2857, Valid loss: 1.0536\n"
     ]
    },
    {
     "name": "stderr",
     "output_type": "stream",
     "text": [
      "Epoch [802/5000]: 100%|███████████████████████████████████████████████████████████████████████████████████████████| 10/10 [00:00<00:00, 219.09it/s, loss=1.34]\n"
     ]
    },
    {
     "name": "stdout",
     "output_type": "stream",
     "text": [
      "Epoch [802/5000]: Train loss: 1.2882, Valid loss: 1.0012\n"
     ]
    },
    {
     "name": "stderr",
     "output_type": "stream",
     "text": [
      "Epoch [803/5000]: 100%|███████████████████████████████████████████████████████████████████████████████████████████| 10/10 [00:00<00:00, 217.85it/s, loss=1.25]\n"
     ]
    },
    {
     "name": "stdout",
     "output_type": "stream",
     "text": [
      "Epoch [803/5000]: Train loss: 1.3076, Valid loss: 1.0285\n"
     ]
    },
    {
     "name": "stderr",
     "output_type": "stream",
     "text": [
      "Epoch [804/5000]: 100%|████████████████████████████████████████████████████████████████████████████████████████████| 10/10 [00:00<00:00, 215.83it/s, loss=1.4]\n"
     ]
    },
    {
     "name": "stdout",
     "output_type": "stream",
     "text": [
      "Epoch [804/5000]: Train loss: 1.3160, Valid loss: 1.0656\n"
     ]
    },
    {
     "name": "stderr",
     "output_type": "stream",
     "text": [
      "Epoch [805/5000]: 100%|███████████████████████████████████████████████████████████████████████████████████████████| 10/10 [00:00<00:00, 216.61it/s, loss=1.01]\n"
     ]
    },
    {
     "name": "stdout",
     "output_type": "stream",
     "text": [
      "Epoch [805/5000]: Train loss: 1.2909, Valid loss: 1.1127\n"
     ]
    },
    {
     "name": "stderr",
     "output_type": "stream",
     "text": [
      "Epoch [806/5000]: 100%|████████████████████████████████████████████████████████████████████████████████████████████| 10/10 [00:00<00:00, 92.24it/s, loss=1.33]\n"
     ]
    },
    {
     "name": "stdout",
     "output_type": "stream",
     "text": [
      "Epoch [806/5000]: Train loss: 1.3014, Valid loss: 1.0441\n"
     ]
    },
    {
     "name": "stderr",
     "output_type": "stream",
     "text": [
      "Epoch [807/5000]: 100%|███████████████████████████████████████████████████████████████████████████████████████████| 10/10 [00:00<00:00, 216.83it/s, loss=1.18]\n"
     ]
    },
    {
     "name": "stdout",
     "output_type": "stream",
     "text": [
      "Epoch [807/5000]: Train loss: 1.2752, Valid loss: 1.0624\n"
     ]
    },
    {
     "name": "stderr",
     "output_type": "stream",
     "text": [
      "Epoch [808/5000]: 100%|███████████████████████████████████████████████████████████████████████████████████████████| 10/10 [00:00<00:00, 216.32it/s, loss=1.33]\n"
     ]
    },
    {
     "name": "stdout",
     "output_type": "stream",
     "text": [
      "Epoch [808/5000]: Train loss: 1.3237, Valid loss: 1.1115\n"
     ]
    },
    {
     "name": "stderr",
     "output_type": "stream",
     "text": [
      "Epoch [809/5000]: 100%|███████████████████████████████████████████████████████████████████████████████████████████| 10/10 [00:00<00:00, 216.50it/s, loss=1.26]\n"
     ]
    },
    {
     "name": "stdout",
     "output_type": "stream",
     "text": [
      "Epoch [809/5000]: Train loss: 1.3244, Valid loss: 1.0444\n"
     ]
    },
    {
     "name": "stderr",
     "output_type": "stream",
     "text": [
      "Epoch [810/5000]: 100%|███████████████████████████████████████████████████████████████████████████████████████████| 10/10 [00:00<00:00, 217.24it/s, loss=1.75]\n"
     ]
    },
    {
     "name": "stdout",
     "output_type": "stream",
     "text": [
      "Epoch [810/5000]: Train loss: 1.3615, Valid loss: 1.0430\n"
     ]
    },
    {
     "name": "stderr",
     "output_type": "stream",
     "text": [
      "Epoch [811/5000]: 100%|███████████████████████████████████████████████████████████████████████████████████████████| 10/10 [00:00<00:00, 218.17it/s, loss=1.31]\n"
     ]
    },
    {
     "name": "stdout",
     "output_type": "stream",
     "text": [
      "Epoch [811/5000]: Train loss: 1.3134, Valid loss: 1.0097\n"
     ]
    },
    {
     "name": "stderr",
     "output_type": "stream",
     "text": [
      "Epoch [812/5000]: 100%|████████████████████████████████████████████████████████████████████████████████████████████| 10/10 [00:00<00:00, 96.33it/s, loss=1.19]\n"
     ]
    },
    {
     "name": "stdout",
     "output_type": "stream",
     "text": [
      "Epoch [812/5000]: Train loss: 1.2877, Valid loss: 1.0560\n"
     ]
    },
    {
     "name": "stderr",
     "output_type": "stream",
     "text": [
      "Epoch [813/5000]: 100%|███████████████████████████████████████████████████████████████████████████████████████████| 10/10 [00:00<00:00, 210.44it/s, loss=1.45]\n"
     ]
    },
    {
     "name": "stdout",
     "output_type": "stream",
     "text": [
      "Epoch [813/5000]: Train loss: 1.3004, Valid loss: 1.0553\n"
     ]
    },
    {
     "name": "stderr",
     "output_type": "stream",
     "text": [
      "Epoch [814/5000]: 100%|███████████████████████████████████████████████████████████████████████████████████████████| 10/10 [00:00<00:00, 215.67it/s, loss=1.18]\n"
     ]
    },
    {
     "name": "stdout",
     "output_type": "stream",
     "text": [
      "Epoch [814/5000]: Train loss: 1.3252, Valid loss: 0.9933\n"
     ]
    },
    {
     "name": "stderr",
     "output_type": "stream",
     "text": [
      "Epoch [815/5000]: 100%|███████████████████████████████████████████████████████████████████████████████████████████| 10/10 [00:00<00:00, 218.27it/s, loss=1.22]\n"
     ]
    },
    {
     "name": "stdout",
     "output_type": "stream",
     "text": [
      "Epoch [815/5000]: Train loss: 1.2951, Valid loss: 1.0584\n"
     ]
    },
    {
     "name": "stderr",
     "output_type": "stream",
     "text": [
      "Epoch [816/5000]: 100%|███████████████████████████████████████████████████████████████████████████████████████████| 10/10 [00:00<00:00, 217.03it/s, loss=1.29]\n"
     ]
    },
    {
     "name": "stdout",
     "output_type": "stream",
     "text": [
      "Epoch [816/5000]: Train loss: 1.2975, Valid loss: 1.0311\n"
     ]
    },
    {
     "name": "stderr",
     "output_type": "stream",
     "text": [
      "Epoch [817/5000]: 100%|███████████████████████████████████████████████████████████████████████████████████████████| 10/10 [00:00<00:00, 219.32it/s, loss=1.27]\n"
     ]
    },
    {
     "name": "stdout",
     "output_type": "stream",
     "text": [
      "Epoch [817/5000]: Train loss: 1.3398, Valid loss: 1.2220\n"
     ]
    },
    {
     "name": "stderr",
     "output_type": "stream",
     "text": [
      "Epoch [818/5000]: 100%|████████████████████████████████████████████████████████████████████████████████████████████| 10/10 [00:00<00:00, 96.31it/s, loss=1.38]\n"
     ]
    },
    {
     "name": "stdout",
     "output_type": "stream",
     "text": [
      "Epoch [818/5000]: Train loss: 1.3377, Valid loss: 1.0416\n"
     ]
    },
    {
     "name": "stderr",
     "output_type": "stream",
     "text": [
      "Epoch [819/5000]: 100%|███████████████████████████████████████████████████████████████████████████████████████████| 10/10 [00:00<00:00, 219.05it/s, loss=1.42]\n"
     ]
    },
    {
     "name": "stdout",
     "output_type": "stream",
     "text": [
      "Epoch [819/5000]: Train loss: 1.3603, Valid loss: 1.0484\n"
     ]
    },
    {
     "name": "stderr",
     "output_type": "stream",
     "text": [
      "Epoch [820/5000]: 100%|███████████████████████████████████████████████████████████████████████████████████████████| 10/10 [00:00<00:00, 217.77it/s, loss=1.19]\n"
     ]
    },
    {
     "name": "stdout",
     "output_type": "stream",
     "text": [
      "Epoch [820/5000]: Train loss: 1.3413, Valid loss: 0.9982\n"
     ]
    },
    {
     "name": "stderr",
     "output_type": "stream",
     "text": [
      "Epoch [821/5000]: 100%|███████████████████████████████████████████████████████████████████████████████████████████| 10/10 [00:00<00:00, 214.15it/s, loss=1.35]\n"
     ]
    },
    {
     "name": "stdout",
     "output_type": "stream",
     "text": [
      "Epoch [821/5000]: Train loss: 1.2922, Valid loss: 1.0179\n"
     ]
    },
    {
     "name": "stderr",
     "output_type": "stream",
     "text": [
      "Epoch [822/5000]: 100%|███████████████████████████████████████████████████████████████████████████████████████████| 10/10 [00:00<00:00, 213.71it/s, loss=1.36]\n"
     ]
    },
    {
     "name": "stdout",
     "output_type": "stream",
     "text": [
      "Epoch [822/5000]: Train loss: 1.3268, Valid loss: 1.1416\n"
     ]
    },
    {
     "name": "stderr",
     "output_type": "stream",
     "text": [
      "Epoch [823/5000]: 100%|███████████████████████████████████████████████████████████████████████████████████████████| 10/10 [00:00<00:00, 218.25it/s, loss=1.29]\n"
     ]
    },
    {
     "name": "stdout",
     "output_type": "stream",
     "text": [
      "Epoch [823/5000]: Train loss: 1.3311, Valid loss: 1.1291\n"
     ]
    },
    {
     "name": "stderr",
     "output_type": "stream",
     "text": [
      "Epoch [824/5000]: 100%|████████████████████████████████████████████████████████████████████████████████████████████| 10/10 [00:00<00:00, 96.63it/s, loss=1.29]\n"
     ]
    },
    {
     "name": "stdout",
     "output_type": "stream",
     "text": [
      "Epoch [824/5000]: Train loss: 1.3089, Valid loss: 1.1133\n"
     ]
    },
    {
     "name": "stderr",
     "output_type": "stream",
     "text": [
      "Epoch [825/5000]: 100%|███████████████████████████████████████████████████████████████████████████████████████████| 10/10 [00:00<00:00, 220.03it/s, loss=1.15]\n"
     ]
    },
    {
     "name": "stdout",
     "output_type": "stream",
     "text": [
      "Epoch [825/5000]: Train loss: 1.3039, Valid loss: 1.0513\n"
     ]
    },
    {
     "name": "stderr",
     "output_type": "stream",
     "text": [
      "Epoch [826/5000]: 100%|███████████████████████████████████████████████████████████████████████████████████████████| 10/10 [00:00<00:00, 217.69it/s, loss=1.52]\n"
     ]
    },
    {
     "name": "stdout",
     "output_type": "stream",
     "text": [
      "Epoch [826/5000]: Train loss: 1.3043, Valid loss: 1.0636\n"
     ]
    },
    {
     "name": "stderr",
     "output_type": "stream",
     "text": [
      "Epoch [827/5000]: 100%|███████████████████████████████████████████████████████████████████████████████████████████| 10/10 [00:00<00:00, 219.97it/s, loss=1.29]\n"
     ]
    },
    {
     "name": "stdout",
     "output_type": "stream",
     "text": [
      "Epoch [827/5000]: Train loss: 1.3016, Valid loss: 1.1232\n"
     ]
    },
    {
     "name": "stderr",
     "output_type": "stream",
     "text": [
      "Epoch [828/5000]: 100%|███████████████████████████████████████████████████████████████████████████████████████████| 10/10 [00:00<00:00, 219.88it/s, loss=1.09]\n"
     ]
    },
    {
     "name": "stdout",
     "output_type": "stream",
     "text": [
      "Epoch [828/5000]: Train loss: 1.2801, Valid loss: 1.0263\n"
     ]
    },
    {
     "name": "stderr",
     "output_type": "stream",
     "text": [
      "Epoch [829/5000]: 100%|███████████████████████████████████████████████████████████████████████████████████████████| 10/10 [00:00<00:00, 216.79it/s, loss=1.35]\n"
     ]
    },
    {
     "name": "stdout",
     "output_type": "stream",
     "text": [
      "Epoch [829/5000]: Train loss: 1.3132, Valid loss: 1.0189\n"
     ]
    },
    {
     "name": "stderr",
     "output_type": "stream",
     "text": [
      "Epoch [830/5000]: 100%|████████████████████████████████████████████████████████████████████████████████████████████| 10/10 [00:00<00:00, 97.57it/s, loss=1.49]\n"
     ]
    },
    {
     "name": "stdout",
     "output_type": "stream",
     "text": [
      "Epoch [830/5000]: Train loss: 1.3144, Valid loss: 1.0175\n"
     ]
    },
    {
     "name": "stderr",
     "output_type": "stream",
     "text": [
      "Epoch [831/5000]: 100%|███████████████████████████████████████████████████████████████████████████████████████████| 10/10 [00:00<00:00, 217.76it/s, loss=1.22]\n"
     ]
    },
    {
     "name": "stdout",
     "output_type": "stream",
     "text": [
      "Epoch [831/5000]: Train loss: 1.3287, Valid loss: 1.0701\n"
     ]
    },
    {
     "name": "stderr",
     "output_type": "stream",
     "text": [
      "Epoch [832/5000]: 100%|███████████████████████████████████████████████████████████████████████████████████████████| 10/10 [00:00<00:00, 221.80it/s, loss=1.41]\n"
     ]
    },
    {
     "name": "stdout",
     "output_type": "stream",
     "text": [
      "Epoch [832/5000]: Train loss: 1.2960, Valid loss: 1.0615\n"
     ]
    },
    {
     "name": "stderr",
     "output_type": "stream",
     "text": [
      "Epoch [833/5000]: 100%|███████████████████████████████████████████████████████████████████████████████████████████| 10/10 [00:00<00:00, 219.12it/s, loss=1.35]\n"
     ]
    },
    {
     "name": "stdout",
     "output_type": "stream",
     "text": [
      "Epoch [833/5000]: Train loss: 1.3159, Valid loss: 1.0782\n"
     ]
    },
    {
     "name": "stderr",
     "output_type": "stream",
     "text": [
      "Epoch [834/5000]: 100%|███████████████████████████████████████████████████████████████████████████████████████████| 10/10 [00:00<00:00, 220.60it/s, loss=1.11]\n"
     ]
    },
    {
     "name": "stdout",
     "output_type": "stream",
     "text": [
      "Epoch [834/5000]: Train loss: 1.2904, Valid loss: 1.1045\n"
     ]
    },
    {
     "name": "stderr",
     "output_type": "stream",
     "text": [
      "Epoch [835/5000]: 100%|███████████████████████████████████████████████████████████████████████████████████████████| 10/10 [00:00<00:00, 216.94it/s, loss=1.18]\n"
     ]
    },
    {
     "name": "stdout",
     "output_type": "stream",
     "text": [
      "Epoch [835/5000]: Train loss: 1.2921, Valid loss: 1.0816\n"
     ]
    },
    {
     "name": "stderr",
     "output_type": "stream",
     "text": [
      "Epoch [836/5000]: 100%|████████████████████████████████████████████████████████████████████████████████████████████| 10/10 [00:00<00:00, 96.53it/s, loss=1.21]\n"
     ]
    },
    {
     "name": "stdout",
     "output_type": "stream",
     "text": [
      "Epoch [836/5000]: Train loss: 1.3091, Valid loss: 1.0255\n"
     ]
    },
    {
     "name": "stderr",
     "output_type": "stream",
     "text": [
      "Epoch [837/5000]: 100%|███████████████████████████████████████████████████████████████████████████████████████████| 10/10 [00:00<00:00, 218.29it/s, loss=1.33]\n"
     ]
    },
    {
     "name": "stdout",
     "output_type": "stream",
     "text": [
      "Epoch [837/5000]: Train loss: 1.3056, Valid loss: 1.0126\n"
     ]
    },
    {
     "name": "stderr",
     "output_type": "stream",
     "text": [
      "Epoch [838/5000]: 100%|███████████████████████████████████████████████████████████████████████████████████████████| 10/10 [00:00<00:00, 216.95it/s, loss=1.39]\n"
     ]
    },
    {
     "name": "stdout",
     "output_type": "stream",
     "text": [
      "Epoch [838/5000]: Train loss: 1.2994, Valid loss: 1.0218\n"
     ]
    },
    {
     "name": "stderr",
     "output_type": "stream",
     "text": [
      "Epoch [839/5000]: 100%|███████████████████████████████████████████████████████████████████████████████████████████| 10/10 [00:00<00:00, 218.83it/s, loss=1.42]\n"
     ]
    },
    {
     "name": "stdout",
     "output_type": "stream",
     "text": [
      "Epoch [839/5000]: Train loss: 1.3222, Valid loss: 1.1204\n"
     ]
    },
    {
     "name": "stderr",
     "output_type": "stream",
     "text": [
      "Epoch [840/5000]: 100%|███████████████████████████████████████████████████████████████████████████████████████████| 10/10 [00:00<00:00, 219.31it/s, loss=1.41]\n"
     ]
    },
    {
     "name": "stdout",
     "output_type": "stream",
     "text": [
      "Epoch [840/5000]: Train loss: 1.3469, Valid loss: 1.0349\n"
     ]
    },
    {
     "name": "stderr",
     "output_type": "stream",
     "text": [
      "Epoch [841/5000]: 100%|███████████████████████████████████████████████████████████████████████████████████████████| 10/10 [00:00<00:00, 222.42it/s, loss=1.28]\n"
     ]
    },
    {
     "name": "stdout",
     "output_type": "stream",
     "text": [
      "Epoch [841/5000]: Train loss: 1.3428, Valid loss: 1.0826\n"
     ]
    },
    {
     "name": "stderr",
     "output_type": "stream",
     "text": [
      "Epoch [842/5000]: 100%|████████████████████████████████████████████████████████████████████████████████████████████| 10/10 [00:00<00:00, 97.58it/s, loss=1.33]\n"
     ]
    },
    {
     "name": "stdout",
     "output_type": "stream",
     "text": [
      "Epoch [842/5000]: Train loss: 1.3294, Valid loss: 1.1047\n"
     ]
    },
    {
     "name": "stderr",
     "output_type": "stream",
     "text": [
      "Epoch [843/5000]: 100%|███████████████████████████████████████████████████████████████████████████████████████████| 10/10 [00:00<00:00, 213.13it/s, loss=1.31]\n"
     ]
    },
    {
     "name": "stdout",
     "output_type": "stream",
     "text": [
      "Epoch [843/5000]: Train loss: 1.3208, Valid loss: 0.9846\n"
     ]
    },
    {
     "name": "stderr",
     "output_type": "stream",
     "text": [
      "Epoch [844/5000]: 100%|███████████████████████████████████████████████████████████████████████████████████████████| 10/10 [00:00<00:00, 214.14it/s, loss=1.24]\n"
     ]
    },
    {
     "name": "stdout",
     "output_type": "stream",
     "text": [
      "Epoch [844/5000]: Train loss: 1.3154, Valid loss: 1.0398\n"
     ]
    },
    {
     "name": "stderr",
     "output_type": "stream",
     "text": [
      "Epoch [845/5000]: 100%|███████████████████████████████████████████████████████████████████████████████████████████| 10/10 [00:00<00:00, 220.41it/s, loss=1.18]\n"
     ]
    },
    {
     "name": "stdout",
     "output_type": "stream",
     "text": [
      "Epoch [845/5000]: Train loss: 1.2858, Valid loss: 1.0055\n"
     ]
    },
    {
     "name": "stderr",
     "output_type": "stream",
     "text": [
      "Epoch [846/5000]: 100%|███████████████████████████████████████████████████████████████████████████████████████████| 10/10 [00:00<00:00, 221.75it/s, loss=1.09]\n"
     ]
    },
    {
     "name": "stdout",
     "output_type": "stream",
     "text": [
      "Epoch [846/5000]: Train loss: 1.3190, Valid loss: 1.0510\n"
     ]
    },
    {
     "name": "stderr",
     "output_type": "stream",
     "text": [
      "Epoch [847/5000]: 100%|███████████████████████████████████████████████████████████████████████████████████████████| 10/10 [00:00<00:00, 218.73it/s, loss=1.52]\n"
     ]
    },
    {
     "name": "stdout",
     "output_type": "stream",
     "text": [
      "Epoch [847/5000]: Train loss: 1.3212, Valid loss: 1.0335\n"
     ]
    },
    {
     "name": "stderr",
     "output_type": "stream",
     "text": [
      "Epoch [848/5000]: 100%|█████████████████████████████████████████████████████████████████████████████████████████████| 10/10 [00:00<00:00, 97.70it/s, loss=1.2]\n"
     ]
    },
    {
     "name": "stdout",
     "output_type": "stream",
     "text": [
      "Epoch [848/5000]: Train loss: 1.3006, Valid loss: 1.0450\n"
     ]
    },
    {
     "name": "stderr",
     "output_type": "stream",
     "text": [
      "Epoch [849/5000]: 100%|███████████████████████████████████████████████████████████████████████████████████████████| 10/10 [00:00<00:00, 211.96it/s, loss=1.52]\n"
     ]
    },
    {
     "name": "stdout",
     "output_type": "stream",
     "text": [
      "Epoch [849/5000]: Train loss: 1.3228, Valid loss: 1.0571\n"
     ]
    },
    {
     "name": "stderr",
     "output_type": "stream",
     "text": [
      "Epoch [850/5000]: 100%|███████████████████████████████████████████████████████████████████████████████████████████| 10/10 [00:00<00:00, 217.62it/s, loss=1.29]\n"
     ]
    },
    {
     "name": "stdout",
     "output_type": "stream",
     "text": [
      "Epoch [850/5000]: Train loss: 1.2684, Valid loss: 1.1124\n"
     ]
    },
    {
     "name": "stderr",
     "output_type": "stream",
     "text": [
      "Epoch [851/5000]: 100%|███████████████████████████████████████████████████████████████████████████████████████████| 10/10 [00:00<00:00, 218.90it/s, loss=1.23]\n"
     ]
    },
    {
     "name": "stdout",
     "output_type": "stream",
     "text": [
      "Epoch [851/5000]: Train loss: 1.3239, Valid loss: 1.0121\n"
     ]
    },
    {
     "name": "stderr",
     "output_type": "stream",
     "text": [
      "Epoch [852/5000]: 100%|███████████████████████████████████████████████████████████████████████████████████████████| 10/10 [00:00<00:00, 221.80it/s, loss=1.29]\n"
     ]
    },
    {
     "name": "stdout",
     "output_type": "stream",
     "text": [
      "Epoch [852/5000]: Train loss: 1.2922, Valid loss: 1.0532\n"
     ]
    },
    {
     "name": "stderr",
     "output_type": "stream",
     "text": [
      "Epoch [853/5000]: 100%|████████████████████████████████████████████████████████████████████████████████████████████| 10/10 [00:00<00:00, 218.62it/s, loss=1.3]\n"
     ]
    },
    {
     "name": "stdout",
     "output_type": "stream",
     "text": [
      "Epoch [853/5000]: Train loss: 1.3199, Valid loss: 1.0224\n"
     ]
    },
    {
     "name": "stderr",
     "output_type": "stream",
     "text": [
      "Epoch [854/5000]: 100%|████████████████████████████████████████████████████████████████████████████████████████████| 10/10 [00:00<00:00, 97.49it/s, loss=1.28]\n"
     ]
    },
    {
     "name": "stdout",
     "output_type": "stream",
     "text": [
      "Epoch [854/5000]: Train loss: 1.2839, Valid loss: 1.0832\n"
     ]
    },
    {
     "name": "stderr",
     "output_type": "stream",
     "text": [
      "Epoch [855/5000]: 100%|████████████████████████████████████████████████████████████████████████████████████████████| 10/10 [00:00<00:00, 219.86it/s, loss=1.2]\n"
     ]
    },
    {
     "name": "stdout",
     "output_type": "stream",
     "text": [
      "Epoch [855/5000]: Train loss: 1.3148, Valid loss: 1.0586\n"
     ]
    },
    {
     "name": "stderr",
     "output_type": "stream",
     "text": [
      "Epoch [856/5000]: 100%|████████████████████████████████████████████████████████████████████████████████████████████| 10/10 [00:00<00:00, 220.61it/s, loss=1.3]\n"
     ]
    },
    {
     "name": "stdout",
     "output_type": "stream",
     "text": [
      "Epoch [856/5000]: Train loss: 1.3161, Valid loss: 1.0358\n"
     ]
    },
    {
     "name": "stderr",
     "output_type": "stream",
     "text": [
      "Epoch [857/5000]: 100%|███████████████████████████████████████████████████████████████████████████████████████████| 10/10 [00:00<00:00, 218.41it/s, loss=1.25]\n"
     ]
    },
    {
     "name": "stdout",
     "output_type": "stream",
     "text": [
      "Epoch [857/5000]: Train loss: 1.3067, Valid loss: 0.9919\n"
     ]
    },
    {
     "name": "stderr",
     "output_type": "stream",
     "text": [
      "Epoch [858/5000]: 100%|███████████████████████████████████████████████████████████████████████████████████████████| 10/10 [00:00<00:00, 220.13it/s, loss=1.33]\n"
     ]
    },
    {
     "name": "stdout",
     "output_type": "stream",
     "text": [
      "Epoch [858/5000]: Train loss: 1.3215, Valid loss: 1.0882\n"
     ]
    },
    {
     "name": "stderr",
     "output_type": "stream",
     "text": [
      "Epoch [859/5000]: 100%|███████████████████████████████████████████████████████████████████████████████████████████| 10/10 [00:00<00:00, 222.14it/s, loss=1.29]\n"
     ]
    },
    {
     "name": "stdout",
     "output_type": "stream",
     "text": [
      "Epoch [859/5000]: Train loss: 1.3012, Valid loss: 1.0555\n"
     ]
    },
    {
     "name": "stderr",
     "output_type": "stream",
     "text": [
      "Epoch [860/5000]: 100%|████████████████████████████████████████████████████████████████████████████████████████████| 10/10 [00:00<00:00, 97.60it/s, loss=1.39]\n"
     ]
    },
    {
     "name": "stdout",
     "output_type": "stream",
     "text": [
      "Epoch [860/5000]: Train loss: 1.2955, Valid loss: 1.0813\n"
     ]
    },
    {
     "name": "stderr",
     "output_type": "stream",
     "text": [
      "Epoch [861/5000]: 100%|███████████████████████████████████████████████████████████████████████████████████████████| 10/10 [00:00<00:00, 218.09it/s, loss=1.29]\n"
     ]
    },
    {
     "name": "stdout",
     "output_type": "stream",
     "text": [
      "Epoch [861/5000]: Train loss: 1.2974, Valid loss: 1.0397\n"
     ]
    },
    {
     "name": "stderr",
     "output_type": "stream",
     "text": [
      "Epoch [862/5000]: 100%|████████████████████████████████████████████████████████████████████████████████████████████| 10/10 [00:00<00:00, 215.68it/s, loss=1.2]\n"
     ]
    },
    {
     "name": "stdout",
     "output_type": "stream",
     "text": [
      "Epoch [862/5000]: Train loss: 1.2864, Valid loss: 1.0502\n"
     ]
    },
    {
     "name": "stderr",
     "output_type": "stream",
     "text": [
      "Epoch [863/5000]: 100%|███████████████████████████████████████████████████████████████████████████████████████████| 10/10 [00:00<00:00, 219.75it/s, loss=1.36]\n"
     ]
    },
    {
     "name": "stdout",
     "output_type": "stream",
     "text": [
      "Epoch [863/5000]: Train loss: 1.3106, Valid loss: 1.0101\n"
     ]
    },
    {
     "name": "stderr",
     "output_type": "stream",
     "text": [
      "Epoch [864/5000]: 100%|████████████████████████████████████████████████████████████████████████████████████████████| 10/10 [00:00<00:00, 220.90it/s, loss=1.2]\n"
     ]
    },
    {
     "name": "stdout",
     "output_type": "stream",
     "text": [
      "Epoch [864/5000]: Train loss: 1.2940, Valid loss: 1.0281\n"
     ]
    },
    {
     "name": "stderr",
     "output_type": "stream",
     "text": [
      "Epoch [865/5000]: 100%|████████████████████████████████████████████████████████████████████████████████████████████| 10/10 [00:00<00:00, 218.33it/s, loss=1.3]\n"
     ]
    },
    {
     "name": "stdout",
     "output_type": "stream",
     "text": [
      "Epoch [865/5000]: Train loss: 1.2937, Valid loss: 1.0326\n"
     ]
    },
    {
     "name": "stderr",
     "output_type": "stream",
     "text": [
      "Epoch [866/5000]: 100%|█████████████████████████████████████████████████████████████████████████████████████████████| 10/10 [00:00<00:00, 97.79it/s, loss=1.3]\n"
     ]
    },
    {
     "name": "stdout",
     "output_type": "stream",
     "text": [
      "Epoch [866/5000]: Train loss: 1.2802, Valid loss: 1.0357\n"
     ]
    },
    {
     "name": "stderr",
     "output_type": "stream",
     "text": [
      "Epoch [867/5000]: 100%|███████████████████████████████████████████████████████████████████████████████████████████| 10/10 [00:00<00:00, 213.96it/s, loss=1.24]\n"
     ]
    },
    {
     "name": "stdout",
     "output_type": "stream",
     "text": [
      "Epoch [867/5000]: Train loss: 1.3203, Valid loss: 1.0512\n"
     ]
    },
    {
     "name": "stderr",
     "output_type": "stream",
     "text": [
      "Epoch [868/5000]: 100%|███████████████████████████████████████████████████████████████████████████████████████████| 10/10 [00:00<00:00, 213.23it/s, loss=1.38]\n"
     ]
    },
    {
     "name": "stdout",
     "output_type": "stream",
     "text": [
      "Epoch [868/5000]: Train loss: 1.3107, Valid loss: 1.0640\n"
     ]
    },
    {
     "name": "stderr",
     "output_type": "stream",
     "text": [
      "Epoch [869/5000]: 100%|███████████████████████████████████████████████████████████████████████████████████████████| 10/10 [00:00<00:00, 218.57it/s, loss=1.16]\n"
     ]
    },
    {
     "name": "stdout",
     "output_type": "stream",
     "text": [
      "Epoch [869/5000]: Train loss: 1.3087, Valid loss: 1.1363\n"
     ]
    },
    {
     "name": "stderr",
     "output_type": "stream",
     "text": [
      "Epoch [870/5000]: 100%|███████████████████████████████████████████████████████████████████████████████████████████| 10/10 [00:00<00:00, 222.43it/s, loss=1.26]\n"
     ]
    },
    {
     "name": "stdout",
     "output_type": "stream",
     "text": [
      "Epoch [870/5000]: Train loss: 1.2891, Valid loss: 1.0792\n"
     ]
    },
    {
     "name": "stderr",
     "output_type": "stream",
     "text": [
      "Epoch [871/5000]: 100%|███████████████████████████████████████████████████████████████████████████████████████████| 10/10 [00:00<00:00, 222.57it/s, loss=1.49]\n"
     ]
    },
    {
     "name": "stdout",
     "output_type": "stream",
     "text": [
      "Epoch [871/5000]: Train loss: 1.3319, Valid loss: 1.0119\n"
     ]
    },
    {
     "name": "stderr",
     "output_type": "stream",
     "text": [
      "Epoch [872/5000]: 100%|████████████████████████████████████████████████████████████████████████████████████████████| 10/10 [00:00<00:00, 96.83it/s, loss=1.41]\n"
     ]
    },
    {
     "name": "stdout",
     "output_type": "stream",
     "text": [
      "Epoch [872/5000]: Train loss: 1.3361, Valid loss: 1.0038\n"
     ]
    },
    {
     "name": "stderr",
     "output_type": "stream",
     "text": [
      "Epoch [873/5000]: 100%|███████████████████████████████████████████████████████████████████████████████████████████| 10/10 [00:00<00:00, 218.08it/s, loss=1.46]\n"
     ]
    },
    {
     "name": "stdout",
     "output_type": "stream",
     "text": [
      "Epoch [873/5000]: Train loss: 1.3325, Valid loss: 1.0151\n"
     ]
    },
    {
     "name": "stderr",
     "output_type": "stream",
     "text": [
      "Epoch [874/5000]: 100%|███████████████████████████████████████████████████████████████████████████████████████████| 10/10 [00:00<00:00, 220.99it/s, loss=1.41]\n"
     ]
    },
    {
     "name": "stdout",
     "output_type": "stream",
     "text": [
      "Epoch [874/5000]: Train loss: 1.2891, Valid loss: 1.0665\n"
     ]
    },
    {
     "name": "stderr",
     "output_type": "stream",
     "text": [
      "Epoch [875/5000]: 100%|███████████████████████████████████████████████████████████████████████████████████████████| 10/10 [00:00<00:00, 218.80it/s, loss=1.36]\n"
     ]
    },
    {
     "name": "stdout",
     "output_type": "stream",
     "text": [
      "Epoch [875/5000]: Train loss: 1.2893, Valid loss: 1.0193\n"
     ]
    },
    {
     "name": "stderr",
     "output_type": "stream",
     "text": [
      "Epoch [876/5000]: 100%|████████████████████████████████████████████████████████████████████████████████████████████| 10/10 [00:00<00:00, 220.01it/s, loss=1.4]\n"
     ]
    },
    {
     "name": "stdout",
     "output_type": "stream",
     "text": [
      "Epoch [876/5000]: Train loss: 1.3196, Valid loss: 1.0234\n"
     ]
    },
    {
     "name": "stderr",
     "output_type": "stream",
     "text": [
      "Epoch [877/5000]: 100%|███████████████████████████████████████████████████████████████████████████████████████████| 10/10 [00:00<00:00, 221.71it/s, loss=1.22]\n"
     ]
    },
    {
     "name": "stdout",
     "output_type": "stream",
     "text": [
      "Epoch [877/5000]: Train loss: 1.2957, Valid loss: 0.9907\n"
     ]
    },
    {
     "name": "stderr",
     "output_type": "stream",
     "text": [
      "Epoch [878/5000]: 100%|████████████████████████████████████████████████████████████████████████████████████████████| 10/10 [00:00<00:00, 97.75it/s, loss=1.35]\n"
     ]
    },
    {
     "name": "stdout",
     "output_type": "stream",
     "text": [
      "Epoch [878/5000]: Train loss: 1.3000, Valid loss: 1.0279\n"
     ]
    },
    {
     "name": "stderr",
     "output_type": "stream",
     "text": [
      "Epoch [879/5000]: 100%|███████████████████████████████████████████████████████████████████████████████████████████| 10/10 [00:00<00:00, 219.83it/s, loss=1.45]\n"
     ]
    },
    {
     "name": "stdout",
     "output_type": "stream",
     "text": [
      "Epoch [879/5000]: Train loss: 1.3176, Valid loss: 1.0759\n"
     ]
    },
    {
     "name": "stderr",
     "output_type": "stream",
     "text": [
      "Epoch [880/5000]: 100%|████████████████████████████████████████████████████████████████████████████████████████████| 10/10 [00:00<00:00, 220.40it/s, loss=1.2]\n"
     ]
    },
    {
     "name": "stdout",
     "output_type": "stream",
     "text": [
      "Epoch [880/5000]: Train loss: 1.2936, Valid loss: 1.0278\n"
     ]
    },
    {
     "name": "stderr",
     "output_type": "stream",
     "text": [
      "Epoch [881/5000]: 100%|███████████████████████████████████████████████████████████████████████████████████████████| 10/10 [00:00<00:00, 218.48it/s, loss=1.23]\n"
     ]
    },
    {
     "name": "stdout",
     "output_type": "stream",
     "text": [
      "Epoch [881/5000]: Train loss: 1.2815, Valid loss: 1.0437\n"
     ]
    },
    {
     "name": "stderr",
     "output_type": "stream",
     "text": [
      "Epoch [882/5000]: 100%|████████████████████████████████████████████████████████████████████████████████████████████| 10/10 [00:00<00:00, 219.60it/s, loss=1.2]\n"
     ]
    },
    {
     "name": "stdout",
     "output_type": "stream",
     "text": [
      "Epoch [882/5000]: Train loss: 1.3015, Valid loss: 1.0742\n"
     ]
    },
    {
     "name": "stderr",
     "output_type": "stream",
     "text": [
      "Epoch [883/5000]: 100%|████████████████████████████████████████████████████████████████████████████████████████████| 10/10 [00:00<00:00, 221.11it/s, loss=1.3]\n"
     ]
    },
    {
     "name": "stdout",
     "output_type": "stream",
     "text": [
      "Epoch [883/5000]: Train loss: 1.2932, Valid loss: 1.0248\n"
     ]
    },
    {
     "name": "stderr",
     "output_type": "stream",
     "text": [
      "Epoch [884/5000]: 100%|████████████████████████████████████████████████████████████████████████████████████████████| 10/10 [00:00<00:00, 96.88it/s, loss=1.29]\n"
     ]
    },
    {
     "name": "stdout",
     "output_type": "stream",
     "text": [
      "Epoch [884/5000]: Train loss: 1.3049, Valid loss: 1.0259\n"
     ]
    },
    {
     "name": "stderr",
     "output_type": "stream",
     "text": [
      "Epoch [885/5000]: 100%|███████████████████████████████████████████████████████████████████████████████████████████| 10/10 [00:00<00:00, 218.53it/s, loss=1.33]\n"
     ]
    },
    {
     "name": "stdout",
     "output_type": "stream",
     "text": [
      "Epoch [885/5000]: Train loss: 1.2947, Valid loss: 1.0415\n"
     ]
    },
    {
     "name": "stderr",
     "output_type": "stream",
     "text": [
      "Epoch [886/5000]: 100%|████████████████████████████████████████████████████████████████████████████████████████████| 10/10 [00:00<00:00, 221.71it/s, loss=1.3]\n"
     ]
    },
    {
     "name": "stdout",
     "output_type": "stream",
     "text": [
      "Epoch [886/5000]: Train loss: 1.2847, Valid loss: 1.0594\n"
     ]
    },
    {
     "name": "stderr",
     "output_type": "stream",
     "text": [
      "Epoch [887/5000]: 100%|███████████████████████████████████████████████████████████████████████████████████████████| 10/10 [00:00<00:00, 218.86it/s, loss=1.18]\n"
     ]
    },
    {
     "name": "stdout",
     "output_type": "stream",
     "text": [
      "Epoch [887/5000]: Train loss: 1.3009, Valid loss: 1.0422\n"
     ]
    },
    {
     "name": "stderr",
     "output_type": "stream",
     "text": [
      "Epoch [888/5000]: 100%|███████████████████████████████████████████████████████████████████████████████████████████| 10/10 [00:00<00:00, 221.19it/s, loss=1.26]\n"
     ]
    },
    {
     "name": "stdout",
     "output_type": "stream",
     "text": [
      "Epoch [888/5000]: Train loss: 1.2961, Valid loss: 1.0367\n"
     ]
    },
    {
     "name": "stderr",
     "output_type": "stream",
     "text": [
      "Epoch [889/5000]: 100%|███████████████████████████████████████████████████████████████████████████████████████████| 10/10 [00:00<00:00, 218.16it/s, loss=1.11]\n"
     ]
    },
    {
     "name": "stdout",
     "output_type": "stream",
     "text": [
      "Epoch [889/5000]: Train loss: 1.2958, Valid loss: 1.0809\n"
     ]
    },
    {
     "name": "stderr",
     "output_type": "stream",
     "text": [
      "Epoch [890/5000]: 100%|████████████████████████████████████████████████████████████████████████████████████████████| 10/10 [00:00<00:00, 96.22it/s, loss=1.32]\n"
     ]
    },
    {
     "name": "stdout",
     "output_type": "stream",
     "text": [
      "Epoch [890/5000]: Train loss: 1.3253, Valid loss: 1.0771\n"
     ]
    },
    {
     "name": "stderr",
     "output_type": "stream",
     "text": [
      "Epoch [891/5000]: 100%|███████████████████████████████████████████████████████████████████████████████████████████| 10/10 [00:00<00:00, 222.21it/s, loss=1.21]\n"
     ]
    },
    {
     "name": "stdout",
     "output_type": "stream",
     "text": [
      "Epoch [891/5000]: Train loss: 1.3174, Valid loss: 1.0955\n"
     ]
    },
    {
     "name": "stderr",
     "output_type": "stream",
     "text": [
      "Epoch [892/5000]: 100%|███████████████████████████████████████████████████████████████████████████████████████████| 10/10 [00:00<00:00, 218.93it/s, loss=1.27]\n"
     ]
    },
    {
     "name": "stdout",
     "output_type": "stream",
     "text": [
      "Epoch [892/5000]: Train loss: 1.3672, Valid loss: 1.0496\n"
     ]
    },
    {
     "name": "stderr",
     "output_type": "stream",
     "text": [
      "Epoch [893/5000]: 100%|███████████████████████████████████████████████████████████████████████████████████████████| 10/10 [00:00<00:00, 220.02it/s, loss=1.27]\n"
     ]
    },
    {
     "name": "stdout",
     "output_type": "stream",
     "text": [
      "Epoch [893/5000]: Train loss: 1.3458, Valid loss: 1.1613\n"
     ]
    },
    {
     "name": "stderr",
     "output_type": "stream",
     "text": [
      "Epoch [894/5000]: 100%|███████████████████████████████████████████████████████████████████████████████████████████| 10/10 [00:00<00:00, 222.00it/s, loss=1.42]\n"
     ]
    },
    {
     "name": "stdout",
     "output_type": "stream",
     "text": [
      "Epoch [894/5000]: Train loss: 1.3330, Valid loss: 1.0632\n"
     ]
    },
    {
     "name": "stderr",
     "output_type": "stream",
     "text": [
      "Epoch [895/5000]: 100%|███████████████████████████████████████████████████████████████████████████████████████████| 10/10 [00:00<00:00, 221.63it/s, loss=1.17]\n"
     ]
    },
    {
     "name": "stdout",
     "output_type": "stream",
     "text": [
      "Epoch [895/5000]: Train loss: 1.3377, Valid loss: 1.0050\n"
     ]
    },
    {
     "name": "stderr",
     "output_type": "stream",
     "text": [
      "Epoch [896/5000]: 100%|████████████████████████████████████████████████████████████████████████████████████████████| 10/10 [00:00<00:00, 97.95it/s, loss=1.55]\n"
     ]
    },
    {
     "name": "stdout",
     "output_type": "stream",
     "text": [
      "Epoch [896/5000]: Train loss: 1.3149, Valid loss: 1.0191\n"
     ]
    },
    {
     "name": "stderr",
     "output_type": "stream",
     "text": [
      "Epoch [897/5000]: 100%|███████████████████████████████████████████████████████████████████████████████████████████| 10/10 [00:00<00:00, 217.85it/s, loss=1.45]\n"
     ]
    },
    {
     "name": "stdout",
     "output_type": "stream",
     "text": [
      "Epoch [897/5000]: Train loss: 1.3139, Valid loss: 1.1652\n"
     ]
    },
    {
     "name": "stderr",
     "output_type": "stream",
     "text": [
      "Epoch [898/5000]: 100%|███████████████████████████████████████████████████████████████████████████████████████████| 10/10 [00:00<00:00, 216.66it/s, loss=1.28]\n"
     ]
    },
    {
     "name": "stdout",
     "output_type": "stream",
     "text": [
      "Epoch [898/5000]: Train loss: 1.2872, Valid loss: 1.0937\n"
     ]
    },
    {
     "name": "stderr",
     "output_type": "stream",
     "text": [
      "Epoch [899/5000]: 100%|███████████████████████████████████████████████████████████████████████████████████████████| 10/10 [00:00<00:00, 218.96it/s, loss=1.14]\n"
     ]
    },
    {
     "name": "stdout",
     "output_type": "stream",
     "text": [
      "Epoch [899/5000]: Train loss: 1.3122, Valid loss: 0.9776\n"
     ]
    },
    {
     "name": "stderr",
     "output_type": "stream",
     "text": [
      "Epoch [900/5000]: 100%|███████████████████████████████████████████████████████████████████████████████████████████| 10/10 [00:00<00:00, 216.32it/s, loss=1.36]\n"
     ]
    },
    {
     "name": "stdout",
     "output_type": "stream",
     "text": [
      "Epoch [900/5000]: Train loss: 1.2884, Valid loss: 1.0308\n"
     ]
    },
    {
     "name": "stderr",
     "output_type": "stream",
     "text": [
      "Epoch [901/5000]: 100%|███████████████████████████████████████████████████████████████████████████████████████████| 10/10 [00:00<00:00, 221.25it/s, loss=1.24]\n"
     ]
    },
    {
     "name": "stdout",
     "output_type": "stream",
     "text": [
      "Epoch [901/5000]: Train loss: 1.2838, Valid loss: 0.9926\n"
     ]
    },
    {
     "name": "stderr",
     "output_type": "stream",
     "text": [
      "Epoch [902/5000]: 100%|████████████████████████████████████████████████████████████████████████████████████████████| 10/10 [00:00<00:00, 97.24it/s, loss=1.29]\n"
     ]
    },
    {
     "name": "stdout",
     "output_type": "stream",
     "text": [
      "Epoch [902/5000]: Train loss: 1.3121, Valid loss: 1.0330\n"
     ]
    },
    {
     "name": "stderr",
     "output_type": "stream",
     "text": [
      "Epoch [903/5000]: 100%|███████████████████████████████████████████████████████████████████████████████████████████| 10/10 [00:00<00:00, 213.94it/s, loss=1.41]\n"
     ]
    },
    {
     "name": "stdout",
     "output_type": "stream",
     "text": [
      "Epoch [903/5000]: Train loss: 1.2881, Valid loss: 1.0278\n"
     ]
    },
    {
     "name": "stderr",
     "output_type": "stream",
     "text": [
      "Epoch [904/5000]: 100%|███████████████████████████████████████████████████████████████████████████████████████████| 10/10 [00:00<00:00, 219.53it/s, loss=1.33]\n"
     ]
    },
    {
     "name": "stdout",
     "output_type": "stream",
     "text": [
      "Epoch [904/5000]: Train loss: 1.2937, Valid loss: 1.0045\n"
     ]
    },
    {
     "name": "stderr",
     "output_type": "stream",
     "text": [
      "Epoch [905/5000]: 100%|███████████████████████████████████████████████████████████████████████████████████████████| 10/10 [00:00<00:00, 219.46it/s, loss=1.21]\n"
     ]
    },
    {
     "name": "stdout",
     "output_type": "stream",
     "text": [
      "Epoch [905/5000]: Train loss: 1.3008, Valid loss: 1.0356\n"
     ]
    },
    {
     "name": "stderr",
     "output_type": "stream",
     "text": [
      "Epoch [906/5000]: 100%|████████████████████████████████████████████████████████████████████████████████████████████| 10/10 [00:00<00:00, 220.59it/s, loss=1.3]\n"
     ]
    },
    {
     "name": "stdout",
     "output_type": "stream",
     "text": [
      "Epoch [906/5000]: Train loss: 1.3073, Valid loss: 1.0307\n"
     ]
    },
    {
     "name": "stderr",
     "output_type": "stream",
     "text": [
      "Epoch [907/5000]: 100%|████████████████████████████████████████████████████████████████████████████████████████████| 10/10 [00:00<00:00, 222.54it/s, loss=1.3]\n"
     ]
    },
    {
     "name": "stdout",
     "output_type": "stream",
     "text": [
      "Epoch [907/5000]: Train loss: 1.3074, Valid loss: 1.1014\n"
     ]
    },
    {
     "name": "stderr",
     "output_type": "stream",
     "text": [
      "Epoch [908/5000]: 100%|████████████████████████████████████████████████████████████████████████████████████████████| 10/10 [00:00<00:00, 96.87it/s, loss=1.52]\n"
     ]
    },
    {
     "name": "stdout",
     "output_type": "stream",
     "text": [
      "Epoch [908/5000]: Train loss: 1.3270, Valid loss: 1.0657\n"
     ]
    },
    {
     "name": "stderr",
     "output_type": "stream",
     "text": [
      "Epoch [909/5000]: 100%|███████████████████████████████████████████████████████████████████████████████████████████| 10/10 [00:00<00:00, 220.23it/s, loss=1.14]\n"
     ]
    },
    {
     "name": "stdout",
     "output_type": "stream",
     "text": [
      "Epoch [909/5000]: Train loss: 1.2946, Valid loss: 1.0926\n"
     ]
    },
    {
     "name": "stderr",
     "output_type": "stream",
     "text": [
      "Epoch [910/5000]: 100%|███████████████████████████████████████████████████████████████████████████████████████████| 10/10 [00:00<00:00, 217.97it/s, loss=1.29]\n"
     ]
    },
    {
     "name": "stdout",
     "output_type": "stream",
     "text": [
      "Epoch [910/5000]: Train loss: 1.2753, Valid loss: 1.1148\n"
     ]
    },
    {
     "name": "stderr",
     "output_type": "stream",
     "text": [
      "Epoch [911/5000]: 100%|████████████████████████████████████████████████████████████████████████████████████████████| 10/10 [00:00<00:00, 219.32it/s, loss=1.2]\n"
     ]
    },
    {
     "name": "stdout",
     "output_type": "stream",
     "text": [
      "Epoch [911/5000]: Train loss: 1.2800, Valid loss: 1.0486\n"
     ]
    },
    {
     "name": "stderr",
     "output_type": "stream",
     "text": [
      "Epoch [912/5000]: 100%|███████████████████████████████████████████████████████████████████████████████████████████| 10/10 [00:00<00:00, 221.68it/s, loss=1.23]\n"
     ]
    },
    {
     "name": "stdout",
     "output_type": "stream",
     "text": [
      "Epoch [912/5000]: Train loss: 1.3073, Valid loss: 1.0649\n"
     ]
    },
    {
     "name": "stderr",
     "output_type": "stream",
     "text": [
      "Epoch [913/5000]: 100%|███████████████████████████████████████████████████████████████████████████████████████████| 10/10 [00:00<00:00, 222.07it/s, loss=1.35]\n"
     ]
    },
    {
     "name": "stdout",
     "output_type": "stream",
     "text": [
      "Epoch [913/5000]: Train loss: 1.3142, Valid loss: 1.0113\n"
     ]
    },
    {
     "name": "stderr",
     "output_type": "stream",
     "text": [
      "Epoch [914/5000]: 100%|████████████████████████████████████████████████████████████████████████████████████████████| 10/10 [00:00<00:00, 97.88it/s, loss=1.49]\n"
     ]
    },
    {
     "name": "stdout",
     "output_type": "stream",
     "text": [
      "Epoch [914/5000]: Train loss: 1.2868, Valid loss: 1.0355\n"
     ]
    },
    {
     "name": "stderr",
     "output_type": "stream",
     "text": [
      "Epoch [915/5000]: 100%|███████████████████████████████████████████████████████████████████████████████████████████| 10/10 [00:00<00:00, 217.82it/s, loss=1.16]\n"
     ]
    },
    {
     "name": "stdout",
     "output_type": "stream",
     "text": [
      "Epoch [915/5000]: Train loss: 1.2948, Valid loss: 1.0360\n"
     ]
    },
    {
     "name": "stderr",
     "output_type": "stream",
     "text": [
      "Epoch [916/5000]: 100%|███████████████████████████████████████████████████████████████████████████████████████████| 10/10 [00:00<00:00, 217.51it/s, loss=1.19]\n"
     ]
    },
    {
     "name": "stdout",
     "output_type": "stream",
     "text": [
      "Epoch [916/5000]: Train loss: 1.2965, Valid loss: 1.0227\n"
     ]
    },
    {
     "name": "stderr",
     "output_type": "stream",
     "text": [
      "Epoch [917/5000]: 100%|███████████████████████████████████████████████████████████████████████████████████████████| 10/10 [00:00<00:00, 219.88it/s, loss=1.24]\n"
     ]
    },
    {
     "name": "stdout",
     "output_type": "stream",
     "text": [
      "Epoch [917/5000]: Train loss: 1.2853, Valid loss: 1.0382\n"
     ]
    },
    {
     "name": "stderr",
     "output_type": "stream",
     "text": [
      "Epoch [918/5000]: 100%|███████████████████████████████████████████████████████████████████████████████████████████| 10/10 [00:00<00:00, 220.03it/s, loss=1.26]\n"
     ]
    },
    {
     "name": "stdout",
     "output_type": "stream",
     "text": [
      "Epoch [918/5000]: Train loss: 1.3082, Valid loss: 1.0544\n"
     ]
    },
    {
     "name": "stderr",
     "output_type": "stream",
     "text": [
      "Epoch [919/5000]: 100%|████████████████████████████████████████████████████████████████████████████████████████████| 10/10 [00:00<00:00, 220.89it/s, loss=1.4]\n"
     ]
    },
    {
     "name": "stdout",
     "output_type": "stream",
     "text": [
      "Epoch [919/5000]: Train loss: 1.3012, Valid loss: 1.0431\n"
     ]
    },
    {
     "name": "stderr",
     "output_type": "stream",
     "text": [
      "Epoch [920/5000]: 100%|████████████████████████████████████████████████████████████████████████████████████████████| 10/10 [00:00<00:00, 97.85it/s, loss=1.45]\n"
     ]
    },
    {
     "name": "stdout",
     "output_type": "stream",
     "text": [
      "Epoch [920/5000]: Train loss: 1.2977, Valid loss: 1.0550\n"
     ]
    },
    {
     "name": "stderr",
     "output_type": "stream",
     "text": [
      "Epoch [921/5000]: 100%|████████████████████████████████████████████████████████████████████████████████████████████| 10/10 [00:00<00:00, 214.10it/s, loss=1.3]\n"
     ]
    },
    {
     "name": "stdout",
     "output_type": "stream",
     "text": [
      "Epoch [921/5000]: Train loss: 1.2890, Valid loss: 1.0524\n"
     ]
    },
    {
     "name": "stderr",
     "output_type": "stream",
     "text": [
      "Epoch [922/5000]: 100%|████████████████████████████████████████████████████████████████████████████████████████████| 10/10 [00:00<00:00, 214.06it/s, loss=1.3]\n"
     ]
    },
    {
     "name": "stdout",
     "output_type": "stream",
     "text": [
      "Epoch [922/5000]: Train loss: 1.3037, Valid loss: 1.0157\n"
     ]
    },
    {
     "name": "stderr",
     "output_type": "stream",
     "text": [
      "Epoch [923/5000]: 100%|███████████████████████████████████████████████████████████████████████████████████████████| 10/10 [00:00<00:00, 219.72it/s, loss=1.23]\n"
     ]
    },
    {
     "name": "stdout",
     "output_type": "stream",
     "text": [
      "Epoch [923/5000]: Train loss: 1.3038, Valid loss: 1.0375\n"
     ]
    },
    {
     "name": "stderr",
     "output_type": "stream",
     "text": [
      "Epoch [924/5000]: 100%|████████████████████████████████████████████████████████████████████████████████████████████| 10/10 [00:00<00:00, 220.14it/s, loss=1.2]\n"
     ]
    },
    {
     "name": "stdout",
     "output_type": "stream",
     "text": [
      "Epoch [924/5000]: Train loss: 1.3017, Valid loss: 1.0547\n"
     ]
    },
    {
     "name": "stderr",
     "output_type": "stream",
     "text": [
      "Epoch [925/5000]: 100%|███████████████████████████████████████████████████████████████████████████████████████████| 10/10 [00:00<00:00, 219.02it/s, loss=1.32]\n"
     ]
    },
    {
     "name": "stdout",
     "output_type": "stream",
     "text": [
      "Epoch [925/5000]: Train loss: 1.3205, Valid loss: 1.1243\n"
     ]
    },
    {
     "name": "stderr",
     "output_type": "stream",
     "text": [
      "Epoch [926/5000]: 100%|█████████████████████████████████████████████████████████████████████████████████████████████| 10/10 [00:00<00:00, 97.82it/s, loss=1.3]\n"
     ]
    },
    {
     "name": "stdout",
     "output_type": "stream",
     "text": [
      "Epoch [926/5000]: Train loss: 1.3017, Valid loss: 1.0430\n"
     ]
    },
    {
     "name": "stderr",
     "output_type": "stream",
     "text": [
      "Epoch [927/5000]: 100%|████████████████████████████████████████████████████████████████████████████████████████████| 10/10 [00:00<00:00, 211.78it/s, loss=1.3]\n"
     ]
    },
    {
     "name": "stdout",
     "output_type": "stream",
     "text": [
      "Epoch [927/5000]: Train loss: 1.2945, Valid loss: 0.9647\n",
      "Saving model with loss 0.965...\n"
     ]
    },
    {
     "name": "stderr",
     "output_type": "stream",
     "text": [
      "Epoch [928/5000]: 100%|███████████████████████████████████████████████████████████████████████████████████████████| 10/10 [00:00<00:00, 216.43it/s, loss=1.25]\n"
     ]
    },
    {
     "name": "stdout",
     "output_type": "stream",
     "text": [
      "Epoch [928/5000]: Train loss: 1.2777, Valid loss: 1.0646\n"
     ]
    },
    {
     "name": "stderr",
     "output_type": "stream",
     "text": [
      "Epoch [929/5000]: 100%|████████████████████████████████████████████████████████████████████████████████████████████| 10/10 [00:00<00:00, 219.43it/s, loss=1.4]\n"
     ]
    },
    {
     "name": "stdout",
     "output_type": "stream",
     "text": [
      "Epoch [929/5000]: Train loss: 1.3254, Valid loss: 1.0948\n"
     ]
    },
    {
     "name": "stderr",
     "output_type": "stream",
     "text": [
      "Epoch [930/5000]: 100%|███████████████████████████████████████████████████████████████████████████████████████████| 10/10 [00:00<00:00, 221.29it/s, loss=1.22]\n"
     ]
    },
    {
     "name": "stdout",
     "output_type": "stream",
     "text": [
      "Epoch [930/5000]: Train loss: 1.3082, Valid loss: 1.0389\n"
     ]
    },
    {
     "name": "stderr",
     "output_type": "stream",
     "text": [
      "Epoch [931/5000]: 100%|███████████████████████████████████████████████████████████████████████████████████████████| 10/10 [00:00<00:00, 221.75it/s, loss=1.21]\n"
     ]
    },
    {
     "name": "stdout",
     "output_type": "stream",
     "text": [
      "Epoch [931/5000]: Train loss: 1.2683, Valid loss: 1.0084\n"
     ]
    },
    {
     "name": "stderr",
     "output_type": "stream",
     "text": [
      "Epoch [932/5000]: 100%|█████████████████████████████████████████████████████████████████████████████████████████████| 10/10 [00:00<00:00, 97.39it/s, loss=1.4]\n"
     ]
    },
    {
     "name": "stdout",
     "output_type": "stream",
     "text": [
      "Epoch [932/5000]: Train loss: 1.2990, Valid loss: 0.9892\n"
     ]
    },
    {
     "name": "stderr",
     "output_type": "stream",
     "text": [
      "Epoch [933/5000]: 100%|███████████████████████████████████████████████████████████████████████████████████████████| 10/10 [00:00<00:00, 223.10it/s, loss=1.03]\n"
     ]
    },
    {
     "name": "stdout",
     "output_type": "stream",
     "text": [
      "Epoch [933/5000]: Train loss: 1.2841, Valid loss: 1.0465\n"
     ]
    },
    {
     "name": "stderr",
     "output_type": "stream",
     "text": [
      "Epoch [934/5000]: 100%|███████████████████████████████████████████████████████████████████████████████████████████| 10/10 [00:00<00:00, 216.46it/s, loss=1.27]\n"
     ]
    },
    {
     "name": "stdout",
     "output_type": "stream",
     "text": [
      "Epoch [934/5000]: Train loss: 1.2944, Valid loss: 1.0665\n"
     ]
    },
    {
     "name": "stderr",
     "output_type": "stream",
     "text": [
      "Epoch [935/5000]: 100%|███████████████████████████████████████████████████████████████████████████████████████████| 10/10 [00:00<00:00, 218.37it/s, loss=1.34]\n"
     ]
    },
    {
     "name": "stdout",
     "output_type": "stream",
     "text": [
      "Epoch [935/5000]: Train loss: 1.2945, Valid loss: 1.0433\n"
     ]
    },
    {
     "name": "stderr",
     "output_type": "stream",
     "text": [
      "Epoch [936/5000]: 100%|███████████████████████████████████████████████████████████████████████████████████████████| 10/10 [00:00<00:00, 221.05it/s, loss=1.33]\n"
     ]
    },
    {
     "name": "stdout",
     "output_type": "stream",
     "text": [
      "Epoch [936/5000]: Train loss: 1.2891, Valid loss: 1.1246\n"
     ]
    },
    {
     "name": "stderr",
     "output_type": "stream",
     "text": [
      "Epoch [937/5000]: 100%|████████████████████████████████████████████████████████████████████████████████████████████| 10/10 [00:00<00:00, 220.68it/s, loss=1.2]\n"
     ]
    },
    {
     "name": "stdout",
     "output_type": "stream",
     "text": [
      "Epoch [937/5000]: Train loss: 1.3028, Valid loss: 1.0634\n"
     ]
    },
    {
     "name": "stderr",
     "output_type": "stream",
     "text": [
      "Epoch [938/5000]: 100%|████████████████████████████████████████████████████████████████████████████████████████████| 10/10 [00:00<00:00, 96.78it/s, loss=1.19]\n"
     ]
    },
    {
     "name": "stdout",
     "output_type": "stream",
     "text": [
      "Epoch [938/5000]: Train loss: 1.2858, Valid loss: 1.0618\n"
     ]
    },
    {
     "name": "stderr",
     "output_type": "stream",
     "text": [
      "Epoch [939/5000]: 100%|████████████████████████████████████████████████████████████████████████████████████████████| 10/10 [00:00<00:00, 219.20it/s, loss=1.2]\n"
     ]
    },
    {
     "name": "stdout",
     "output_type": "stream",
     "text": [
      "Epoch [939/5000]: Train loss: 1.2947, Valid loss: 1.1086\n"
     ]
    },
    {
     "name": "stderr",
     "output_type": "stream",
     "text": [
      "Epoch [940/5000]: 100%|███████████████████████████████████████████████████████████████████████████████████████████| 10/10 [00:00<00:00, 219.58it/s, loss=1.49]\n"
     ]
    },
    {
     "name": "stdout",
     "output_type": "stream",
     "text": [
      "Epoch [940/5000]: Train loss: 1.2793, Valid loss: 1.0310\n"
     ]
    },
    {
     "name": "stderr",
     "output_type": "stream",
     "text": [
      "Epoch [941/5000]: 100%|███████████████████████████████████████████████████████████████████████████████████████████| 10/10 [00:00<00:00, 222.74it/s, loss=1.29]\n"
     ]
    },
    {
     "name": "stdout",
     "output_type": "stream",
     "text": [
      "Epoch [941/5000]: Train loss: 1.2751, Valid loss: 1.0770\n"
     ]
    },
    {
     "name": "stderr",
     "output_type": "stream",
     "text": [
      "Epoch [942/5000]: 100%|███████████████████████████████████████████████████████████████████████████████████████████| 10/10 [00:00<00:00, 219.72it/s, loss=1.23]\n"
     ]
    },
    {
     "name": "stdout",
     "output_type": "stream",
     "text": [
      "Epoch [942/5000]: Train loss: 1.2977, Valid loss: 1.0297\n"
     ]
    },
    {
     "name": "stderr",
     "output_type": "stream",
     "text": [
      "Epoch [943/5000]: 100%|████████████████████████████████████████████████████████████████████████████████████████████| 10/10 [00:00<00:00, 222.26it/s, loss=1.3]\n"
     ]
    },
    {
     "name": "stdout",
     "output_type": "stream",
     "text": [
      "Epoch [943/5000]: Train loss: 1.3172, Valid loss: 1.0559\n"
     ]
    },
    {
     "name": "stderr",
     "output_type": "stream",
     "text": [
      "Epoch [944/5000]: 100%|████████████████████████████████████████████████████████████████████████████████████████████| 10/10 [00:00<00:00, 97.31it/s, loss=1.36]\n"
     ]
    },
    {
     "name": "stdout",
     "output_type": "stream",
     "text": [
      "Epoch [944/5000]: Train loss: 1.2958, Valid loss: 1.1102\n"
     ]
    },
    {
     "name": "stderr",
     "output_type": "stream",
     "text": [
      "Epoch [945/5000]: 100%|███████████████████████████████████████████████████████████████████████████████████████████| 10/10 [00:00<00:00, 220.11it/s, loss=1.35]\n"
     ]
    },
    {
     "name": "stdout",
     "output_type": "stream",
     "text": [
      "Epoch [945/5000]: Train loss: 1.2991, Valid loss: 1.0037\n"
     ]
    },
    {
     "name": "stderr",
     "output_type": "stream",
     "text": [
      "Epoch [946/5000]: 100%|███████████████████████████████████████████████████████████████████████████████████████████| 10/10 [00:00<00:00, 218.46it/s, loss=1.24]\n"
     ]
    },
    {
     "name": "stdout",
     "output_type": "stream",
     "text": [
      "Epoch [946/5000]: Train loss: 1.3352, Valid loss: 1.0461\n"
     ]
    },
    {
     "name": "stderr",
     "output_type": "stream",
     "text": [
      "Epoch [947/5000]: 100%|███████████████████████████████████████████████████████████████████████████████████████████| 10/10 [00:00<00:00, 220.30it/s, loss=1.27]\n"
     ]
    },
    {
     "name": "stdout",
     "output_type": "stream",
     "text": [
      "Epoch [947/5000]: Train loss: 1.2862, Valid loss: 0.9813\n"
     ]
    },
    {
     "name": "stderr",
     "output_type": "stream",
     "text": [
      "Epoch [948/5000]: 100%|███████████████████████████████████████████████████████████████████████████████████████████| 10/10 [00:00<00:00, 217.83it/s, loss=1.28]\n"
     ]
    },
    {
     "name": "stdout",
     "output_type": "stream",
     "text": [
      "Epoch [948/5000]: Train loss: 1.3039, Valid loss: 1.0590\n"
     ]
    },
    {
     "name": "stderr",
     "output_type": "stream",
     "text": [
      "Epoch [949/5000]: 100%|███████████████████████████████████████████████████████████████████████████████████████████| 10/10 [00:00<00:00, 221.12it/s, loss=1.25]\n"
     ]
    },
    {
     "name": "stdout",
     "output_type": "stream",
     "text": [
      "Epoch [949/5000]: Train loss: 1.2681, Valid loss: 1.0292\n"
     ]
    },
    {
     "name": "stderr",
     "output_type": "stream",
     "text": [
      "Epoch [950/5000]: 100%|████████████████████████████████████████████████████████████████████████████████████████████| 10/10 [00:00<00:00, 96.76it/s, loss=1.18]\n"
     ]
    },
    {
     "name": "stdout",
     "output_type": "stream",
     "text": [
      "Epoch [950/5000]: Train loss: 1.2851, Valid loss: 1.0226\n"
     ]
    },
    {
     "name": "stderr",
     "output_type": "stream",
     "text": [
      "Epoch [951/5000]: 100%|███████████████████████████████████████████████████████████████████████████████████████████| 10/10 [00:00<00:00, 220.96it/s, loss=1.28]\n"
     ]
    },
    {
     "name": "stdout",
     "output_type": "stream",
     "text": [
      "Epoch [951/5000]: Train loss: 1.3116, Valid loss: 0.9955\n"
     ]
    },
    {
     "name": "stderr",
     "output_type": "stream",
     "text": [
      "Epoch [952/5000]: 100%|███████████████████████████████████████████████████████████████████████████████████████████| 10/10 [00:00<00:00, 219.52it/s, loss=1.35]\n"
     ]
    },
    {
     "name": "stdout",
     "output_type": "stream",
     "text": [
      "Epoch [952/5000]: Train loss: 1.3054, Valid loss: 1.0176\n"
     ]
    },
    {
     "name": "stderr",
     "output_type": "stream",
     "text": [
      "Epoch [953/5000]: 100%|███████████████████████████████████████████████████████████████████████████████████████████| 10/10 [00:00<00:00, 220.05it/s, loss=1.37]\n"
     ]
    },
    {
     "name": "stdout",
     "output_type": "stream",
     "text": [
      "Epoch [953/5000]: Train loss: 1.2943, Valid loss: 1.0575\n"
     ]
    },
    {
     "name": "stderr",
     "output_type": "stream",
     "text": [
      "Epoch [954/5000]: 100%|███████████████████████████████████████████████████████████████████████████████████████████| 10/10 [00:00<00:00, 220.19it/s, loss=1.37]\n"
     ]
    },
    {
     "name": "stdout",
     "output_type": "stream",
     "text": [
      "Epoch [954/5000]: Train loss: 1.2989, Valid loss: 1.0754\n"
     ]
    },
    {
     "name": "stderr",
     "output_type": "stream",
     "text": [
      "Epoch [955/5000]: 100%|███████████████████████████████████████████████████████████████████████████████████████████| 10/10 [00:00<00:00, 220.43it/s, loss=1.43]\n"
     ]
    },
    {
     "name": "stdout",
     "output_type": "stream",
     "text": [
      "Epoch [955/5000]: Train loss: 1.3201, Valid loss: 1.0394\n"
     ]
    },
    {
     "name": "stderr",
     "output_type": "stream",
     "text": [
      "Epoch [956/5000]: 100%|████████████████████████████████████████████████████████████████████████████████████████████| 10/10 [00:00<00:00, 96.72it/s, loss=1.28]\n"
     ]
    },
    {
     "name": "stdout",
     "output_type": "stream",
     "text": [
      "Epoch [956/5000]: Train loss: 1.2769, Valid loss: 0.9789\n"
     ]
    },
    {
     "name": "stderr",
     "output_type": "stream",
     "text": [
      "Epoch [957/5000]: 100%|███████████████████████████████████████████████████████████████████████████████████████████| 10/10 [00:00<00:00, 220.61it/s, loss=1.28]\n"
     ]
    },
    {
     "name": "stdout",
     "output_type": "stream",
     "text": [
      "Epoch [957/5000]: Train loss: 1.2764, Valid loss: 1.0529\n"
     ]
    },
    {
     "name": "stderr",
     "output_type": "stream",
     "text": [
      "Epoch [958/5000]: 100%|███████████████████████████████████████████████████████████████████████████████████████████| 10/10 [00:00<00:00, 219.98it/s, loss=1.14]\n"
     ]
    },
    {
     "name": "stdout",
     "output_type": "stream",
     "text": [
      "Epoch [958/5000]: Train loss: 1.2957, Valid loss: 0.9943\n"
     ]
    },
    {
     "name": "stderr",
     "output_type": "stream",
     "text": [
      "Epoch [959/5000]: 100%|████████████████████████████████████████████████████████████████████████████████████████████| 10/10 [00:00<00:00, 221.00it/s, loss=1.3]\n"
     ]
    },
    {
     "name": "stdout",
     "output_type": "stream",
     "text": [
      "Epoch [959/5000]: Train loss: 1.2803, Valid loss: 1.0146\n"
     ]
    },
    {
     "name": "stderr",
     "output_type": "stream",
     "text": [
      "Epoch [960/5000]: 100%|███████████████████████████████████████████████████████████████████████████████████████████| 10/10 [00:00<00:00, 220.80it/s, loss=1.29]\n"
     ]
    },
    {
     "name": "stdout",
     "output_type": "stream",
     "text": [
      "Epoch [960/5000]: Train loss: 1.2925, Valid loss: 0.9964\n"
     ]
    },
    {
     "name": "stderr",
     "output_type": "stream",
     "text": [
      "Epoch [961/5000]: 100%|███████████████████████████████████████████████████████████████████████████████████████████| 10/10 [00:00<00:00, 219.87it/s, loss=1.43]\n"
     ]
    },
    {
     "name": "stdout",
     "output_type": "stream",
     "text": [
      "Epoch [961/5000]: Train loss: 1.3030, Valid loss: 0.9730\n"
     ]
    },
    {
     "name": "stderr",
     "output_type": "stream",
     "text": [
      "Epoch [962/5000]: 100%|████████████████████████████████████████████████████████████████████████████████████████████| 10/10 [00:00<00:00, 93.56it/s, loss=1.37]\n"
     ]
    },
    {
     "name": "stdout",
     "output_type": "stream",
     "text": [
      "Epoch [962/5000]: Train loss: 1.3339, Valid loss: 1.0449\n"
     ]
    },
    {
     "name": "stderr",
     "output_type": "stream",
     "text": [
      "Epoch [963/5000]: 100%|████████████████████████████████████████████████████████████████████████████████████████████| 10/10 [00:00<00:00, 220.94it/s, loss=1.3]\n"
     ]
    },
    {
     "name": "stdout",
     "output_type": "stream",
     "text": [
      "Epoch [963/5000]: Train loss: 1.2903, Valid loss: 1.0561\n"
     ]
    },
    {
     "name": "stderr",
     "output_type": "stream",
     "text": [
      "Epoch [964/5000]: 100%|███████████████████████████████████████████████████████████████████████████████████████████| 10/10 [00:00<00:00, 222.80it/s, loss=1.42]\n"
     ]
    },
    {
     "name": "stdout",
     "output_type": "stream",
     "text": [
      "Epoch [964/5000]: Train loss: 1.3048, Valid loss: 1.0584\n"
     ]
    },
    {
     "name": "stderr",
     "output_type": "stream",
     "text": [
      "Epoch [965/5000]: 100%|███████████████████████████████████████████████████████████████████████████████████████████| 10/10 [00:00<00:00, 223.01it/s, loss=1.48]\n"
     ]
    },
    {
     "name": "stdout",
     "output_type": "stream",
     "text": [
      "Epoch [965/5000]: Train loss: 1.3352, Valid loss: 1.0464\n"
     ]
    },
    {
     "name": "stderr",
     "output_type": "stream",
     "text": [
      "Epoch [966/5000]: 100%|███████████████████████████████████████████████████████████████████████████████████████████| 10/10 [00:00<00:00, 219.58it/s, loss=1.32]\n"
     ]
    },
    {
     "name": "stdout",
     "output_type": "stream",
     "text": [
      "Epoch [966/5000]: Train loss: 1.3000, Valid loss: 1.0418\n"
     ]
    },
    {
     "name": "stderr",
     "output_type": "stream",
     "text": [
      "Epoch [967/5000]: 100%|███████████████████████████████████████████████████████████████████████████████████████████| 10/10 [00:00<00:00, 219.27it/s, loss=1.13]\n"
     ]
    },
    {
     "name": "stdout",
     "output_type": "stream",
     "text": [
      "Epoch [967/5000]: Train loss: 1.3016, Valid loss: 0.9990\n"
     ]
    },
    {
     "name": "stderr",
     "output_type": "stream",
     "text": [
      "Epoch [968/5000]: 100%|████████████████████████████████████████████████████████████████████████████████████████████| 10/10 [00:00<00:00, 97.38it/s, loss=1.37]\n"
     ]
    },
    {
     "name": "stdout",
     "output_type": "stream",
     "text": [
      "Epoch [968/5000]: Train loss: 1.3135, Valid loss: 1.0230\n"
     ]
    },
    {
     "name": "stderr",
     "output_type": "stream",
     "text": [
      "Epoch [969/5000]: 100%|███████████████████████████████████████████████████████████████████████████████████████████| 10/10 [00:00<00:00, 222.23it/s, loss=1.43]\n"
     ]
    },
    {
     "name": "stdout",
     "output_type": "stream",
     "text": [
      "Epoch [969/5000]: Train loss: 1.2885, Valid loss: 1.1104\n"
     ]
    },
    {
     "name": "stderr",
     "output_type": "stream",
     "text": [
      "Epoch [970/5000]: 100%|███████████████████████████████████████████████████████████████████████████████████████████| 10/10 [00:00<00:00, 218.31it/s, loss=1.29]\n"
     ]
    },
    {
     "name": "stdout",
     "output_type": "stream",
     "text": [
      "Epoch [970/5000]: Train loss: 1.2992, Valid loss: 1.1012\n"
     ]
    },
    {
     "name": "stderr",
     "output_type": "stream",
     "text": [
      "Epoch [971/5000]: 100%|███████████████████████████████████████████████████████████████████████████████████████████| 10/10 [00:00<00:00, 223.92it/s, loss=1.31]\n"
     ]
    },
    {
     "name": "stdout",
     "output_type": "stream",
     "text": [
      "Epoch [971/5000]: Train loss: 1.2722, Valid loss: 1.0661\n"
     ]
    },
    {
     "name": "stderr",
     "output_type": "stream",
     "text": [
      "Epoch [972/5000]: 100%|███████████████████████████████████████████████████████████████████████████████████████████| 10/10 [00:00<00:00, 223.84it/s, loss=1.42]\n"
     ]
    },
    {
     "name": "stdout",
     "output_type": "stream",
     "text": [
      "Epoch [972/5000]: Train loss: 1.3171, Valid loss: 1.0255\n"
     ]
    },
    {
     "name": "stderr",
     "output_type": "stream",
     "text": [
      "Epoch [973/5000]: 100%|███████████████████████████████████████████████████████████████████████████████████████████| 10/10 [00:00<00:00, 224.23it/s, loss=1.13]\n"
     ]
    },
    {
     "name": "stdout",
     "output_type": "stream",
     "text": [
      "Epoch [973/5000]: Train loss: 1.2958, Valid loss: 1.0530\n"
     ]
    },
    {
     "name": "stderr",
     "output_type": "stream",
     "text": [
      "Epoch [974/5000]: 100%|█████████████████████████████████████████████████████████████████████████████████████████████| 10/10 [00:00<00:00, 97.89it/s, loss=1.3]\n"
     ]
    },
    {
     "name": "stdout",
     "output_type": "stream",
     "text": [
      "Epoch [974/5000]: Train loss: 1.2729, Valid loss: 1.0608\n"
     ]
    },
    {
     "name": "stderr",
     "output_type": "stream",
     "text": [
      "Epoch [975/5000]: 100%|███████████████████████████████████████████████████████████████████████████████████████████| 10/10 [00:00<00:00, 220.79it/s, loss=1.31]\n"
     ]
    },
    {
     "name": "stdout",
     "output_type": "stream",
     "text": [
      "Epoch [975/5000]: Train loss: 1.2917, Valid loss: 1.0190\n"
     ]
    },
    {
     "name": "stderr",
     "output_type": "stream",
     "text": [
      "Epoch [976/5000]: 100%|███████████████████████████████████████████████████████████████████████████████████████████| 10/10 [00:00<00:00, 212.51it/s, loss=1.36]\n"
     ]
    },
    {
     "name": "stdout",
     "output_type": "stream",
     "text": [
      "Epoch [976/5000]: Train loss: 1.2701, Valid loss: 1.0504\n"
     ]
    },
    {
     "name": "stderr",
     "output_type": "stream",
     "text": [
      "Epoch [977/5000]: 100%|██████████████████████████████████████████████████████████████████████████████████████████| 10/10 [00:00<00:00, 220.15it/s, loss=0.997]\n"
     ]
    },
    {
     "name": "stdout",
     "output_type": "stream",
     "text": [
      "Epoch [977/5000]: Train loss: 1.2695, Valid loss: 0.9980\n"
     ]
    },
    {
     "name": "stderr",
     "output_type": "stream",
     "text": [
      "Epoch [978/5000]: 100%|███████████████████████████████████████████████████████████████████████████████████████████| 10/10 [00:00<00:00, 218.40it/s, loss=1.32]\n"
     ]
    },
    {
     "name": "stdout",
     "output_type": "stream",
     "text": [
      "Epoch [978/5000]: Train loss: 1.2953, Valid loss: 1.0103\n"
     ]
    },
    {
     "name": "stderr",
     "output_type": "stream",
     "text": [
      "Epoch [979/5000]: 100%|███████████████████████████████████████████████████████████████████████████████████████████| 10/10 [00:00<00:00, 215.98it/s, loss=1.57]\n"
     ]
    },
    {
     "name": "stdout",
     "output_type": "stream",
     "text": [
      "Epoch [979/5000]: Train loss: 1.2971, Valid loss: 1.0856\n"
     ]
    },
    {
     "name": "stderr",
     "output_type": "stream",
     "text": [
      "Epoch [980/5000]: 100%|████████████████████████████████████████████████████████████████████████████████████████████| 10/10 [00:00<00:00, 96.51it/s, loss=1.39]\n"
     ]
    },
    {
     "name": "stdout",
     "output_type": "stream",
     "text": [
      "Epoch [980/5000]: Train loss: 1.3022, Valid loss: 1.0761\n"
     ]
    },
    {
     "name": "stderr",
     "output_type": "stream",
     "text": [
      "Epoch [981/5000]: 100%|███████████████████████████████████████████████████████████████████████████████████████████| 10/10 [00:00<00:00, 217.27it/s, loss=1.16]\n"
     ]
    },
    {
     "name": "stdout",
     "output_type": "stream",
     "text": [
      "Epoch [981/5000]: Train loss: 1.2762, Valid loss: 1.0366\n"
     ]
    },
    {
     "name": "stderr",
     "output_type": "stream",
     "text": [
      "Epoch [982/5000]: 100%|███████████████████████████████████████████████████████████████████████████████████████████| 10/10 [00:00<00:00, 216.46it/s, loss=1.21]\n"
     ]
    },
    {
     "name": "stdout",
     "output_type": "stream",
     "text": [
      "Epoch [982/5000]: Train loss: 1.3067, Valid loss: 1.1309\n"
     ]
    },
    {
     "name": "stderr",
     "output_type": "stream",
     "text": [
      "Epoch [983/5000]: 100%|███████████████████████████████████████████████████████████████████████████████████████████| 10/10 [00:00<00:00, 223.54it/s, loss=1.39]\n"
     ]
    },
    {
     "name": "stdout",
     "output_type": "stream",
     "text": [
      "Epoch [983/5000]: Train loss: 1.2720, Valid loss: 0.9936\n"
     ]
    },
    {
     "name": "stderr",
     "output_type": "stream",
     "text": [
      "Epoch [984/5000]: 100%|███████████████████████████████████████████████████████████████████████████████████████████| 10/10 [00:00<00:00, 216.21it/s, loss=1.35]\n"
     ]
    },
    {
     "name": "stdout",
     "output_type": "stream",
     "text": [
      "Epoch [984/5000]: Train loss: 1.2868, Valid loss: 1.0053\n"
     ]
    },
    {
     "name": "stderr",
     "output_type": "stream",
     "text": [
      "Epoch [985/5000]: 100%|███████████████████████████████████████████████████████████████████████████████████████████| 10/10 [00:00<00:00, 221.42it/s, loss=1.29]\n"
     ]
    },
    {
     "name": "stdout",
     "output_type": "stream",
     "text": [
      "Epoch [985/5000]: Train loss: 1.2695, Valid loss: 1.0169\n"
     ]
    },
    {
     "name": "stderr",
     "output_type": "stream",
     "text": [
      "Epoch [986/5000]: 100%|████████████████████████████████████████████████████████████████████████████████████████████| 10/10 [00:00<00:00, 97.35it/s, loss=1.44]\n"
     ]
    },
    {
     "name": "stdout",
     "output_type": "stream",
     "text": [
      "Epoch [986/5000]: Train loss: 1.2871, Valid loss: 1.0579\n"
     ]
    },
    {
     "name": "stderr",
     "output_type": "stream",
     "text": [
      "Epoch [987/5000]: 100%|███████████████████████████████████████████████████████████████████████████████████████████| 10/10 [00:00<00:00, 215.00it/s, loss=1.33]\n"
     ]
    },
    {
     "name": "stdout",
     "output_type": "stream",
     "text": [
      "Epoch [987/5000]: Train loss: 1.3017, Valid loss: 1.0314\n"
     ]
    },
    {
     "name": "stderr",
     "output_type": "stream",
     "text": [
      "Epoch [988/5000]: 100%|███████████████████████████████████████████████████████████████████████████████████████████| 10/10 [00:00<00:00, 219.12it/s, loss=1.29]\n"
     ]
    },
    {
     "name": "stdout",
     "output_type": "stream",
     "text": [
      "Epoch [988/5000]: Train loss: 1.2844, Valid loss: 1.0630\n"
     ]
    },
    {
     "name": "stderr",
     "output_type": "stream",
     "text": [
      "Epoch [989/5000]: 100%|████████████████████████████████████████████████████████████████████████████████████████████| 10/10 [00:00<00:00, 223.04it/s, loss=1.2]\n"
     ]
    },
    {
     "name": "stdout",
     "output_type": "stream",
     "text": [
      "Epoch [989/5000]: Train loss: 1.2960, Valid loss: 1.0832\n"
     ]
    },
    {
     "name": "stderr",
     "output_type": "stream",
     "text": [
      "Epoch [990/5000]: 100%|███████████████████████████████████████████████████████████████████████████████████████████| 10/10 [00:00<00:00, 222.20it/s, loss=1.22]\n"
     ]
    },
    {
     "name": "stdout",
     "output_type": "stream",
     "text": [
      "Epoch [990/5000]: Train loss: 1.2931, Valid loss: 1.0829\n"
     ]
    },
    {
     "name": "stderr",
     "output_type": "stream",
     "text": [
      "Epoch [991/5000]: 100%|███████████████████████████████████████████████████████████████████████████████████████████| 10/10 [00:00<00:00, 223.04it/s, loss=1.48]\n"
     ]
    },
    {
     "name": "stdout",
     "output_type": "stream",
     "text": [
      "Epoch [991/5000]: Train loss: 1.3023, Valid loss: 0.9899\n"
     ]
    },
    {
     "name": "stderr",
     "output_type": "stream",
     "text": [
      "Epoch [992/5000]: 100%|████████████████████████████████████████████████████████████████████████████████████████████| 10/10 [00:00<00:00, 97.43it/s, loss=1.26]\n"
     ]
    },
    {
     "name": "stdout",
     "output_type": "stream",
     "text": [
      "Epoch [992/5000]: Train loss: 1.2935, Valid loss: 1.0276\n"
     ]
    },
    {
     "name": "stderr",
     "output_type": "stream",
     "text": [
      "Epoch [993/5000]: 100%|███████████████████████████████████████████████████████████████████████████████████████████| 10/10 [00:00<00:00, 222.16it/s, loss=1.35]\n"
     ]
    },
    {
     "name": "stdout",
     "output_type": "stream",
     "text": [
      "Epoch [993/5000]: Train loss: 1.2947, Valid loss: 1.1326\n"
     ]
    },
    {
     "name": "stderr",
     "output_type": "stream",
     "text": [
      "Epoch [994/5000]: 100%|████████████████████████████████████████████████████████████████████████████████████████████| 10/10 [00:00<00:00, 213.76it/s, loss=1.3]\n"
     ]
    },
    {
     "name": "stdout",
     "output_type": "stream",
     "text": [
      "Epoch [994/5000]: Train loss: 1.3019, Valid loss: 1.0871\n"
     ]
    },
    {
     "name": "stderr",
     "output_type": "stream",
     "text": [
      "Epoch [995/5000]: 100%|███████████████████████████████████████████████████████████████████████████████████████████| 10/10 [00:00<00:00, 220.83it/s, loss=1.15]\n"
     ]
    },
    {
     "name": "stdout",
     "output_type": "stream",
     "text": [
      "Epoch [995/5000]: Train loss: 1.3011, Valid loss: 1.0450\n"
     ]
    },
    {
     "name": "stderr",
     "output_type": "stream",
     "text": [
      "Epoch [996/5000]: 100%|███████████████████████████████████████████████████████████████████████████████████████████| 10/10 [00:00<00:00, 220.69it/s, loss=1.44]\n"
     ]
    },
    {
     "name": "stdout",
     "output_type": "stream",
     "text": [
      "Epoch [996/5000]: Train loss: 1.2934, Valid loss: 1.0421\n"
     ]
    },
    {
     "name": "stderr",
     "output_type": "stream",
     "text": [
      "Epoch [997/5000]: 100%|███████████████████████████████████████████████████████████████████████████████████████████| 10/10 [00:00<00:00, 222.16it/s, loss=1.18]\n"
     ]
    },
    {
     "name": "stdout",
     "output_type": "stream",
     "text": [
      "Epoch [997/5000]: Train loss: 1.2878, Valid loss: 1.0534\n"
     ]
    },
    {
     "name": "stderr",
     "output_type": "stream",
     "text": [
      "Epoch [998/5000]: 100%|████████████████████████████████████████████████████████████████████████████████████████████| 10/10 [00:00<00:00, 96.12it/s, loss=1.13]\n"
     ]
    },
    {
     "name": "stdout",
     "output_type": "stream",
     "text": [
      "Epoch [998/5000]: Train loss: 1.2827, Valid loss: 1.0066\n"
     ]
    },
    {
     "name": "stderr",
     "output_type": "stream",
     "text": [
      "Epoch [999/5000]: 100%|███████████████████████████████████████████████████████████████████████████████████████████| 10/10 [00:00<00:00, 223.13it/s, loss=1.32]\n"
     ]
    },
    {
     "name": "stdout",
     "output_type": "stream",
     "text": [
      "Epoch [999/5000]: Train loss: 1.2794, Valid loss: 1.0733\n"
     ]
    },
    {
     "name": "stderr",
     "output_type": "stream",
     "text": [
      "Epoch [1000/5000]: 100%|██████████████████████████████████████████████████████████████████████████████████████████| 10/10 [00:00<00:00, 213.95it/s, loss=1.19]\n"
     ]
    },
    {
     "name": "stdout",
     "output_type": "stream",
     "text": [
      "Epoch [1000/5000]: Train loss: 1.2747, Valid loss: 0.9862\n"
     ]
    },
    {
     "name": "stderr",
     "output_type": "stream",
     "text": [
      "Epoch [1001/5000]: 100%|██████████████████████████████████████████████████████████████████████████████████████████| 10/10 [00:00<00:00, 217.31it/s, loss=1.38]\n"
     ]
    },
    {
     "name": "stdout",
     "output_type": "stream",
     "text": [
      "Epoch [1001/5000]: Train loss: 1.2868, Valid loss: 0.9840\n"
     ]
    },
    {
     "name": "stderr",
     "output_type": "stream",
     "text": [
      "Epoch [1002/5000]: 100%|██████████████████████████████████████████████████████████████████████████████████████████| 10/10 [00:00<00:00, 216.48it/s, loss=1.26]\n"
     ]
    },
    {
     "name": "stdout",
     "output_type": "stream",
     "text": [
      "Epoch [1002/5000]: Train loss: 1.2801, Valid loss: 1.0849\n"
     ]
    },
    {
     "name": "stderr",
     "output_type": "stream",
     "text": [
      "Epoch [1003/5000]: 100%|██████████████████████████████████████████████████████████████████████████████████████████| 10/10 [00:00<00:00, 222.31it/s, loss=1.41]\n"
     ]
    },
    {
     "name": "stdout",
     "output_type": "stream",
     "text": [
      "Epoch [1003/5000]: Train loss: 1.2974, Valid loss: 1.0007\n"
     ]
    },
    {
     "name": "stderr",
     "output_type": "stream",
     "text": [
      "Epoch [1004/5000]: 100%|███████████████████████████████████████████████████████████████████████████████████████████| 10/10 [00:00<00:00, 98.27it/s, loss=1.32]\n"
     ]
    },
    {
     "name": "stdout",
     "output_type": "stream",
     "text": [
      "Epoch [1004/5000]: Train loss: 1.2811, Valid loss: 1.0509\n"
     ]
    },
    {
     "name": "stderr",
     "output_type": "stream",
     "text": [
      "Epoch [1005/5000]: 100%|██████████████████████████████████████████████████████████████████████████████████████████| 10/10 [00:00<00:00, 217.51it/s, loss=1.38]\n"
     ]
    },
    {
     "name": "stdout",
     "output_type": "stream",
     "text": [
      "Epoch [1005/5000]: Train loss: 1.2874, Valid loss: 1.0319\n"
     ]
    },
    {
     "name": "stderr",
     "output_type": "stream",
     "text": [
      "Epoch [1006/5000]: 100%|██████████████████████████████████████████████████████████████████████████████████████████| 10/10 [00:00<00:00, 221.47it/s, loss=1.28]\n"
     ]
    },
    {
     "name": "stdout",
     "output_type": "stream",
     "text": [
      "Epoch [1006/5000]: Train loss: 1.2669, Valid loss: 1.0239\n"
     ]
    },
    {
     "name": "stderr",
     "output_type": "stream",
     "text": [
      "Epoch [1007/5000]: 100%|██████████████████████████████████████████████████████████████████████████████████████████| 10/10 [00:00<00:00, 223.85it/s, loss=1.29]\n"
     ]
    },
    {
     "name": "stdout",
     "output_type": "stream",
     "text": [
      "Epoch [1007/5000]: Train loss: 1.3029, Valid loss: 1.0146\n"
     ]
    },
    {
     "name": "stderr",
     "output_type": "stream",
     "text": [
      "Epoch [1008/5000]: 100%|██████████████████████████████████████████████████████████████████████████████████████████| 10/10 [00:00<00:00, 214.51it/s, loss=1.53]\n"
     ]
    },
    {
     "name": "stdout",
     "output_type": "stream",
     "text": [
      "Epoch [1008/5000]: Train loss: 1.3124, Valid loss: 1.0412\n"
     ]
    },
    {
     "name": "stderr",
     "output_type": "stream",
     "text": [
      "Epoch [1009/5000]: 100%|██████████████████████████████████████████████████████████████████████████████████████████| 10/10 [00:00<00:00, 217.61it/s, loss=1.42]\n"
     ]
    },
    {
     "name": "stdout",
     "output_type": "stream",
     "text": [
      "Epoch [1009/5000]: Train loss: 1.3187, Valid loss: 1.0100\n"
     ]
    },
    {
     "name": "stderr",
     "output_type": "stream",
     "text": [
      "Epoch [1010/5000]: 100%|███████████████████████████████████████████████████████████████████████████████████████████| 10/10 [00:00<00:00, 97.69it/s, loss=1.22]\n"
     ]
    },
    {
     "name": "stdout",
     "output_type": "stream",
     "text": [
      "Epoch [1010/5000]: Train loss: 1.2968, Valid loss: 1.0312\n"
     ]
    },
    {
     "name": "stderr",
     "output_type": "stream",
     "text": [
      "Epoch [1011/5000]: 100%|███████████████████████████████████████████████████████████████████████████████████████████| 10/10 [00:00<00:00, 221.62it/s, loss=1.2]\n"
     ]
    },
    {
     "name": "stdout",
     "output_type": "stream",
     "text": [
      "Epoch [1011/5000]: Train loss: 1.2700, Valid loss: 1.0596\n"
     ]
    },
    {
     "name": "stderr",
     "output_type": "stream",
     "text": [
      "Epoch [1012/5000]: 100%|███████████████████████████████████████████████████████████████████████████████████████████| 10/10 [00:00<00:00, 222.12it/s, loss=1.3]\n"
     ]
    },
    {
     "name": "stdout",
     "output_type": "stream",
     "text": [
      "Epoch [1012/5000]: Train loss: 1.3145, Valid loss: 1.0875\n"
     ]
    },
    {
     "name": "stderr",
     "output_type": "stream",
     "text": [
      "Epoch [1013/5000]: 100%|██████████████████████████████████████████████████████████████████████████████████████████| 10/10 [00:00<00:00, 219.94it/s, loss=1.33]\n"
     ]
    },
    {
     "name": "stdout",
     "output_type": "stream",
     "text": [
      "Epoch [1013/5000]: Train loss: 1.2748, Valid loss: 1.0627\n"
     ]
    },
    {
     "name": "stderr",
     "output_type": "stream",
     "text": [
      "Epoch [1014/5000]: 100%|██████████████████████████████████████████████████████████████████████████████████████████| 10/10 [00:00<00:00, 218.44it/s, loss=1.39]\n"
     ]
    },
    {
     "name": "stdout",
     "output_type": "stream",
     "text": [
      "Epoch [1014/5000]: Train loss: 1.2840, Valid loss: 1.0248\n"
     ]
    },
    {
     "name": "stderr",
     "output_type": "stream",
     "text": [
      "Epoch [1015/5000]: 100%|██████████████████████████████████████████████████████████████████████████████████████████| 10/10 [00:00<00:00, 223.27it/s, loss=1.27]\n"
     ]
    },
    {
     "name": "stdout",
     "output_type": "stream",
     "text": [
      "Epoch [1015/5000]: Train loss: 1.3109, Valid loss: 1.0743\n"
     ]
    },
    {
     "name": "stderr",
     "output_type": "stream",
     "text": [
      "Epoch [1016/5000]: 100%|███████████████████████████████████████████████████████████████████████████████████████████| 10/10 [00:00<00:00, 97.02it/s, loss=1.32]\n"
     ]
    },
    {
     "name": "stdout",
     "output_type": "stream",
     "text": [
      "Epoch [1016/5000]: Train loss: 1.3111, Valid loss: 0.9954\n"
     ]
    },
    {
     "name": "stderr",
     "output_type": "stream",
     "text": [
      "Epoch [1017/5000]: 100%|██████████████████████████████████████████████████████████████████████████████████████████| 10/10 [00:00<00:00, 222.85it/s, loss=1.26]\n"
     ]
    },
    {
     "name": "stdout",
     "output_type": "stream",
     "text": [
      "Epoch [1017/5000]: Train loss: 1.3020, Valid loss: 1.0531\n"
     ]
    },
    {
     "name": "stderr",
     "output_type": "stream",
     "text": [
      "Epoch [1018/5000]: 100%|██████████████████████████████████████████████████████████████████████████████████████████| 10/10 [00:00<00:00, 221.42it/s, loss=1.45]\n"
     ]
    },
    {
     "name": "stdout",
     "output_type": "stream",
     "text": [
      "Epoch [1018/5000]: Train loss: 1.2905, Valid loss: 1.0376\n"
     ]
    },
    {
     "name": "stderr",
     "output_type": "stream",
     "text": [
      "Epoch [1019/5000]: 100%|██████████████████████████████████████████████████████████████████████████████████████████| 10/10 [00:00<00:00, 217.41it/s, loss=1.24]\n"
     ]
    },
    {
     "name": "stdout",
     "output_type": "stream",
     "text": [
      "Epoch [1019/5000]: Train loss: 1.2754, Valid loss: 1.0859\n"
     ]
    },
    {
     "name": "stderr",
     "output_type": "stream",
     "text": [
      "Epoch [1020/5000]: 100%|███████████████████████████████████████████████████████████████████████████████████████████| 10/10 [00:00<00:00, 215.88it/s, loss=1.5]\n"
     ]
    },
    {
     "name": "stdout",
     "output_type": "stream",
     "text": [
      "Epoch [1020/5000]: Train loss: 1.3045, Valid loss: 1.0352\n"
     ]
    },
    {
     "name": "stderr",
     "output_type": "stream",
     "text": [
      "Epoch [1021/5000]: 100%|██████████████████████████████████████████████████████████████████████████████████████████| 10/10 [00:00<00:00, 219.71it/s, loss=1.25]\n"
     ]
    },
    {
     "name": "stdout",
     "output_type": "stream",
     "text": [
      "Epoch [1021/5000]: Train loss: 1.2612, Valid loss: 1.0520\n"
     ]
    },
    {
     "name": "stderr",
     "output_type": "stream",
     "text": [
      "Epoch [1022/5000]: 100%|███████████████████████████████████████████████████████████████████████████████████████████| 10/10 [00:00<00:00, 97.66it/s, loss=1.23]\n"
     ]
    },
    {
     "name": "stdout",
     "output_type": "stream",
     "text": [
      "Epoch [1022/5000]: Train loss: 1.2841, Valid loss: 1.0074\n"
     ]
    },
    {
     "name": "stderr",
     "output_type": "stream",
     "text": [
      "Epoch [1023/5000]: 100%|██████████████████████████████████████████████████████████████████████████████████████████| 10/10 [00:00<00:00, 221.85it/s, loss=1.23]\n"
     ]
    },
    {
     "name": "stdout",
     "output_type": "stream",
     "text": [
      "Epoch [1023/5000]: Train loss: 1.2798, Valid loss: 1.0317\n"
     ]
    },
    {
     "name": "stderr",
     "output_type": "stream",
     "text": [
      "Epoch [1024/5000]: 100%|██████████████████████████████████████████████████████████████████████████████████████████| 10/10 [00:00<00:00, 215.38it/s, loss=1.41]\n"
     ]
    },
    {
     "name": "stdout",
     "output_type": "stream",
     "text": [
      "Epoch [1024/5000]: Train loss: 1.2912, Valid loss: 1.0679\n"
     ]
    },
    {
     "name": "stderr",
     "output_type": "stream",
     "text": [
      "Epoch [1025/5000]: 100%|███████████████████████████████████████████████████████████████████████████████████████████| 10/10 [00:00<00:00, 220.55it/s, loss=1.3]\n"
     ]
    },
    {
     "name": "stdout",
     "output_type": "stream",
     "text": [
      "Epoch [1025/5000]: Train loss: 1.2793, Valid loss: 1.0320\n"
     ]
    },
    {
     "name": "stderr",
     "output_type": "stream",
     "text": [
      "Epoch [1026/5000]: 100%|██████████████████████████████████████████████████████████████████████████████████████████| 10/10 [00:00<00:00, 221.72it/s, loss=1.16]\n"
     ]
    },
    {
     "name": "stdout",
     "output_type": "stream",
     "text": [
      "Epoch [1026/5000]: Train loss: 1.2723, Valid loss: 1.0908\n"
     ]
    },
    {
     "name": "stderr",
     "output_type": "stream",
     "text": [
      "Epoch [1027/5000]: 100%|██████████████████████████████████████████████████████████████████████████████████████████| 10/10 [00:00<00:00, 221.46it/s, loss=1.67]\n"
     ]
    },
    {
     "name": "stdout",
     "output_type": "stream",
     "text": [
      "Epoch [1027/5000]: Train loss: 1.2888, Valid loss: 1.0435\n"
     ]
    },
    {
     "name": "stderr",
     "output_type": "stream",
     "text": [
      "Epoch [1028/5000]: 100%|███████████████████████████████████████████████████████████████████████████████████████████| 10/10 [00:00<00:00, 97.56it/s, loss=1.39]\n"
     ]
    },
    {
     "name": "stdout",
     "output_type": "stream",
     "text": [
      "Epoch [1028/5000]: Train loss: 1.2987, Valid loss: 1.0716\n"
     ]
    },
    {
     "name": "stderr",
     "output_type": "stream",
     "text": [
      "Epoch [1029/5000]: 100%|██████████████████████████████████████████████████████████████████████████████████████████| 10/10 [00:00<00:00, 221.09it/s, loss=1.39]\n"
     ]
    },
    {
     "name": "stdout",
     "output_type": "stream",
     "text": [
      "Epoch [1029/5000]: Train loss: 1.2984, Valid loss: 1.0806\n"
     ]
    },
    {
     "name": "stderr",
     "output_type": "stream",
     "text": [
      "Epoch [1030/5000]: 100%|██████████████████████████████████████████████████████████████████████████████████████████| 10/10 [00:00<00:00, 214.25it/s, loss=1.11]\n"
     ]
    },
    {
     "name": "stdout",
     "output_type": "stream",
     "text": [
      "Epoch [1030/5000]: Train loss: 1.2595, Valid loss: 1.0263\n"
     ]
    },
    {
     "name": "stderr",
     "output_type": "stream",
     "text": [
      "Epoch [1031/5000]: 100%|██████████████████████████████████████████████████████████████████████████████████████████| 10/10 [00:00<00:00, 222.26it/s, loss=1.73]\n"
     ]
    },
    {
     "name": "stdout",
     "output_type": "stream",
     "text": [
      "Epoch [1031/5000]: Train loss: 1.3087, Valid loss: 1.0163\n"
     ]
    },
    {
     "name": "stderr",
     "output_type": "stream",
     "text": [
      "Epoch [1032/5000]: 100%|██████████████████████████████████████████████████████████████████████████████████████████| 10/10 [00:00<00:00, 217.67it/s, loss=1.21]\n"
     ]
    },
    {
     "name": "stdout",
     "output_type": "stream",
     "text": [
      "Epoch [1032/5000]: Train loss: 1.2839, Valid loss: 1.0429\n"
     ]
    },
    {
     "name": "stderr",
     "output_type": "stream",
     "text": [
      "Epoch [1033/5000]: 100%|██████████████████████████████████████████████████████████████████████████████████████████| 10/10 [00:00<00:00, 221.84it/s, loss=1.27]\n"
     ]
    },
    {
     "name": "stdout",
     "output_type": "stream",
     "text": [
      "Epoch [1033/5000]: Train loss: 1.2846, Valid loss: 1.0099\n"
     ]
    },
    {
     "name": "stderr",
     "output_type": "stream",
     "text": [
      "Epoch [1034/5000]: 100%|███████████████████████████████████████████████████████████████████████████████████████████| 10/10 [00:00<00:00, 96.96it/s, loss=1.19]\n"
     ]
    },
    {
     "name": "stdout",
     "output_type": "stream",
     "text": [
      "Epoch [1034/5000]: Train loss: 1.3032, Valid loss: 1.1137\n"
     ]
    },
    {
     "name": "stderr",
     "output_type": "stream",
     "text": [
      "Epoch [1035/5000]: 100%|██████████████████████████████████████████████████████████████████████████████████████████| 10/10 [00:00<00:00, 217.35it/s, loss=1.14]\n"
     ]
    },
    {
     "name": "stdout",
     "output_type": "stream",
     "text": [
      "Epoch [1035/5000]: Train loss: 1.2777, Valid loss: 1.0130\n"
     ]
    },
    {
     "name": "stderr",
     "output_type": "stream",
     "text": [
      "Epoch [1036/5000]: 100%|██████████████████████████████████████████████████████████████████████████████████████████| 10/10 [00:00<00:00, 216.59it/s, loss=1.16]\n"
     ]
    },
    {
     "name": "stdout",
     "output_type": "stream",
     "text": [
      "Epoch [1036/5000]: Train loss: 1.2721, Valid loss: 1.0470\n"
     ]
    },
    {
     "name": "stderr",
     "output_type": "stream",
     "text": [
      "Epoch [1037/5000]: 100%|██████████████████████████████████████████████████████████████████████████████████████████| 10/10 [00:00<00:00, 222.97it/s, loss=1.45]\n"
     ]
    },
    {
     "name": "stdout",
     "output_type": "stream",
     "text": [
      "Epoch [1037/5000]: Train loss: 1.3234, Valid loss: 1.0345\n"
     ]
    },
    {
     "name": "stderr",
     "output_type": "stream",
     "text": [
      "Epoch [1038/5000]: 100%|██████████████████████████████████████████████████████████████████████████████████████████| 10/10 [00:00<00:00, 219.68it/s, loss=1.21]\n"
     ]
    },
    {
     "name": "stdout",
     "output_type": "stream",
     "text": [
      "Epoch [1038/5000]: Train loss: 1.2946, Valid loss: 1.0374\n"
     ]
    },
    {
     "name": "stderr",
     "output_type": "stream",
     "text": [
      "Epoch [1039/5000]: 100%|██████████████████████████████████████████████████████████████████████████████████████████| 10/10 [00:00<00:00, 215.66it/s, loss=1.22]\n"
     ]
    },
    {
     "name": "stdout",
     "output_type": "stream",
     "text": [
      "Epoch [1039/5000]: Train loss: 1.2827, Valid loss: 1.0342\n"
     ]
    },
    {
     "name": "stderr",
     "output_type": "stream",
     "text": [
      "Epoch [1040/5000]: 100%|███████████████████████████████████████████████████████████████████████████████████████████| 10/10 [00:00<00:00, 97.44it/s, loss=1.28]\n"
     ]
    },
    {
     "name": "stdout",
     "output_type": "stream",
     "text": [
      "Epoch [1040/5000]: Train loss: 1.3093, Valid loss: 1.0305\n"
     ]
    },
    {
     "name": "stderr",
     "output_type": "stream",
     "text": [
      "Epoch [1041/5000]: 100%|██████████████████████████████████████████████████████████████████████████████████████████| 10/10 [00:00<00:00, 217.52it/s, loss=1.36]\n"
     ]
    },
    {
     "name": "stdout",
     "output_type": "stream",
     "text": [
      "Epoch [1041/5000]: Train loss: 1.2928, Valid loss: 1.0524\n"
     ]
    },
    {
     "name": "stderr",
     "output_type": "stream",
     "text": [
      "Epoch [1042/5000]: 100%|██████████████████████████████████████████████████████████████████████████████████████████| 10/10 [00:00<00:00, 220.93it/s, loss=1.11]\n"
     ]
    },
    {
     "name": "stdout",
     "output_type": "stream",
     "text": [
      "Epoch [1042/5000]: Train loss: 1.2778, Valid loss: 1.0218\n"
     ]
    },
    {
     "name": "stderr",
     "output_type": "stream",
     "text": [
      "Epoch [1043/5000]: 100%|██████████████████████████████████████████████████████████████████████████████████████████| 10/10 [00:00<00:00, 223.22it/s, loss=1.53]\n"
     ]
    },
    {
     "name": "stdout",
     "output_type": "stream",
     "text": [
      "Epoch [1043/5000]: Train loss: 1.2767, Valid loss: 1.0182\n"
     ]
    },
    {
     "name": "stderr",
     "output_type": "stream",
     "text": [
      "Epoch [1044/5000]: 100%|██████████████████████████████████████████████████████████████████████████████████████████| 10/10 [00:00<00:00, 216.63it/s, loss=1.12]\n"
     ]
    },
    {
     "name": "stdout",
     "output_type": "stream",
     "text": [
      "Epoch [1044/5000]: Train loss: 1.2752, Valid loss: 1.0323\n"
     ]
    },
    {
     "name": "stderr",
     "output_type": "stream",
     "text": [
      "Epoch [1045/5000]: 100%|██████████████████████████████████████████████████████████████████████████████████████████| 10/10 [00:00<00:00, 216.80it/s, loss=1.28]\n"
     ]
    },
    {
     "name": "stdout",
     "output_type": "stream",
     "text": [
      "Epoch [1045/5000]: Train loss: 1.3263, Valid loss: 1.0931\n"
     ]
    },
    {
     "name": "stderr",
     "output_type": "stream",
     "text": [
      "Epoch [1046/5000]: 100%|███████████████████████████████████████████████████████████████████████████████████████████| 10/10 [00:00<00:00, 97.52it/s, loss=1.46]\n"
     ]
    },
    {
     "name": "stdout",
     "output_type": "stream",
     "text": [
      "Epoch [1046/5000]: Train loss: 1.3356, Valid loss: 1.0207\n"
     ]
    },
    {
     "name": "stderr",
     "output_type": "stream",
     "text": [
      "Epoch [1047/5000]: 100%|██████████████████████████████████████████████████████████████████████████████████████████| 10/10 [00:00<00:00, 219.51it/s, loss=1.61]\n"
     ]
    },
    {
     "name": "stdout",
     "output_type": "stream",
     "text": [
      "Epoch [1047/5000]: Train loss: 1.3294, Valid loss: 1.1283\n"
     ]
    },
    {
     "name": "stderr",
     "output_type": "stream",
     "text": [
      "Epoch [1048/5000]: 100%|██████████████████████████████████████████████████████████████████████████████████████████| 10/10 [00:00<00:00, 217.89it/s, loss=1.26]\n"
     ]
    },
    {
     "name": "stdout",
     "output_type": "stream",
     "text": [
      "Epoch [1048/5000]: Train loss: 1.3052, Valid loss: 1.0605\n"
     ]
    },
    {
     "name": "stderr",
     "output_type": "stream",
     "text": [
      "Epoch [1049/5000]: 100%|██████████████████████████████████████████████████████████████████████████████████████████| 10/10 [00:00<00:00, 219.66it/s, loss=1.41]\n"
     ]
    },
    {
     "name": "stdout",
     "output_type": "stream",
     "text": [
      "Epoch [1049/5000]: Train loss: 1.2926, Valid loss: 1.0539\n"
     ]
    },
    {
     "name": "stderr",
     "output_type": "stream",
     "text": [
      "Epoch [1050/5000]: 100%|██████████████████████████████████████████████████████████████████████████████████████████| 10/10 [00:00<00:00, 218.33it/s, loss=1.45]\n"
     ]
    },
    {
     "name": "stdout",
     "output_type": "stream",
     "text": [
      "Epoch [1050/5000]: Train loss: 1.3013, Valid loss: 0.9919\n"
     ]
    },
    {
     "name": "stderr",
     "output_type": "stream",
     "text": [
      "Epoch [1051/5000]: 100%|██████████████████████████████████████████████████████████████████████████████████████████| 10/10 [00:00<00:00, 219.46it/s, loss=1.16]\n"
     ]
    },
    {
     "name": "stdout",
     "output_type": "stream",
     "text": [
      "Epoch [1051/5000]: Train loss: 1.2815, Valid loss: 1.0428\n"
     ]
    },
    {
     "name": "stderr",
     "output_type": "stream",
     "text": [
      "Epoch [1052/5000]: 100%|███████████████████████████████████████████████████████████████████████████████████████████| 10/10 [00:00<00:00, 97.14it/s, loss=1.24]\n"
     ]
    },
    {
     "name": "stdout",
     "output_type": "stream",
     "text": [
      "Epoch [1052/5000]: Train loss: 1.2990, Valid loss: 1.0047\n"
     ]
    },
    {
     "name": "stderr",
     "output_type": "stream",
     "text": [
      "Epoch [1053/5000]: 100%|██████████████████████████████████████████████████████████████████████████████████████████| 10/10 [00:00<00:00, 218.89it/s, loss=1.47]\n"
     ]
    },
    {
     "name": "stdout",
     "output_type": "stream",
     "text": [
      "Epoch [1053/5000]: Train loss: 1.2918, Valid loss: 1.0609\n"
     ]
    },
    {
     "name": "stderr",
     "output_type": "stream",
     "text": [
      "Epoch [1054/5000]: 100%|██████████████████████████████████████████████████████████████████████████████████████████| 10/10 [00:00<00:00, 218.07it/s, loss=1.27]\n"
     ]
    },
    {
     "name": "stdout",
     "output_type": "stream",
     "text": [
      "Epoch [1054/5000]: Train loss: 1.2853, Valid loss: 1.0968\n"
     ]
    },
    {
     "name": "stderr",
     "output_type": "stream",
     "text": [
      "Epoch [1055/5000]: 100%|██████████████████████████████████████████████████████████████████████████████████████████| 10/10 [00:00<00:00, 220.31it/s, loss=1.22]\n"
     ]
    },
    {
     "name": "stdout",
     "output_type": "stream",
     "text": [
      "Epoch [1055/5000]: Train loss: 1.3002, Valid loss: 0.9876\n"
     ]
    },
    {
     "name": "stderr",
     "output_type": "stream",
     "text": [
      "Epoch [1056/5000]: 100%|██████████████████████████████████████████████████████████████████████████████████████████| 10/10 [00:00<00:00, 218.34it/s, loss=1.14]\n"
     ]
    },
    {
     "name": "stdout",
     "output_type": "stream",
     "text": [
      "Epoch [1056/5000]: Train loss: 1.2868, Valid loss: 1.0467\n"
     ]
    },
    {
     "name": "stderr",
     "output_type": "stream",
     "text": [
      "Epoch [1057/5000]: 100%|██████████████████████████████████████████████████████████████████████████████████████████| 10/10 [00:00<00:00, 219.20it/s, loss=1.08]\n"
     ]
    },
    {
     "name": "stdout",
     "output_type": "stream",
     "text": [
      "Epoch [1057/5000]: Train loss: 1.2539, Valid loss: 1.0016\n"
     ]
    },
    {
     "name": "stderr",
     "output_type": "stream",
     "text": [
      "Epoch [1058/5000]: 100%|███████████████████████████████████████████████████████████████████████████████████████████| 10/10 [00:00<00:00, 97.11it/s, loss=1.16]\n"
     ]
    },
    {
     "name": "stdout",
     "output_type": "stream",
     "text": [
      "Epoch [1058/5000]: Train loss: 1.2714, Valid loss: 1.0463\n"
     ]
    },
    {
     "name": "stderr",
     "output_type": "stream",
     "text": [
      "Epoch [1059/5000]: 100%|███████████████████████████████████████████████████████████████████████████████████████████| 10/10 [00:00<00:00, 220.03it/s, loss=1.1]\n"
     ]
    },
    {
     "name": "stdout",
     "output_type": "stream",
     "text": [
      "Epoch [1059/5000]: Train loss: 1.2792, Valid loss: 1.0836\n"
     ]
    },
    {
     "name": "stderr",
     "output_type": "stream",
     "text": [
      "Epoch [1060/5000]: 100%|██████████████████████████████████████████████████████████████████████████████████████████| 10/10 [00:00<00:00, 219.50it/s, loss=1.26]\n"
     ]
    },
    {
     "name": "stdout",
     "output_type": "stream",
     "text": [
      "Epoch [1060/5000]: Train loss: 1.2776, Valid loss: 1.0498\n"
     ]
    },
    {
     "name": "stderr",
     "output_type": "stream",
     "text": [
      "Epoch [1061/5000]: 100%|██████████████████████████████████████████████████████████████████████████████████████████| 10/10 [00:00<00:00, 218.03it/s, loss=1.19]\n"
     ]
    },
    {
     "name": "stdout",
     "output_type": "stream",
     "text": [
      "Epoch [1061/5000]: Train loss: 1.2708, Valid loss: 1.1482\n"
     ]
    },
    {
     "name": "stderr",
     "output_type": "stream",
     "text": [
      "Epoch [1062/5000]: 100%|██████████████████████████████████████████████████████████████████████████████████████████| 10/10 [00:00<00:00, 217.98it/s, loss=1.44]\n"
     ]
    },
    {
     "name": "stdout",
     "output_type": "stream",
     "text": [
      "Epoch [1062/5000]: Train loss: 1.2932, Valid loss: 1.0224\n"
     ]
    },
    {
     "name": "stderr",
     "output_type": "stream",
     "text": [
      "Epoch [1063/5000]: 100%|██████████████████████████████████████████████████████████████████████████████████████████| 10/10 [00:00<00:00, 214.05it/s, loss=1.36]\n"
     ]
    },
    {
     "name": "stdout",
     "output_type": "stream",
     "text": [
      "Epoch [1063/5000]: Train loss: 1.2791, Valid loss: 1.0286\n"
     ]
    },
    {
     "name": "stderr",
     "output_type": "stream",
     "text": [
      "Epoch [1064/5000]: 100%|███████████████████████████████████████████████████████████████████████████████████████████| 10/10 [00:00<00:00, 94.34it/s, loss=1.43]\n"
     ]
    },
    {
     "name": "stdout",
     "output_type": "stream",
     "text": [
      "Epoch [1064/5000]: Train loss: 1.3016, Valid loss: 1.0394\n"
     ]
    },
    {
     "name": "stderr",
     "output_type": "stream",
     "text": [
      "Epoch [1065/5000]: 100%|██████████████████████████████████████████████████████████████████████████████████████████| 10/10 [00:00<00:00, 218.33it/s, loss=1.26]\n"
     ]
    },
    {
     "name": "stdout",
     "output_type": "stream",
     "text": [
      "Epoch [1065/5000]: Train loss: 1.2754, Valid loss: 1.0160\n"
     ]
    },
    {
     "name": "stderr",
     "output_type": "stream",
     "text": [
      "Epoch [1066/5000]: 100%|██████████████████████████████████████████████████████████████████████████████████████████| 10/10 [00:00<00:00, 219.15it/s, loss=1.31]\n"
     ]
    },
    {
     "name": "stdout",
     "output_type": "stream",
     "text": [
      "Epoch [1066/5000]: Train loss: 1.2916, Valid loss: 1.0452\n"
     ]
    },
    {
     "name": "stderr",
     "output_type": "stream",
     "text": [
      "Epoch [1067/5000]: 100%|██████████████████████████████████████████████████████████████████████████████████████████| 10/10 [00:00<00:00, 219.82it/s, loss=1.23]\n"
     ]
    },
    {
     "name": "stdout",
     "output_type": "stream",
     "text": [
      "Epoch [1067/5000]: Train loss: 1.2669, Valid loss: 1.0104\n"
     ]
    },
    {
     "name": "stderr",
     "output_type": "stream",
     "text": [
      "Epoch [1068/5000]: 100%|██████████████████████████████████████████████████████████████████████████████████████████| 10/10 [00:00<00:00, 219.41it/s, loss=1.38]\n"
     ]
    },
    {
     "name": "stdout",
     "output_type": "stream",
     "text": [
      "Epoch [1068/5000]: Train loss: 1.3026, Valid loss: 1.0728\n"
     ]
    },
    {
     "name": "stderr",
     "output_type": "stream",
     "text": [
      "Epoch [1069/5000]: 100%|██████████████████████████████████████████████████████████████████████████████████████████| 10/10 [00:00<00:00, 218.76it/s, loss=1.28]\n"
     ]
    },
    {
     "name": "stdout",
     "output_type": "stream",
     "text": [
      "Epoch [1069/5000]: Train loss: 1.2923, Valid loss: 1.0317\n"
     ]
    },
    {
     "name": "stderr",
     "output_type": "stream",
     "text": [
      "Epoch [1070/5000]: 100%|███████████████████████████████████████████████████████████████████████████████████████████| 10/10 [00:00<00:00, 96.79it/s, loss=1.08]\n"
     ]
    },
    {
     "name": "stdout",
     "output_type": "stream",
     "text": [
      "Epoch [1070/5000]: Train loss: 1.2661, Valid loss: 0.9832\n"
     ]
    },
    {
     "name": "stderr",
     "output_type": "stream",
     "text": [
      "Epoch [1071/5000]: 100%|██████████████████████████████████████████████████████████████████████████████████████████| 10/10 [00:00<00:00, 218.77it/s, loss=1.34]\n"
     ]
    },
    {
     "name": "stdout",
     "output_type": "stream",
     "text": [
      "Epoch [1071/5000]: Train loss: 1.2870, Valid loss: 1.0241\n"
     ]
    },
    {
     "name": "stderr",
     "output_type": "stream",
     "text": [
      "Epoch [1072/5000]: 100%|██████████████████████████████████████████████████████████████████████████████████████████| 10/10 [00:00<00:00, 218.41it/s, loss=1.32]\n"
     ]
    },
    {
     "name": "stdout",
     "output_type": "stream",
     "text": [
      "Epoch [1072/5000]: Train loss: 1.2758, Valid loss: 1.0081\n"
     ]
    },
    {
     "name": "stderr",
     "output_type": "stream",
     "text": [
      "Epoch [1073/5000]: 100%|██████████████████████████████████████████████████████████████████████████████████████████| 10/10 [00:00<00:00, 219.98it/s, loss=1.17]\n"
     ]
    },
    {
     "name": "stdout",
     "output_type": "stream",
     "text": [
      "Epoch [1073/5000]: Train loss: 1.2713, Valid loss: 1.0362\n"
     ]
    },
    {
     "name": "stderr",
     "output_type": "stream",
     "text": [
      "Epoch [1074/5000]: 100%|███████████████████████████████████████████████████████████████████████████████████████████| 10/10 [00:00<00:00, 219.68it/s, loss=1.3]\n"
     ]
    },
    {
     "name": "stdout",
     "output_type": "stream",
     "text": [
      "Epoch [1074/5000]: Train loss: 1.3237, Valid loss: 1.0397\n"
     ]
    },
    {
     "name": "stderr",
     "output_type": "stream",
     "text": [
      "Epoch [1075/5000]: 100%|██████████████████████████████████████████████████████████████████████████████████████████| 10/10 [00:00<00:00, 218.28it/s, loss=1.45]\n"
     ]
    },
    {
     "name": "stdout",
     "output_type": "stream",
     "text": [
      "Epoch [1075/5000]: Train loss: 1.2882, Valid loss: 1.0426\n"
     ]
    },
    {
     "name": "stderr",
     "output_type": "stream",
     "text": [
      "Epoch [1076/5000]: 100%|███████████████████████████████████████████████████████████████████████████████████████████| 10/10 [00:00<00:00, 96.40it/s, loss=1.44]\n"
     ]
    },
    {
     "name": "stdout",
     "output_type": "stream",
     "text": [
      "Epoch [1076/5000]: Train loss: 1.2977, Valid loss: 1.0186\n"
     ]
    },
    {
     "name": "stderr",
     "output_type": "stream",
     "text": [
      "Epoch [1077/5000]: 100%|███████████████████████████████████████████████████████████████████████████████████████████| 10/10 [00:00<00:00, 218.47it/s, loss=1.2]\n"
     ]
    },
    {
     "name": "stdout",
     "output_type": "stream",
     "text": [
      "Epoch [1077/5000]: Train loss: 1.2602, Valid loss: 1.0382\n"
     ]
    },
    {
     "name": "stderr",
     "output_type": "stream",
     "text": [
      "Epoch [1078/5000]: 100%|██████████████████████████████████████████████████████████████████████████████████████████| 10/10 [00:00<00:00, 217.76it/s, loss=1.56]\n"
     ]
    },
    {
     "name": "stdout",
     "output_type": "stream",
     "text": [
      "Epoch [1078/5000]: Train loss: 1.3021, Valid loss: 1.0799\n"
     ]
    },
    {
     "name": "stderr",
     "output_type": "stream",
     "text": [
      "Epoch [1079/5000]: 100%|██████████████████████████████████████████████████████████████████████████████████████████| 10/10 [00:00<00:00, 219.05it/s, loss=1.25]\n"
     ]
    },
    {
     "name": "stdout",
     "output_type": "stream",
     "text": [
      "Epoch [1079/5000]: Train loss: 1.3070, Valid loss: 1.0854\n"
     ]
    },
    {
     "name": "stderr",
     "output_type": "stream",
     "text": [
      "Epoch [1080/5000]: 100%|██████████████████████████████████████████████████████████████████████████████████████████| 10/10 [00:00<00:00, 219.02it/s, loss=1.27]\n"
     ]
    },
    {
     "name": "stdout",
     "output_type": "stream",
     "text": [
      "Epoch [1080/5000]: Train loss: 1.2696, Valid loss: 1.0495\n"
     ]
    },
    {
     "name": "stderr",
     "output_type": "stream",
     "text": [
      "Epoch [1081/5000]: 100%|██████████████████████████████████████████████████████████████████████████████████████████| 10/10 [00:00<00:00, 218.95it/s, loss=1.21]\n"
     ]
    },
    {
     "name": "stdout",
     "output_type": "stream",
     "text": [
      "Epoch [1081/5000]: Train loss: 1.2622, Valid loss: 1.0485\n"
     ]
    },
    {
     "name": "stderr",
     "output_type": "stream",
     "text": [
      "Epoch [1082/5000]: 100%|███████████████████████████████████████████████████████████████████████████████████████████| 10/10 [00:00<00:00, 96.34it/s, loss=1.28]\n"
     ]
    },
    {
     "name": "stdout",
     "output_type": "stream",
     "text": [
      "Epoch [1082/5000]: Train loss: 1.2689, Valid loss: 1.0765\n"
     ]
    },
    {
     "name": "stderr",
     "output_type": "stream",
     "text": [
      "Epoch [1083/5000]: 100%|██████████████████████████████████████████████████████████████████████████████████████████| 10/10 [00:00<00:00, 216.52it/s, loss=1.41]\n"
     ]
    },
    {
     "name": "stdout",
     "output_type": "stream",
     "text": [
      "Epoch [1083/5000]: Train loss: 1.2834, Valid loss: 1.0247\n"
     ]
    },
    {
     "name": "stderr",
     "output_type": "stream",
     "text": [
      "Epoch [1084/5000]: 100%|██████████████████████████████████████████████████████████████████████████████████████████| 10/10 [00:00<00:00, 217.74it/s, loss=1.49]\n"
     ]
    },
    {
     "name": "stdout",
     "output_type": "stream",
     "text": [
      "Epoch [1084/5000]: Train loss: 1.2958, Valid loss: 0.9918\n"
     ]
    },
    {
     "name": "stderr",
     "output_type": "stream",
     "text": [
      "Epoch [1085/5000]: 100%|██████████████████████████████████████████████████████████████████████████████████████████| 10/10 [00:00<00:00, 217.19it/s, loss=1.24]\n"
     ]
    },
    {
     "name": "stdout",
     "output_type": "stream",
     "text": [
      "Epoch [1085/5000]: Train loss: 1.2829, Valid loss: 0.9969\n"
     ]
    },
    {
     "name": "stderr",
     "output_type": "stream",
     "text": [
      "Epoch [1086/5000]: 100%|██████████████████████████████████████████████████████████████████████████████████████████| 10/10 [00:00<00:00, 217.07it/s, loss=1.46]\n"
     ]
    },
    {
     "name": "stdout",
     "output_type": "stream",
     "text": [
      "Epoch [1086/5000]: Train loss: 1.2752, Valid loss: 1.0533\n"
     ]
    },
    {
     "name": "stderr",
     "output_type": "stream",
     "text": [
      "Epoch [1087/5000]: 100%|███████████████████████████████████████████████████████████████████████████████████████████| 10/10 [00:00<00:00, 219.40it/s, loss=1.4]\n"
     ]
    },
    {
     "name": "stdout",
     "output_type": "stream",
     "text": [
      "Epoch [1087/5000]: Train loss: 1.2763, Valid loss: 1.0248\n"
     ]
    },
    {
     "name": "stderr",
     "output_type": "stream",
     "text": [
      "Epoch [1088/5000]: 100%|███████████████████████████████████████████████████████████████████████████████████████████| 10/10 [00:00<00:00, 93.67it/s, loss=1.31]\n"
     ]
    },
    {
     "name": "stdout",
     "output_type": "stream",
     "text": [
      "Epoch [1088/5000]: Train loss: 1.2955, Valid loss: 1.0315\n"
     ]
    },
    {
     "name": "stderr",
     "output_type": "stream",
     "text": [
      "Epoch [1089/5000]: 100%|██████████████████████████████████████████████████████████████████████████████████████████| 10/10 [00:00<00:00, 215.42it/s, loss=1.32]\n"
     ]
    },
    {
     "name": "stdout",
     "output_type": "stream",
     "text": [
      "Epoch [1089/5000]: Train loss: 1.2687, Valid loss: 1.0731\n"
     ]
    },
    {
     "name": "stderr",
     "output_type": "stream",
     "text": [
      "Epoch [1090/5000]: 100%|██████████████████████████████████████████████████████████████████████████████████████████| 10/10 [00:00<00:00, 214.24it/s, loss=1.29]\n"
     ]
    },
    {
     "name": "stdout",
     "output_type": "stream",
     "text": [
      "Epoch [1090/5000]: Train loss: 1.3115, Valid loss: 1.0113\n"
     ]
    },
    {
     "name": "stderr",
     "output_type": "stream",
     "text": [
      "Epoch [1091/5000]: 100%|██████████████████████████████████████████████████████████████████████████████████████████| 10/10 [00:00<00:00, 218.35it/s, loss=1.33]\n"
     ]
    },
    {
     "name": "stdout",
     "output_type": "stream",
     "text": [
      "Epoch [1091/5000]: Train loss: 1.3026, Valid loss: 1.0056\n"
     ]
    },
    {
     "name": "stderr",
     "output_type": "stream",
     "text": [
      "Epoch [1092/5000]: 100%|██████████████████████████████████████████████████████████████████████████████████████████| 10/10 [00:00<00:00, 214.96it/s, loss=1.34]\n"
     ]
    },
    {
     "name": "stdout",
     "output_type": "stream",
     "text": [
      "Epoch [1092/5000]: Train loss: 1.3117, Valid loss: 1.0901\n"
     ]
    },
    {
     "name": "stderr",
     "output_type": "stream",
     "text": [
      "Epoch [1093/5000]: 100%|███████████████████████████████████████████████████████████████████████████████████████████| 10/10 [00:00<00:00, 219.22it/s, loss=1.1]\n"
     ]
    },
    {
     "name": "stdout",
     "output_type": "stream",
     "text": [
      "Epoch [1093/5000]: Train loss: 1.2853, Valid loss: 1.0138\n"
     ]
    },
    {
     "name": "stderr",
     "output_type": "stream",
     "text": [
      "Epoch [1094/5000]: 100%|███████████████████████████████████████████████████████████████████████████████████████████| 10/10 [00:00<00:00, 96.80it/s, loss=1.21]\n"
     ]
    },
    {
     "name": "stdout",
     "output_type": "stream",
     "text": [
      "Epoch [1094/5000]: Train loss: 1.2878, Valid loss: 1.0849\n"
     ]
    },
    {
     "name": "stderr",
     "output_type": "stream",
     "text": [
      "Epoch [1095/5000]: 100%|██████████████████████████████████████████████████████████████████████████████████████████| 10/10 [00:00<00:00, 217.33it/s, loss=1.26]\n"
     ]
    },
    {
     "name": "stdout",
     "output_type": "stream",
     "text": [
      "Epoch [1095/5000]: Train loss: 1.2584, Valid loss: 1.0483\n"
     ]
    },
    {
     "name": "stderr",
     "output_type": "stream",
     "text": [
      "Epoch [1096/5000]: 100%|██████████████████████████████████████████████████████████████████████████████████████████| 10/10 [00:00<00:00, 214.98it/s, loss=1.14]\n"
     ]
    },
    {
     "name": "stdout",
     "output_type": "stream",
     "text": [
      "Epoch [1096/5000]: Train loss: 1.2748, Valid loss: 1.0922\n"
     ]
    },
    {
     "name": "stderr",
     "output_type": "stream",
     "text": [
      "Epoch [1097/5000]: 100%|██████████████████████████████████████████████████████████████████████████████████████████| 10/10 [00:00<00:00, 220.16it/s, loss=1.49]\n"
     ]
    },
    {
     "name": "stdout",
     "output_type": "stream",
     "text": [
      "Epoch [1097/5000]: Train loss: 1.3059, Valid loss: 1.0428\n"
     ]
    },
    {
     "name": "stderr",
     "output_type": "stream",
     "text": [
      "Epoch [1098/5000]: 100%|██████████████████████████████████████████████████████████████████████████████████████████| 10/10 [00:00<00:00, 215.78it/s, loss=1.34]\n"
     ]
    },
    {
     "name": "stdout",
     "output_type": "stream",
     "text": [
      "Epoch [1098/5000]: Train loss: 1.2877, Valid loss: 1.0451\n"
     ]
    },
    {
     "name": "stderr",
     "output_type": "stream",
     "text": [
      "Epoch [1099/5000]: 100%|██████████████████████████████████████████████████████████████████████████████████████████| 10/10 [00:00<00:00, 217.83it/s, loss=1.27]\n"
     ]
    },
    {
     "name": "stdout",
     "output_type": "stream",
     "text": [
      "Epoch [1099/5000]: Train loss: 1.2966, Valid loss: 1.0691\n"
     ]
    },
    {
     "name": "stderr",
     "output_type": "stream",
     "text": [
      "Epoch [1100/5000]: 100%|███████████████████████████████████████████████████████████████████████████████████████████| 10/10 [00:00<00:00, 96.41it/s, loss=1.22]\n"
     ]
    },
    {
     "name": "stdout",
     "output_type": "stream",
     "text": [
      "Epoch [1100/5000]: Train loss: 1.2934, Valid loss: 1.0225\n"
     ]
    },
    {
     "name": "stderr",
     "output_type": "stream",
     "text": [
      "Epoch [1101/5000]: 100%|██████████████████████████████████████████████████████████████████████████████████████████| 10/10 [00:00<00:00, 219.10it/s, loss=1.39]\n"
     ]
    },
    {
     "name": "stdout",
     "output_type": "stream",
     "text": [
      "Epoch [1101/5000]: Train loss: 1.2868, Valid loss: 1.0069\n"
     ]
    },
    {
     "name": "stderr",
     "output_type": "stream",
     "text": [
      "Epoch [1102/5000]: 100%|██████████████████████████████████████████████████████████████████████████████████████████| 10/10 [00:00<00:00, 219.18it/s, loss=1.07]\n"
     ]
    },
    {
     "name": "stdout",
     "output_type": "stream",
     "text": [
      "Epoch [1102/5000]: Train loss: 1.2352, Valid loss: 1.0157\n"
     ]
    },
    {
     "name": "stderr",
     "output_type": "stream",
     "text": [
      "Epoch [1103/5000]: 100%|██████████████████████████████████████████████████████████████████████████████████████████| 10/10 [00:00<00:00, 219.44it/s, loss=1.34]\n"
     ]
    },
    {
     "name": "stdout",
     "output_type": "stream",
     "text": [
      "Epoch [1103/5000]: Train loss: 1.2944, Valid loss: 1.1091\n"
     ]
    },
    {
     "name": "stderr",
     "output_type": "stream",
     "text": [
      "Epoch [1104/5000]: 100%|██████████████████████████████████████████████████████████████████████████████████████████| 10/10 [00:00<00:00, 219.12it/s, loss=1.29]\n"
     ]
    },
    {
     "name": "stdout",
     "output_type": "stream",
     "text": [
      "Epoch [1104/5000]: Train loss: 1.2622, Valid loss: 1.1336\n"
     ]
    },
    {
     "name": "stderr",
     "output_type": "stream",
     "text": [
      "Epoch [1105/5000]: 100%|██████████████████████████████████████████████████████████████████████████████████████████| 10/10 [00:00<00:00, 220.14it/s, loss=1.25]\n"
     ]
    },
    {
     "name": "stdout",
     "output_type": "stream",
     "text": [
      "Epoch [1105/5000]: Train loss: 1.2850, Valid loss: 1.0362\n"
     ]
    },
    {
     "name": "stderr",
     "output_type": "stream",
     "text": [
      "Epoch [1106/5000]: 100%|███████████████████████████████████████████████████████████████████████████████████████████| 10/10 [00:00<00:00, 96.38it/s, loss=1.25]\n"
     ]
    },
    {
     "name": "stdout",
     "output_type": "stream",
     "text": [
      "Epoch [1106/5000]: Train loss: 1.2640, Valid loss: 1.0022\n"
     ]
    },
    {
     "name": "stderr",
     "output_type": "stream",
     "text": [
      "Epoch [1107/5000]: 100%|███████████████████████████████████████████████████████████████████████████████████████████| 10/10 [00:00<00:00, 217.47it/s, loss=1.3]\n"
     ]
    },
    {
     "name": "stdout",
     "output_type": "stream",
     "text": [
      "Epoch [1107/5000]: Train loss: 1.3124, Valid loss: 1.0805\n"
     ]
    },
    {
     "name": "stderr",
     "output_type": "stream",
     "text": [
      "Epoch [1108/5000]: 100%|██████████████████████████████████████████████████████████████████████████████████████████| 10/10 [00:00<00:00, 215.01it/s, loss=1.21]\n"
     ]
    },
    {
     "name": "stdout",
     "output_type": "stream",
     "text": [
      "Epoch [1108/5000]: Train loss: 1.2633, Valid loss: 0.9663\n"
     ]
    },
    {
     "name": "stderr",
     "output_type": "stream",
     "text": [
      "Epoch [1109/5000]: 100%|██████████████████████████████████████████████████████████████████████████████████████████| 10/10 [00:00<00:00, 216.71it/s, loss=1.44]\n"
     ]
    },
    {
     "name": "stdout",
     "output_type": "stream",
     "text": [
      "Epoch [1109/5000]: Train loss: 1.3187, Valid loss: 1.0746\n"
     ]
    },
    {
     "name": "stderr",
     "output_type": "stream",
     "text": [
      "Epoch [1110/5000]: 100%|██████████████████████████████████████████████████████████████████████████████████████████| 10/10 [00:00<00:00, 217.31it/s, loss=1.46]\n"
     ]
    },
    {
     "name": "stdout",
     "output_type": "stream",
     "text": [
      "Epoch [1110/5000]: Train loss: 1.3104, Valid loss: 1.0268\n"
     ]
    },
    {
     "name": "stderr",
     "output_type": "stream",
     "text": [
      "Epoch [1111/5000]: 100%|██████████████████████████████████████████████████████████████████████████████████████████| 10/10 [00:00<00:00, 217.47it/s, loss=1.13]\n"
     ]
    },
    {
     "name": "stdout",
     "output_type": "stream",
     "text": [
      "Epoch [1111/5000]: Train loss: 1.2710, Valid loss: 1.0202\n"
     ]
    },
    {
     "name": "stderr",
     "output_type": "stream",
     "text": [
      "Epoch [1112/5000]: 100%|███████████████████████████████████████████████████████████████████████████████████████████| 10/10 [00:00<00:00, 90.62it/s, loss=1.26]\n"
     ]
    },
    {
     "name": "stdout",
     "output_type": "stream",
     "text": [
      "Epoch [1112/5000]: Train loss: 1.2879, Valid loss: 1.0042\n"
     ]
    },
    {
     "name": "stderr",
     "output_type": "stream",
     "text": [
      "Epoch [1113/5000]: 100%|██████████████████████████████████████████████████████████████████████████████████████████| 10/10 [00:00<00:00, 216.17it/s, loss=1.26]\n"
     ]
    },
    {
     "name": "stdout",
     "output_type": "stream",
     "text": [
      "Epoch [1113/5000]: Train loss: 1.2860, Valid loss: 1.0396\n"
     ]
    },
    {
     "name": "stderr",
     "output_type": "stream",
     "text": [
      "Epoch [1114/5000]: 100%|██████████████████████████████████████████████████████████████████████████████████████████| 10/10 [00:00<00:00, 214.36it/s, loss=1.19]\n"
     ]
    },
    {
     "name": "stdout",
     "output_type": "stream",
     "text": [
      "Epoch [1114/5000]: Train loss: 1.2879, Valid loss: 1.0335\n"
     ]
    },
    {
     "name": "stderr",
     "output_type": "stream",
     "text": [
      "Epoch [1115/5000]: 100%|██████████████████████████████████████████████████████████████████████████████████████████| 10/10 [00:00<00:00, 215.14it/s, loss=1.35]\n"
     ]
    },
    {
     "name": "stdout",
     "output_type": "stream",
     "text": [
      "Epoch [1115/5000]: Train loss: 1.2875, Valid loss: 1.0484\n"
     ]
    },
    {
     "name": "stderr",
     "output_type": "stream",
     "text": [
      "Epoch [1116/5000]: 100%|███████████████████████████████████████████████████████████████████████████████████████████| 10/10 [00:00<00:00, 214.44it/s, loss=1.2]\n"
     ]
    },
    {
     "name": "stdout",
     "output_type": "stream",
     "text": [
      "Epoch [1116/5000]: Train loss: 1.2897, Valid loss: 1.0208\n"
     ]
    },
    {
     "name": "stderr",
     "output_type": "stream",
     "text": [
      "Epoch [1117/5000]: 100%|██████████████████████████████████████████████████████████████████████████████████████████| 10/10 [00:00<00:00, 215.97it/s, loss=1.24]\n"
     ]
    },
    {
     "name": "stdout",
     "output_type": "stream",
     "text": [
      "Epoch [1117/5000]: Train loss: 1.2918, Valid loss: 0.9793\n"
     ]
    },
    {
     "name": "stderr",
     "output_type": "stream",
     "text": [
      "Epoch [1118/5000]: 100%|███████████████████████████████████████████████████████████████████████████████████████████| 10/10 [00:00<00:00, 91.30it/s, loss=1.17]\n"
     ]
    },
    {
     "name": "stdout",
     "output_type": "stream",
     "text": [
      "Epoch [1118/5000]: Train loss: 1.2726, Valid loss: 1.0427\n"
     ]
    },
    {
     "name": "stderr",
     "output_type": "stream",
     "text": [
      "Epoch [1119/5000]: 100%|██████████████████████████████████████████████████████████████████████████████████████████| 10/10 [00:00<00:00, 209.94it/s, loss=1.34]\n"
     ]
    },
    {
     "name": "stdout",
     "output_type": "stream",
     "text": [
      "Epoch [1119/5000]: Train loss: 1.2865, Valid loss: 1.0297\n"
     ]
    },
    {
     "name": "stderr",
     "output_type": "stream",
     "text": [
      "Epoch [1120/5000]: 100%|██████████████████████████████████████████████████████████████████████████████████████████| 10/10 [00:00<00:00, 212.44it/s, loss=1.13]\n"
     ]
    },
    {
     "name": "stdout",
     "output_type": "stream",
     "text": [
      "Epoch [1120/5000]: Train loss: 1.2686, Valid loss: 0.9732\n"
     ]
    },
    {
     "name": "stderr",
     "output_type": "stream",
     "text": [
      "Epoch [1121/5000]: 100%|██████████████████████████████████████████████████████████████████████████████████████████| 10/10 [00:00<00:00, 216.41it/s, loss=1.28]\n"
     ]
    },
    {
     "name": "stdout",
     "output_type": "stream",
     "text": [
      "Epoch [1121/5000]: Train loss: 1.2790, Valid loss: 1.0038\n"
     ]
    },
    {
     "name": "stderr",
     "output_type": "stream",
     "text": [
      "Epoch [1122/5000]: 100%|██████████████████████████████████████████████████████████████████████████████████████████| 10/10 [00:00<00:00, 216.42it/s, loss=1.22]\n"
     ]
    },
    {
     "name": "stdout",
     "output_type": "stream",
     "text": [
      "Epoch [1122/5000]: Train loss: 1.3225, Valid loss: 1.0260\n"
     ]
    },
    {
     "name": "stderr",
     "output_type": "stream",
     "text": [
      "Epoch [1123/5000]: 100%|██████████████████████████████████████████████████████████████████████████████████████████| 10/10 [00:00<00:00, 217.29it/s, loss=1.58]\n"
     ]
    },
    {
     "name": "stdout",
     "output_type": "stream",
     "text": [
      "Epoch [1123/5000]: Train loss: 1.3062, Valid loss: 1.0864\n"
     ]
    },
    {
     "name": "stderr",
     "output_type": "stream",
     "text": [
      "Epoch [1124/5000]: 100%|███████████████████████████████████████████████████████████████████████████████████████████| 10/10 [00:00<00:00, 96.26it/s, loss=1.16]\n"
     ]
    },
    {
     "name": "stdout",
     "output_type": "stream",
     "text": [
      "Epoch [1124/5000]: Train loss: 1.3187, Valid loss: 0.9781\n"
     ]
    },
    {
     "name": "stderr",
     "output_type": "stream",
     "text": [
      "Epoch [1125/5000]: 100%|██████████████████████████████████████████████████████████████████████████████████████████| 10/10 [00:00<00:00, 218.35it/s, loss=1.14]\n"
     ]
    },
    {
     "name": "stdout",
     "output_type": "stream",
     "text": [
      "Epoch [1125/5000]: Train loss: 1.3168, Valid loss: 1.1117\n"
     ]
    },
    {
     "name": "stderr",
     "output_type": "stream",
     "text": [
      "Epoch [1126/5000]: 100%|██████████████████████████████████████████████████████████████████████████████████████████| 10/10 [00:00<00:00, 217.79it/s, loss=1.26]\n"
     ]
    },
    {
     "name": "stdout",
     "output_type": "stream",
     "text": [
      "Epoch [1126/5000]: Train loss: 1.2848, Valid loss: 1.0242\n"
     ]
    },
    {
     "name": "stderr",
     "output_type": "stream",
     "text": [
      "Epoch [1127/5000]: 100%|██████████████████████████████████████████████████████████████████████████████████████████| 10/10 [00:00<00:00, 217.48it/s, loss=1.34]\n"
     ]
    },
    {
     "name": "stdout",
     "output_type": "stream",
     "text": [
      "Epoch [1127/5000]: Train loss: 1.2859, Valid loss: 1.0268\n"
     ]
    },
    {
     "name": "stderr",
     "output_type": "stream",
     "text": [
      "Epoch [1128/5000]: 100%|██████████████████████████████████████████████████████████████████████████████████████████| 10/10 [00:00<00:00, 215.47it/s, loss=1.26]\n"
     ]
    },
    {
     "name": "stdout",
     "output_type": "stream",
     "text": [
      "Epoch [1128/5000]: Train loss: 1.2784, Valid loss: 1.0427\n"
     ]
    },
    {
     "name": "stderr",
     "output_type": "stream",
     "text": [
      "Epoch [1129/5000]: 100%|██████████████████████████████████████████████████████████████████████████████████████████| 10/10 [00:00<00:00, 217.20it/s, loss=1.27]\n"
     ]
    },
    {
     "name": "stdout",
     "output_type": "stream",
     "text": [
      "Epoch [1129/5000]: Train loss: 1.3125, Valid loss: 1.0896\n"
     ]
    },
    {
     "name": "stderr",
     "output_type": "stream",
     "text": [
      "Epoch [1130/5000]: 100%|███████████████████████████████████████████████████████████████████████████████████████████| 10/10 [00:00<00:00, 97.02it/s, loss=1.27]\n"
     ]
    },
    {
     "name": "stdout",
     "output_type": "stream",
     "text": [
      "Epoch [1130/5000]: Train loss: 1.3041, Valid loss: 1.0778\n"
     ]
    },
    {
     "name": "stderr",
     "output_type": "stream",
     "text": [
      "Epoch [1131/5000]: 100%|██████████████████████████████████████████████████████████████████████████████████████████| 10/10 [00:00<00:00, 217.21it/s, loss=1.39]\n"
     ]
    },
    {
     "name": "stdout",
     "output_type": "stream",
     "text": [
      "Epoch [1131/5000]: Train loss: 1.2924, Valid loss: 1.0143\n"
     ]
    },
    {
     "name": "stderr",
     "output_type": "stream",
     "text": [
      "Epoch [1132/5000]: 100%|██████████████████████████████████████████████████████████████████████████████████████████| 10/10 [00:00<00:00, 216.62it/s, loss=1.25]\n"
     ]
    },
    {
     "name": "stdout",
     "output_type": "stream",
     "text": [
      "Epoch [1132/5000]: Train loss: 1.2943, Valid loss: 1.1065\n"
     ]
    },
    {
     "name": "stderr",
     "output_type": "stream",
     "text": [
      "Epoch [1133/5000]: 100%|██████████████████████████████████████████████████████████████████████████████████████████| 10/10 [00:00<00:00, 217.91it/s, loss=1.33]\n"
     ]
    },
    {
     "name": "stdout",
     "output_type": "stream",
     "text": [
      "Epoch [1133/5000]: Train loss: 1.2605, Valid loss: 1.0086\n"
     ]
    },
    {
     "name": "stderr",
     "output_type": "stream",
     "text": [
      "Epoch [1134/5000]: 100%|██████████████████████████████████████████████████████████████████████████████████████████| 10/10 [00:00<00:00, 216.20it/s, loss=1.43]\n"
     ]
    },
    {
     "name": "stdout",
     "output_type": "stream",
     "text": [
      "Epoch [1134/5000]: Train loss: 1.2728, Valid loss: 1.0235\n"
     ]
    },
    {
     "name": "stderr",
     "output_type": "stream",
     "text": [
      "Epoch [1135/5000]: 100%|██████████████████████████████████████████████████████████████████████████████████████████| 10/10 [00:00<00:00, 217.00it/s, loss=1.24]\n"
     ]
    },
    {
     "name": "stdout",
     "output_type": "stream",
     "text": [
      "Epoch [1135/5000]: Train loss: 1.2786, Valid loss: 1.0896\n"
     ]
    },
    {
     "name": "stderr",
     "output_type": "stream",
     "text": [
      "Epoch [1136/5000]: 100%|███████████████████████████████████████████████████████████████████████████████████████████| 10/10 [00:00<00:00, 93.35it/s, loss=1.32]\n"
     ]
    },
    {
     "name": "stdout",
     "output_type": "stream",
     "text": [
      "Epoch [1136/5000]: Train loss: 1.2614, Valid loss: 1.0551\n"
     ]
    },
    {
     "name": "stderr",
     "output_type": "stream",
     "text": [
      "Epoch [1137/5000]: 100%|██████████████████████████████████████████████████████████████████████████████████████████| 10/10 [00:00<00:00, 215.73it/s, loss=1.48]\n"
     ]
    },
    {
     "name": "stdout",
     "output_type": "stream",
     "text": [
      "Epoch [1137/5000]: Train loss: 1.2865, Valid loss: 1.0692\n"
     ]
    },
    {
     "name": "stderr",
     "output_type": "stream",
     "text": [
      "Epoch [1138/5000]: 100%|██████████████████████████████████████████████████████████████████████████████████████████| 10/10 [00:00<00:00, 217.17it/s, loss=1.36]\n"
     ]
    },
    {
     "name": "stdout",
     "output_type": "stream",
     "text": [
      "Epoch [1138/5000]: Train loss: 1.2877, Valid loss: 1.1171\n"
     ]
    },
    {
     "name": "stderr",
     "output_type": "stream",
     "text": [
      "Epoch [1139/5000]: 100%|██████████████████████████████████████████████████████████████████████████████████████████| 10/10 [00:00<00:00, 220.02it/s, loss=1.13]\n"
     ]
    },
    {
     "name": "stdout",
     "output_type": "stream",
     "text": [
      "Epoch [1139/5000]: Train loss: 1.3237, Valid loss: 1.0053\n"
     ]
    },
    {
     "name": "stderr",
     "output_type": "stream",
     "text": [
      "Epoch [1140/5000]: 100%|██████████████████████████████████████████████████████████████████████████████████████████| 10/10 [00:00<00:00, 216.37it/s, loss=1.47]\n"
     ]
    },
    {
     "name": "stdout",
     "output_type": "stream",
     "text": [
      "Epoch [1140/5000]: Train loss: 1.2899, Valid loss: 1.0561\n"
     ]
    },
    {
     "name": "stderr",
     "output_type": "stream",
     "text": [
      "Epoch [1141/5000]: 100%|██████████████████████████████████████████████████████████████████████████████████████████| 10/10 [00:00<00:00, 216.51it/s, loss=1.08]\n"
     ]
    },
    {
     "name": "stdout",
     "output_type": "stream",
     "text": [
      "Epoch [1141/5000]: Train loss: 1.2901, Valid loss: 1.0746\n"
     ]
    },
    {
     "name": "stderr",
     "output_type": "stream",
     "text": [
      "Epoch [1142/5000]: 100%|███████████████████████████████████████████████████████████████████████████████████████████| 10/10 [00:00<00:00, 96.92it/s, loss=1.49]\n"
     ]
    },
    {
     "name": "stdout",
     "output_type": "stream",
     "text": [
      "Epoch [1142/5000]: Train loss: 1.2956, Valid loss: 1.0224\n"
     ]
    },
    {
     "name": "stderr",
     "output_type": "stream",
     "text": [
      "Epoch [1143/5000]: 100%|██████████████████████████████████████████████████████████████████████████████████████████| 10/10 [00:00<00:00, 217.65it/s, loss=1.26]\n"
     ]
    },
    {
     "name": "stdout",
     "output_type": "stream",
     "text": [
      "Epoch [1143/5000]: Train loss: 1.2727, Valid loss: 1.0601\n"
     ]
    },
    {
     "name": "stderr",
     "output_type": "stream",
     "text": [
      "Epoch [1144/5000]: 100%|██████████████████████████████████████████████████████████████████████████████████████████| 10/10 [00:00<00:00, 217.28it/s, loss=1.14]\n"
     ]
    },
    {
     "name": "stdout",
     "output_type": "stream",
     "text": [
      "Epoch [1144/5000]: Train loss: 1.2755, Valid loss: 1.0332\n"
     ]
    },
    {
     "name": "stderr",
     "output_type": "stream",
     "text": [
      "Epoch [1145/5000]: 100%|██████████████████████████████████████████████████████████████████████████████████████████| 10/10 [00:00<00:00, 217.99it/s, loss=1.35]\n"
     ]
    },
    {
     "name": "stdout",
     "output_type": "stream",
     "text": [
      "Epoch [1145/5000]: Train loss: 1.3036, Valid loss: 1.0081\n"
     ]
    },
    {
     "name": "stderr",
     "output_type": "stream",
     "text": [
      "Epoch [1146/5000]: 100%|██████████████████████████████████████████████████████████████████████████████████████████| 10/10 [00:00<00:00, 215.15it/s, loss=1.36]\n"
     ]
    },
    {
     "name": "stdout",
     "output_type": "stream",
     "text": [
      "Epoch [1146/5000]: Train loss: 1.3021, Valid loss: 1.0246\n"
     ]
    },
    {
     "name": "stderr",
     "output_type": "stream",
     "text": [
      "Epoch [1147/5000]: 100%|██████████████████████████████████████████████████████████████████████████████████████████| 10/10 [00:00<00:00, 214.00it/s, loss=1.25]\n"
     ]
    },
    {
     "name": "stdout",
     "output_type": "stream",
     "text": [
      "Epoch [1147/5000]: Train loss: 1.2803, Valid loss: 1.0187\n"
     ]
    },
    {
     "name": "stderr",
     "output_type": "stream",
     "text": [
      "Epoch [1148/5000]: 100%|███████████████████████████████████████████████████████████████████████████████████████████| 10/10 [00:00<00:00, 96.09it/s, loss=1.14]\n"
     ]
    },
    {
     "name": "stdout",
     "output_type": "stream",
     "text": [
      "Epoch [1148/5000]: Train loss: 1.2556, Valid loss: 0.9965\n"
     ]
    },
    {
     "name": "stderr",
     "output_type": "stream",
     "text": [
      "Epoch [1149/5000]: 100%|██████████████████████████████████████████████████████████████████████████████████████████| 10/10 [00:00<00:00, 216.05it/s, loss=1.27]\n"
     ]
    },
    {
     "name": "stdout",
     "output_type": "stream",
     "text": [
      "Epoch [1149/5000]: Train loss: 1.2888, Valid loss: 1.0526\n"
     ]
    },
    {
     "name": "stderr",
     "output_type": "stream",
     "text": [
      "Epoch [1150/5000]: 100%|██████████████████████████████████████████████████████████████████████████████████████████| 10/10 [00:00<00:00, 216.79it/s, loss=1.28]\n"
     ]
    },
    {
     "name": "stdout",
     "output_type": "stream",
     "text": [
      "Epoch [1150/5000]: Train loss: 1.2692, Valid loss: 1.0454\n"
     ]
    },
    {
     "name": "stderr",
     "output_type": "stream",
     "text": [
      "Epoch [1151/5000]: 100%|██████████████████████████████████████████████████████████████████████████████████████████| 10/10 [00:00<00:00, 217.93it/s, loss=1.26]\n"
     ]
    },
    {
     "name": "stdout",
     "output_type": "stream",
     "text": [
      "Epoch [1151/5000]: Train loss: 1.2700, Valid loss: 1.0874\n"
     ]
    },
    {
     "name": "stderr",
     "output_type": "stream",
     "text": [
      "Epoch [1152/5000]: 100%|██████████████████████████████████████████████████████████████████████████████████████████| 10/10 [00:00<00:00, 215.81it/s, loss=1.22]\n"
     ]
    },
    {
     "name": "stdout",
     "output_type": "stream",
     "text": [
      "Epoch [1152/5000]: Train loss: 1.2923, Valid loss: 1.0151\n"
     ]
    },
    {
     "name": "stderr",
     "output_type": "stream",
     "text": [
      "Epoch [1153/5000]: 100%|██████████████████████████████████████████████████████████████████████████████████████████| 10/10 [00:00<00:00, 216.76it/s, loss=1.24]\n"
     ]
    },
    {
     "name": "stdout",
     "output_type": "stream",
     "text": [
      "Epoch [1153/5000]: Train loss: 1.2704, Valid loss: 1.0587\n"
     ]
    },
    {
     "name": "stderr",
     "output_type": "stream",
     "text": [
      "Epoch [1154/5000]: 100%|███████████████████████████████████████████████████████████████████████████████████████████| 10/10 [00:00<00:00, 97.02it/s, loss=1.57]\n"
     ]
    },
    {
     "name": "stdout",
     "output_type": "stream",
     "text": [
      "Epoch [1154/5000]: Train loss: 1.3048, Valid loss: 1.0291\n"
     ]
    },
    {
     "name": "stderr",
     "output_type": "stream",
     "text": [
      "Epoch [1155/5000]: 100%|██████████████████████████████████████████████████████████████████████████████████████████| 10/10 [00:00<00:00, 212.41it/s, loss=1.25]\n"
     ]
    },
    {
     "name": "stdout",
     "output_type": "stream",
     "text": [
      "Epoch [1155/5000]: Train loss: 1.2885, Valid loss: 1.0220\n"
     ]
    },
    {
     "name": "stderr",
     "output_type": "stream",
     "text": [
      "Epoch [1156/5000]: 100%|██████████████████████████████████████████████████████████████████████████████████████████| 10/10 [00:00<00:00, 213.11it/s, loss=1.22]\n"
     ]
    },
    {
     "name": "stdout",
     "output_type": "stream",
     "text": [
      "Epoch [1156/5000]: Train loss: 1.2783, Valid loss: 1.1575\n"
     ]
    },
    {
     "name": "stderr",
     "output_type": "stream",
     "text": [
      "Epoch [1157/5000]: 100%|██████████████████████████████████████████████████████████████████████████████████████████| 10/10 [00:00<00:00, 217.95it/s, loss=1.19]\n"
     ]
    },
    {
     "name": "stdout",
     "output_type": "stream",
     "text": [
      "Epoch [1157/5000]: Train loss: 1.2973, Valid loss: 1.0823\n"
     ]
    },
    {
     "name": "stderr",
     "output_type": "stream",
     "text": [
      "Epoch [1158/5000]: 100%|██████████████████████████████████████████████████████████████████████████████████████████| 10/10 [00:00<00:00, 215.11it/s, loss=1.15]\n"
     ]
    },
    {
     "name": "stdout",
     "output_type": "stream",
     "text": [
      "Epoch [1158/5000]: Train loss: 1.2842, Valid loss: 1.0647\n"
     ]
    },
    {
     "name": "stderr",
     "output_type": "stream",
     "text": [
      "Epoch [1159/5000]: 100%|██████████████████████████████████████████████████████████████████████████████████████████| 10/10 [00:00<00:00, 218.73it/s, loss=1.33]\n"
     ]
    },
    {
     "name": "stdout",
     "output_type": "stream",
     "text": [
      "Epoch [1159/5000]: Train loss: 1.2801, Valid loss: 1.0946\n"
     ]
    },
    {
     "name": "stderr",
     "output_type": "stream",
     "text": [
      "Epoch [1160/5000]: 100%|███████████████████████████████████████████████████████████████████████████████████████████| 10/10 [00:00<00:00, 97.32it/s, loss=1.21]\n"
     ]
    },
    {
     "name": "stdout",
     "output_type": "stream",
     "text": [
      "Epoch [1160/5000]: Train loss: 1.2725, Valid loss: 1.0341\n"
     ]
    },
    {
     "name": "stderr",
     "output_type": "stream",
     "text": [
      "Epoch [1161/5000]: 100%|██████████████████████████████████████████████████████████████████████████████████████████| 10/10 [00:00<00:00, 217.91it/s, loss=1.26]\n"
     ]
    },
    {
     "name": "stdout",
     "output_type": "stream",
     "text": [
      "Epoch [1161/5000]: Train loss: 1.3075, Valid loss: 1.1598\n"
     ]
    },
    {
     "name": "stderr",
     "output_type": "stream",
     "text": [
      "Epoch [1162/5000]: 100%|██████████████████████████████████████████████████████████████████████████████████████████| 10/10 [00:00<00:00, 214.59it/s, loss=1.24]\n"
     ]
    },
    {
     "name": "stdout",
     "output_type": "stream",
     "text": [
      "Epoch [1162/5000]: Train loss: 1.3020, Valid loss: 1.0567\n"
     ]
    },
    {
     "name": "stderr",
     "output_type": "stream",
     "text": [
      "Epoch [1163/5000]: 100%|██████████████████████████████████████████████████████████████████████████████████████████| 10/10 [00:00<00:00, 216.73it/s, loss=1.17]\n"
     ]
    },
    {
     "name": "stdout",
     "output_type": "stream",
     "text": [
      "Epoch [1163/5000]: Train loss: 1.2741, Valid loss: 1.0552\n"
     ]
    },
    {
     "name": "stderr",
     "output_type": "stream",
     "text": [
      "Epoch [1164/5000]: 100%|██████████████████████████████████████████████████████████████████████████████████████████| 10/10 [00:00<00:00, 220.03it/s, loss=1.31]\n"
     ]
    },
    {
     "name": "stdout",
     "output_type": "stream",
     "text": [
      "Epoch [1164/5000]: Train loss: 1.2812, Valid loss: 1.0318\n"
     ]
    },
    {
     "name": "stderr",
     "output_type": "stream",
     "text": [
      "Epoch [1165/5000]: 100%|██████████████████████████████████████████████████████████████████████████████████████████| 10/10 [00:00<00:00, 219.43it/s, loss=1.39]\n"
     ]
    },
    {
     "name": "stdout",
     "output_type": "stream",
     "text": [
      "Epoch [1165/5000]: Train loss: 1.2689, Valid loss: 1.0818\n"
     ]
    },
    {
     "name": "stderr",
     "output_type": "stream",
     "text": [
      "Epoch [1166/5000]: 100%|███████████████████████████████████████████████████████████████████████████████████████████| 10/10 [00:00<00:00, 97.60it/s, loss=1.28]\n"
     ]
    },
    {
     "name": "stdout",
     "output_type": "stream",
     "text": [
      "Epoch [1166/5000]: Train loss: 1.2768, Valid loss: 0.9775\n"
     ]
    },
    {
     "name": "stderr",
     "output_type": "stream",
     "text": [
      "Epoch [1167/5000]: 100%|██████████████████████████████████████████████████████████████████████████████████████████| 10/10 [00:00<00:00, 218.55it/s, loss=1.27]\n"
     ]
    },
    {
     "name": "stdout",
     "output_type": "stream",
     "text": [
      "Epoch [1167/5000]: Train loss: 1.2745, Valid loss: 1.1225\n"
     ]
    },
    {
     "name": "stderr",
     "output_type": "stream",
     "text": [
      "Epoch [1168/5000]: 100%|██████████████████████████████████████████████████████████████████████████████████████████| 10/10 [00:00<00:00, 216.48it/s, loss=1.55]\n"
     ]
    },
    {
     "name": "stdout",
     "output_type": "stream",
     "text": [
      "Epoch [1168/5000]: Train loss: 1.3207, Valid loss: 1.0451\n"
     ]
    },
    {
     "name": "stderr",
     "output_type": "stream",
     "text": [
      "Epoch [1169/5000]: 100%|██████████████████████████████████████████████████████████████████████████████████████████| 10/10 [00:00<00:00, 218.44it/s, loss=1.34]\n"
     ]
    },
    {
     "name": "stdout",
     "output_type": "stream",
     "text": [
      "Epoch [1169/5000]: Train loss: 1.2874, Valid loss: 1.0250\n"
     ]
    },
    {
     "name": "stderr",
     "output_type": "stream",
     "text": [
      "Epoch [1170/5000]: 100%|██████████████████████████████████████████████████████████████████████████████████████████| 10/10 [00:00<00:00, 216.66it/s, loss=1.16]\n"
     ]
    },
    {
     "name": "stdout",
     "output_type": "stream",
     "text": [
      "Epoch [1170/5000]: Train loss: 1.2919, Valid loss: 1.0536\n"
     ]
    },
    {
     "name": "stderr",
     "output_type": "stream",
     "text": [
      "Epoch [1171/5000]: 100%|██████████████████████████████████████████████████████████████████████████████████████████| 10/10 [00:00<00:00, 217.70it/s, loss=1.22]\n"
     ]
    },
    {
     "name": "stdout",
     "output_type": "stream",
     "text": [
      "Epoch [1171/5000]: Train loss: 1.2958, Valid loss: 1.0633\n"
     ]
    },
    {
     "name": "stderr",
     "output_type": "stream",
     "text": [
      "Epoch [1172/5000]: 100%|███████████████████████████████████████████████████████████████████████████████████████████| 10/10 [00:00<00:00, 97.14it/s, loss=1.31]\n"
     ]
    },
    {
     "name": "stdout",
     "output_type": "stream",
     "text": [
      "Epoch [1172/5000]: Train loss: 1.2705, Valid loss: 0.9780\n"
     ]
    },
    {
     "name": "stderr",
     "output_type": "stream",
     "text": [
      "Epoch [1173/5000]: 100%|██████████████████████████████████████████████████████████████████████████████████████████| 10/10 [00:00<00:00, 217.03it/s, loss=1.34]\n"
     ]
    },
    {
     "name": "stdout",
     "output_type": "stream",
     "text": [
      "Epoch [1173/5000]: Train loss: 1.3080, Valid loss: 0.9993\n"
     ]
    },
    {
     "name": "stderr",
     "output_type": "stream",
     "text": [
      "Epoch [1174/5000]: 100%|██████████████████████████████████████████████████████████████████████████████████████████| 10/10 [00:00<00:00, 217.35it/s, loss=1.07]\n"
     ]
    },
    {
     "name": "stdout",
     "output_type": "stream",
     "text": [
      "Epoch [1174/5000]: Train loss: 1.2596, Valid loss: 1.0332\n"
     ]
    },
    {
     "name": "stderr",
     "output_type": "stream",
     "text": [
      "Epoch [1175/5000]: 100%|██████████████████████████████████████████████████████████████████████████████████████████| 10/10 [00:00<00:00, 219.61it/s, loss=1.15]\n"
     ]
    },
    {
     "name": "stdout",
     "output_type": "stream",
     "text": [
      "Epoch [1175/5000]: Train loss: 1.2348, Valid loss: 1.0547\n"
     ]
    },
    {
     "name": "stderr",
     "output_type": "stream",
     "text": [
      "Epoch [1176/5000]: 100%|██████████████████████████████████████████████████████████████████████████████████████████| 10/10 [00:00<00:00, 216.38it/s, loss=1.62]\n"
     ]
    },
    {
     "name": "stdout",
     "output_type": "stream",
     "text": [
      "Epoch [1176/5000]: Train loss: 1.2847, Valid loss: 1.0570\n"
     ]
    },
    {
     "name": "stderr",
     "output_type": "stream",
     "text": [
      "Epoch [1177/5000]: 100%|██████████████████████████████████████████████████████████████████████████████████████████| 10/10 [00:00<00:00, 220.10it/s, loss=1.36]\n"
     ]
    },
    {
     "name": "stdout",
     "output_type": "stream",
     "text": [
      "Epoch [1177/5000]: Train loss: 1.2646, Valid loss: 1.0262\n"
     ]
    },
    {
     "name": "stderr",
     "output_type": "stream",
     "text": [
      "Epoch [1178/5000]: 100%|███████████████████████████████████████████████████████████████████████████████████████████| 10/10 [00:00<00:00, 96.85it/s, loss=1.29]\n"
     ]
    },
    {
     "name": "stdout",
     "output_type": "stream",
     "text": [
      "Epoch [1178/5000]: Train loss: 1.2846, Valid loss: 1.0777\n"
     ]
    },
    {
     "name": "stderr",
     "output_type": "stream",
     "text": [
      "Epoch [1179/5000]: 100%|██████████████████████████████████████████████████████████████████████████████████████████| 10/10 [00:00<00:00, 216.14it/s, loss=1.31]\n"
     ]
    },
    {
     "name": "stdout",
     "output_type": "stream",
     "text": [
      "Epoch [1179/5000]: Train loss: 1.2812, Valid loss: 1.0167\n"
     ]
    },
    {
     "name": "stderr",
     "output_type": "stream",
     "text": [
      "Epoch [1180/5000]: 100%|██████████████████████████████████████████████████████████████████████████████████████████| 10/10 [00:00<00:00, 213.29it/s, loss=1.33]\n"
     ]
    },
    {
     "name": "stdout",
     "output_type": "stream",
     "text": [
      "Epoch [1180/5000]: Train loss: 1.2700, Valid loss: 1.0518\n"
     ]
    },
    {
     "name": "stderr",
     "output_type": "stream",
     "text": [
      "Epoch [1181/5000]: 100%|██████████████████████████████████████████████████████████████████████████████████████████| 10/10 [00:00<00:00, 217.89it/s, loss=1.24]\n"
     ]
    },
    {
     "name": "stdout",
     "output_type": "stream",
     "text": [
      "Epoch [1181/5000]: Train loss: 1.2658, Valid loss: 1.0023\n"
     ]
    },
    {
     "name": "stderr",
     "output_type": "stream",
     "text": [
      "Epoch [1182/5000]: 100%|██████████████████████████████████████████████████████████████████████████████████████████| 10/10 [00:00<00:00, 218.97it/s, loss=1.13]\n"
     ]
    },
    {
     "name": "stdout",
     "output_type": "stream",
     "text": [
      "Epoch [1182/5000]: Train loss: 1.2840, Valid loss: 1.0461\n"
     ]
    },
    {
     "name": "stderr",
     "output_type": "stream",
     "text": [
      "Epoch [1183/5000]: 100%|██████████████████████████████████████████████████████████████████████████████████████████| 10/10 [00:00<00:00, 219.14it/s, loss=1.27]\n"
     ]
    },
    {
     "name": "stdout",
     "output_type": "stream",
     "text": [
      "Epoch [1183/5000]: Train loss: 1.2639, Valid loss: 1.0071\n"
     ]
    },
    {
     "name": "stderr",
     "output_type": "stream",
     "text": [
      "Epoch [1184/5000]: 100%|███████████████████████████████████████████████████████████████████████████████████████████| 10/10 [00:00<00:00, 96.92it/s, loss=1.38]\n"
     ]
    },
    {
     "name": "stdout",
     "output_type": "stream",
     "text": [
      "Epoch [1184/5000]: Train loss: 1.2864, Valid loss: 1.0541\n"
     ]
    },
    {
     "name": "stderr",
     "output_type": "stream",
     "text": [
      "Epoch [1185/5000]: 100%|██████████████████████████████████████████████████████████████████████████████████████████| 10/10 [00:00<00:00, 217.66it/s, loss=1.27]\n"
     ]
    },
    {
     "name": "stdout",
     "output_type": "stream",
     "text": [
      "Epoch [1185/5000]: Train loss: 1.2789, Valid loss: 1.0021\n"
     ]
    },
    {
     "name": "stderr",
     "output_type": "stream",
     "text": [
      "Epoch [1186/5000]: 100%|██████████████████████████████████████████████████████████████████████████████████████████| 10/10 [00:00<00:00, 215.96it/s, loss=1.28]\n"
     ]
    },
    {
     "name": "stdout",
     "output_type": "stream",
     "text": [
      "Epoch [1186/5000]: Train loss: 1.2862, Valid loss: 1.0418\n"
     ]
    },
    {
     "name": "stderr",
     "output_type": "stream",
     "text": [
      "Epoch [1187/5000]: 100%|██████████████████████████████████████████████████████████████████████████████████████████| 10/10 [00:00<00:00, 216.07it/s, loss=1.28]\n"
     ]
    },
    {
     "name": "stdout",
     "output_type": "stream",
     "text": [
      "Epoch [1187/5000]: Train loss: 1.2996, Valid loss: 1.0184\n"
     ]
    },
    {
     "name": "stderr",
     "output_type": "stream",
     "text": [
      "Epoch [1188/5000]: 100%|███████████████████████████████████████████████████████████████████████████████████████████| 10/10 [00:00<00:00, 216.15it/s, loss=1.2]\n"
     ]
    },
    {
     "name": "stdout",
     "output_type": "stream",
     "text": [
      "Epoch [1188/5000]: Train loss: 1.3023, Valid loss: 1.0520\n"
     ]
    },
    {
     "name": "stderr",
     "output_type": "stream",
     "text": [
      "Epoch [1189/5000]: 100%|██████████████████████████████████████████████████████████████████████████████████████████| 10/10 [00:00<00:00, 216.98it/s, loss=1.37]\n"
     ]
    },
    {
     "name": "stdout",
     "output_type": "stream",
     "text": [
      "Epoch [1189/5000]: Train loss: 1.2904, Valid loss: 1.0731\n"
     ]
    },
    {
     "name": "stderr",
     "output_type": "stream",
     "text": [
      "Epoch [1190/5000]: 100%|███████████████████████████████████████████████████████████████████████████████████████████| 10/10 [00:00<00:00, 97.27it/s, loss=1.26]\n"
     ]
    },
    {
     "name": "stdout",
     "output_type": "stream",
     "text": [
      "Epoch [1190/5000]: Train loss: 1.2712, Valid loss: 1.1071\n"
     ]
    },
    {
     "name": "stderr",
     "output_type": "stream",
     "text": [
      "Epoch [1191/5000]: 100%|██████████████████████████████████████████████████████████████████████████████████████████| 10/10 [00:00<00:00, 212.36it/s, loss=1.22]\n"
     ]
    },
    {
     "name": "stdout",
     "output_type": "stream",
     "text": [
      "Epoch [1191/5000]: Train loss: 1.2829, Valid loss: 1.0244\n"
     ]
    },
    {
     "name": "stderr",
     "output_type": "stream",
     "text": [
      "Epoch [1192/5000]: 100%|██████████████████████████████████████████████████████████████████████████████████████████| 10/10 [00:00<00:00, 219.50it/s, loss=1.55]\n"
     ]
    },
    {
     "name": "stdout",
     "output_type": "stream",
     "text": [
      "Epoch [1192/5000]: Train loss: 1.3150, Valid loss: 1.0847\n"
     ]
    },
    {
     "name": "stderr",
     "output_type": "stream",
     "text": [
      "Epoch [1193/5000]: 100%|██████████████████████████████████████████████████████████████████████████████████████████| 10/10 [00:00<00:00, 216.15it/s, loss=1.21]\n"
     ]
    },
    {
     "name": "stdout",
     "output_type": "stream",
     "text": [
      "Epoch [1193/5000]: Train loss: 1.2834, Valid loss: 1.0121\n"
     ]
    },
    {
     "name": "stderr",
     "output_type": "stream",
     "text": [
      "Epoch [1194/5000]: 100%|██████████████████████████████████████████████████████████████████████████████████████████| 10/10 [00:00<00:00, 214.40it/s, loss=1.25]\n"
     ]
    },
    {
     "name": "stdout",
     "output_type": "stream",
     "text": [
      "Epoch [1194/5000]: Train loss: 1.2802, Valid loss: 1.0597\n"
     ]
    },
    {
     "name": "stderr",
     "output_type": "stream",
     "text": [
      "Epoch [1195/5000]: 100%|██████████████████████████████████████████████████████████████████████████████████████████| 10/10 [00:00<00:00, 217.75it/s, loss=1.32]\n"
     ]
    },
    {
     "name": "stdout",
     "output_type": "stream",
     "text": [
      "Epoch [1195/5000]: Train loss: 1.2567, Valid loss: 1.0151\n"
     ]
    },
    {
     "name": "stderr",
     "output_type": "stream",
     "text": [
      "Epoch [1196/5000]: 100%|███████████████████████████████████████████████████████████████████████████████████████████| 10/10 [00:00<00:00, 97.28it/s, loss=1.37]\n"
     ]
    },
    {
     "name": "stdout",
     "output_type": "stream",
     "text": [
      "Epoch [1196/5000]: Train loss: 1.2706, Valid loss: 1.0228\n"
     ]
    },
    {
     "name": "stderr",
     "output_type": "stream",
     "text": [
      "Epoch [1197/5000]: 100%|██████████████████████████████████████████████████████████████████████████████████████████| 10/10 [00:00<00:00, 218.20it/s, loss=1.16]\n"
     ]
    },
    {
     "name": "stdout",
     "output_type": "stream",
     "text": [
      "Epoch [1197/5000]: Train loss: 1.2516, Valid loss: 1.0149\n"
     ]
    },
    {
     "name": "stderr",
     "output_type": "stream",
     "text": [
      "Epoch [1198/5000]: 100%|██████████████████████████████████████████████████████████████████████████████████████████| 10/10 [00:00<00:00, 217.25it/s, loss=1.22]\n"
     ]
    },
    {
     "name": "stdout",
     "output_type": "stream",
     "text": [
      "Epoch [1198/5000]: Train loss: 1.2843, Valid loss: 1.0670\n"
     ]
    },
    {
     "name": "stderr",
     "output_type": "stream",
     "text": [
      "Epoch [1199/5000]: 100%|██████████████████████████████████████████████████████████████████████████████████████████| 10/10 [00:00<00:00, 217.89it/s, loss=1.12]\n"
     ]
    },
    {
     "name": "stdout",
     "output_type": "stream",
     "text": [
      "Epoch [1199/5000]: Train loss: 1.2824, Valid loss: 0.9654\n"
     ]
    },
    {
     "name": "stderr",
     "output_type": "stream",
     "text": [
      "Epoch [1200/5000]: 100%|██████████████████████████████████████████████████████████████████████████████████████████| 10/10 [00:00<00:00, 219.56it/s, loss=1.32]\n"
     ]
    },
    {
     "name": "stdout",
     "output_type": "stream",
     "text": [
      "Epoch [1200/5000]: Train loss: 1.2752, Valid loss: 1.0335\n"
     ]
    },
    {
     "name": "stderr",
     "output_type": "stream",
     "text": [
      "Epoch [1201/5000]: 100%|██████████████████████████████████████████████████████████████████████████████████████████| 10/10 [00:00<00:00, 219.60it/s, loss=1.04]\n"
     ]
    },
    {
     "name": "stdout",
     "output_type": "stream",
     "text": [
      "Epoch [1201/5000]: Train loss: 1.2858, Valid loss: 0.9759\n"
     ]
    },
    {
     "name": "stderr",
     "output_type": "stream",
     "text": [
      "Epoch [1202/5000]: 100%|███████████████████████████████████████████████████████████████████████████████████████████| 10/10 [00:00<00:00, 97.08it/s, loss=1.34]\n"
     ]
    },
    {
     "name": "stdout",
     "output_type": "stream",
     "text": [
      "Epoch [1202/5000]: Train loss: 1.2980, Valid loss: 1.1362\n"
     ]
    },
    {
     "name": "stderr",
     "output_type": "stream",
     "text": [
      "Epoch [1203/5000]: 100%|██████████████████████████████████████████████████████████████████████████████████████████| 10/10 [00:00<00:00, 213.12it/s, loss=1.42]\n"
     ]
    },
    {
     "name": "stdout",
     "output_type": "stream",
     "text": [
      "Epoch [1203/5000]: Train loss: 1.2995, Valid loss: 1.0049\n"
     ]
    },
    {
     "name": "stderr",
     "output_type": "stream",
     "text": [
      "Epoch [1204/5000]: 100%|██████████████████████████████████████████████████████████████████████████████████████████| 10/10 [00:00<00:00, 215.67it/s, loss=1.32]\n"
     ]
    },
    {
     "name": "stdout",
     "output_type": "stream",
     "text": [
      "Epoch [1204/5000]: Train loss: 1.2850, Valid loss: 1.0351\n"
     ]
    },
    {
     "name": "stderr",
     "output_type": "stream",
     "text": [
      "Epoch [1205/5000]: 100%|██████████████████████████████████████████████████████████████████████████████████████████| 10/10 [00:00<00:00, 218.94it/s, loss=1.51]\n"
     ]
    },
    {
     "name": "stdout",
     "output_type": "stream",
     "text": [
      "Epoch [1205/5000]: Train loss: 1.3127, Valid loss: 1.0765\n"
     ]
    },
    {
     "name": "stderr",
     "output_type": "stream",
     "text": [
      "Epoch [1206/5000]: 100%|██████████████████████████████████████████████████████████████████████████████████████████| 10/10 [00:00<00:00, 216.91it/s, loss=1.24]\n"
     ]
    },
    {
     "name": "stdout",
     "output_type": "stream",
     "text": [
      "Epoch [1206/5000]: Train loss: 1.2817, Valid loss: 1.0468\n"
     ]
    },
    {
     "name": "stderr",
     "output_type": "stream",
     "text": [
      "Epoch [1207/5000]: 100%|██████████████████████████████████████████████████████████████████████████████████████████| 10/10 [00:00<00:00, 219.24it/s, loss=1.29]\n"
     ]
    },
    {
     "name": "stdout",
     "output_type": "stream",
     "text": [
      "Epoch [1207/5000]: Train loss: 1.2843, Valid loss: 1.1021\n"
     ]
    },
    {
     "name": "stderr",
     "output_type": "stream",
     "text": [
      "Epoch [1208/5000]: 100%|████████████████████████████████████████████████████████████████████████████████████████████| 10/10 [00:00<00:00, 96.86it/s, loss=1.3]\n"
     ]
    },
    {
     "name": "stdout",
     "output_type": "stream",
     "text": [
      "Epoch [1208/5000]: Train loss: 1.3019, Valid loss: 1.0513\n"
     ]
    },
    {
     "name": "stderr",
     "output_type": "stream",
     "text": [
      "Epoch [1209/5000]: 100%|██████████████████████████████████████████████████████████████████████████████████████████| 10/10 [00:00<00:00, 217.70it/s, loss=1.21]\n"
     ]
    },
    {
     "name": "stdout",
     "output_type": "stream",
     "text": [
      "Epoch [1209/5000]: Train loss: 1.2939, Valid loss: 1.0913\n"
     ]
    },
    {
     "name": "stderr",
     "output_type": "stream",
     "text": [
      "Epoch [1210/5000]: 100%|██████████████████████████████████████████████████████████████████████████████████████████| 10/10 [00:00<00:00, 216.83it/s, loss=1.21]\n"
     ]
    },
    {
     "name": "stdout",
     "output_type": "stream",
     "text": [
      "Epoch [1210/5000]: Train loss: 1.2798, Valid loss: 1.0307\n"
     ]
    },
    {
     "name": "stderr",
     "output_type": "stream",
     "text": [
      "Epoch [1211/5000]: 100%|██████████████████████████████████████████████████████████████████████████████████████████| 10/10 [00:00<00:00, 219.22it/s, loss=1.35]\n"
     ]
    },
    {
     "name": "stdout",
     "output_type": "stream",
     "text": [
      "Epoch [1211/5000]: Train loss: 1.2854, Valid loss: 1.0763\n"
     ]
    },
    {
     "name": "stderr",
     "output_type": "stream",
     "text": [
      "Epoch [1212/5000]: 100%|██████████████████████████████████████████████████████████████████████████████████████████| 10/10 [00:00<00:00, 219.14it/s, loss=1.06]\n"
     ]
    },
    {
     "name": "stdout",
     "output_type": "stream",
     "text": [
      "Epoch [1212/5000]: Train loss: 1.2468, Valid loss: 1.0532\n"
     ]
    },
    {
     "name": "stderr",
     "output_type": "stream",
     "text": [
      "Epoch [1213/5000]: 100%|██████████████████████████████████████████████████████████████████████████████████████████| 10/10 [00:00<00:00, 217.45it/s, loss=1.14]\n"
     ]
    },
    {
     "name": "stdout",
     "output_type": "stream",
     "text": [
      "Epoch [1213/5000]: Train loss: 1.2407, Valid loss: 1.0486\n"
     ]
    },
    {
     "name": "stderr",
     "output_type": "stream",
     "text": [
      "Epoch [1214/5000]: 100%|███████████████████████████████████████████████████████████████████████████████████████████| 10/10 [00:00<00:00, 97.30it/s, loss=1.36]\n"
     ]
    },
    {
     "name": "stdout",
     "output_type": "stream",
     "text": [
      "Epoch [1214/5000]: Train loss: 1.2662, Valid loss: 1.0109\n"
     ]
    },
    {
     "name": "stderr",
     "output_type": "stream",
     "text": [
      "Epoch [1215/5000]: 100%|██████████████████████████████████████████████████████████████████████████████████████████| 10/10 [00:00<00:00, 217.62it/s, loss=1.19]\n"
     ]
    },
    {
     "name": "stdout",
     "output_type": "stream",
     "text": [
      "Epoch [1215/5000]: Train loss: 1.2421, Valid loss: 1.0768\n"
     ]
    },
    {
     "name": "stderr",
     "output_type": "stream",
     "text": [
      "Epoch [1216/5000]: 100%|██████████████████████████████████████████████████████████████████████████████████████████| 10/10 [00:00<00:00, 216.92it/s, loss=1.13]\n"
     ]
    },
    {
     "name": "stdout",
     "output_type": "stream",
     "text": [
      "Epoch [1216/5000]: Train loss: 1.2742, Valid loss: 0.9881\n"
     ]
    },
    {
     "name": "stderr",
     "output_type": "stream",
     "text": [
      "Epoch [1217/5000]: 100%|██████████████████████████████████████████████████████████████████████████████████████████| 10/10 [00:00<00:00, 218.45it/s, loss=1.23]\n"
     ]
    },
    {
     "name": "stdout",
     "output_type": "stream",
     "text": [
      "Epoch [1217/5000]: Train loss: 1.2837, Valid loss: 1.0084\n"
     ]
    },
    {
     "name": "stderr",
     "output_type": "stream",
     "text": [
      "Epoch [1218/5000]: 100%|██████████████████████████████████████████████████████████████████████████████████████████| 10/10 [00:00<00:00, 218.82it/s, loss=1.33]\n"
     ]
    },
    {
     "name": "stdout",
     "output_type": "stream",
     "text": [
      "Epoch [1218/5000]: Train loss: 1.2701, Valid loss: 1.0012\n"
     ]
    },
    {
     "name": "stderr",
     "output_type": "stream",
     "text": [
      "Epoch [1219/5000]: 100%|██████████████████████████████████████████████████████████████████████████████████████████| 10/10 [00:00<00:00, 216.54it/s, loss=1.24]\n"
     ]
    },
    {
     "name": "stdout",
     "output_type": "stream",
     "text": [
      "Epoch [1219/5000]: Train loss: 1.2831, Valid loss: 1.0496\n"
     ]
    },
    {
     "name": "stderr",
     "output_type": "stream",
     "text": [
      "Epoch [1220/5000]: 100%|███████████████████████████████████████████████████████████████████████████████████████████| 10/10 [00:00<00:00, 97.32it/s, loss=1.33]\n"
     ]
    },
    {
     "name": "stdout",
     "output_type": "stream",
     "text": [
      "Epoch [1220/5000]: Train loss: 1.3018, Valid loss: 1.1048\n"
     ]
    },
    {
     "name": "stderr",
     "output_type": "stream",
     "text": [
      "Epoch [1221/5000]: 100%|██████████████████████████████████████████████████████████████████████████████████████████| 10/10 [00:00<00:00, 220.62it/s, loss=1.31]\n"
     ]
    },
    {
     "name": "stdout",
     "output_type": "stream",
     "text": [
      "Epoch [1221/5000]: Train loss: 1.2646, Valid loss: 1.0516\n"
     ]
    },
    {
     "name": "stderr",
     "output_type": "stream",
     "text": [
      "Epoch [1222/5000]: 100%|██████████████████████████████████████████████████████████████████████████████████████████| 10/10 [00:00<00:00, 217.73it/s, loss=1.46]\n"
     ]
    },
    {
     "name": "stdout",
     "output_type": "stream",
     "text": [
      "Epoch [1222/5000]: Train loss: 1.3029, Valid loss: 1.0971\n"
     ]
    },
    {
     "name": "stderr",
     "output_type": "stream",
     "text": [
      "Epoch [1223/5000]: 100%|██████████████████████████████████████████████████████████████████████████████████████████| 10/10 [00:00<00:00, 218.74it/s, loss=1.39]\n"
     ]
    },
    {
     "name": "stdout",
     "output_type": "stream",
     "text": [
      "Epoch [1223/5000]: Train loss: 1.2789, Valid loss: 1.0479\n"
     ]
    },
    {
     "name": "stderr",
     "output_type": "stream",
     "text": [
      "Epoch [1224/5000]: 100%|██████████████████████████████████████████████████████████████████████████████████████████| 10/10 [00:00<00:00, 217.38it/s, loss=1.23]\n"
     ]
    },
    {
     "name": "stdout",
     "output_type": "stream",
     "text": [
      "Epoch [1224/5000]: Train loss: 1.2806, Valid loss: 1.0651\n"
     ]
    },
    {
     "name": "stderr",
     "output_type": "stream",
     "text": [
      "Epoch [1225/5000]: 100%|██████████████████████████████████████████████████████████████████████████████████████████| 10/10 [00:00<00:00, 220.71it/s, loss=1.31]\n"
     ]
    },
    {
     "name": "stdout",
     "output_type": "stream",
     "text": [
      "Epoch [1225/5000]: Train loss: 1.2807, Valid loss: 1.0070\n"
     ]
    },
    {
     "name": "stderr",
     "output_type": "stream",
     "text": [
      "Epoch [1226/5000]: 100%|███████████████████████████████████████████████████████████████████████████████████████████| 10/10 [00:00<00:00, 97.55it/s, loss=1.33]\n"
     ]
    },
    {
     "name": "stdout",
     "output_type": "stream",
     "text": [
      "Epoch [1226/5000]: Train loss: 1.2900, Valid loss: 1.0637\n"
     ]
    },
    {
     "name": "stderr",
     "output_type": "stream",
     "text": [
      "Epoch [1227/5000]: 100%|███████████████████████████████████████████████████████████████████████████████████████████| 10/10 [00:00<00:00, 215.08it/s, loss=1.3]\n"
     ]
    },
    {
     "name": "stdout",
     "output_type": "stream",
     "text": [
      "Epoch [1227/5000]: Train loss: 1.2696, Valid loss: 1.0314\n",
      "\n",
      "Model is not improving, so we halt the training session.\n",
      "Best Loss: 0.9647051930427551\n"
     ]
    }
   ],
   "source": [
    "model = My_Model(input_dim=x_train.shape[1]).to(device) # put your model and data on the same computation device.\n",
    "trainer(train_loader, valid_loader, model, config, device)"
   ]
  },
  {
   "cell_type": "code",
   "execution_count": 14,
   "metadata": {
    "id": "KBcodjJjODyY"
   },
   "outputs": [],
   "source": [
    "# Best Valid loss without FS: 2.4238\n",
    "# Best Valid loss with FS: 1.1371\n",
    "# Best Valid loss with Adam: 1.0121\n",
    "# Best Valid loss with AdamW: 0.9102\n",
    "# Current Best: 0.9029\n",
    "\n",
    "# 0.8854"
   ]
  },
  {
   "cell_type": "markdown",
   "metadata": {
    "id": "Ik09KPqU-di-"
   },
   "source": [
    "# Plot learning curves with `tensorboard` (optional)\n",
    "\n",
    "`tensorboard` is a tool that allows you to visualize your training progress.\n",
    "\n",
    "If this block does not display your learning curve, please wait for few minutes, and re-run this block. It might take some time to load your logging information. "
   ]
  },
  {
   "cell_type": "code",
   "execution_count": 15,
   "metadata": {
    "id": "loA4nKmLGQ-n"
   },
   "outputs": [],
   "source": [
    "%reload_ext tensorboard\n",
    "%tensorboard --logdir=./runs/"
   ]
  },
  {
   "cell_type": "markdown",
   "metadata": {
    "id": "yhAHGqC9-woK"
   },
   "source": [
    "# Testing\n",
    "The predictions of your model on testing set will be stored at `pred.csv`."
   ]
  },
  {
   "cell_type": "code",
   "execution_count": 16,
   "metadata": {
    "id": "Q5eVdpbvAlAe"
   },
   "outputs": [
    {
     "name": "stderr",
     "output_type": "stream",
     "text": [
      "100%|██████████████████████████████████████████████████████████████████████████████████████████████████████████████████████████| 2/2 [00:00<00:00, 857.64it/s]\n"
     ]
    }
   ],
   "source": [
    "def save_pred(preds, file):\n",
    "    ''' Save predictions to specified file '''\n",
    "    with open(file, 'w') as fp:\n",
    "        writer = csv.writer(fp)\n",
    "        writer.writerow(['id', 'tested_positive'])\n",
    "        for i, p in enumerate(preds):\n",
    "            writer.writerow([i, p])\n",
    "\n",
    "model = My_Model(input_dim=x_train.shape[1]).to(device)\n",
    "model.load_state_dict(torch.load(config['save_path']))\n",
    "preds = predict(test_loader, model, device) \n",
    "save_pred(preds, 'pred.csv')         "
   ]
  },
  {
   "cell_type": "code",
   "execution_count": 17,
   "metadata": {},
   "outputs": [
    {
     "data": {
      "text/plain": [
       "array([ 8.298123 ,  9.0597315,  5.1944437, ..., 36.64625  , 36.292133 ,\n",
       "       39.311195 ], dtype=float32)"
      ]
     },
     "execution_count": 17,
     "metadata": {},
     "output_type": "execute_result"
    }
   ],
   "source": [
    "preds"
   ]
  },
  {
   "cell_type": "code",
   "execution_count": 18,
   "metadata": {},
   "outputs": [],
   "source": [
    "# np.save('pred_arr_train_test_1', preds)"
   ]
  },
  {
   "cell_type": "markdown",
   "metadata": {
    "id": "IJ_k5rY0GvSV"
   },
   "source": [
    "# Reference\n",
    "This notebook uses code written by Heng-Jui Chang @ NTUEE (https://github.com/ga642381/ML2021-Spring/blob/main/HW01/HW01.ipynb)"
   ]
  }
 ],
 "metadata": {
  "accelerator": "GPU",
  "colab": {
   "collapsed_sections": [],
   "name": "ML2022Spring_HW1.ipynb",
   "provenance": []
  },
  "kernelspec": {
   "display_name": "Python 3",
   "language": "python",
   "name": "python3"
  },
  "language_info": {
   "codemirror_mode": {
    "name": "ipython",
    "version": 3
   },
   "file_extension": ".py",
   "mimetype": "text/x-python",
   "name": "python",
   "nbconvert_exporter": "python",
   "pygments_lexer": "ipython3",
   "version": "3.7.11"
  },
  "toc": {
   "base_numbering": 1,
   "nav_menu": {},
   "number_sections": true,
   "sideBar": true,
   "skip_h1_title": false,
   "title_cell": "Table of Contents",
   "title_sidebar": "Contents",
   "toc_cell": false,
   "toc_position": {},
   "toc_section_display": true,
   "toc_window_display": true
  }
 },
 "nbformat": 4,
 "nbformat_minor": 1
}
