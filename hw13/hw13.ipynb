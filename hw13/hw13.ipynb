{
 "cells": [
  {
   "cell_type": "markdown",
   "metadata": {
    "id": "k_UqVZtpSz5Z"
   },
   "source": [
    "# Homework 13 - Network Compression\n",
    "\n",
    "Author: Liang-Hsuan Tseng (b07502072@ntu.edu.tw), modified from ML2021-HW13\n",
    "\n",
    "If you have any questions, feel free to ask: ntu-ml-2022spring-ta@googlegroups.com\n",
    "\n",
    "[**Link to HW13 Slides**](https://docs.google.com/presentation/d/1nCT9XrInF21B4qQAWuODy5sonKDnpGhjtcAwqa75mVU/edit#slide=id.p)"
   ]
  },
  {
   "cell_type": "markdown",
   "metadata": {
    "id": "kYKQ2_nzSz5c"
   },
   "source": [
    "## Outline\n",
    "\n",
    "* [Packages](#Packages) - intall some required packages.\n",
    "* [Dataset](#Dataset) - something you need to know about the dataset.\n",
    "* [Configs](#Configs) - the configs of the experiments, you can change some hyperparameters here.\n",
    "* [Architecture_Design](#Architecture_Design) - depthwise and pointwise convolution examples and some useful links.\n",
    "* [Knowledge_Distillation](#Knowledge_Distillation) - KL divergence loss for knowledge distillation and some useful links.\n",
    "* [Training](#Training) - training loop implementation modified from HW3.\n",
    "* [Inference](#Inference) - create submission.csv by using the student_best.ckpt from the previous experiment.\n",
    "\n"
   ]
  },
  {
   "cell_type": "markdown",
   "metadata": {
    "id": "-nyWIJEoSz5d"
   },
   "source": [
    "### Packages\n",
    "First, we need to import some useful packages. If the torchsummary package are not intalled, please install it via `pip install torchsummary`"
   ]
  },
  {
   "cell_type": "code",
   "execution_count": null,
   "metadata": {},
   "outputs": [],
   "source": [
    "%pip install torchsummary"
   ]
  },
  {
   "cell_type": "code",
   "execution_count": null,
   "metadata": {
    "id": "vj5hoKkNSz5e"
   },
   "outputs": [],
   "source": [
    "# Import some useful packages for this homework\n",
    "import numpy as np\n",
    "import pandas as pd\n",
    "import torch\n",
    "import os\n",
    "import torch.nn as nn\n",
    "import torch.nn.functional as F\n",
    "import torchvision.transforms as transforms\n",
    "from PIL import Image\n",
    "from torch.utils.data import ConcatDataset, DataLoader, Subset, Dataset # \"ConcatDataset\" and \"Subset\" are possibly useful\n",
    "from torchvision.datasets import DatasetFolder, VisionDataset\n",
    "from torchsummary import summary\n",
    "from tqdm.auto import tqdm\n",
    "import random\n",
    "\n",
    "!nvidia-smi # list your current GPU"
   ]
  },
  {
   "cell_type": "markdown",
   "metadata": {
    "id": "LLkfmF7WSz5f"
   },
   "source": [
    "### Configs\n",
    "In this part, you can specify some variables and hyperparameters as your configs."
   ]
  },
  {
   "cell_type": "code",
   "execution_count": null,
   "metadata": {
    "id": "OtmYVkobSz5f"
   },
   "outputs": [],
   "source": [
    "cfg = {\n",
    "    'dataset_root': './food11-hw13',\n",
    "    'save_dir': './outputs',\n",
    "    'exp_name': \"strong_baseline\",\n",
    "    'batch_size': 64,  # 64,\n",
    "    'lr': 1e-3, # 3e-4,\n",
    "    'seed': 20220013,\n",
    "    'loss_fn_type': 'KD', # simple baseline: CE, medium baseline: KD. See the Knowledge_Distillation part for more information.\n",
    "    'weight_decay': 1e-4,\n",
    "    'grad_norm_max': 10,\n",
    "    'n_epochs': 150,  # 10, # train more steps to pass the medium baseline.\n",
    "    'patience': 50,\n",
    "}"
   ]
  },
  {
   "cell_type": "code",
   "execution_count": null,
   "metadata": {
    "colab": {
     "base_uri": "https://localhost:8080/"
    },
    "id": "-hQgM5oQSz5g",
    "outputId": "f2a84b52-4a0c-443e-be31-db3107566cde"
   },
   "outputs": [],
   "source": [
    "myseed = cfg['seed']  # set a random seed for reproducibility\n",
    "torch.backends.cudnn.deterministic = True\n",
    "torch.backends.cudnn.benchmark = False\n",
    "np.random.seed(myseed)\n",
    "torch.manual_seed(myseed)\n",
    "random.seed(myseed)\n",
    "if torch.cuda.is_available():\n",
    "    torch.cuda.manual_seed_all(myseed)\n",
    "\n",
    "save_path = os.path.join(cfg['save_dir'], cfg['exp_name']) # create saving directory\n",
    "os.makedirs(save_path, exist_ok=True)\n",
    "\n",
    "# define simple logging functionality\n",
    "log_fw = open(f\"{save_path}/log.txt\", 'w') # open log file to save log outputs\n",
    "def log(text):     # define a logging function to trace the training process\n",
    "    print(text)\n",
    "    log_fw.write(str(text)+'\\n')\n",
    "    log_fw.flush()\n",
    "\n",
    "log(cfg)  # log your configs to the log file"
   ]
  },
  {
   "cell_type": "markdown",
   "metadata": {
    "id": "oXAuqqkHSz5h"
   },
   "source": [
    "### Dataset\n",
    "We use Food11 dataset for this homework, which is similar to homework3. But remember, Please DO NOT utilize the dataset of HW3. We've modified the dataset, so you should only access the dataset by loading it in this kaggle notebook or through the links provided in the HW13 colab notebooks."
   ]
  },
  {
   "cell_type": "code",
   "execution_count": null,
   "metadata": {
    "colab": {
     "base_uri": "https://localhost:8080/"
    },
    "id": "5ERoxWV4VM2K",
    "outputId": "4400363c-3c20-4c7c-e43a-137474c0f0db"
   },
   "outputs": [],
   "source": [
    "# fetch and download the dataset from github (about 1.12G)\n",
    "# !wget https://github.com/virginiakm1988/ML2022-Spring/raw/main/HW13/food11-hw13.tar.gz \n",
    "## backup links:\n",
    "\n",
    "!wget https://github.com/andybi7676/ml2022spring-hw13/raw/main/food11-hw13.tar.gz -O food11-hw13.tar.gz\n",
    "# !gdown '1ijKoNmpike_yjUw8SWRVVWVoMOXXqycj' --output food11-hw13.tar.gz"
   ]
  },
  {
   "cell_type": "code",
   "execution_count": null,
   "metadata": {
    "id": "eAC22Jf1WxL9"
   },
   "outputs": [],
   "source": [
    "# extract the data\n",
    "!tar -xzf ./food11-hw13.tar.gz # Could take some time\n",
    "# !tar -xzvf ./food11-hw13.tar.gz # use this command if you want to checkout the whole process."
   ]
  },
  {
   "cell_type": "code",
   "execution_count": null,
   "metadata": {
    "_cell_guid": "b1076dfc-b9ad-4769-8c92-a6c4dae69d19",
    "_uuid": "8f2839f25d086af736a60e9eeb907d3b93b6e0e5",
    "colab": {
     "base_uri": "https://localhost:8080/"
    },
    "id": "_CspVRJESz5h",
    "outputId": "731381fd-7b56-4dde-9d6e-caf8e18e6d11"
   },
   "outputs": [],
   "source": [
    "for dirname, _, filenames in os.walk('./food11-hw13'):\n",
    "    if len(filenames) > 0:\n",
    "        print(f\"{dirname}: {len(filenames)} files.\") # Show the file amounts in each split."
   ]
  },
  {
   "cell_type": "markdown",
   "metadata": {
    "id": "_J76I6bTSz5i"
   },
   "source": [
    "Next, specify train/test transform for image data augmentation.\n",
    "Torchvision provides lots of useful utilities for image preprocessing, data wrapping as well as data augmentation.\n",
    "\n",
    "Please refer to [PyTorch official website](https://pytorch.org/vision/stable/transforms.html) for details about different transforms. You can also apply the knowledge or experience you learned in HW3."
   ]
  },
  {
   "cell_type": "code",
   "execution_count": null,
   "metadata": {
    "id": "GYIvuK-RSz5i"
   },
   "outputs": [],
   "source": [
    "normalize = transforms.Normalize(mean=[0.485, 0.456, 0.406], std=[0.229, 0.224, 0.225])\n",
    "# define training/testing transforms\n",
    "test_tfm = transforms.Compose([\n",
    "    # It is not encouraged to modify this part if you are using the provided teacher model. This transform is stardard and good enough for testing.\n",
    "    transforms.Resize(256),\n",
    "    transforms.CenterCrop(224),\n",
    "    transforms.ToTensor(),\n",
    "    normalize,\n",
    "])\n",
    "\n",
    "train_tfm = transforms.Compose([\n",
    "    # add some useful transform or augmentation here, according to your experience in HW3.\n",
    "    transforms.Resize(256),  # You can change this\n",
    "    transforms.CenterCrop(224), # You can change this, but be aware of that the given teacher model's input size is 224.\n",
    "    # The training input size of the provided teacher model is (3, 224, 224).\n",
    "    # Thus, Input size other then 224 might hurt the performance. please be careful.\n",
    "    transforms.RandomHorizontalFlip(), # You can change this.\n",
    "    transforms.RandomRotation(15),\n",
    "    transforms.ToTensor(),\n",
    "    normalize,\n",
    "])"
   ]
  },
  {
   "cell_type": "code",
   "execution_count": null,
   "metadata": {
    "id": "SsYOy-PBSz5i"
   },
   "outputs": [],
   "source": [
    "class FoodDataset(Dataset):\n",
    "    def __init__(self, path, tfm=test_tfm, files = None):\n",
    "        super().__init__()\n",
    "        self.path = path\n",
    "        self.files = sorted([os.path.join(path,x) for x in os.listdir(path) if x.endswith(\".jpg\")])\n",
    "        if files != None:\n",
    "            self.files = files\n",
    "        print(f\"One {path} sample\",self.files[0])\n",
    "        self.transform = tfm\n",
    "  \n",
    "    def __len__(self):\n",
    "        return len(self.files)\n",
    "  \n",
    "    def __getitem__(self,idx):\n",
    "        fname = self.files[idx]\n",
    "        im = Image.open(fname)\n",
    "        im = self.transform(im)\n",
    "        try:\n",
    "            label = int(fname.split(\"/\")[-1].split(\"_\")[0])\n",
    "        except:\n",
    "            label = -1 # test has no label\n",
    "        return im,label"
   ]
  },
  {
   "cell_type": "code",
   "execution_count": null,
   "metadata": {
    "colab": {
     "base_uri": "https://localhost:8080/"
    },
    "id": "PUl030elSz5j",
    "outputId": "b4624cba-ed40-4371-86d2-94dc8fa8faf0"
   },
   "outputs": [],
   "source": [
    "# Form train/valid dataloaders\n",
    "train_set = FoodDataset(os.path.join(cfg['dataset_root'],\"training\"), tfm=train_tfm)\n",
    "train_loader = DataLoader(train_set, batch_size=cfg['batch_size'], shuffle=True, num_workers=0, pin_memory=True)\n",
    "\n",
    "valid_set = FoodDataset(os.path.join(cfg['dataset_root'], \"validation\"), tfm=test_tfm)\n",
    "valid_loader = DataLoader(valid_set, batch_size=cfg['batch_size'], shuffle=False, num_workers=0, pin_memory=True)"
   ]
  },
  {
   "cell_type": "markdown",
   "metadata": {
    "id": "Kna5Gp_eSz5j"
   },
   "source": [
    "### Architecture_Design\n",
    "\n",
    "In this homework, you have to design a smaller network and make it perform well. Apparently, a well-designed architecture is crucial for such task. Here, we introduce the depthwise and pointwise convolution. These variants of convolution are some common techniques for architecture design when it comes to network compression.\n",
    "\n",
    "<img src=\"https://i.imgur.com/LFDKHOp.png\" width=400px>\n",
    "\n",
    "* explanation of depthwise and pointwise convolutions:\n",
    "    * [prof. Hung-yi Lee's slides(p.24~p.30, especially p.28)](https://speech.ee.ntu.edu.tw/~hylee/ml/ml2021-course-data/tiny_v7.pdf)"
   ]
  },
  {
   "cell_type": "code",
   "execution_count": null,
   "metadata": {
    "id": "chLDiavKSz5j"
   },
   "outputs": [],
   "source": [
    "# Example implementation of Depthwise and Pointwise Convolution \n",
    "def dwpw_conv(in_channels, out_channels, kernel_size, stride=1, padding=0):\n",
    "    return nn.Sequential(\n",
    "        nn.Conv2d(in_channels, in_channels, kernel_size, stride=stride, padding=padding, groups=in_channels), #depthwise convolution\n",
    "        nn.Conv2d(in_channels, out_channels, 1), # pointwise convolution\n",
    "        nn.BatchNorm2d(out_channels),\n",
    "        nn.ReLU(),\n",
    "    )"
   ]
  },
  {
   "cell_type": "markdown",
   "metadata": {
    "id": "NfXa-ZBRSz5k"
   },
   "source": [
    "* other useful techniques\n",
    "    * [group convolution](https://www.researchgate.net/figure/The-transformations-within-a-layer-in-DenseNets-left-and-CondenseNets-at-training-time_fig2_321325862) (Actually, depthwise convolution is a specific type of group convolution)\n",
    "    * [SqueezeNet](!https://arxiv.org/abs/1602.07360)\n",
    "    * [MobileNet](!https://arxiv.org/abs/1704.04861)\n",
    "    * [ShuffleNet](!https://arxiv.org/abs/1707.01083)\n",
    "    * [Xception](!https://arxiv.org/abs/1610.02357)\n",
    "    * [GhostNet](!https://arxiv.org/abs/1911.11907)\n"
   ]
  },
  {
   "cell_type": "markdown",
   "metadata": {
    "id": "wo4hrDDESz5k"
   },
   "source": [
    "After introducing depthwise and pointwise convolutions, let's define the **student network architecture**. Here, we have a very simple network formed by some regular convolution layers and pooling layers. You can replace the regular convolution layers with the depthwise and pointwise convolutions. In this way, you can further increase the depth or the width of your network architecture."
   ]
  },
  {
   "cell_type": "code",
   "execution_count": null,
   "metadata": {
    "id": "DTin50J3Sz5k"
   },
   "outputs": [],
   "source": [
    "# Define your student network here. You have to copy-paste this code block to HW13 GradeScope before deadline.\n",
    "# We will use your student network definition to evaluate your results(including the total parameter amount).\n",
    "\n",
    "class StudentNet(nn.Module):\n",
    "    def __init__(self):\n",
    "      super().__init__()\n",
    "\n",
    "      # ---------- TODO ----------\n",
    "      # Modify your model architecture\n",
    "\n",
    "      self.cnn = nn.Sequential(\n",
    "#         nn.Sequential(\n",
    "#             nn.Conv2d(3, 64, 3), \n",
    "#             nn.BatchNorm2d(64),\n",
    "#             nn.ReLU(),\n",
    "#             nn.MaxPool2d(2),\n",
    "#         ),\n",
    "        dwpw_conv(3, 32, 3),\n",
    "        dwpw_conv(32, 64, 3),\n",
    "        nn.MaxPool2d(2),\n",
    "        dwpw_conv(64, 128, 3),\n",
    "#         nn.MaxPool2d(2),\n",
    "        dwpw_conv(128, 128, 3),\n",
    "        nn.MaxPool2d(2),\n",
    "        dwpw_conv(128, 128, 3),\n",
    "        dwpw_conv(128, 256, 3),\n",
    "        nn.MaxPool2d(2),\n",
    "        # Here we adopt Global Average Pooling for various input size.\n",
    "        nn.AdaptiveAvgPool2d((1, 1)),\n",
    "      )\n",
    "        \n",
    "      self.fc = nn.Sequential(\n",
    "        nn.Linear(256, 62),\n",
    "        nn.ReLU(),\n",
    "        nn.Linear(62, 11),\n",
    "      )\n",
    "      \n",
    "    def forward(self, x):\n",
    "      out = self.cnn(x)\n",
    "      out = out.view(out.size()[0], -1)\n",
    "      return self.fc(out)\n",
    "\n",
    "def get_student_model(): # This function should have no arguments so that we can get your student network by directly calling it.\n",
    "    # you can modify or do anything here, just remember to return an nn.Module as your student network.  \n",
    "    return StudentNet() \n",
    "\n",
    "# End of definition of your student model and the get_student_model API\n",
    "# Please copy-paste the whole code block, including the get_student_model function."
   ]
  },
  {
   "cell_type": "markdown",
   "metadata": {
    "id": "w99ooIeOSz5k"
   },
   "source": [
    "After specifying the student network architecture, please use `torchsummary` package to get information about the network and verify the total number of parameters. Note that the total params of your student network should not exceed the limit (`Total params` in `torchsummary` ≤ 100,000). "
   ]
  },
  {
   "cell_type": "code",
   "execution_count": null,
   "metadata": {
    "colab": {
     "base_uri": "https://localhost:8080/"
    },
    "id": "ef3hT8W2Sz5k",
    "outputId": "9d61fd64-9365-4acf-b64d-29c36cad84da"
   },
   "outputs": [],
   "source": [
    "# DO NOT modify this block and please make sure that this block can run sucessfully. \n",
    "student_model = get_student_model()\n",
    "summary(student_model, (3, 224, 224), device='cpu')\n",
    "# You have to copy&paste the results of this block to HW13 GradeScope. "
   ]
  },
  {
   "cell_type": "code",
   "execution_count": null,
   "metadata": {
    "colab": {
     "base_uri": "https://localhost:8080/"
    },
    "id": "EMsCeYkeSz5l",
    "outputId": "3a483977-50f6-4451-be9e-1024624adc80"
   },
   "outputs": [],
   "source": [
    "# Load provided teacher model (model architecture: resnet18, num_classes=11, test-acc ~= 89.9%)\n",
    "teacher_model = torch.hub.load('pytorch/vision:v0.10.0', 'resnet18', pretrained=False, num_classes=11)\n",
    "# load state dict\n",
    "teacher_ckpt_path = os.path.join(cfg['dataset_root'], \"resnet18_teacher.ckpt\")\n",
    "teacher_model.load_state_dict(torch.load(teacher_ckpt_path, map_location='cpu'))\n",
    "# Now you already know the teacher model's architecture. You can take advantage of it if you want to pass the strong or boss baseline. \n",
    "# Source code of resnet in pytorch: (https://github.com/pytorch/vision/blob/main/torchvision/models/resnet.py)\n",
    "# You can also see the summary of teacher model. There are 11,182,155 parameters totally in the teacher model\n",
    "# summary(teacher_model, (3, 224, 224), device='cpu')"
   ]
  },
  {
   "cell_type": "markdown",
   "metadata": {
    "id": "SssBmJciSz5l"
   },
   "source": [
    "### Knowledge_Distillation\n",
    "\n",
    "<img src=\"https://i.imgur.com/H2aF7Rv.png=100x\" width=\"400px\">\n",
    "\n",
    "Since we have a learned big model, let it teach the other small model. In implementation, let the training target be the prediction of big model instead of the ground truth.\n",
    "\n",
    "**Why it works?**\n",
    "* If the data is not clean, then the prediction of big model could ignore the noise of the data with wrong labeled.\n",
    "* There might have some relations between classes, so soft labels from teacher model might be useful. For example, Number 8 is more similar to 6, 9, 0 than 1, 7.\n",
    "\n",
    "\n",
    "**How to implement?**\n",
    "* $Loss = \\alpha T^2 \\times KL(p || q) + (1-\\alpha)(\\text{Original Cross Entropy Loss}), \\text{where } p=softmax(\\frac{\\text{student's logits}}{T}), \\text{and } q=softmax(\\frac{\\text{teacher's logits}}{T})$\n",
    "* very useful link: [pytorch docs of KLDivLoss with examples](!https://pytorch.org/docs/stable/generated/torch.nn.KLDivLoss.html)\n",
    "* original paper: [Distilling the Knowledge in a Neural Network](!https://arxiv.org/abs/1503.02531)"
   ]
  },
  {
   "cell_type": "code",
   "execution_count": null,
   "metadata": {
    "id": "twZb0G9-Sz5l"
   },
   "outputs": [],
   "source": [
    "# Implement the loss function with KL divergence loss for knowledge distillation.\n",
    "# You also have to copy-paste this whole block to HW13 GradeScope. \n",
    "def loss_fn_kd(student_logits, labels, teacher_logits, alpha=0.5, temperature=5.0):\n",
    "    # ------------TODO-------------\n",
    "    # Refer to the above formula and finish the loss function for knowkedge distillation using KL divergence loss and CE loss.\n",
    "    # If you have no idea, please take a look at the provided useful link above.\n",
    "    # 先計算原始的 CrossEntropy Loss\n",
    "    ce_loss = F.cross_entropy(student_logits, labels) * (1. - alpha)\n",
    "    # 再計算 KL Divergence Loss\n",
    "    kl_div = nn.KLDivLoss(reduction='batchmean')\n",
    "    kl_loss = kl_div(F.log_softmax(student_logits/temperature, dim=1), F.softmax(teacher_logits/temperature, dim=1)) * (alpha * temperature * temperature) \n",
    "    return ce_loss + kl_loss\n"
   ]
  },
  {
   "cell_type": "code",
   "execution_count": null,
   "metadata": {
    "colab": {
     "base_uri": "https://localhost:8080/"
    },
    "id": "alv2sq_xSz5l",
    "outputId": "5369522b-2348-47aa-cb90-8468fe3f829f"
   },
   "outputs": [],
   "source": [
    "# choose the loss function by the config\n",
    "if cfg['loss_fn_type'] == 'CE':\n",
    "    # For the classification task, we use cross-entropy as the default loss function.\n",
    "    loss_fn = nn.CrossEntropyLoss() # loss function for simple baseline.\n",
    "\n",
    "if cfg['loss_fn_type'] == 'KD': # KD stands for knowledge distillation\n",
    "    loss_fn = loss_fn_kd # implement loss_fn_kd for the report question and the medium baseline.\n",
    "\n",
    "# You can also adopt other types of knowledge distillation techniques for strong and boss baseline, but use function name other than `loss_fn_kd`\n",
    "# For example:\n",
    "# def loss_fn_custom_kd():\n",
    "#     pass\n",
    "# if cfg['loss_fn_type'] == 'custom_kd':\n",
    "#     loss_fn = loss_fn_custom_kd\n",
    "\n",
    "# \"cuda\" only when GPUs are available.\n",
    "# device = \"cuda\" if torch.cuda.is_available() else \"cpu\"\n",
    "device = torch.device(\"cuda\", 0)\n",
    "\n",
    "log(f\"device: {device}\")\n",
    "\n",
    "# The number of training epochs and patience.\n",
    "n_epochs = cfg['n_epochs']\n",
    "patience = cfg['patience'] # If no improvement in 'patience' epochs, early stop"
   ]
  },
  {
   "cell_type": "markdown",
   "metadata": {
    "id": "pI_HZWNFSz5l"
   },
   "source": [
    "### Training\n",
    "implement training loop for simple baseline, feel free to modify it."
   ]
  },
  {
   "cell_type": "code",
   "execution_count": null,
   "metadata": {
    "colab": {
     "base_uri": "https://localhost:8080/",
     "height": 1000,
     "referenced_widgets": [
      "bed8b147842246a9922251e00f8848c7",
      "579788b4554e48948dd67141e93b959a",
      "c8a983d3e2f449198f39bbc50b523cd0",
      "2d3608f9170a493a970f24e9378ddb25",
      "b28fa192da4946d58a43f502489e4060",
      "f5929ee4ef2046a6a20f7378ea329243",
      "cecee78828dc425ea77b29709a499cfd",
      "3cbd43bfef634b50b07582f2a70ddca9",
      "497d87dd0b4a49c1b7d146fdd9c38971",
      "a822c46387a7458b828cae0b95f069eb",
      "96ad7cc3769940ee970e38c6bf05481c",
      "2ed2942f109e4387a93b831f15b1ad70",
      "dd1b87364bc44e408606c313617d728a",
      "f8e9a623393a409e96b9e3be8b8893d3",
      "b6312ba3b7f34cf8887dfda661e217d8",
      "228e8ace81054cfc85dcfc1cb33430d6",
      "c18cf26b2ffa4b01be9925d279052973",
      "010fbb7a481d41e4a2c2947cb3d98c1a",
      "7d91d6d7208c43ed950141f20cd675c0",
      "d9eafe1c271e402c9bbef790635b0dcf",
      "ed9c7d2143ff441db61c1ed191b3185e",
      "59f6f1231f9242b1b12f7e7cbe0e2a9c",
      "6b87c402ab51489488556a815437ca37",
      "d1a9785539a94ea3983bfa5e5ffd6eb2",
      "7f02de42b9dc45e7a65db6c6f033b581",
      "558293f126494b97ad0fe04adb083a91",
      "0bdeb465416b4d5d938c02e5592c9181",
      "803d4a5ff80f4b13afaa6c2e6f21e908",
      "4c73f07f3ea74d80acbfc74f1f6d9249",
      "82603dec520f4cf0943488cea7abdace",
      "cf77940769494d58b8f98160082605d7",
      "8cf032eee56b4ebd8c62359f70c85f4a",
      "a4bd87276af440fe95a0233dde79277b",
      "9864bc1d23d64f12b30665c924c32950",
      "04c519315cfd4a1c98086c6e85febc4e",
      "a7467780d4aa4118acc8ddcaa0fd3830",
      "b03417a39fdd4ea589972dc2aab2ec4a",
      "ca7625f726a5459186264d314cb18d05",
      "1b8cd39e0c2542319c798616c940bd22",
      "07849836ce5d4411ae8a57cc9608d39b",
      "71bbb9c61c7a4d7bb7ef19554d16f4f4",
      "e7397dc417e6407b836ad591196667b4",
      "6bc1f45541bb440982e2969be931ecdf",
      "1a4b8ee44f4b4764b51af513a8e4fdd4",
      "b326854c332a41a7b54b959587be6867",
      "df053497ffbe4c6a89e67176f492e0a4",
      "a847f78acc1b4d0aa12551f7aa309ede",
      "5a0dee5753b14490ad33543990a1b000",
      "caf8947b30004d368ef8b8507b50a0fc",
      "78f4ea614b934a508ce269a7e2e422a5",
      "8803125a182941dfa06f3734f7ae601f",
      "046f36abe13748818f3644880e98c2f5",
      "82726a4ff63542bfb9e9c95415a7a8bd",
      "ea35136f24e2447ba902b64f906087ea",
      "3e5afb31f9e44c48bd4200ac85fcf1b0",
      "0c2040f52cc545ef8afc3d3174452cbd",
      "725742c9e9a94e8b878488de3fb813c3",
      "0f8ef84e1da84620b14db7c03c4221ba",
      "331fc11300df4ef186a3d990baab3825",
      "561eeef2bc4542dd95f956c52617642a",
      "a3c4a1e8f88a4c27b8db7aac0ebe363f",
      "d9942a1912b24824b8d45e22d8db2ad3",
      "2523a48fb7054a4b8f9484f75255f2a4",
      "a6c2610e1d024d75aea5ad0901955201",
      "5b87e320ba334bbb82296ece98c2bcc5",
      "b20c062c1ee04dfeb456fce313c07ec4",
      "a7e3f39e7b51446987791d8ff8bb9fc0",
      "481d5660404147849fe2fdc8fa1e1729",
      "52de51dbafd743f8ab5d9c5ba817d239",
      "4b28a092043e4e53b34e0f5ee5421ecd",
      "59fa20dc01ae410690825fae99247161",
      "b2f8d1c3c30149f093c68976be10eb4c",
      "f7f73af0068a41b2a72bf685571ec913",
      "cc213d62b00a4578a15545529656b13e",
      "f73a01e510a84c14b63f92d3d155e2c6",
      "82fcb008de4641289b543acaf7fff382",
      "38df57c21aee47ef8ecc441bcf6de0c6",
      "3ca97fb05caf4b84a6f177c5d668b64d",
      "ce2615681ef8461685ec2c18d022d73d",
      "6a102092838343af944bbe289af90851",
      "f45fa495a1904000b17af973d2dd582d",
      "911caf3f1fe84a2c8016c07798561e38",
      "ef979b2087274c8eaea27ec9615ecdad",
      "a0b9fd2966fb48f58dc482fa7e699501",
      "118ea863be58497db23d88812744d236",
      "8a59419ad0044a748057d6a473a770a6",
      "7a51be74185c496da55638b7a8c9c305",
      "e990a13241cd46f68c9eac993c47d817",
      "40b9726c06ea4d999230105c0c1e4727",
      "dd16a708edd945c5a23700d6a1b17c83",
      "5caacc7d78f54f0bb68bfd546213650b",
      "bf89e21d6e154b5bae647e66291d9a1f",
      "51c63c12c2fb429aadc55aaa68451f82",
      "8dbef83d192d45a4a34a3d3bb77f6aaa",
      "94d5e72d1bb34329be2cf29f7ad01817",
      "0f4c3dde1470477489babe7af7dd4269",
      "a5387532ca5b493a9cd044d84dbdffbe",
      "31ffd3e1190b4a93b076114fffc2e0d1",
      "2e509a9dae91456198d0d987620545d5",
      "640e9cf0b7df46e698ab6bd934731121",
      "51fec5e324f4418d9203d6f01eb504a9",
      "d316e281785e4cf8b68e37806ac07c61",
      "dfe8b2e2d02f4fb28705864a6842d8c7",
      "3e059c0bc34b4758bad578abf13be6a3",
      "e210c2414515469a9e179e17865749c9",
      "04a4d61cf0464568b05d4d0fa401ff0b",
      "08ebfb59b4c74bdeb4c08b67b3464a28",
      "7b80a4dfb8bb467cbc2871fa283320f3",
      "d12c59bbe74e48cd8371c7870fa429e5",
      "882acc4500cd4f99bd63fa9dcbd34c72",
      "f9080b98599a4005822f7189965de862",
      "35f0b7d617d848cdad7f5dbb2db2b7e8",
      "04423ed4c3914a3a9180bb7b934d53cd",
      "fff8d997503949da80e4cdaa062385f5",
      "fe50a189522643aba3d5da589822be0c",
      "a4584d300f544942a64188a101000b55",
      "5542d4390f9e4fa0ae8d65b0f320ffcd",
      "bdc230bca5b74ab2b4bd7621e7e3c762",
      "5e43375adbc542e193d0d51126879ffb",
      "7dadeb42f1074af69bbf0f9798be2895",
      "e7d8f6e7ce1644fcbdddc892af17d1d7",
      "bd79c3bf152d41ee8f2372697ff4bc6c",
      "af2c20daf62c45a1915e7745dd9b276c",
      "2c276af3105d43739f559951322c3a4a",
      "6dd9c90362ec4e11953156ecabdb88f4",
      "5ae1e9713bbd4af1a2bfb2cfb05975ec",
      "59be4756d83d448cb2123030d9a691c4",
      "e984af2ee0644085a351c525772e14e6",
      "02fb3583966f4ec2be6bc71d6a41886a",
      "12ced012dae44b558232355818db7a29",
      "608b893b6ebf4dae80381e0562ade20c",
      "30239c29bb0743b1b7a56206d62761cb",
      "458bdcdfd4d943c4b9741cbfdcf9d38d",
      "1993592878f94a04b1b047ca5f5cfbcf",
      "8046f1c472d24e9595e45f9876216dcd",
      "f7d0733dae8744c890e75c42a02d39e8",
      "e9949007993f4ba5bd95f58be9a01146",
      "71e3e9f47f824a3ab71fb88134771175",
      "a00e73304e3c4dfa8f248f6f5e644f69",
      "00fc2323728a4b00a0c67e1d5b8452b2",
      "23743b37e0bf4e83b48592bf03dd116d",
      "2ef20d498cc449259308902d46379db3",
      "e6e6ec49e810423aa5058c3e62aeb3a6",
      "60612c2cb2974110bae2a377a2677fba",
      "dd902a96365e467abe02f0dcc779a3e2",
      "12dd038d4db14da6b2b2ccc2b6183d41",
      "47cfc2b4005a4d92884201ff16c4d9d2",
      "3623002a603e4341b94332829f5fef7f",
      "222f860f88b94aa487ecca886e83d1d2",
      "931a0d29cc89400997a4ce83b1489af8",
      "67f99f699dfe49919e0437c6da5b7313",
      "978750848a334675b7ef348fbb09c2bd",
      "f728aba0820345de8e9d431009d1c1dc",
      "ae51756a44ca4f3291bb1fd1a725e1bd",
      "c9284a1f70fb461092d262dff17221fa",
      "167f645d3cc047cc89f69adaab76d724",
      "125b0dee5cdd44af8d9aa2b9ce4f58fb",
      "072179626d7d4d76be3047c4fca95480",
      "345a610f0ba645b196e0cf19caf4694f",
      "236ed7971a0d4d06ad18f3fcfc24625a",
      "253b03ad3c5743f2bb8fb5d05dc06350",
      "bfdbe8c4e241418bb49fbdf4a56a40f3",
      "dbec5c617b7645ca9a7bc9c45be1129b",
      "218feb18759c4f02984b5cf1b0543cd9",
      "84c44d3aec7847e3ac21a6e11735fa28",
      "e9f425fcdd4c4156aa1d085ba0d50cb3",
      "9b614c0865674ea19ad2153267b58881",
      "c74d62920f0b4680aca6af541834adc6",
      "4c21c599613048578e3cc7c1228cb20f",
      "ea19ac7ead664e388bbb38d2765b7c92",
      "092f2e9cf02b4626a078a6b0c224b590",
      "8bd1b85e4c1c4de5bc68af341958458d",
      "c327568be54d4945a1b3769f0a198fa1",
      "4d4b0a6b11084c47b5e0d8383728cf84",
      "123aa58c25b64704993907c64e148ecb",
      "55b842a522c3464590be12054be77ac7",
      "2a50950ba044403391851b9ccefa4b94",
      "24af70954a3c405593785afc2a474fc7",
      "dc1992453cab4c47ac1f17976e1ed9a2",
      "70fc137a84374c788953dbaac623b208",
      "b9f4e6edb65045b387609f0b885bfb09",
      "55df84f4037d44cf8a328cbc8a7cef1a",
      "807c9c74c89d42018d688ad0507efa84",
      "7351a133ce3c489589b4f9e6ee2b2966",
      "7f858317a1474656bf0ea693a89e28e2",
      "b3d9befa0b364106920bbbbdef6f16b4",
      "066a35fe83644135a1828c842d71acff",
      "68c6e993b7db4516adc7fcf0b7fd7c4d",
      "94cfe264b64c4e338eb6fc8254116d37",
      "96a8fe59f15d4509807dce4f5fd9f1d2",
      "1c9987c8bb384cca8cbe78c03f628c97",
      "05bfe20e7ac747aca93b601fa372c86c",
      "01c9facfa0364941a2e50fa0357e87d0",
      "546b37c6da1d4874ac48f580939871ad",
      "27d40a336d1a40a384e42d99390b47cd",
      "70e38cdd63d64c16aa4b673c464f8630",
      "a0376ab4667c41a38b8869a2270bb617",
      "1a34265daf4d447da586dc7092e5849b",
      "cd29ddcb197d451aa26173677127afce",
      "a0c0429d8cf54d93ba11af0c0086f1ec",
      "f641a039cd0c4b26a1c49b2cbe91286d",
      "a6299d8d944840fcbe947fed70ca840a",
      "ea4445db0ffc4035884e292645e738db",
      "db10a75c1b944fa5ba4bbbdc48d82930",
      "825e862ccfb043ac84eb8da4c298ad72",
      "2761cc006a964893b8da2c04e7faba11",
      "2154ed73288f4ce8b9be4d4e1714c35d",
      "d61678568abb43288e8b6f447198e31b",
      "20198e2682a5421e8d7b6400e33c426f",
      "992acfc0fa5140f38c85b93720100240",
      "718798019b0044f9a04be187c7e7af52",
      "92bc5c8e65d24bd98dbc366c8d846fe7",
      "6e8af70620a246b1a7ace4d9042df817",
      "e723eba9afd34feab0f5d496dedcbfd1",
      "3c16172dcec74f1488bfb06f479b273f",
      "30cb9d210e084f77a3eafc3f9e13533f",
      "63170c14d6d74d839d843af539e073bd",
      "972cd2afcd904b3fa856bfdda4bb24ac",
      "05e2dec7eaa746b483c6bbc6072b2453",
      "29aee8b29484462a929f62e9585a0f66"
     ]
    },
    "id": "1STfGFhSSz5l",
    "outputId": "40ea88a0-0631-4940-f877-691812246220"
   },
   "outputs": [],
   "source": [
    "# Initialize a model, and put it on the device specified.\n",
    "student_model.to(device)\n",
    "teacher_model.to(device) # MEDIUM BASELINE\n",
    "\n",
    "# Initialize optimizer, you may fine-tune some hyperparameters such as learning rate on your own.\n",
    "optimizer = torch.optim.Adam(student_model.parameters(), lr=cfg['lr'], weight_decay=cfg['weight_decay']) \n",
    "\n",
    "# Initialize trackers, these are not parameters and should not be changed\n",
    "stale = 0\n",
    "best_acc = 0.0\n",
    "\n",
    "teacher_model.eval()  # MEDIUM BASELINE\n",
    "for epoch in range(n_epochs):\n",
    "\n",
    "    # ---------- Training ----------\n",
    "    # Make sure the model is in train mode before training.\n",
    "    student_model.train()\n",
    "\n",
    "    # These are used to record information in training.\n",
    "    train_loss = []\n",
    "    train_accs = []\n",
    "    train_lens = []\n",
    "\n",
    "    for batch in tqdm(train_loader):\n",
    "\n",
    "        # A batch consists of image data and corresponding labels.\n",
    "        imgs, labels = batch\n",
    "        imgs = imgs.to(device)\n",
    "        labels = labels.to(device)\n",
    "        #imgs = imgs.half()\n",
    "        #print(imgs.shape,labels.shape)\n",
    "\n",
    "        # Forward the data. (Make sure data and model are on the same device.)\n",
    "        with torch.no_grad():  # MEDIUM BASELINE\n",
    "            teacher_logits = teacher_model(imgs)  # MEDIUM BASELINE\n",
    "        \n",
    "        logits = student_model(imgs)\n",
    "\n",
    "        # Calculate the cross-entropy loss.\n",
    "        # We don't need to apply softmax before computing cross-entropy as it is done automatically.\n",
    "        loss = loss_fn(logits, labels, teacher_logits) # MEDIUM BASELINE\n",
    "#         loss = loss_fn(logits, labels) # SIMPLE BASELINE\n",
    "        # Gradients stored in the parameters in the previous step should be cleared out first.\n",
    "        optimizer.zero_grad()\n",
    "\n",
    "        # Compute the gradients for parameters.\n",
    "        loss.backward()\n",
    "\n",
    "        # Clip the gradient norms for stable training.\n",
    "        grad_norm = nn.utils.clip_grad_norm_(student_model.parameters(), max_norm=cfg['grad_norm_max'])\n",
    "\n",
    "        # Update the parameters with computed gradients.\n",
    "        optimizer.step()\n",
    "\n",
    "        # Compute the accuracy for current batch.\n",
    "        acc = (logits.argmax(dim=-1) == labels).float().sum()\n",
    "\n",
    "        # Record the loss and accuracy.\n",
    "        train_batch_len = len(imgs)\n",
    "        train_loss.append(loss.item() * train_batch_len)\n",
    "        train_accs.append(acc)\n",
    "        train_lens.append(train_batch_len)\n",
    "        \n",
    "    train_loss = sum(train_loss) / sum(train_lens)\n",
    "    train_acc = sum(train_accs) / sum(train_lens)\n",
    "\n",
    "    # Print the information.\n",
    "    log(f\"[ Train | {epoch + 1:03d}/{n_epochs:03d} ] loss = {train_loss:.5f}, acc = {train_acc:.5f}\")\n",
    "\n",
    "    # ---------- Validation ----------\n",
    "    # Make sure the model is in eval mode so that some modules like dropout are disabled and work normally.\n",
    "    student_model.eval()\n",
    "\n",
    "    # These are used to record information in validation.\n",
    "    valid_loss = []\n",
    "    valid_accs = []\n",
    "    valid_lens = []\n",
    "\n",
    "    # Iterate the validation set by batches.\n",
    "    for batch in tqdm(valid_loader):\n",
    "\n",
    "        # A batch consists of image data and corresponding labels.\n",
    "        imgs, labels = batch\n",
    "        imgs = imgs.to(device)\n",
    "        labels = labels.to(device)\n",
    "\n",
    "        # We don't need gradient in validation.\n",
    "        # Using torch.no_grad() accelerates the forward process.\n",
    "        with torch.no_grad():\n",
    "            logits = student_model(imgs)\n",
    "            teacher_logits = teacher_model(imgs) # MEDIUM BASELINE\n",
    "\n",
    "        # We can still compute the loss (but not the gradient).\n",
    "        loss = loss_fn(logits, labels, teacher_logits) # MEDIUM BASELINE\n",
    "#         loss = loss_fn(logits, labels) # SIMPLE BASELINE\n",
    "\n",
    "        # Compute the accuracy for current batch.\n",
    "        acc = (logits.argmax(dim=-1) == labels).float().sum()\n",
    "\n",
    "        # Record the loss and accuracy.\n",
    "        batch_len = len(imgs)\n",
    "        valid_loss.append(loss.item() * batch_len)\n",
    "        valid_accs.append(acc)\n",
    "        valid_lens.append(batch_len)\n",
    "        #break\n",
    "\n",
    "    # The average loss and accuracy for entire validation set is the average of the recorded values.\n",
    "    valid_loss = sum(valid_loss) / sum(valid_lens)\n",
    "    valid_acc = sum(valid_accs) / sum(valid_lens)\n",
    "\n",
    "    # update logs\n",
    "    \n",
    "    if valid_acc > best_acc:\n",
    "        log(f\"[ Valid | {epoch + 1:03d}/{n_epochs:03d} ] loss = {valid_loss:.5f}, acc = {valid_acc:.5f} -> best\")\n",
    "    else:\n",
    "        log(f\"[ Valid | {epoch + 1:03d}/{n_epochs:03d} ] loss = {valid_loss:.5f}, acc = {valid_acc:.5f}\")\n",
    "\n",
    "\n",
    "    # save models\n",
    "    if valid_acc > best_acc:\n",
    "        log(f\"Best model found at epoch {epoch}, saving model\")\n",
    "        torch.save(student_model.state_dict(), f\"{save_path}/student_best.ckpt\") # only save best to prevent output memory exceed error\n",
    "        best_acc = valid_acc\n",
    "        stale = 0\n",
    "    else:\n",
    "        stale += 1\n",
    "        if stale > patience:\n",
    "            log(f\"No improvment {patience} consecutive epochs, early stopping\")\n",
    "            break\n",
    "log(\"Finish training\")\n",
    "log_fw.close()"
   ]
  },
  {
   "cell_type": "markdown",
   "metadata": {
    "id": "pZDwoTEISz5m"
   },
   "source": [
    "### Inference\n",
    "load the best model of the experiment and generate submission.csv"
   ]
  },
  {
   "cell_type": "code",
   "execution_count": null,
   "metadata": {
    "colab": {
     "base_uri": "https://localhost:8080/"
    },
    "id": "QHeuiLSDSz5m",
    "outputId": "c9be140f-c084-4223-b167-abcf3a931092"
   },
   "outputs": [],
   "source": [
    "# create dataloader for evaluation\n",
    "eval_set = FoodDataset(os.path.join(cfg['dataset_root'], \"evaluation\"), tfm=test_tfm)\n",
    "eval_loader = DataLoader(eval_set, batch_size=cfg['batch_size'], shuffle=False, num_workers=0, pin_memory=True)"
   ]
  },
  {
   "cell_type": "code",
   "execution_count": null,
   "metadata": {
    "colab": {
     "base_uri": "https://localhost:8080/",
     "height": 49,
     "referenced_widgets": [
      "8f85ab10b6a141c2a961a3caa355df7a",
      "7a0388ef17e04638aab828dbc6634c0d",
      "7aa21085a69c4a989cece2676a2eb0a0",
      "e869e09db5dc4ed382ddab706a08e5b2",
      "4e50124253664e72be340a9a25d81531",
      "070968e3e0524d5994129fcfa41632f0",
      "bc5b34f1ef1f41809ca1659b706cdf23",
      "201d847981144c61adb5248cc4d163fb",
      "06bf19929e4e4715826c6aa554c6aa08",
      "c6b96a5ee0fc4849be91b53f31aa803c",
      "844036173c014524a9dda33963a4ea7c"
     ]
    },
    "id": "6BsLuZLkSz5m",
    "outputId": "758863c1-4789-4f1f-d801-1237a3656c6a"
   },
   "outputs": [],
   "source": [
    "# Load model from {exp_name}/student_best.ckpt\n",
    "student_model_best = get_student_model() # get a new student model to avoid reference before assignment.\n",
    "ckpt_path = f\"{save_path}/student_best.ckpt\" # the ckpt path of the best student model.\n",
    "student_model_best.load_state_dict(torch.load(ckpt_path, map_location='cpu')) # load the state dict and set it to the student model\n",
    "student_model_best.to(device) # set the student model to device\n",
    "\n",
    "# Start evaluate\n",
    "student_model_best.eval()\n",
    "eval_preds = [] # storing predictions of the evaluation dataset\n",
    "\n",
    "# Iterate the validation set by batches.\n",
    "for batch in tqdm(eval_loader):\n",
    "    # A batch consists of image data and corresponding labels.\n",
    "    imgs, _ = batch\n",
    "    # We don't need gradient in evaluation.\n",
    "    # Using torch.no_grad() accelerates the forward process.\n",
    "    with torch.no_grad():\n",
    "        logits = student_model_best(imgs.to(device))\n",
    "        preds = list(logits.argmax(dim=-1).squeeze().cpu().numpy())\n",
    "    # loss and acc can not be calculated because we do not have the true labels of the evaluation set.\n",
    "    eval_preds += preds\n",
    "\n",
    "def pad4(i):\n",
    "    return \"0\"*(4-len(str(i))) + str(i)\n",
    "\n",
    "# Save prediction results\n",
    "ids = [pad4(i) for i in range(0,len(eval_set))]\n",
    "categories = eval_preds\n",
    "\n",
    "df = pd.DataFrame()\n",
    "df['Id'] = ids\n",
    "df['Category'] = categories\n",
    "df.to_csv(f\"{save_path}/submission.csv\", index=False) # now you can download the submission.csv and upload it to the kaggle competition."
   ]
  },
  {
   "cell_type": "markdown",
   "metadata": {
    "id": "998GNALevLAe"
   },
   "source": [
    "> Don't forget to answer the report questions on GradeScope! "
   ]
  }
 ],
 "metadata": {
  "accelerator": "GPU",
  "colab": {
   "name": "ml2022spring-hw13-samplecode.ipynb",
   "provenance": []
  },
  "kernelspec": {
   "display_name": "kuokuo_env",
   "language": "python",
   "name": "kuokuo_env"
  },
  "language_info": {
   "codemirror_mode": {
    "name": "ipython",
    "version": 3
   },
   "file_extension": ".py",
   "mimetype": "text/x-python",
   "name": "python",
   "nbconvert_exporter": "python",
   "pygments_lexer": "ipython3",
   "version": "3.7.5"
  },
  "toc": {
   "base_numbering": 1,
   "nav_menu": {},
   "number_sections": true,
   "sideBar": true,
   "skip_h1_title": false,
   "title_cell": "Table of Contents",
   "title_sidebar": "Contents",
   "toc_cell": false,
   "toc_position": {},
   "toc_section_display": true,
   "toc_window_display": false
  }
 },
 "nbformat": 4,
 "nbformat_minor": 1
}
