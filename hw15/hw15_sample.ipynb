{
 "cells": [
  {
   "cell_type": "markdown",
   "metadata": {
    "id": "wzVBe3h7Xh-2"
   },
   "source": [
    "<a name=\"top\"></a>\n",
    "# **HW15 Meta Learning: Few-shot Classification**\n",
    "\n",
    "This is the sample code for homework 15.\n",
    "\n",
    "Please mail to mlta-2022-spring@googlegroups.com if you have any questions."
   ]
  },
  {
   "cell_type": "markdown",
   "metadata": {
    "id": "RdpzIMG6XsGK"
   },
   "source": [
    "## **Step 0: Check GPU**"
   ]
  },
  {
   "cell_type": "code",
   "execution_count": null,
   "metadata": {
    "colab": {
     "base_uri": "https://localhost:8080/"
    },
    "id": "zjjHsZbaL7SV",
    "outputId": "ab1df10a-a3b7-4213-ccf5-33093eed809c"
   },
   "outputs": [],
   "source": [
    "!nvidia-smi"
   ]
  },
  {
   "cell_type": "markdown",
   "metadata": {
    "id": "bQ3wvyjnXwGX"
   },
   "source": [
    "## **Step 1: Download Data**\n",
    "\n",
    "Run the cell to download data, which has been pre-processed by TAs.  \n",
    "The dataset has been augmented, so extra data augmentation is not required.\n"
   ]
  },
  {
   "cell_type": "code",
   "execution_count": null,
   "metadata": {
    "colab": {
     "base_uri": "https://localhost:8080/"
    },
    "id": "g7Gt4Jucug41",
    "outputId": "1c7c1c41-24b2-4a39-b73b-e8397b6f66f3"
   },
   "outputs": [],
   "source": [
    "workspace_dir = '.'\n",
    "\n",
    "# Download dataset\n",
    "!wget https://github.com/xraychen/shiny-disco/releases/download/Latest/omniglot.tar.gz \\\n",
    "    -O \"{workspace_dir}/Omniglot.tar.gz\"\n",
    "!wget https://github.com/xraychen/shiny-disco/releases/download/Latest/omniglot-test.tar.gz \\\n",
    "    -O \"{workspace_dir}/Omniglot-test.tar.gz\"\n",
    "\n",
    "# Use `tar' command to decompress\n",
    "!tar -zxf \"{workspace_dir}/Omniglot.tar.gz\" -C \"{workspace_dir}/\"\n",
    "!tar -zxf \"{workspace_dir}/Omniglot-test.tar.gz\" -C \"{workspace_dir}/\""
   ]
  },
  {
   "cell_type": "markdown",
   "metadata": {
    "id": "baVsWfcSYHVN"
   },
   "source": [
    "## **Step 2: Build the model**"
   ]
  },
  {
   "cell_type": "markdown",
   "metadata": {
    "id": "gqiOdDLgYOlQ"
   },
   "source": [
    "### Library importation"
   ]
  },
  {
   "cell_type": "code",
   "execution_count": null,
   "metadata": {
    "colab": {
     "base_uri": "https://localhost:8080/"
    },
    "id": "-9pfkqh8gxHD",
    "outputId": "0cd41dad-ab47-4ffe-c432-3226fe4ef0d0"
   },
   "outputs": [],
   "source": [
    "# Import modules we need\n",
    "import glob, random\n",
    "from collections import OrderedDict\n",
    "\n",
    "import numpy as np\n",
    "from tqdm.auto import tqdm\n",
    "\n",
    "import torch, torch.nn as nn\n",
    "import torch.nn.functional as F\n",
    "from torch.utils.data import DataLoader, Dataset\n",
    "import torchvision.transforms as transforms\n",
    "\n",
    "from PIL import Image\n",
    "from IPython.display import display\n",
    "\n",
    "# Check device\n",
    "device = \"cuda\" if torch.cuda.is_available() else \"cpu\"\n",
    "print(f\"DEVICE = {device}\")\n",
    "\n",
    "# Fix random seeds\n",
    "random_seed = 0\n",
    "random.seed(random_seed)\n",
    "np.random.seed(random_seed)\n",
    "torch.manual_seed(random_seed)\n",
    "if torch.cuda.is_available():\n",
    "    torch.cuda.manual_seed_all(random_seed)"
   ]
  },
  {
   "cell_type": "markdown",
   "metadata": {
    "id": "3TlwLtC1YRT7"
   },
   "source": [
    "### Model Construction Preliminaries\n",
    "\n",
    "Since our task is image classification, we need to build a CNN-based model.  \n",
    "However, to implement MAML algorithm, we should adjust some code in `nn.Module`.\n"
   ]
  },
  {
   "cell_type": "markdown",
   "metadata": {
    "id": "dFwB3tuEDYfy"
   },
   "source": [
    "Take a look at MAML pseudocode...\n",
    "\n",
    "<img src=\"https://i.imgur.com/9aHlvfX.png\" width=\"50%\" />\n",
    "\n",
    "On the 10-th line, what we take gradients on are those $\\theta$ representing  \n",
    "<font color=\"#0CC\">**the original model parameters**</font> (outer loop) instead of those in  the  \n",
    "<font color=\"#0C0\">**inner loop**</font>, so we need to use `functional_forward` to compute the output  \n",
    "logits of input image instead of `forward` in `nn.Module`.\n",
    "\n",
    "The following defines these functions.\n",
    "\n",
    "<!-- 由於在第10行，我們是要對原本的參數 θ 微分，並非 inner-loop (Line5~8) 的 θ' 微分，因此在 inner-loop，我們需要用 functional forward 的方式算出 input image 的 output logits，而不是直接用 nn.module 裡面的 forward（直接對 θ 微分）。在下面我們分別定義了 functional forward 以及 forward 函數。 -->"
   ]
  },
  {
   "cell_type": "markdown",
   "metadata": {
    "id": "iuYQiPeQYc__"
   },
   "source": [
    "### Model block definition"
   ]
  },
  {
   "cell_type": "code",
   "execution_count": null,
   "metadata": {
    "id": "GgFbbKHYg3Hk"
   },
   "outputs": [],
   "source": [
    "def ConvBlock(in_ch: int, out_ch: int):\n",
    "    return nn.Sequential(\n",
    "        nn.Conv2d(in_ch, out_ch, 3, padding=1),\n",
    "        nn.BatchNorm2d(out_ch),\n",
    "        nn.ReLU(),\n",
    "        nn.MaxPool2d(kernel_size=2, stride=2),\n",
    "    )\n",
    "\n",
    "\n",
    "def ConvBlockFunction(x, w, b, w_bn, b_bn):\n",
    "    x = F.conv2d(x, w, b, padding=1)\n",
    "    x = F.batch_norm(\n",
    "        x, running_mean=None, running_var=None, weight=w_bn, bias=b_bn, training=True\n",
    "    )\n",
    "    x = F.relu(x)\n",
    "    x = F.max_pool2d(x, kernel_size=2, stride=2)\n",
    "    return x"
   ]
  },
  {
   "cell_type": "markdown",
   "metadata": {
    "id": "iQEzgWN7fi7B"
   },
   "source": [
    "### Model definition"
   ]
  },
  {
   "cell_type": "code",
   "execution_count": null,
   "metadata": {
    "id": "0bFBGEQoHQUW"
   },
   "outputs": [],
   "source": [
    "class Classifier(nn.Module):\n",
    "    def __init__(self, in_ch, k_way):\n",
    "        super(Classifier, self).__init__()\n",
    "        self.conv1 = ConvBlock(in_ch, 64)\n",
    "        self.conv2 = ConvBlock(64, 64)\n",
    "        self.conv3 = ConvBlock(64, 64)\n",
    "        self.conv4 = ConvBlock(64, 64)\n",
    "        self.logits = nn.Linear(64, k_way)\n",
    "\n",
    "    def forward(self, x):\n",
    "        x = self.conv1(x)\n",
    "        x = self.conv2(x)\n",
    "        x = self.conv3(x)\n",
    "        x = self.conv4(x)\n",
    "        x = x.view(x.shape[0], -1)\n",
    "        x = self.logits(x)\n",
    "        return x\n",
    "\n",
    "    def functional_forward(self, x, params):\n",
    "        \"\"\"\n",
    "        Arguments:\n",
    "        x: input images [batch, 1, 28, 28]\n",
    "        params: model parameters,\n",
    "                i.e. weights and biases of convolution\n",
    "                     and weights and biases of\n",
    "                                   batch normalization\n",
    "                type is an OrderedDict\n",
    "\n",
    "        Arguments:\n",
    "        x: input images [batch, 1, 28, 28]\n",
    "        params: The model parameters,\n",
    "                i.e. weights and biases of convolution\n",
    "                     and batch normalization layers\n",
    "                It's an `OrderedDict`\n",
    "        \"\"\"\n",
    "        for block in [1, 2, 3, 4]:\n",
    "            x = ConvBlockFunction(\n",
    "                x,\n",
    "                params[f\"conv{block}.0.weight\"],\n",
    "                params[f\"conv{block}.0.bias\"],\n",
    "                params.get(f\"conv{block}.1.weight\"),\n",
    "                params.get(f\"conv{block}.1.bias\"),\n",
    "            )\n",
    "        x = x.view(x.shape[0], -1)\n",
    "        x = F.linear(x, params[\"logits.weight\"], params[\"logits.bias\"])\n",
    "        return x"
   ]
  },
  {
   "cell_type": "markdown",
   "metadata": {
    "id": "gmJq_0B9Yj0G"
   },
   "source": [
    "### Create Label\n",
    "\n",
    "This function is used to create labels.  \n",
    "In a N-way K-shot few-shot classification problem,\n",
    "each task has `n_way` classes, while there are `k_shot` images for each class.  \n",
    "This is a function that creates such labels.\n"
   ]
  },
  {
   "cell_type": "code",
   "execution_count": null,
   "metadata": {
    "colab": {
     "base_uri": "https://localhost:8080/"
    },
    "id": "GQF5vgLvg5aX",
    "outputId": "95009b7b-45e2-4043-eb7d-f19860f212a0"
   },
   "outputs": [],
   "source": [
    "def create_label(n_way, k_shot):\n",
    "    return torch.arange(n_way).repeat_interleave(k_shot).long()\n",
    "\n",
    "\n",
    "# Try to create labels for 5-way 2-shot setting\n",
    "create_label(5, 2)"
   ]
  },
  {
   "cell_type": "markdown",
   "metadata": {
    "id": "2nCFv9PGw50J"
   },
   "source": [
    "### Accuracy calculation"
   ]
  },
  {
   "cell_type": "code",
   "execution_count": null,
   "metadata": {
    "id": "FahDr0xQw50S"
   },
   "outputs": [],
   "source": [
    "def calculate_accuracy(logits, labels):\n",
    "    \"\"\"utility function for accuracy calculation\"\"\"\n",
    "    acc = np.asarray(\n",
    "        [(torch.argmax(logits, -1).cpu().numpy() == labels.cpu().numpy())]\n",
    "    ).mean()\n",
    "    return acc"
   ]
  },
  {
   "cell_type": "markdown",
   "metadata": {
    "id": "9Hl7ro2mYzsI"
   },
   "source": [
    "### Define Dataset\n",
    "\n",
    "Define the dataset.  \n",
    "The dataset returns images of a random character, with (`k_shot + q_query`) images,  \n",
    "so the size of returned tensor is `[k_shot+q_query, 1, 28, 28]`.  \n"
   ]
  },
  {
   "cell_type": "code",
   "execution_count": null,
   "metadata": {
    "id": "-tJ2mot9hHPb"
   },
   "outputs": [],
   "source": [
    "# Dataset for train and val\n",
    "class Omniglot(Dataset):\n",
    "    def __init__(self, data_dir, k_way, q_query, task_num=None):\n",
    "        self.file_list = [\n",
    "            f for f in glob.glob(data_dir + \"**/character*\", recursive=True)\n",
    "        ]\n",
    "        # limit task number if task_num is set\n",
    "        if task_num is not None:\n",
    "            self.file_list = self.file_list[: min(len(self.file_list), task_num)]\n",
    "        self.transform = transforms.Compose([transforms.ToTensor()])\n",
    "        self.n = k_way + q_query\n",
    "\n",
    "    def __getitem__(self, idx):\n",
    "        sample = np.arange(20)\n",
    "\n",
    "        # For random sampling the characters we want.\n",
    "        np.random.shuffle(sample)\n",
    "        img_path = self.file_list[idx]\n",
    "        img_list = [f for f in glob.glob(img_path + \"**/*.png\", recursive=True)]\n",
    "        img_list.sort()\n",
    "        imgs = [self.transform(Image.open(img_file)) for img_file in img_list]\n",
    "        # `k_way + q_query` examples for each character\n",
    "        imgs = torch.stack(imgs)[sample[: self.n]]\n",
    "        return imgs\n",
    "\n",
    "    def __len__(self):\n",
    "        return len(self.file_list)"
   ]
  },
  {
   "cell_type": "markdown",
   "metadata": {
    "id": "WRzjBWhwI6tc"
   },
   "source": [
    "## **Step 3: Learning Algorithms**\n",
    "\n",
    "### Transfer learning\n",
    "\n",
    "The solver first chose five task from the training set, then do normal classification training on the chosen five tasks. In inference, the model finetune for `inner_train_step` steps on the support set images, and than do inference on the query set images.\n",
    "\n",
    "For consistant with the meta-learning solver, the base solver has the exactly same input and output format with the meta-learning solver.\n",
    "\n"
   ]
  },
  {
   "cell_type": "code",
   "execution_count": null,
   "metadata": {
    "id": "R_jGPJHK7KpC"
   },
   "outputs": [],
   "source": [
    "def BaseSolver(\n",
    "    model,\n",
    "    optimizer,\n",
    "    x,\n",
    "    n_way,\n",
    "    k_shot,\n",
    "    q_query,\n",
    "    loss_fn,\n",
    "    inner_train_step=1,\n",
    "    inner_lr=0.4,\n",
    "    train=True,\n",
    "    return_labels=False,\n",
    "):\n",
    "    criterion, task_loss, task_acc = loss_fn, [], []\n",
    "    labels = []\n",
    "\n",
    "    for meta_batch in x:\n",
    "        # Get data\n",
    "        support_set = meta_batch[: n_way * k_shot]\n",
    "        query_set = meta_batch[n_way * k_shot :]\n",
    "\n",
    "        if train:\n",
    "            \"\"\" training loop \"\"\"\n",
    "            # Use the support set to calculate loss\n",
    "            labels = create_label(n_way, k_shot).to(device)\n",
    "            logits = model.forward(support_set)\n",
    "            loss = criterion(logits, labels)\n",
    "\n",
    "            task_loss.append(loss)\n",
    "            task_acc.append(calculate_accuracy(logits, labels))\n",
    "        else:\n",
    "            \"\"\" validation / testing loop \"\"\"\n",
    "            # First update model with support set images for `inner_train_step` steps\n",
    "            fast_weights = OrderedDict(model.named_parameters())\n",
    "\n",
    "\n",
    "            for inner_step in range(inner_train_step):\n",
    "                # Simply training\n",
    "                train_label = create_label(n_way, k_shot).to(device)\n",
    "                logits = model.functional_forward(support_set, fast_weights)\n",
    "                loss = criterion(logits, train_label)\n",
    "\n",
    "                grads = torch.autograd.grad(loss, fast_weights.values(), create_graph=True)\n",
    "                # Perform SGD\n",
    "                fast_weights = OrderedDict(\n",
    "                    (name, param - inner_lr * grad)\n",
    "                    for ((name, param), grad) in zip(fast_weights.items(), grads)\n",
    "                )\n",
    "\n",
    "            if not return_labels:\n",
    "                \"\"\" validation \"\"\"\n",
    "                val_label = create_label(n_way, q_query).to(device)\n",
    "\n",
    "                logits = model.functional_forward(query_set, fast_weights)\n",
    "                loss = criterion(logits, val_label)\n",
    "                task_loss.append(loss)\n",
    "                task_acc.append(calculate_accuracy(logits, val_label))\n",
    "            else:\n",
    "                \"\"\" testing \"\"\"\n",
    "                logits = model.functional_forward(query_set, fast_weights)\n",
    "                labels.extend(torch.argmax(logits, -1).cpu().numpy())\n",
    "\n",
    "    if return_labels:\n",
    "        return labels\n",
    "\n",
    "    batch_loss = torch.stack(task_loss).mean()\n",
    "    task_acc = np.mean(task_acc)\n",
    "\n",
    "    if train:\n",
    "        # Update model\n",
    "        model.train()\n",
    "        optimizer.zero_grad()\n",
    "        batch_loss.backward()\n",
    "        optimizer.step()\n",
    "\n",
    "    return batch_loss, task_acc"
   ]
  },
  {
   "cell_type": "markdown",
   "metadata": {
    "id": "Gm5iVp90Ylii"
   },
   "source": [
    "### Meta Learning\n",
    "\n",
    "Here is the main Meta Learning algorithm.\n",
    "\n",
    "Please finish the TODO blocks for the inner and outer loop update rules.\n",
    "\n",
    "- For implementing FO-MAML you can refer to [p.25 of the slides](http://speech.ee.ntu.edu.tw/~tlkagk/courses/ML_2019/Lecture/Meta1%20(v6).pdf#page=25&view=FitW).\n",
    "\n",
    "- For the original MAML, you can refer to [the slides of meta learning (p.13 ~ p.18)](http://speech.ee.ntu.edu.tw/~tlkagk/courses/ML_2019/Lecture/Meta1%20(v6).pdf#page=13&view=FitW).\n"
   ]
  },
  {
   "cell_type": "code",
   "execution_count": null,
   "metadata": {
    "id": "KjNxrWW_yNck"
   },
   "outputs": [],
   "source": [
    "def MetaSolver(\n",
    "    model,\n",
    "    optimizer,\n",
    "    x,\n",
    "    n_way,\n",
    "    k_shot,\n",
    "    q_query,\n",
    "    loss_fn,\n",
    "    inner_train_step=1,\n",
    "    inner_lr=0.4,\n",
    "    train=True,\n",
    "    return_labels=False\n",
    "):\n",
    "    criterion, task_loss, task_acc = loss_fn, [], []\n",
    "    labels = []\n",
    "\n",
    "    for meta_batch in x:\n",
    "        # Get data\n",
    "        support_set = meta_batch[: n_way * k_shot]\n",
    "        query_set = meta_batch[n_way * k_shot :]\n",
    "\n",
    "        # Copy the params for inner loop\n",
    "        fast_weights = OrderedDict(model.named_parameters())\n",
    "\n",
    "        ### ---------- INNER TRAIN LOOP ---------- ###\n",
    "        for inner_step in range(inner_train_step):\n",
    "            # Simply training\n",
    "            train_label = create_label(n_way, k_shot).to(device)\n",
    "            logits = model.functional_forward(support_set, fast_weights)\n",
    "            loss = criterion(logits, train_label)\n",
    "            # Inner gradients update! vvvvvvvvvvvvvvvvvvvv #\n",
    "            \"\"\" Inner Loop Update \"\"\"\n",
    "            # TODO: Finish the inner loop update rule\n",
    "            raise NotImplementedError\n",
    "            # ^^^^^^^^^^^^^^^^^^^^^^^^^^^^^^^^^^^^^^^^^^^^ #\n",
    "\n",
    "        ### ---------- INNER VALID LOOP ---------- ###\n",
    "        if not return_labels:\n",
    "            \"\"\" training / validation \"\"\"\n",
    "            val_label = create_label(n_way, q_query).to(device)\n",
    "\n",
    "            # Collect gradients for outer loop\n",
    "            logits = model.functional_forward(query_set, fast_weights)\n",
    "            loss = criterion(logits, val_label)\n",
    "            task_loss.append(loss)\n",
    "            task_acc.append(calculate_accuracy(logits, val_label))\n",
    "        else:\n",
    "            \"\"\" testing \"\"\"\n",
    "            logits = model.functional_forward(query_set, fast_weights)\n",
    "            labels.extend(torch.argmax(logits, -1).cpu().numpy())\n",
    "\n",
    "    if return_labels:\n",
    "        return labels\n",
    "\n",
    "    # Update outer loop\n",
    "    model.train()\n",
    "    optimizer.zero_grad()\n",
    "\n",
    "    meta_batch_loss = torch.stack(task_loss).mean()\n",
    "    if train:\n",
    "        \"\"\" Outer Loop Update \"\"\"\n",
    "        # TODO: Finish the outer loop update\n",
    "        raise NotimplementedError\n",
    "\n",
    "    task_acc = np.mean(task_acc)\n",
    "    return meta_batch_loss, task_acc"
   ]
  },
  {
   "cell_type": "markdown",
   "metadata": {
    "id": "nBoRBhVlZAST"
   },
   "source": [
    "## **Step 4: Initialization**\n",
    "\n",
    "After defining all components we need, the following initialize a model before training."
   ]
  },
  {
   "cell_type": "markdown",
   "metadata": {
    "id": "Ip-i7aseftUF"
   },
   "source": [
    "### Hyperparameters "
   ]
  },
  {
   "cell_type": "code",
   "execution_count": null,
   "metadata": {
    "id": "0wFHmVcBhE4M"
   },
   "outputs": [],
   "source": [
    "n_way = 5\n",
    "k_shot = 1\n",
    "q_query = 1\n",
    "train_inner_train_step = 1\n",
    "val_inner_train_step = 3\n",
    "inner_lr = 0.4\n",
    "meta_lr = 0.001\n",
    "meta_batch_size = 32\n",
    "max_epoch = 30\n",
    "eval_batches = 20\n",
    "train_data_path = \"./Omniglot/images_background/\""
   ]
  },
  {
   "cell_type": "markdown",
   "metadata": {
    "id": "Uvzo7NVpfu5V"
   },
   "source": [
    "### Dataloader initialization"
   ]
  },
  {
   "cell_type": "code",
   "execution_count": null,
   "metadata": {
    "id": "3I13GJavhP0_"
   },
   "outputs": [],
   "source": [
    "def dataloader_init(datasets, shuffle=True, num_workers=2):\n",
    "    train_set, val_set = datasets\n",
    "    train_loader = DataLoader(\n",
    "        train_set,\n",
    "        # The \"batch_size\" here is not \\\n",
    "        #    the meta batch size, but  \\\n",
    "        #    how many different        \\\n",
    "        #    characters in a task,     \\\n",
    "        #    i.e. the \"n_way\" in       \\\n",
    "        #    few-shot classification.\n",
    "        batch_size=n_way,\n",
    "        num_workers=num_workers,\n",
    "        shuffle=shuffle,\n",
    "        drop_last=True,\n",
    "    )\n",
    "    val_loader = DataLoader(\n",
    "        val_set, batch_size=n_way, num_workers=num_workers, shuffle=shuffle, drop_last=True\n",
    "    )\n",
    "\n",
    "    train_iter = iter(train_loader)\n",
    "    val_iter = iter(val_loader)\n",
    "    return (train_loader, val_loader), (train_iter, val_iter)"
   ]
  },
  {
   "cell_type": "markdown",
   "metadata": {
    "id": "KVund--bfw0e"
   },
   "source": [
    "### Model & optimizer initialization"
   ]
  },
  {
   "cell_type": "code",
   "execution_count": null,
   "metadata": {
    "id": "Kxug882ihF2B"
   },
   "outputs": [],
   "source": [
    "def model_init():\n",
    "    meta_model = Classifier(1, n_way).to(device)\n",
    "    optimizer = torch.optim.Adam(meta_model.parameters(), lr=meta_lr)\n",
    "    loss_fn = nn.CrossEntropyLoss().to(device)\n",
    "    return meta_model, optimizer, loss_fn"
   ]
  },
  {
   "cell_type": "markdown",
   "metadata": {
    "id": "gj8cLRNLf2zg"
   },
   "source": [
    "### Utility function to get a meta-batch"
   ]
  },
  {
   "cell_type": "code",
   "execution_count": null,
   "metadata": {
    "id": "zrkCSsxOhC-N"
   },
   "outputs": [],
   "source": [
    "def get_meta_batch(meta_batch_size, k_shot, q_query, data_loader, iterator):\n",
    "    data = []\n",
    "    for _ in range(meta_batch_size):\n",
    "        try:\n",
    "            # a \"task_data\" tensor is representing \\\n",
    "            #     the data of a task, with size of \\\n",
    "            #     [n_way, k_shot+q_query, 1, 28, 28]\n",
    "            task_data = iterator.next()\n",
    "        except StopIteration:\n",
    "            iterator = iter(data_loader)\n",
    "            task_data = iterator.next()\n",
    "        train_data = task_data[:, :k_shot].reshape(-1, 1, 28, 28)\n",
    "        val_data = task_data[:, k_shot:].reshape(-1, 1, 28, 28)\n",
    "        task_data = torch.cat((train_data, val_data), 0)\n",
    "        data.append(task_data)\n",
    "    return torch.stack(data).to(device), iterator"
   ]
  },
  {
   "cell_type": "markdown",
   "metadata": {
    "id": "pWQczA3FwjEG"
   },
   "source": [
    "<a name=\"mainprog\" id=\"mainprog\"></a>\n",
    "## **Step 5: Main program for training & testing**"
   ]
  },
  {
   "cell_type": "markdown",
   "metadata": {
    "id": "8EirEnaof7ep"
   },
   "source": [
    "### Start training!\n",
    "With `solver = 'base'`, the solver is a transfer learning algorithm.\n",
    "\n",
    "Once you finish the TODO blocks in the `MetaSolver`, change the variable `solver = 'meta'` to start training with meta learning algorithm.\n"
   ]
  },
  {
   "cell_type": "code",
   "execution_count": null,
   "metadata": {
    "colab": {
     "base_uri": "https://localhost:8080/",
     "height": 605,
     "referenced_widgets": [
      "8915fc3c73be4fb6b55db2d38ad4af4b",
      "e96f61bb40f6419e8e2a9e5bc245f6aa",
      "e0f289dfa9534be7816eed887930d96a",
      "116a18be4712447e958394b67247255a",
      "2a29916ea55842c195e86f92a5466a78",
      "c9ad6d1ee2924bd493ca11af67f6a8ef",
      "a666cf0630c041ca9791ce06a131970c",
      "dd28dc43593e41fcb5e96ff0849c8367",
      "6e866d58126442339519bd778352ff05",
      "74b469ef77674329859396435e8eb3d8",
      "62dee45ed1f24aff802505603a27837d",
      "80a333a4f11f43f0ad4bde76e9ed4cc9",
      "df203c20cfa04d7d984595efeb6f60e3",
      "e3ddd102bf334eb9b4f404218bee02c9",
      "0d8d7e16201d43a1abefb34a47ebbb98",
      "4aaa91363679445ebfb6fd71c2f4e89c",
      "b40de01cc65f436ab9f58be9bb19b71b",
      "a123ec78d52443e4bd26e77e8f87f144",
      "29f10f33f125420e989732209c0d832a",
      "5b638882c4534e25b8b2902615d55ccc",
      "eafad8583cce45fc8a8c1832184701b3",
      "6a401a3357fc4b3cbee6f0d544cebb8a",
      "bce01648f48a4fd9883f68ff6aa148e6",
      "87c7304be2d54e77ad8ad5a60b37f041",
      "b558565121164a4f9c8001aa5bdb6276",
      "8832c90f5ac048fdb0ca94a64191e010",
      "40de259256654b2580c1303ef2a2873b",
      "35e43e0df0794e718dda31674b52cadb",
      "67d40db2a5c7416597018548e5245389",
      "2643d6f236a14efbabddf8eb857693b6",
      "c5f7f32c4a0f47c7a3182753c8a6f128",
      "e578aea31b2449e6b9d146b2dc2f8837",
      "52a6b41a749c4700b726e5d0826ef7f6",
      "e69eb4e2f2584e4a8440960ce4191297",
      "782c1b26bc214d23ac6c32b6a97901f2",
      "6131c1325692460fac2bb31975347502",
      "b3bff5465d6f4438a61a76a14ae4e439",
      "532575b5671b408d9b2e6ccddafac59f",
      "abf3ded7fecc4a0fb5674e3333540333",
      "2fc22cfa7162456abfc17266f96dcff5",
      "be83fb5cec6d42038559823b530b3b4f",
      "5a006123dc744f5db0760f89effe5314",
      "9846eec803d64389b7e899894cd88acc",
      "aacb71d4ed9f493485f431c284af1ff3",
      "6f794f6575e54a7597ec6acf965ed91b",
      "78ce7d33b2eb4c648f737ab348153122",
      "c8c5022ce2e3482098ba3b6dfb4ac883",
      "4c66e8bbf9b04c8fac24e284cfe511e8",
      "0b6b0e74befc4647b4c0809b06f92eef",
      "56c634eb03294c479010ed880e0b23b2",
      "5887c84ac69d430b9b663dacf6d5d321",
      "03a3e6770dc64be69357560b3fe54d74",
      "29aeaaeb121b4e76a8eb9ec2b4956548",
      "41a4c16a93714f87afdea1ef594bc340",
      "fe2f84ed60274363be36cb7a2ad1198c",
      "62ac35098a714d0488a23bb8b508b26d",
      "60e5e115b8a2469487d6e4d2ed1ce826",
      "252c3789ae8240b6910836b89e934bb8",
      "b0d7628e78154deb8075a99a595874ec",
      "2064414a82ba4941818e7962682cbe48",
      "933af26a7c9c428297c3eeec149a2cce",
      "6033f2607da04fbb9b2a18c534bad6aa",
      "0822fca59caa4e44bca364f1c3416966",
      "9e220889773b499bb9cc6e92c01a90d5",
      "3ebd9ce512ee41a0ae948cdaeffcb5c3",
      "492025679e17400797198a7459cddcfb",
      "1d3e1ed171794fe2a1a90302e603a819",
      "299a4620c8634c898bb287fbadd618e2",
      "355009b7bd12499baeaf90636e7198c2",
      "537d400a268b49ba89f64d36e9fe8ed6",
      "3cc400359a3a4238a3329c0f7d9fa4d5",
      "10daa22402c14badbe166abf202fc183",
      "4cd07f48517f4406951ba6503dbc874a",
      "396a79c63734421f93081a3ddcb8f4cb",
      "fff3af8c94cb4318a0f29eb20dec6a01",
      "fc620a0f93cb499db98b1d145fc62c31",
      "ca325dd971a54c29b7b99ea72f5a3f38",
      "53a684bccf2149b2b03bd39f13756a2a",
      "34e7432ef25545f4bea6f01c228911d1",
      "e9f4048d6f834cb9a9057b32506c9833",
      "3d0acc7ddfe843729504b109edb47255",
      "55334ea7f42e40a7bc911c0b9681bd2a",
      "ee59c53c3b3c4db491320530359f29b8",
      "acdafa6fcd24450e88f3812de4893b71",
      "27bbd65c6f2d4945927f7848fe848610",
      "898dddcc0a924e8c90b5cf0b72f7a83c",
      "3184a05474ed4e8e814502ae10036145",
      "149bc0af466d42c59ef7cc28ab55ec70",
      "c672d1eae5d549ecacd1d48bed12a262",
      "984bd346845c4ecb8c5753dbb5bbabe5",
      "bb6a0655e66b435abfc296d8a51feb36",
      "36300f0ac1b2433b9a2d8b22102611ea",
      "63734b796a44419bafc4cf72ade3c84a",
      "d40b82e46b72409c8578fba4619ebc93",
      "66ab64635da4499da810524d85d16954",
      "20b6b1902421419e86c702aa0c834771",
      "0f6cb2c7f39e4e66827425afc0455596",
      "db129517a8c74b2a8fe6e386fa08bdb3",
      "47b9930ccab9495480675a640652d439",
      "7d4aa5dacb10495395aa338e5e250972",
      "37bef8f394b049ca88fc4a4ed69de6cd",
      "6876c8bfdc0c43d287cabaab793c58ab",
      "59d910e6d0cc4302a9b6a2ed6e6aaa76",
      "a860545af5c549b5937362e93fdb6204",
      "23d8786e5cb34df48faa3eb730c27cfe",
      "80e3f6388e2041d8b64149c650e9d2df",
      "b8749703941341fd91fd189fddffbf0a",
      "0496fff243694dc0a50bba41ad40143e",
      "f2808756f808441eb1daaa69f6bcfd93",
      "f3ce1d80b1e04f90b6d8ff0098713c29"
     ]
    },
    "id": "JQZjJrLAhBWw",
    "outputId": "33cc6e7e-43c7-4569-ebdd-b7db98196956"
   },
   "outputs": [],
   "source": [
    "solver = 'base' # base, meta\n",
    "meta_model, optimizer, loss_fn = model_init()\n",
    "\n",
    "# init solver and dataset according to solver type\n",
    "if solver == 'base':\n",
    "    max_epoch = 5 # the base solver only needs 5 epochs\n",
    "    Solver = BaseSolver\n",
    "    train_set, val_set = torch.utils.data.random_split(\n",
    "        Omniglot(train_data_path, k_shot, q_query, task_num=10), [5, 5]\n",
    "    )\n",
    "    (train_loader, val_loader), (train_iter, val_iter) = dataloader_init((train_set, val_set), shuffle=False)\n",
    "\n",
    "elif solver == 'meta':\n",
    "    Solver = MetaSolver\n",
    "    dataset = Omniglot(train_data_path, k_shot, q_query)\n",
    "    train_split = int(0.8 * len(dataset))\n",
    "    val_split = len(dataset) - train_split\n",
    "    train_set, val_set = torch.utils.data.random_split(\n",
    "        dataset, [train_split, val_split]\n",
    "    )\n",
    "    (train_loader, val_loader), (train_iter, val_iter) = dataloader_init((train_set, val_set))\n",
    "else:\n",
    "    raise NotImplementedError\n",
    "\n",
    "\n",
    "# main training loop\n",
    "for epoch in range(max_epoch):\n",
    "    print(\"Epoch %d\" % (epoch + 1))\n",
    "    train_meta_loss = []\n",
    "    train_acc = []\n",
    "    # The \"step\" here is a meta-gradinet update step\n",
    "    for step in tqdm(range(max(1, len(train_loader) // meta_batch_size))):\n",
    "        x, train_iter = get_meta_batch(\n",
    "            meta_batch_size, k_shot, q_query, train_loader, train_iter\n",
    "        )\n",
    "        meta_loss, acc = Solver(\n",
    "            meta_model,\n",
    "            optimizer,\n",
    "            x,\n",
    "            n_way,\n",
    "            k_shot,\n",
    "            q_query,\n",
    "            loss_fn, \n",
    "            inner_train_step=train_inner_train_step\n",
    "        )\n",
    "        train_meta_loss.append(meta_loss.item())\n",
    "        train_acc.append(acc)\n",
    "    print(\"  Loss    : \", \"%.3f\" % (np.mean(train_meta_loss)), end=\"\\t\")\n",
    "    print(\"  Accuracy: \", \"%.3f %%\" % (np.mean(train_acc) * 100))\n",
    "\n",
    "    # See the validation accuracy after each epoch.\n",
    "    # Early stopping is welcomed to implement.\n",
    "    val_acc = []\n",
    "    for eval_step in tqdm(range(max(1, len(val_loader) // (eval_batches)))):\n",
    "        x, val_iter = get_meta_batch(\n",
    "            eval_batches, k_shot, q_query, val_loader, val_iter\n",
    "        )\n",
    "        # We update three inner steps when testing.\n",
    "        _, acc = Solver(\n",
    "            meta_model,\n",
    "            optimizer,\n",
    "            x,\n",
    "            n_way,\n",
    "            k_shot,\n",
    "            q_query,\n",
    "            loss_fn,\n",
    "            inner_train_step=val_inner_train_step,\n",
    "            train=False,\n",
    "        )\n",
    "        val_acc.append(acc)\n",
    "    print(\"  Validation accuracy: \", \"%.3f %%\" % (np.mean(val_acc) * 100))"
   ]
  },
  {
   "cell_type": "markdown",
   "metadata": {
    "id": "u5Ew8-POf9sw"
   },
   "source": [
    "### Testing the result\n",
    "\n",
    "Since the testing data is sampled by TAs in advance, you should not change the code in `OmnigloTest` dataset, otherwise your score may not be correct on the Kaggle leaderboard.\n",
    "\n",
    "However, fell free to chagne the variable `inner_train_step` to set the training steps on the query set images."
   ]
  },
  {
   "cell_type": "code",
   "execution_count": null,
   "metadata": {
    "id": "OKtTzxZeln5Z"
   },
   "outputs": [],
   "source": [
    "import os\n",
    "\n",
    "# test dataset\n",
    "class OmniglotTest(Dataset):\n",
    "    def __init__(self, test_dir):\n",
    "        self.test_dir = test_dir\n",
    "        self.n = 5\n",
    "\n",
    "        self.transform = transforms.Compose([transforms.ToTensor()])\n",
    "\n",
    "    def __getitem__(self, idx):\n",
    "        support_files = [\n",
    "            os.path.join(self.test_dir, \"support\", f\"{idx:>04}\", f\"image_{i}.png\")\n",
    "            for i in range(self.n)\n",
    "        ]\n",
    "        query_files = [\n",
    "            os.path.join(self.test_dir, \"query\", f\"{idx:>04}\", f\"image_{i}.png\")\n",
    "            for i in range(self.n)\n",
    "        ]\n",
    "\n",
    "        support_imgs = torch.stack(\n",
    "            [self.transform(Image.open(e)) for e in support_files]\n",
    "        )\n",
    "        query_imgs = torch.stack([self.transform(Image.open(e)) for e in query_files])\n",
    "\n",
    "        return support_imgs, query_imgs\n",
    "\n",
    "    def __len__(self):\n",
    "        return len(os.listdir(os.path.join(self.test_dir, \"support\")))"
   ]
  },
  {
   "cell_type": "code",
   "execution_count": null,
   "metadata": {
    "colab": {
     "base_uri": "https://localhost:8080/",
     "height": 49,
     "referenced_widgets": [
      "9997605820d8410cbdf8b7e8aad0da95",
      "ce2588c626b249b7a66a83fef46ba271",
      "471ce1c3c58640f2a1994dda0bffc723",
      "1c11e95f61a942478476a75d277e53b6",
      "908aaeaa43b74d6cbd0ecb4c594a8551",
      "1249502fb295454c922eb6e7b5fbff1f",
      "b9619baa330b4c5285138720f9c1da42",
      "9597775b7cd44b92b6f1cc2a382545be",
      "9d2b10df2e5049c4b4af36e7ea10295f",
      "d154dd99e0eb467489386be6491097b7",
      "f26de72e05f94c1aaf36d45d2890dc5c"
     ]
    },
    "id": "kTWHs1RThgGc",
    "outputId": "1ad5cbee-a9b5-4634-c4a2-0a89da2d928d"
   },
   "outputs": [],
   "source": [
    "test_inner_train_step = 10 # you can change this\n",
    "\n",
    "test_batches = 20\n",
    "test_dataset = OmniglotTest(\"Omniglot-test\")\n",
    "test_loader = DataLoader(test_dataset, batch_size=test_batches, shuffle=False)\n",
    "\n",
    "output = []\n",
    "for _, batch in enumerate(tqdm(test_loader)):\n",
    "    support_set, query_set = batch\n",
    "    x = torch.cat([support_set, query_set], dim=1)\n",
    "    x = x.to(device)\n",
    "\n",
    "    labels = Solver(\n",
    "        meta_model,\n",
    "        optimizer,\n",
    "        x,\n",
    "        n_way,\n",
    "        k_shot,\n",
    "        q_query,\n",
    "        loss_fn,\n",
    "        inner_train_step=test_inner_train_step,\n",
    "        train=False,\n",
    "        return_labels=True,\n",
    "    )\n",
    "\n",
    "    output.extend(labels)\n",
    "\n",
    "# write to csv\n",
    "with open(\"output.csv\", \"w\") as f:\n",
    "    f.write(f\"id,class\\n\")\n",
    "    for i, label in enumerate(output):\n",
    "        f.write(f\"{i},{label}\\n\")"
   ]
  },
  {
   "cell_type": "markdown",
   "metadata": {
    "id": "yIfamxgMIaXw"
   },
   "source": [
    "Download the `output.csv` and submit to Kaggle!"
   ]
  },
  {
   "cell_type": "markdown",
   "metadata": {
    "id": "rtD8X3RLf-6w"
   },
   "source": [
    "## **Reference**\n",
    "1. Chelsea Finn, Pieter Abbeel, & Sergey Levine. (2017). [Model-Agnostic Meta-Learning for Fast Adaptation of Deep Networks.](https://arxiv.org/abs/1909.09157)\n",
    "1. Aniruddh Raghu, Maithra Raghu, Samy Bengio, & Oriol Vinyals. (2020). [Rapid Learning or Feature Reuse? Towards Understanding the Effectiveness of MAML.](https://arxiv.org/abs/1909.09157)"
   ]
  }
 ],
 "metadata": {
  "accelerator": "GPU",
  "colab": {
   "collapsed_sections": [],
   "name": "ML2022_HW15_Meta_Learning.ipynb",
   "provenance": []
  },
  "kernelspec": {
   "display_name": "Python 3",
   "name": "python3"
  },
  "language_info": {
   "name": "python"
  }
 },
 "nbformat": 4,
 "nbformat_minor": 0
}
