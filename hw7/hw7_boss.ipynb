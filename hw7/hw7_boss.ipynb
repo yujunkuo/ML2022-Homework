{
 "cells": [
  {
   "cell_type": "markdown",
   "metadata": {
    "id": "xvSGDbExff_I"
   },
   "source": [
    "# **Homework 7 - Bert (Question Answering)**\n",
    "\n",
    "If you have any questions, feel free to email us at mlta-2022-spring@googlegroups.com\n",
    "\n",
    "\n",
    "\n",
    "Slide:    [Link](https://docs.google.com/presentation/d/1H5ZONrb2LMOCixLY7D5_5-7LkIaXO6AGEaV2mRdTOMY/edit?usp=sharing)　Kaggle: [Link](https://www.kaggle.com/c/ml2022spring-hw7)　Data: [Link](https://drive.google.com/uc?id=1AVgZvy3VFeg0fX-6WQJMHPVrx3A-M1kb)\n",
    "\n",
    "\n"
   ]
  },
  {
   "cell_type": "markdown",
   "metadata": {
    "id": "WGOr_eS3wJJf"
   },
   "source": [
    "## Task description\n",
    "- Chinese Extractive Question Answering\n",
    "  - Input: Paragraph + Question\n",
    "  - Output: Answer\n",
    "\n",
    "- Objective: Learn how to fine tune a pretrained model on downstream task using transformers\n",
    "\n",
    "- Todo\n",
    "    - Fine tune a pretrained chinese BERT model\n",
    "    - Change hyperparameters (e.g. doc_stride)\n",
    "    - Apply linear learning rate decay\n",
    "    - Try other pretrained models\n",
    "    - Improve preprocessing\n",
    "    - Improve postprocessing\n",
    "- Training tips\n",
    "    - Automatic mixed precision\n",
    "    - Gradient accumulation\n",
    "    - Ensemble\n",
    "\n",
    "- Estimated training time (tesla t4 with automatic mixed precision enabled)\n",
    "    - Simple: 8mins\n",
    "    - Medium: 8mins\n",
    "    - Strong: 25mins\n",
    "    - Boss: 2.5hrs\n",
    "  "
   ]
  },
  {
   "cell_type": "markdown",
   "metadata": {
    "id": "TJ1fSAJE2oaC"
   },
   "source": [
    "## Download Dataset"
   ]
  },
  {
   "cell_type": "code",
   "execution_count": null,
   "metadata": {
    "id": "YPrc4Eie9Yo5"
   },
   "outputs": [],
   "source": [
    "# Download link 1\n",
    "!gdown --id '1AVgZvy3VFeg0fX-6WQJMHPVrx3A-M1kb' --output hw7_data.zip\n",
    "\n",
    "# Download Link 2 (if the above link fails) \n",
    "# !gdown --id '1qwjbRjq481lHsnTrrF4OjKQnxzgoLEFR' --output hw7_data.zip\n",
    "\n",
    "# Download Link 3 (if the above link fails) \n",
    "# !gdown --id '1QXuWjNRZH6DscSd6QcRER0cnxmpZvijn' --output hw7_data.zip\n",
    "\n",
    "!unzip -o hw7_data.zip"
   ]
  },
  {
   "cell_type": "code",
   "execution_count": null,
   "metadata": {},
   "outputs": [],
   "source": [
    "# For this HW, K80 < P4 < T4 < P100 <= T4(fp16) < V100\n",
    "!nvidia-smi"
   ]
  },
  {
   "cell_type": "markdown",
   "metadata": {
    "id": "TevOvhC03m0h"
   },
   "source": [
    "## Install transformers\n",
    "\n",
    "Documentation for the toolkit:　https://huggingface.co/transformers/"
   ]
  },
  {
   "cell_type": "code",
   "execution_count": null,
   "metadata": {
    "id": "tbxWFX_jpDom"
   },
   "outputs": [],
   "source": [
    "# You are allowed to change version of transformers or use other toolkits\n",
    "!pip install transformers==4.5.0"
   ]
  },
  {
   "cell_type": "markdown",
   "metadata": {
    "id": "8dKM4yCh4LI_"
   },
   "source": [
    "## Import Packages"
   ]
  },
  {
   "cell_type": "code",
   "execution_count": null,
   "metadata": {
    "id": "WOTHHtWJoahe"
   },
   "outputs": [],
   "source": [
    "import math\n",
    "import json\n",
    "import numpy as np\n",
    "import random\n",
    "import torch\n",
    "from torch.utils.data import DataLoader, Dataset \n",
    "from transformers import AdamW, BertForQuestionAnswering, BertTokenizerFast\n",
    "from transformers import AutoModelForQuestionAnswering, AutoTokenizer\n",
    "from transformers import get_linear_schedule_with_warmup\n",
    "\n",
    "from tqdm.auto import tqdm\n",
    "\n",
    "device = torch.device(\"cuda\", 1) if torch.cuda.is_available() else \"cpu\"\n",
    "\n",
    "# Fix random seed for reproducibility\n",
    "def same_seeds(seed):\n",
    "    torch.manual_seed(seed)\n",
    "    if torch.cuda.is_available():\n",
    "        torch.cuda.manual_seed(seed)\n",
    "        torch.cuda.manual_seed_all(seed)\n",
    "    np.random.seed(seed)\n",
    "    random.seed(seed)\n",
    "    torch.backends.cudnn.benchmark = False\n",
    "    torch.backends.cudnn.deterministic = True\n",
    "same_seeds(0)"
   ]
  },
  {
   "cell_type": "code",
   "execution_count": null,
   "metadata": {
    "id": "7pBtSZP1SKQO"
   },
   "outputs": [],
   "source": [
    "# Change \"fp16_training\" to True to support automatic mixed precision training (fp16)\n",
    "fp16_training = True\n",
    "\n",
    "if fp16_training:\n",
    "    %pip install accelerate==0.2.0\n",
    "    from accelerate import Accelerator\n",
    "    accelerator = Accelerator(fp16=True)\n",
    "    device = accelerator.device\n",
    "\n",
    "# Documentation for the toolkit:  https://huggingface.co/docs/accelerate/"
   ]
  },
  {
   "cell_type": "markdown",
   "metadata": {
    "id": "2YgXHuVLp_6j"
   },
   "source": [
    "## Load Model and Tokenizer\n",
    "\n",
    "\n",
    "\n",
    "\n",
    " "
   ]
  },
  {
   "cell_type": "code",
   "execution_count": null,
   "metadata": {
    "id": "xyBCYGjAp3ym"
   },
   "outputs": [],
   "source": [
    "# model = BertForQuestionAnswering.from_pretrained(\"bert-base-chinese\").to(device)\n",
    "# tokenizer = BertTokenizerFast.from_pretrained(\"bert-base-chinese\")\n",
    "\n",
    "# model = BertForQuestionAnswering.from_pretrained('uer/roberta-base-chinese-extractive-qa').to(device)\n",
    "# tokenizer = BertTokenizerFast.from_pretrained('uer/roberta-base-chinese-extractive-qa')\n",
    "\n",
    "# model = AutoModelForQuestionAnswering.from_pretrained('hfl/chinese-roberta-wwm-ext').to(device)\n",
    "# tokenizer = AutoTokenizer.from_pretrained('hfl/chinese-roberta-wwm-ext')\n",
    "\n",
    "# model = BertForQuestionAnswering.from_pretrained(\"hfl/chinese-macbert-large\").to(device)\n",
    "# tokenizer = BertTokenizerFast.from_pretrained(\"hfl/chinese-macbert-large\")\n",
    "\n",
    "# model = AutoModelForQuestionAnswering.from_pretrained(\"./models/saved_model\").to(device)\n",
    "model = AutoModelForQuestionAnswering.from_pretrained(\"luhua/chinese_pretrain_mrc_macbert_large\").to(device)\n",
    "tokenizer = AutoTokenizer.from_pretrained(\"luhua/chinese_pretrain_mrc_macbert_large\")\n",
    "\n",
    "# You can safely ignore the warning message (it pops up because new prediction heads for QA are initialized randomly)"
   ]
  },
  {
   "cell_type": "markdown",
   "metadata": {
    "id": "3Td-GTmk5OW4"
   },
   "source": [
    "## Read Data\n",
    "\n",
    "- Training set: 31690 QA pairs\n",
    "- Dev set: 4131  QA pairs\n",
    "- Test set: 4957  QA pairs\n",
    "\n",
    "- {train/dev/test}_questions:\t\n",
    "  - List of dicts with the following keys:\n",
    "   - id (int)\n",
    "   - paragraph_id (int)\n",
    "   - question_text (string)\n",
    "   - answer_text (string)\n",
    "   - answer_start (int)\n",
    "   - answer_end (int)\n",
    "- {train/dev/test}_paragraphs: \n",
    "  - List of strings\n",
    "  - paragraph_ids in questions correspond to indexs in paragraphs\n",
    "  - A paragraph may be used by several questions "
   ]
  },
  {
   "cell_type": "code",
   "execution_count": null,
   "metadata": {
    "id": "NvX7hlepogvu"
   },
   "outputs": [],
   "source": [
    "def read_data(file):\n",
    "    with open(file, 'r', encoding=\"utf-8\") as reader:\n",
    "        data = json.load(reader)\n",
    "    return data[\"questions\"], data[\"paragraphs\"]\n",
    "\n",
    "train_questions, train_paragraphs = read_data(\"./data/hw7_train.json\")\n",
    "dev_questions, dev_paragraphs = read_data(\"./data/hw7_dev.json\")\n",
    "test_questions, test_paragraphs = read_data(\"./data/hw7_test.json\")"
   ]
  },
  {
   "cell_type": "markdown",
   "metadata": {
    "id": "Fm0rpTHq0e4N"
   },
   "source": [
    "## Tokenize Data"
   ]
  },
  {
   "cell_type": "code",
   "execution_count": null,
   "metadata": {
    "id": "rTZ6B70Hoxie"
   },
   "outputs": [],
   "source": [
    "# Tokenize questions and paragraphs separately\n",
    "# 「add_special_tokens」 is set to False since special tokens will be added when tokenized questions and paragraphs are combined in datset __getitem__ \n",
    "\n",
    "train_questions_tokenized = tokenizer([train_question[\"question_text\"] for train_question in train_questions], add_special_tokens=False)\n",
    "dev_questions_tokenized = tokenizer([dev_question[\"question_text\"] for dev_question in dev_questions], add_special_tokens=False)\n",
    "test_questions_tokenized = tokenizer([test_question[\"question_text\"] for test_question in test_questions], add_special_tokens=False) \n",
    "\n",
    "train_paragraphs_tokenized = tokenizer(train_paragraphs, add_special_tokens=False)\n",
    "dev_paragraphs_tokenized = tokenizer(dev_paragraphs, add_special_tokens=False)\n",
    "test_paragraphs_tokenized = tokenizer(test_paragraphs, add_special_tokens=False)\n",
    "\n",
    "# You can safely ignore the warning message as tokenized sequences will be futher processed in datset __getitem__ before passing to model"
   ]
  },
  {
   "cell_type": "markdown",
   "metadata": {
    "id": "Ws8c8_4d5UCI"
   },
   "source": [
    "## Dataset and Dataloader"
   ]
  },
  {
   "cell_type": "code",
   "execution_count": null,
   "metadata": {},
   "outputs": [],
   "source": [
    "DOC_STRIDE = None"
   ]
  },
  {
   "cell_type": "code",
   "execution_count": null,
   "metadata": {
    "id": "Xjooag-Swnuh"
   },
   "outputs": [],
   "source": [
    "class QA_Dataset(Dataset):\n",
    "    def __init__(self, split, questions, tokenized_questions, tokenized_paragraphs):\n",
    "        self.split = split\n",
    "        self.questions = questions\n",
    "        self.tokenized_questions = tokenized_questions\n",
    "        self.tokenized_paragraphs = tokenized_paragraphs\n",
    "        self.max_question_len = 40\n",
    "        self.max_paragraph_len = 350\n",
    "        \n",
    "        ##### TODO: Change value of doc_stride #####\n",
    "        self.doc_stride = int(0.9 * self.max_paragraph_len)\n",
    "        ############################################\n",
    "        global DOC_STRIDE\n",
    "        DOC_STRIDE = self.doc_stride\n",
    "        ############################################\n",
    "        # Input sequence length = [CLS] + question + [SEP] + paragraph + [SEP]\n",
    "        self.max_seq_len = 1 + self.max_question_len + 1 + self.max_paragraph_len + 1\n",
    "\n",
    "    def __len__(self):\n",
    "        return len(self.questions)\n",
    "\n",
    "    def __getitem__(self, idx):\n",
    "        question = self.questions[idx]\n",
    "        tokenized_question = self.tokenized_questions[idx]\n",
    "        tokenized_paragraph = self.tokenized_paragraphs[question[\"paragraph_id\"]]\n",
    "\n",
    "        ##### TODO: Preprocessing #####\n",
    "        # Hint: How to prevent model from learning something it should not learn\n",
    "\n",
    "        if self.split == \"train\":\n",
    "            # Convert answer's start/end positions in paragraph_text to start/end positions in tokenized_paragraph  \n",
    "            answer_start_token = tokenized_paragraph.char_to_token(question[\"answer_start\"])\n",
    "            answer_end_token = tokenized_paragraph.char_to_token(question[\"answer_end\"])\n",
    "\n",
    "#             # A single window is obtained by slicing the portion of paragraph containing the answer\n",
    "#             mid = (answer_start_token + answer_end_token) // 2\n",
    "#             paragraph_start = max(0, min(mid - self.max_paragraph_len // 2, len(tokenized_paragraph) - self.max_paragraph_len))\n",
    "#             paragraph_end = paragraph_start + self.max_paragraph_len\n",
    "            \n",
    "            # A single window is obtained by slicing the portion of paragraph containing the answer\n",
    "            mid = (answer_start_token + answer_end_token) // 2\n",
    "            prefix_len = int(random.random() * self.max_paragraph_len)\n",
    "            postfix_len = self.max_paragraph_len - prefix_len\n",
    "            paragraph_start, paragraph_end = mid - prefix_len, mid + postfix_len\n",
    "            if paragraph_start < 0:\n",
    "                paragraph_end -= paragraph_start\n",
    "                paragraph_start = 0\n",
    "            if paragraph_end >= len(tokenized_paragraph):\n",
    "                paragraph_end = len(tokenized_paragraph) - 1\n",
    "            \n",
    "            # Slice question/paragraph and add special tokens (101: CLS, 102: SEP)\n",
    "            input_ids_question = [101] + tokenized_question.ids[:self.max_question_len] + [102] \n",
    "            input_ids_paragraph = tokenized_paragraph.ids[paragraph_start : paragraph_end] + [102]\n",
    "            \n",
    "            # Convert answer's start/end positions in tokenized_paragraph to start/end positions in the window  \n",
    "            answer_start_token += len(input_ids_question) - paragraph_start\n",
    "            answer_end_token += len(input_ids_question) - paragraph_start\n",
    "            \n",
    "            # Pad sequence and obtain inputs to model \n",
    "            input_ids, token_type_ids, attention_mask = self.padding(input_ids_question, input_ids_paragraph)\n",
    "            return torch.tensor(input_ids), torch.tensor(token_type_ids), torch.tensor(attention_mask), answer_start_token, answer_end_token\n",
    "\n",
    "        # Validation/Testing\n",
    "        else:\n",
    "            input_ids_list, token_type_ids_list, attention_mask_list = [], [], []\n",
    "            \n",
    "            # Paragraph is split into several windows, each with start positions separated by step \"doc_stride\"\n",
    "            for i in range(0, len(tokenized_paragraph), self.doc_stride):\n",
    "                \n",
    "                # Slice question/paragraph and add special tokens (101: CLS, 102: SEP)\n",
    "                input_ids_question = [101] + tokenized_question.ids[:self.max_question_len] + [102]\n",
    "                input_ids_paragraph = tokenized_paragraph.ids[i : i + self.max_paragraph_len] + [102]\n",
    "                \n",
    "                # Pad sequence and obtain inputs to model\n",
    "                input_ids, token_type_ids, attention_mask = self.padding(input_ids_question, input_ids_paragraph)\n",
    "                \n",
    "                input_ids_list.append(input_ids)\n",
    "                token_type_ids_list.append(token_type_ids)\n",
    "                attention_mask_list.append(attention_mask)\n",
    "            \n",
    "            return torch.tensor(input_ids_list), torch.tensor(token_type_ids_list), torch.tensor(attention_mask_list)\n",
    "\n",
    "    def padding(self, input_ids_question, input_ids_paragraph):\n",
    "        # Pad zeros if sequence length is shorter than max_seq_len\n",
    "        padding_len = self.max_seq_len - len(input_ids_question) - len(input_ids_paragraph)\n",
    "        # Indices of input sequence tokens in the vocabulary\n",
    "        input_ids = input_ids_question + input_ids_paragraph + [0] * padding_len\n",
    "        # Segment token indices to indicate first and second portions of the inputs. Indices are selected in [0, 1]\n",
    "        token_type_ids = [0] * len(input_ids_question) + [1] * len(input_ids_paragraph) + [0] * padding_len\n",
    "        # Mask to avoid performing attention on padding token indices. Mask values selected in [0, 1]\n",
    "        attention_mask = [1] * (len(input_ids_question) + len(input_ids_paragraph)) + [0] * padding_len\n",
    "        \n",
    "        return input_ids, token_type_ids, attention_mask\n",
    "\n",
    "train_set = QA_Dataset(\"train\", train_questions, train_questions_tokenized, train_paragraphs_tokenized)\n",
    "dev_set = QA_Dataset(\"dev\", dev_questions, dev_questions_tokenized, dev_paragraphs_tokenized)\n",
    "test_set = QA_Dataset(\"test\", test_questions, test_questions_tokenized, test_paragraphs_tokenized)\n",
    "\n",
    "train_batch_size = 4\n",
    "\n",
    "# Note: Do NOT change batch size of dev_loader / test_loader !\n",
    "# Although batch size=1, it is actually a batch consisting of several windows from the same QA pair\n",
    "train_loader = DataLoader(train_set, batch_size=train_batch_size, shuffle=True, pin_memory=True)\n",
    "dev_loader = DataLoader(dev_set, batch_size=1, shuffle=False, pin_memory=True)\n",
    "test_loader = DataLoader(test_set, batch_size=1, shuffle=False, pin_memory=True)"
   ]
  },
  {
   "cell_type": "markdown",
   "metadata": {
    "id": "5_H1kqhR8CdM"
   },
   "source": [
    "## Function for Evaluation"
   ]
  },
  {
   "cell_type": "code",
   "execution_count": null,
   "metadata": {
    "id": "SqeA3PLPxOHu"
   },
   "outputs": [],
   "source": [
    "def evaluate(data, output, paragraph, paragraph_tokenized):\n",
    "    ##### TODO: Postprocessing #####\n",
    "    # There is a bug and room for improvement in postprocessing \n",
    "    # Hint: Open your prediction file to see what is wrong \n",
    "    \n",
    "    answer = ''\n",
    "    max_prob = float('-inf')\n",
    "    num_of_windows = data[0].shape[1]\n",
    "    \n",
    "    paragraph_start_index = 0\n",
    "    paragraph_end_index = 0\n",
    "    \n",
    "    for k in range(num_of_windows):\n",
    "        # Obtain answer by choosing the most probable start position / end position\n",
    "#         start_prob, start_index = torch.max(output.start_logits[k], dim=0)\n",
    "#         end_prob, end_index = torch.max(output.end_logits[k], dim=0)\n",
    "        \n",
    "#         # Probability of answer is calculated as sum of start_prob and end_prob\n",
    "#         prob = start_prob + end_prob\n",
    "\n",
    "        mask = (data[1][0][k].bool() & data[2][0][k].bool()).to(device)\n",
    "    \n",
    "        masked_output_start = torch.masked_select(output.start_logits[k], mask)\n",
    "        masked_output_start = masked_output_start[:-1]\n",
    "        \n",
    "        start_prob, start_index = torch.max(masked_output_start, dim=0)\n",
    "        \n",
    "        masked_output_end = torch.masked_select(output.end_logits[k], mask)\n",
    "        masked_output_end = masked_output_end[start_index: -1]\n",
    "        \n",
    "        end_prob, end_index = torch.max(masked_output_end, dim=0)\n",
    "        \n",
    "        end_index += start_index\n",
    "        \n",
    "        # Probability of answer is calculated as sum of start_prob and end_prob\n",
    "        prob = start_prob + end_prob\n",
    "        masked_data = torch.masked_select(data[0][0][k].to(device), mask)[:-1]\n",
    "        \n",
    "        # Replace answer if calculated probability is larger than previous windows\n",
    "        if (prob > max_prob) and (start_index <= end_index <= (start_index + 50)):\n",
    "            max_prob = prob\n",
    "            paragraph_start_index = start_index.item() + (DOC_STRIDE * k)\n",
    "            paragraph_end_index = end_index.item() + (DOC_STRIDE * k)\n",
    "            # Convert tokens to chars (e.g. [1920, 7032] --> \"大 金\")\n",
    "#             answer = tokenizer.decode(data[0][0][k][start_index : end_index + 1])\n",
    "            answer = tokenizer.decode(masked_data[start_index : end_index + 1])\n",
    "            \n",
    "#     # 轉換 [UNK]        \n",
    "#     if \"[UNK]\" in answer:\n",
    "#         # 原始答案 #\n",
    "#         print(f\"原始答案: {answer}\")\n",
    "#         ##########\n",
    "#         char_count = 0\n",
    "#         start_flag = False\n",
    "\n",
    "#         for i, token in enumerate(paragraph_tokenized):\n",
    "#             if token in ('[UNK]', '[CLS]', '[SEP]'):\n",
    "#                 if i == paragraph_start_index:\n",
    "#                     new_start = char_count\n",
    "#                 if i == paragraph_end_index:\n",
    "#                     new_end = char_count\n",
    "#                 char_count += 1\n",
    "#             else:\n",
    "#                 for char in token:\n",
    "#                     if i == paragraph_start_index and not start_flag:\n",
    "#                         new_start = char_count\n",
    "#                         start_flag = True\n",
    "#                     if i == paragraph_end_index:\n",
    "#                         new_end = char_count\n",
    "#                     if char == \"#\":\n",
    "#                         continue\n",
    "#                     else:\n",
    "#                         while char_count < len(paragraph) and char != paragraph[char_count]:\n",
    "#                             char_count += 1\n",
    "#                         char_count += 1\n",
    "            \n",
    "#         answer = paragraph[new_start: new_end+1]\n",
    "#         print(f\"修正後答案: {answer}\")\n",
    "#         print(paragraph_start_index, paragraph_end_index)\n",
    "#         print(new_start, new_end)\n",
    "#         print(\"-\"*50)\n",
    "\n",
    "    \n",
    "    ##########\n",
    "    char_count = 0\n",
    "    start_flag = False\n",
    "\n",
    "    for i, token in enumerate(paragraph_tokenized):\n",
    "        if token in ('[UNK]', '[CLS]', '[SEP]'):\n",
    "            if i == paragraph_start_index:\n",
    "                new_start = char_count\n",
    "            if i == paragraph_end_index:\n",
    "                new_end = char_count\n",
    "            char_count += 1\n",
    "        else:\n",
    "            for char in token:\n",
    "                if i == paragraph_start_index and not start_flag:\n",
    "                    new_start = char_count\n",
    "                    start_flag = True\n",
    "                if i == paragraph_end_index:\n",
    "                    new_end = char_count\n",
    "                if char == \"#\":\n",
    "                    continue\n",
    "                else:\n",
    "                    while char_count < len(paragraph) and char != paragraph[char_count]:\n",
    "                        char_count += 1\n",
    "                    char_count += 1\n",
    "    # 後處理\n",
    "    # 1.轉換 [UNK]        \n",
    "    if \"[UNK]\" in answer:\n",
    "        # 原始答案 #\n",
    "        print(f\"原始答案: {answer}\")\n",
    "        # 修正後答案 #\n",
    "        answer = paragraph[new_start: new_end+1]\n",
    "        print(f\"修正後答案: {answer}\")\n",
    "        print(\"-\"*50)\n",
    "\n",
    "###########################################################\n",
    "    \n",
    "#     # 2.把沒抓到的引號補回來\n",
    "#     # 尾巴引號漏掉\n",
    "#     if (new_end+1) < len(paragraph):\n",
    "#         if paragraph[new_start] == \"「\" and paragraph[new_end+1] == \"」\":\n",
    "#             answer = paragraph[new_start: new_end+2]\n",
    "#     # 頭尾引號都漏掉\n",
    "#     if new_start > 0 and (new_end+1) < len(paragraph):\n",
    "#         if paragraph[new_start-1] == \"「\" and paragraph[new_end+1] == \"」\":\n",
    "#             answer = paragraph[new_start-1: new_end+2]\n",
    "#     # 尾巴隔一個標點符號才接引號\n",
    "#     if (new_end+2) < len(paragraph):\n",
    "#         if paragraph[new_start] == \"「\" and paragraph[new_end+2] == \"」\":\n",
    "#             answer = paragraph[new_start: new_end+3]\n",
    "#     if new_start > 0 and (new_end+2) < len(paragraph):\n",
    "#         if paragraph[new_start-1] == \"「\" and paragraph[new_end+2] == \"」\":\n",
    "#             answer = paragraph[new_start-1: new_end+3]\n",
    "    \n",
    "#     # 3.把「為了」與「因為」抓回來\n",
    "#     if new_start > 1:\n",
    "#         if paragraph[new_start-2: new_start] == \"為了\":\n",
    "#             answer = paragraph[new_start-2: new_end+1]\n",
    "#         if paragraph[new_start-2: new_start] == \"因為\":\n",
    "#             answer = paragraph[new_start-2: new_end+1]\n",
    "\n",
    "    \n",
    "#     if new_start > 0:\n",
    "#         if paragraph[new_start-1] == \"因\":\n",
    "#             answer = paragraph[new_start-1: new_end+1]\n",
    "\n",
    "###########################################################\n",
    "        \n",
    "    # 最後移除空格 (e.g. \"大 金\" --> \"大金\")\n",
    "    answer = answer.replace(' ', '')\n",
    "    \n",
    "###########################################################\n",
    "\n",
    "#     # 把「為了」與「因為」拿掉\n",
    "#     if len(answer) > 2:\n",
    "#         if answer[:2] == \"為了\" or answer[:2] == \"因為\":\n",
    "#             answer = answer[2:]\n",
    "    \n",
    "#     # 把「」拿掉\n",
    "#     if len(answer) > 2:\n",
    "#         if answer[0] == \"「\" and answer[-1] == \"」\":\n",
    "#             answer = answer[1:-1]\n",
    "    \n",
    "###########################################################\n",
    "\n",
    "    if len(answer) > 1:\n",
    "        if \"「\" not in answer and answer[-1] == \"」\":\n",
    "            answer = answer[:-1]\n",
    "#     if 3 > len(answer) > 1:\n",
    "#         if answer[0] == \"第\":\n",
    "#             i = 1\n",
    "#             while i < len(answer) and answer[i] in list(\"123456789一二三四五六七八九\"):\n",
    "#                 i += 1\n",
    "#             answer = answer[1:i]\n",
    "    \n",
    "    return answer"
   ]
  },
  {
   "cell_type": "markdown",
   "metadata": {
    "id": "rzHQit6eMnKG"
   },
   "source": [
    "## Training"
   ]
  },
  {
   "cell_type": "code",
   "execution_count": null,
   "metadata": {
    "id": "3Q-B6ka7xoCM"
   },
   "outputs": [],
   "source": [
    "num_epoch = 5  # 3\n",
    "validation = True  # True\n",
    "logging_step = 500\n",
    "learning_rate = 5e-6\n",
    "# accum_iter = 8\n",
    "\n",
    "optimizer = AdamW(model.parameters(), lr=learning_rate)\n",
    "\n",
    "##### TODO: Apply linear learning rate decay #####\n",
    "total_steps = len(train_loader) * num_epoch\n",
    "# warmup_steps = int(0.05 * total_steps)\n",
    "\n",
    "scheduler = get_linear_schedule_with_warmup(optimizer, num_warmup_steps=0, num_training_steps=total_steps)\n",
    "##################################################\n",
    "\n",
    "if fp16_training:\n",
    "    model, optimizer, train_loader = accelerator.prepare(model, optimizer, train_loader) \n",
    "\n",
    "model.train()\n",
    "\n",
    "print(\"Start Training ...\")\n",
    "\n",
    "for epoch in range(num_epoch):\n",
    "    step = 1\n",
    "    train_loss = train_acc = 0\n",
    "    \n",
    "    for batch_idx, data in enumerate(tqdm(train_loader)):\n",
    "        # Load all data into GPU\n",
    "        data = [i.to(device) for i in data]\n",
    "        \n",
    "        # Model inputs: input_ids, token_type_ids, attention_mask, start_positions, end_positions (Note: only \"input_ids\" is mandatory)\n",
    "        # Model outputs: start_logits, end_logits, loss (return when start_positions/end_positions are provided)  \n",
    "        output = model(input_ids=data[0], token_type_ids=data[1], attention_mask=data[2], start_positions=data[3], end_positions=data[4])\n",
    "\n",
    "        # Choose the most probable start position / end position\n",
    "        start_index = torch.argmax(output.start_logits, dim=1)\n",
    "        end_index = torch.argmax(output.end_logits, dim=1)\n",
    "\n",
    "        # Prediction is correct only if both start_index and end_index are correct\n",
    "        train_acc += ((start_index == data[3]) & (end_index == data[4])).float().mean()\n",
    "        train_loss += output.loss\n",
    "\n",
    "        if fp16_training:\n",
    "            accelerator.backward(output.loss)\n",
    "        else:\n",
    "            output.loss.backward()\n",
    "\n",
    "        ##### TODO: Apply linear learning rate decay #####\n",
    "        optimizer.step()\n",
    "        scheduler.step()\n",
    "        optimizer.zero_grad()\n",
    "        step += 1\n",
    "        ##################################################\n",
    "        \n",
    "        # Print training loss and accuracy over past logging step\n",
    "        if step % logging_step == 0:\n",
    "            print(f\"Epoch {epoch + 1} | Step {step} | loss = {train_loss.item() / logging_step:.3f}, acc = {train_acc / logging_step:.3f}\")\n",
    "            train_loss = train_acc = 0\n",
    "            \n",
    "    if validation:\n",
    "        print(\"Evaluating Dev Set ...\")\n",
    "        model.eval()\n",
    "        with torch.no_grad():\n",
    "            dev_acc = 0\n",
    "            for i, data in enumerate(tqdm(dev_loader)):\n",
    "                output = model(input_ids=data[0].squeeze(dim=0).to(device), token_type_ids=data[1].squeeze(dim=0).to(device),\n",
    "                       attention_mask=data[2].squeeze(dim=0).to(device))\n",
    "                # prediction is correct only if answer text exactly matches\n",
    "                dev_acc += evaluate(data, output, dev_paragraphs[dev_questions[i]['paragraph_id']], dev_paragraphs_tokenized[dev_questions[i]['paragraph_id']].tokens) == dev_questions[i][\"answer_text\"]\n",
    "            print(f\"Validation | Epoch {epoch + 1} | acc = {dev_acc / len(dev_loader):.3f}\")\n",
    "        model.train()\n",
    "\n",
    "# Save a model and its configuration file to the directory 「saved_model」 \n",
    "# i.e. there are two files under the direcory 「saved_model」: 「pytorch_model.bin」 and 「config.json」\n",
    "# Saved model can be re-loaded using 「model = BertForQuestionAnswering.from_pretrained(\"saved_model\")」\n",
    "print(\"Saving Model ...\")\n",
    "model_save_dir = \"./models/saved_model\" \n",
    "model.save_pretrained(model_save_dir)"
   ]
  },
  {
   "cell_type": "code",
   "execution_count": null,
   "metadata": {},
   "outputs": [],
   "source": [
    "# part1 - 加速 (有幫助加速) - simple submit\n",
    "    # 991/991 [05:52<00:00, 3.45it/s]\n",
    "    # to\n",
    "    # 991/991 [03:00<00:00, 6.08it/s]\n",
    "\n",
    "    # Epoch 1 | Step 900 | loss = 0.586, acc = 0.748\n",
    "    # Validation | Epoch 1 | acc = 0.509\n",
    "    # to\n",
    "    # Epoch 1 | Step 900 | loss = 0.576, acc = 0.759\n",
    "    # Validation | Epoch 1 | acc = 0.538\n",
    "\n",
    "# part2 - LR Schedule (訓練結果有變好，驗證沒有)\n",
    "    # Validation | Epoch 1 | acc = 0.539\n",
    "    \n",
    "# part3 - doc_stride to 0.5 (變好很多)\n",
    "    # Validation | Epoch 1 | acc = 0.667\n",
    "\n",
    "# part4 - random split training answer window (變好很多)\n",
    "    # Validation | Epoch 1 | acc = 0.733\n",
    "    \n",
    "# part5 - Doc Length from 150 to 300 (好一點點)\n",
    "    # Validation | Epoch 1 | acc = 0.727\n",
    "    \n",
    "# part6 - 換模型\n",
    "    # Validation | Epoch 1 | acc = 0.750"
   ]
  },
  {
   "cell_type": "markdown",
   "metadata": {},
   "source": [
    "## View Results"
   ]
  },
  {
   "cell_type": "code",
   "execution_count": null,
   "metadata": {},
   "outputs": [],
   "source": [
    "model.eval()\n",
    "with torch.no_grad():\n",
    "    dev_acc = 0\n",
    "    for i, data in enumerate(tqdm(dev_loader)):\n",
    "        output = model(input_ids=data[0].squeeze(dim=0).to(device), token_type_ids=data[1].squeeze(dim=0).to(device),\n",
    "               attention_mask=data[2].squeeze(dim=0).to(device))\n",
    "        # prediction is correct only if answer text exactly matches\n",
    "        pred_answer = evaluate(data, output, dev_paragraphs[dev_questions[i]['paragraph_id']], dev_paragraphs_tokenized[dev_questions[i]['paragraph_id']].tokens)\n",
    "        true_answer = dev_questions[i][\"answer_text\"]\n",
    "        dev_acc += (pred_answer == true_answer)\n",
    "        if pred_answer != true_answer:\n",
    "            print(\"*\"*50)\n",
    "            print(f\"正確答案: {true_answer}\")\n",
    "            print(f\"預測答案: {pred_answer}\")\n",
    "            print(\"*\"*50)\n",
    "    print(f\"Validation | acc = {dev_acc / len(dev_loader):.3f}\")\n",
    "model.train()\n",
    "print(f\"Validation | acc = {dev_acc / len(dev_loader):.3f}\")"
   ]
  },
  {
   "cell_type": "markdown",
   "metadata": {
    "id": "kMmdLOKBMsdE"
   },
   "source": [
    "## Testing"
   ]
  },
  {
   "cell_type": "code",
   "execution_count": null,
   "metadata": {
    "id": "U5scNKC9xz0C"
   },
   "outputs": [],
   "source": [
    "print(\"Evaluating Test Set ...\")\n",
    "\n",
    "result = []\n",
    "\n",
    "model.eval()\n",
    "with torch.no_grad():\n",
    "    for i, data in enumerate(tqdm(test_loader)):\n",
    "        output = model(input_ids=data[0].squeeze(dim=0).to(device), token_type_ids=data[1].squeeze(dim=0).to(device),\n",
    "                       attention_mask=data[2].squeeze(dim=0).to(device))\n",
    "        result.append(evaluate(data, output, test_paragraphs[test_questions[i]['paragraph_id']], test_paragraphs_tokenized[test_questions[i]['paragraph_id']].tokens))\n",
    "\n",
    "result_file = \"./outputs/result_boss.csv\"\n",
    "with open(result_file, 'w') as f:\n",
    "    f.write(\"ID,Answer\\n\")\n",
    "    for i, test_question in enumerate(test_questions):\n",
    "        # Replace commas in answers with empty strings (since csv is separated by comma)\n",
    "        # Answers in kaggle are processed in the same way\n",
    "        f.write(f\"{test_question['id']},{result[i].replace(',','')}\\n\")\n",
    "\n",
    "print(f\"Completed! Result is in {result_file}\")"
   ]
  },
  {
   "cell_type": "code",
   "execution_count": null,
   "metadata": {},
   "outputs": [],
   "source": [
    "# Validation | acc = 0.821"
   ]
  }
 ],
 "metadata": {
  "accelerator": "GPU",
  "colab": {
   "collapsed_sections": [],
   "name": "ML2022Spring - HW7.ipynb",
   "provenance": []
  },
  "kernelspec": {
   "display_name": "kuokuo_env",
   "language": "python",
   "name": "kuokuo_env"
  },
  "language_info": {
   "codemirror_mode": {
    "name": "ipython",
    "version": 3
   },
   "file_extension": ".py",
   "mimetype": "text/x-python",
   "name": "python",
   "nbconvert_exporter": "python",
   "pygments_lexer": "ipython3",
   "version": "3.7.5"
  },
  "toc": {
   "base_numbering": 1,
   "nav_menu": {},
   "number_sections": true,
   "sideBar": true,
   "skip_h1_title": false,
   "title_cell": "Table of Contents",
   "title_sidebar": "Contents",
   "toc_cell": false,
   "toc_position": {},
   "toc_section_display": true,
   "toc_window_display": false
  }
 },
 "nbformat": 4,
 "nbformat_minor": 1
}
